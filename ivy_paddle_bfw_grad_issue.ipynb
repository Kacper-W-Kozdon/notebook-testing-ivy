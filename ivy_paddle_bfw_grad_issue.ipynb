{
  "nbformat": 4,
  "nbformat_minor": 0,
  "metadata": {
    "colab": {
      "provenance": [],
      "authorship_tag": "ABX9TyPhS7GqIXNkb59sj+U2YPAM",
      "include_colab_link": true
    },
    "kernelspec": {
      "name": "python3",
      "display_name": "Python 3"
    },
    "language_info": {
      "name": "python"
    }
  },
  "cells": [
    {
      "cell_type": "markdown",
      "metadata": {
        "id": "view-in-github",
        "colab_type": "text"
      },
      "source": [
        "<a href=\"https://colab.research.google.com/github/Kacper-W-Kozdon/notebook-testing-ivy/blob/main/ivy_paddle_bfw_grad_issue.ipynb\" target=\"_parent\"><img src=\"https://colab.research.google.com/assets/colab-badge.svg\" alt=\"Open In Colab\"/></a>"
      ]
    },
    {
      "cell_type": "code",
      "source": [
        "!pip install paddlepaddle\n",
        "import paddle as paddle\n",
        "import torch"
      ],
      "metadata": {
        "colab": {
          "base_uri": "https://localhost:8080/"
        },
        "id": "RZP3SNFHryAU",
        "outputId": "09269bdf-ab75-4ce8-d7ab-2fbd4c96ab32"
      },
      "execution_count": 1,
      "outputs": [
        {
          "output_type": "stream",
          "name": "stdout",
          "text": [
            "Requirement already satisfied: paddlepaddle in /usr/local/lib/python3.10/dist-packages (2.6.0)\n",
            "Requirement already satisfied: httpx in /usr/local/lib/python3.10/dist-packages (from paddlepaddle) (0.27.0)\n",
            "Requirement already satisfied: numpy>=1.13 in /usr/local/lib/python3.10/dist-packages (from paddlepaddle) (1.25.2)\n",
            "Requirement already satisfied: Pillow in /usr/local/lib/python3.10/dist-packages (from paddlepaddle) (9.4.0)\n",
            "Requirement already satisfied: decorator in /usr/local/lib/python3.10/dist-packages (from paddlepaddle) (4.4.2)\n",
            "Requirement already satisfied: astor in /usr/local/lib/python3.10/dist-packages (from paddlepaddle) (0.8.1)\n",
            "Requirement already satisfied: opt-einsum==3.3.0 in /usr/local/lib/python3.10/dist-packages (from paddlepaddle) (3.3.0)\n",
            "Requirement already satisfied: protobuf>=3.20.2 in /usr/local/lib/python3.10/dist-packages (from paddlepaddle) (3.20.3)\n",
            "Requirement already satisfied: anyio in /usr/local/lib/python3.10/dist-packages (from httpx->paddlepaddle) (3.7.1)\n",
            "Requirement already satisfied: certifi in /usr/local/lib/python3.10/dist-packages (from httpx->paddlepaddle) (2024.2.2)\n",
            "Requirement already satisfied: httpcore==1.* in /usr/local/lib/python3.10/dist-packages (from httpx->paddlepaddle) (1.0.4)\n",
            "Requirement already satisfied: idna in /usr/local/lib/python3.10/dist-packages (from httpx->paddlepaddle) (3.6)\n",
            "Requirement already satisfied: sniffio in /usr/local/lib/python3.10/dist-packages (from httpx->paddlepaddle) (1.3.1)\n",
            "Requirement already satisfied: h11<0.15,>=0.13 in /usr/local/lib/python3.10/dist-packages (from httpcore==1.*->httpx->paddlepaddle) (0.14.0)\n",
            "Requirement already satisfied: exceptiongroup in /usr/local/lib/python3.10/dist-packages (from anyio->httpx->paddlepaddle) (1.2.0)\n"
          ]
        }
      ]
    },
    {
      "cell_type": "code",
      "execution_count": 10,
      "metadata": {
        "colab": {
          "base_uri": "https://localhost:8080/"
        },
        "id": "QCXXFDLarpOt",
        "outputId": "dcaa1186-6170-465c-ff02-144c2833fd04"
      },
      "outputs": [
        {
          "output_type": "stream",
          "name": "stdout",
          "text": [
            "[4, 5, 1, 1] [5, 1] [1, 4, 5, 1, 1] Tensor(shape=[1, 4, 5, 1, 1], dtype=float32, place=Place(cpu), stop_gradient=True,\n",
            "       [[[[[-0.00000000]],\n",
            "\n",
            "          [[-0.00000000]],\n",
            "\n",
            "          [[ 0.00000000]],\n",
            "\n",
            "          [[-0.00000000]],\n",
            "\n",
            "          [[-0.00000000]]],\n",
            "\n",
            "\n",
            "         [[[-0.00000000]],\n",
            "\n",
            "          [[-0.00000000]],\n",
            "\n",
            "          [[ 0.00000000]],\n",
            "\n",
            "          [[-0.00000000]],\n",
            "\n",
            "          [[-0.00000000]]],\n",
            "\n",
            "\n",
            "         [[[-0.00000000]],\n",
            "\n",
            "          [[-0.00000000]],\n",
            "\n",
            "          [[ 0.00000000]],\n",
            "\n",
            "          [[-0.00000000]],\n",
            "\n",
            "          [[-0.00000000]]],\n",
            "\n",
            "\n",
            "         [[[ 0.00000000]],\n",
            "\n",
            "          [[ 0.00000000]],\n",
            "\n",
            "          [[-0.00000000]],\n",
            "\n",
            "          [[ 0.00000000]],\n",
            "\n",
            "          [[ 0.00000000]]]]])\n"
          ]
        }
      ],
      "source": [
        "paddle.disable_static()\n",
        "x = paddle.to_tensor([[[[-2.56000000e+02]],\n",
        "                     [[-2.56000000e+02]],\n",
        "                     [[-2.56000000e+02]],\n",
        "                     [[-2.56000000e+02]],\n",
        "                     [[-1.39360240e-01]]],\n",
        "\n",
        "                    [[[-1.38816263e-01]],\n",
        "                     [[-3.42670618e+03]],\n",
        "                     [[-3.22831575e+01]],\n",
        "                     [[-5.45454544e+03]],\n",
        "                     [[-1.10000000e+00]]],\n",
        "\n",
        "                    [[[-1.10000000e+00]],\n",
        "                     [[-2.00001000e+00]],\n",
        "                     [[-9.99990000e-01]],\n",
        "                     [[-9.99990000e-01]],\n",
        "                     [[-9.99990000e-01]]],\n",
        "\n",
        "                    [[[ 2.79699967e-01]],\n",
        "                     [[ 1.00000000e+00]],\n",
        "                     [[ 3.33333333e-01]],\n",
        "                     [[ 1.00000000e-04]],\n",
        "                     [[ 9.09090909e+03]]]])\n",
        "x.stop_gradient = False\n",
        "axis = [0, 2]\n",
        "keepdims = False\n",
        "y = paddle.amax(\n",
        "            paddle.sum(paddle.abs(x), axis=axis[0], keepdim=True),\n",
        "            axis=axis,\n",
        "            keepdim=keepdims,\n",
        "        )\n",
        "y.stop_gradient = False\n",
        "z = paddle.grad(y, x)\n",
        "z = paddle.to_tensor(z)\n",
        "print(x.shape, y.shape, z.shape, z)"
      ]
    },
    {
      "cell_type": "code",
      "source": [
        "paddle.disable_static()\n",
        "x = paddle.to_tensor([[[[-2.56000000e+02]],\n",
        "                     [[-2.56000000e+02]],\n",
        "                     [[-2.56000000e+02]],\n",
        "                     [[-2.56000000e+02]],\n",
        "                     [[-1.39360240e-01]]],\n",
        "\n",
        "                    [[[-1.38816263e-01]],\n",
        "                     [[-3.42670618e+03]],\n",
        "                     [[-3.22831575e+01]],\n",
        "                     [[-5.45454544e+03]],\n",
        "                     [[-1.10000000e+00]]],\n",
        "\n",
        "                    [[[-1.10000000e+00]],\n",
        "                     [[-2.00001000e+00]],\n",
        "                     [[-9.99990000e-01]],\n",
        "                     [[-9.99990000e-01]],\n",
        "                     [[-9.99990000e-01]]],\n",
        "\n",
        "                    [[[ 2.79699967e-01]],\n",
        "                     [[ 1.00000000e+00]],\n",
        "                     [[ 3.33333333e-01]],\n",
        "                     [[ 1.00000000e-04]],\n",
        "                     [[ 9.09090909e+03]]]])\n",
        "x.stop_gradient = False\n",
        "axis = [0, 2]\n",
        "keepdims = False\n",
        "y = paddle.max(\n",
        "            paddle.sum(paddle.abs(x), axis=axis[0], keepdim=True),\n",
        "            axis=axis,\n",
        "            keepdim=keepdims,\n",
        "        )\n",
        "y.stop_gradient = False\n",
        "z = paddle.grad(y, x)\n",
        "z = paddle.to_tensor(z)\n",
        "print(x.shape, y.shape, z.shape, z)"
      ],
      "metadata": {
        "colab": {
          "base_uri": "https://localhost:8080/"
        },
        "id": "952woevjr-TH",
        "outputId": "869dce5e-78e4-41c1-f4af-54d466e82f83"
      },
      "execution_count": 3,
      "outputs": [
        {
          "output_type": "stream",
          "name": "stdout",
          "text": [
            "[4, 5, 1, 1] [5, 1] [1, 4, 5, 1, 1] Tensor(shape=[1, 4, 5, 1, 1], dtype=float32, place=Place(cpu), stop_gradient=True,\n",
            "       [[[[[-1.]],\n",
            "\n",
            "          [[-1.]],\n",
            "\n",
            "          [[-1.]],\n",
            "\n",
            "          [[-1.]],\n",
            "\n",
            "          [[-1.]]],\n",
            "\n",
            "\n",
            "         [[[-1.]],\n",
            "\n",
            "          [[-1.]],\n",
            "\n",
            "          [[-1.]],\n",
            "\n",
            "          [[-1.]],\n",
            "\n",
            "          [[-1.]]],\n",
            "\n",
            "\n",
            "         [[[-1.]],\n",
            "\n",
            "          [[-1.]],\n",
            "\n",
            "          [[-1.]],\n",
            "\n",
            "          [[-1.]],\n",
            "\n",
            "          [[-1.]]],\n",
            "\n",
            "\n",
            "         [[[ 1.]],\n",
            "\n",
            "          [[ 1.]],\n",
            "\n",
            "          [[ 1.]],\n",
            "\n",
            "          [[ 1.]],\n",
            "\n",
            "          [[ 1.]]]]])\n"
          ]
        }
      ]
    },
    {
      "cell_type": "code",
      "source": [
        "x = torch.tensor([[[[-2.56000000e+02]],\n",
        "                     [[-2.56000000e+02]],\n",
        "                     [[-2.56000000e+02]],\n",
        "                     [[-2.56000000e+02]],\n",
        "                     [[-1.39360240e-01]]],\n",
        "\n",
        "                    [[[-1.38816263e-01]],\n",
        "                     [[-3.42670618e+03]],\n",
        "                     [[-3.22831575e+01]],\n",
        "                     [[-5.45454544e+03]],\n",
        "                     [[-1.10000000e+00]]],\n",
        "\n",
        "                    [[[-1.10000000e+00]],\n",
        "                     [[-2.00001000e+00]],\n",
        "                     [[-9.99990000e-01]],\n",
        "                     [[-9.99990000e-01]],\n",
        "                     [[-9.99990000e-01]]],\n",
        "\n",
        "                    [[[ 2.79699967e-01]],\n",
        "                     [[ 1.00000000e+00]],\n",
        "                     [[ 3.33333333e-01]],\n",
        "                     [[ 1.00000000e-04]],\n",
        "                     [[ 9.09090909e+03]]]])\n",
        "x.requires_grad_(True)\n",
        "axis = (0, 2)\n",
        "ord = 1\n",
        "keepdims = False\n",
        "y = torch.linalg.matrix_norm(x, dim=axis, keepdims=keepdims, ord=ord)\n",
        "y=y.expand((4, 5, 1))\n",
        "w = torch.gradient(y, dim=(0,))\n",
        "print(w[0])"
      ],
      "metadata": {
        "colab": {
          "base_uri": "https://localhost:8080/"
        },
        "id": "TwHKuNEjr89G",
        "outputId": "e7514678-e34e-4b11-8237-c2e7f8ef8842"
      },
      "execution_count": 16,
      "outputs": [
        {
          "output_type": "stream",
          "name": "stdout",
          "text": [
            "tensor([[[0.],\n",
            "         [0.],\n",
            "         [0.],\n",
            "         [0.],\n",
            "         [0.]],\n",
            "\n",
            "        [[0.],\n",
            "         [0.],\n",
            "         [0.],\n",
            "         [0.],\n",
            "         [0.]],\n",
            "\n",
            "        [[0.],\n",
            "         [0.],\n",
            "         [0.],\n",
            "         [0.],\n",
            "         [0.]],\n",
            "\n",
            "        [[0.],\n",
            "         [0.],\n",
            "         [0.],\n",
            "         [0.],\n",
            "         [0.]]], grad_fn=<CatBackward0>)\n"
          ]
        }
      ]
    },
    {
      "cell_type": "code",
      "source": [
        "x = torch.tensor([[[[-2.56000000e+02]],\n",
        "                     [[-2.56000000e+02]],\n",
        "                     [[-2.56000000e+02]],\n",
        "                     [[-2.56000000e+02]],\n",
        "                     [[-1.39360240e-01]]],\n",
        "\n",
        "                    [[[-1.38816263e-01]],\n",
        "                     [[-3.42670618e+03]],\n",
        "                     [[-3.22831575e+01]],\n",
        "                     [[-5.45454544e+03]],\n",
        "                     [[-1.10000000e+00]]],\n",
        "\n",
        "                    [[[-1.10000000e+00]],\n",
        "                     [[-2.00001000e+00]],\n",
        "                     [[-9.99990000e-01]],\n",
        "                     [[-9.99990000e-01]],\n",
        "                     [[-9.99990000e-01]]],\n",
        "\n",
        "                    [[[ 2.79699967e-01]],\n",
        "                     [[ 1.00000000e+00]],\n",
        "                     [[ 3.33333333e-01]],\n",
        "                     [[ 1.00000000e-04]],\n",
        "                     [[ 9.09090909e+03]]]])\n",
        "x.requires_grad_(True)\n",
        "axis = (0, 2)\n",
        "ord = 1\n",
        "keepdims = False\n",
        "y = torch.linalg.matrix_norm(x, dim=axis, keepdims=keepdims, ord=ord)\n",
        "w = torch.gradient(y)\n",
        "print(w[0])"
      ],
      "metadata": {
        "colab": {
          "base_uri": "https://localhost:8080/",
          "height": 193
        },
        "id": "VHb5OLBusBLN",
        "outputId": "3551307a-cf60-461d-d4e3-770a879bfd00"
      },
      "execution_count": 18,
      "outputs": [
        {
          "output_type": "error",
          "ename": "RuntimeError",
          "evalue": "torch.gradient expected each dimension size to be at least edge_order+1",
          "traceback": [
            "\u001b[0;31m---------------------------------------------------------------------------\u001b[0m",
            "\u001b[0;31mRuntimeError\u001b[0m                              Traceback (most recent call last)",
            "\u001b[0;32m<ipython-input-18-3d58db8be3dd>\u001b[0m in \u001b[0;36m<cell line: 29>\u001b[0;34m()\u001b[0m\n\u001b[1;32m     27\u001b[0m \u001b[0mkeepdims\u001b[0m \u001b[0;34m=\u001b[0m \u001b[0;32mFalse\u001b[0m\u001b[0;34m\u001b[0m\u001b[0;34m\u001b[0m\u001b[0m\n\u001b[1;32m     28\u001b[0m \u001b[0my\u001b[0m \u001b[0;34m=\u001b[0m \u001b[0mtorch\u001b[0m\u001b[0;34m.\u001b[0m\u001b[0mlinalg\u001b[0m\u001b[0;34m.\u001b[0m\u001b[0mmatrix_norm\u001b[0m\u001b[0;34m(\u001b[0m\u001b[0mx\u001b[0m\u001b[0;34m,\u001b[0m \u001b[0mdim\u001b[0m\u001b[0;34m=\u001b[0m\u001b[0maxis\u001b[0m\u001b[0;34m,\u001b[0m \u001b[0mkeepdims\u001b[0m\u001b[0;34m=\u001b[0m\u001b[0mkeepdims\u001b[0m\u001b[0;34m,\u001b[0m \u001b[0mord\u001b[0m\u001b[0;34m=\u001b[0m\u001b[0mord\u001b[0m\u001b[0;34m)\u001b[0m\u001b[0;34m\u001b[0m\u001b[0;34m\u001b[0m\u001b[0m\n\u001b[0;32m---> 29\u001b[0;31m \u001b[0mw\u001b[0m \u001b[0;34m=\u001b[0m \u001b[0mtorch\u001b[0m\u001b[0;34m.\u001b[0m\u001b[0mgradient\u001b[0m\u001b[0;34m(\u001b[0m\u001b[0my\u001b[0m\u001b[0;34m)\u001b[0m\u001b[0;34m\u001b[0m\u001b[0;34m\u001b[0m\u001b[0m\n\u001b[0m\u001b[1;32m     30\u001b[0m \u001b[0mprint\u001b[0m\u001b[0;34m(\u001b[0m\u001b[0mw\u001b[0m\u001b[0;34m[\u001b[0m\u001b[0;36m0\u001b[0m\u001b[0;34m]\u001b[0m\u001b[0;34m)\u001b[0m\u001b[0;34m\u001b[0m\u001b[0;34m\u001b[0m\u001b[0m\n",
            "\u001b[0;31mRuntimeError\u001b[0m: torch.gradient expected each dimension size to be at least edge_order+1"
          ]
        }
      ]
    },
    {
      "cell_type": "code",
      "source": [],
      "metadata": {
        "id": "j5lii24BsiEX"
      },
      "execution_count": 5,
      "outputs": []
    }
  ]
}