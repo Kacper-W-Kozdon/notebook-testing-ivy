{
  "nbformat": 4,
  "nbformat_minor": 0,
  "metadata": {
    "colab": {
      "provenance": [],
      "authorship_tag": "ABX9TyOh1viPlQRztiVbl1YV0qUp",
      "include_colab_link": true
    },
    "kernelspec": {
      "name": "python3",
      "display_name": "Python 3"
    },
    "language_info": {
      "name": "python"
    }
  },
  "cells": [
    {
      "cell_type": "markdown",
      "metadata": {
        "id": "view-in-github",
        "colab_type": "text"
      },
      "source": [
        "<a href=\"https://colab.research.google.com/github/Kacper-W-Kozdon/notebook-testing-ivy/blob/main/ivy_paddle_bfw_grad_issue.ipynb\" target=\"_parent\"><img src=\"https://colab.research.google.com/assets/colab-badge.svg\" alt=\"Open In Colab\"/></a>"
      ]
    },
    {
      "cell_type": "code",
      "source": [
        "!pip install paddlepaddle\n",
        "import paddle as paddle\n",
        "import torch\n",
        "import tensorflow as tf"
      ],
      "metadata": {
        "colab": {
          "base_uri": "https://localhost:8080/"
        },
        "id": "RZP3SNFHryAU",
        "outputId": "838b3afe-9f07-4ab2-c89d-5cdbd2e8dc32"
      },
      "execution_count": 69,
      "outputs": [
        {
          "output_type": "stream",
          "name": "stdout",
          "text": [
            "Requirement already satisfied: paddlepaddle in /usr/local/lib/python3.10/dist-packages (2.6.0)\n",
            "Requirement already satisfied: httpx in /usr/local/lib/python3.10/dist-packages (from paddlepaddle) (0.27.0)\n",
            "Requirement already satisfied: numpy>=1.13 in /usr/local/lib/python3.10/dist-packages (from paddlepaddle) (1.25.2)\n",
            "Requirement already satisfied: Pillow in /usr/local/lib/python3.10/dist-packages (from paddlepaddle) (9.4.0)\n",
            "Requirement already satisfied: decorator in /usr/local/lib/python3.10/dist-packages (from paddlepaddle) (4.4.2)\n",
            "Requirement already satisfied: astor in /usr/local/lib/python3.10/dist-packages (from paddlepaddle) (0.8.1)\n",
            "Requirement already satisfied: opt-einsum==3.3.0 in /usr/local/lib/python3.10/dist-packages (from paddlepaddle) (3.3.0)\n",
            "Requirement already satisfied: protobuf>=3.20.2 in /usr/local/lib/python3.10/dist-packages (from paddlepaddle) (3.20.3)\n",
            "Requirement already satisfied: anyio in /usr/local/lib/python3.10/dist-packages (from httpx->paddlepaddle) (3.7.1)\n",
            "Requirement already satisfied: certifi in /usr/local/lib/python3.10/dist-packages (from httpx->paddlepaddle) (2024.2.2)\n",
            "Requirement already satisfied: httpcore==1.* in /usr/local/lib/python3.10/dist-packages (from httpx->paddlepaddle) (1.0.4)\n",
            "Requirement already satisfied: idna in /usr/local/lib/python3.10/dist-packages (from httpx->paddlepaddle) (3.6)\n",
            "Requirement already satisfied: sniffio in /usr/local/lib/python3.10/dist-packages (from httpx->paddlepaddle) (1.3.1)\n",
            "Requirement already satisfied: h11<0.15,>=0.13 in /usr/local/lib/python3.10/dist-packages (from httpcore==1.*->httpx->paddlepaddle) (0.14.0)\n",
            "Requirement already satisfied: exceptiongroup in /usr/local/lib/python3.10/dist-packages (from anyio->httpx->paddlepaddle) (1.2.0)\n"
          ]
        }
      ]
    },
    {
      "cell_type": "code",
      "execution_count": 109,
      "metadata": {
        "colab": {
          "base_uri": "https://localhost:8080/"
        },
        "id": "QCXXFDLarpOt",
        "outputId": "b089f5b4-285e-4cb9-bf23-459c83324ffb"
      },
      "outputs": [
        {
          "output_type": "stream",
          "name": "stdout",
          "text": [
            "Tensor(shape=[1, 5, 1, 1], dtype=float32, place=Place(cpu), stop_gradient=False,\n",
            "       [[[[257.51852417 ]],\n",
            "\n",
            "         [[3685.70629883]],\n",
            "\n",
            "         [[289.61648560 ]],\n",
            "\n",
            "         [[5711.54541016]],\n",
            "\n",
            "         [[9093.14843750]]]])\n",
            "[4, 5, 1, 1] [1, 5, 1, 1] [1, 4, 5, 1, 1] Tensor(shape=[1, 4, 5, 1, 1], dtype=float32, place=Place(cpu), stop_gradient=True,\n",
            "       [[[[[-1.]],\n",
            "\n",
            "          [[-1.]],\n",
            "\n",
            "          [[-1.]],\n",
            "\n",
            "          [[-1.]],\n",
            "\n",
            "          [[-1.]]],\n",
            "\n",
            "\n",
            "         [[[-1.]],\n",
            "\n",
            "          [[-1.]],\n",
            "\n",
            "          [[-1.]],\n",
            "\n",
            "          [[-1.]],\n",
            "\n",
            "          [[-1.]]],\n",
            "\n",
            "\n",
            "         [[[-1.]],\n",
            "\n",
            "          [[-1.]],\n",
            "\n",
            "          [[-1.]],\n",
            "\n",
            "          [[-1.]],\n",
            "\n",
            "          [[-1.]]],\n",
            "\n",
            "\n",
            "         [[[ 1.]],\n",
            "\n",
            "          [[ 1.]],\n",
            "\n",
            "          [[ 1.]],\n",
            "\n",
            "          [[ 1.]],\n",
            "\n",
            "          [[ 1.]]]]])\n"
          ]
        }
      ],
      "source": [
        "paddle.disable_static()\n",
        "x = paddle.to_tensor([[[[-2.56000000e+02]],\n",
        "                     [[-2.56000000e+02]],\n",
        "                     [[-2.56000000e+02]],\n",
        "                     [[-2.56000000e+02]],\n",
        "                     [[-1.39360240e-01]]],\n",
        "\n",
        "                    [[[-1.38816263e-01]],\n",
        "                     [[-3.42670618e+03]],\n",
        "                     [[-3.22831575e+01]],\n",
        "                     [[-5.45454544e+03]],\n",
        "                     [[-1.10000000e+00]]],\n",
        "\n",
        "                    [[[-1.10000000e+00]],\n",
        "                     [[-2.00001000e+00]],\n",
        "                     [[-9.99990000e-01]],\n",
        "                     [[-9.99990000e-01]],\n",
        "                     [[-9.99990000e-01]]],\n",
        "\n",
        "                    [[[ 2.79699967e-01]],\n",
        "                     [[ 1.00000000e+00]],\n",
        "                     [[ 3.33333333e-01]],\n",
        "                     [[ 1.00000000e-04]],\n",
        "                     [[ 9.09090909e+03]]]])\n",
        "x.stop_gradient = False\n",
        "axis = [0, 2]\n",
        "keepdims = True\n",
        "y = paddle.max(\n",
        "            paddle.sum(paddle.abs(x), axis=axis[0], keepdim=True),\n",
        "            axis=axis,\n",
        "            keepdim=keepdims,\n",
        "        )\n",
        "y.stop_gradient = False\n",
        "z = paddle.grad(y, x)\n",
        "z = paddle.to_tensor(z)\n",
        "print(y)\n",
        "print(x.shape, y.shape, z.shape, z)"
      ]
    },
    {
      "cell_type": "code",
      "source": [
        "paddle.disable_static()\n",
        "x = paddle.to_tensor([[[[-2.56000000e+02]],\n",
        "                     [[-2.56000000e+02]],\n",
        "                     [[-2.56000000e+02]],\n",
        "                     [[-2.56000000e+02]],\n",
        "                     [[-1.39360240e-01]]],\n",
        "\n",
        "                    [[[-1.38816263e-01]],\n",
        "                     [[-3.42670618e+03]],\n",
        "                     [[-3.22831575e+01]],\n",
        "                     [[-5.45454544e+03]],\n",
        "                     [[-1.10000000e+00]]],\n",
        "\n",
        "                    [[[-1.10000000e+00]],\n",
        "                     [[-2.00001000e+00]],\n",
        "                     [[-9.99990000e-01]],\n",
        "                     [[-9.99990000e-01]],\n",
        "                     [[-9.99990000e-01]]],\n",
        "\n",
        "                    [[[ 2.79699967e-01]],\n",
        "                     [[ 1.00000000e+00]],\n",
        "                     [[ 3.33333333e-01]],\n",
        "                     [[ 1.00000000e-04]],\n",
        "                     [[ 9.09090909e+03]]]])\n",
        "x.stop_gradient = False\n",
        "axis = [0, 2]\n",
        "keepdims = False\n",
        "y = paddle.amax(\n",
        "            paddle.sum(paddle.abs(x), axis=axis[0], keepdim=True),\n",
        "            axis=axis,\n",
        "            keepdim=keepdims,\n",
        "        )\n",
        "y.stop_gradient = False\n",
        "z = paddle.grad(y, x)\n",
        "z = paddle.to_tensor(z)\n",
        "print(x.shape, y.shape, z.shape, z)"
      ],
      "metadata": {
        "colab": {
          "base_uri": "https://localhost:8080/"
        },
        "id": "952woevjr-TH",
        "outputId": "63466352-4969-4cb8-af57-0eb233837597"
      },
      "execution_count": 119,
      "outputs": [
        {
          "output_type": "stream",
          "name": "stdout",
          "text": [
            "[4, 5, 1, 1] [5, 1] [1, 4, 5, 1, 1] Tensor(shape=[1, 4, 5, 1, 1], dtype=float32, place=Place(cpu), stop_gradient=True,\n",
            "       [[[[[-0.00000000]],\n",
            "\n",
            "          [[-0.00000000]],\n",
            "\n",
            "          [[ -0.       ]],\n",
            "\n",
            "          [[ -0.       ]],\n",
            "\n",
            "          [[-0.00000000]]],\n",
            "\n",
            "\n",
            "         [[[-0.00000000]],\n",
            "\n",
            "          [[-0.00000000]],\n",
            "\n",
            "          [[ -0.       ]],\n",
            "\n",
            "          [[ -0.       ]],\n",
            "\n",
            "          [[-0.00000000]]],\n",
            "\n",
            "\n",
            "         [[[-0.00000000]],\n",
            "\n",
            "          [[-0.00000000]],\n",
            "\n",
            "          [[ -0.       ]],\n",
            "\n",
            "          [[ -0.       ]],\n",
            "\n",
            "          [[-0.00000000]]],\n",
            "\n",
            "\n",
            "         [[[ 0.00000000]],\n",
            "\n",
            "          [[ 0.00000000]],\n",
            "\n",
            "          [[ 0.        ]],\n",
            "\n",
            "          [[ 0.        ]],\n",
            "\n",
            "          [[ 0.00000000]]]]])\n"
          ]
        }
      ]
    },
    {
      "cell_type": "code",
      "source": [
        "x = torch.tensor([[[[-2.56000000e+02]],\n",
        "                     [[-2.56000000e+02]],\n",
        "                     [[-2.56000000e+02]],\n",
        "                     [[-2.56000000e+02]],\n",
        "                     [[-1.39360240e-01]]],\n",
        "\n",
        "                    [[[-1.38816263e-01]],\n",
        "                     [[-3.42670618e+03]],\n",
        "                     [[-3.22831575e+01]],\n",
        "                     [[-5.45454544e+03]],\n",
        "                     [[-1.10000000e+00]]],\n",
        "\n",
        "                    [[[-1.10000000e+00]],\n",
        "                     [[-2.00001000e+00]],\n",
        "                     [[-9.99990000e-01]],\n",
        "                     [[-9.99990000e-01]],\n",
        "                     [[-9.99990000e-01]]],\n",
        "\n",
        "                    [[[ 2.79699967e-01]],\n",
        "                     [[ 1.00000000e+00]],\n",
        "                     [[ 3.33333333e-01]],\n",
        "                     [[ 1.00000000e-04]],\n",
        "                     [[ 9.09090909e+03]]]])\n",
        "x.requires_grad_(True)\n",
        "axis = (0, 2)\n",
        "ord = 1\n",
        "keepdims = False\n",
        "y = torch.linalg.matrix_norm(x, dim=axis, keepdims=keepdims, ord=ord)\n",
        "print(y)\n",
        "y.backward(torch.ones_like(y))\n",
        "print(x.grad)"
      ],
      "metadata": {
        "colab": {
          "base_uri": "https://localhost:8080/"
        },
        "id": "TwHKuNEjr89G",
        "outputId": "b87ae772-73cc-4631-d5ce-cf9c53c214a6"
      },
      "execution_count": 105,
      "outputs": [
        {
          "output_type": "stream",
          "name": "stdout",
          "text": [
            "tensor([[ 257.5185],\n",
            "        [3685.7063],\n",
            "        [ 289.6165],\n",
            "        [5711.5454],\n",
            "        [9093.1484]], grad_fn=<AmaxBackward0>)\n",
            "tensor([[[[-1.]],\n",
            "\n",
            "         [[-1.]],\n",
            "\n",
            "         [[-1.]],\n",
            "\n",
            "         [[-1.]],\n",
            "\n",
            "         [[-1.]]],\n",
            "\n",
            "\n",
            "        [[[-1.]],\n",
            "\n",
            "         [[-1.]],\n",
            "\n",
            "         [[-1.]],\n",
            "\n",
            "         [[-1.]],\n",
            "\n",
            "         [[-1.]]],\n",
            "\n",
            "\n",
            "        [[[-1.]],\n",
            "\n",
            "         [[-1.]],\n",
            "\n",
            "         [[-1.]],\n",
            "\n",
            "         [[-1.]],\n",
            "\n",
            "         [[-1.]]],\n",
            "\n",
            "\n",
            "        [[[ 1.]],\n",
            "\n",
            "         [[ 1.]],\n",
            "\n",
            "         [[ 1.]],\n",
            "\n",
            "         [[ 1.]],\n",
            "\n",
            "         [[ 1.]]]])\n"
          ]
        }
      ]
    },
    {
      "cell_type": "code",
      "source": [
        "x = torch.tensor([[[-1.], [-1.]]])\n",
        "x.requires_grad_(True)\n",
        "axis = (0, 1)\n",
        "ord = 1\n",
        "keepdims = False\n",
        "y = torch.linalg.matrix_norm(x, dim=axis, keepdims=keepdims, ord=ord)\n",
        "print(y)\n",
        "y.backward(torch.ones_like(y))\n",
        "print(x.grad)"
      ],
      "metadata": {
        "colab": {
          "base_uri": "https://localhost:8080/"
        },
        "id": "VHb5OLBusBLN",
        "outputId": "b11e5b4a-846a-4599-fa50-ee263fb142e9"
      },
      "execution_count": 126,
      "outputs": [
        {
          "output_type": "stream",
          "name": "stdout",
          "text": [
            "tensor([1.], grad_fn=<AmaxBackward0>)\n",
            "tensor([[[-0.5000],\n",
            "         [-0.5000]]])\n"
          ]
        }
      ]
    },
    {
      "cell_type": "code",
      "source": [
        "x = torch.tensor([5.])\n",
        "x.requires_grad_(True)\n",
        "y = x**3\n",
        "y.backward(gradient=torch.ones_like(y))\n",
        "print(x.grad)"
      ],
      "metadata": {
        "colab": {
          "base_uri": "https://localhost:8080/"
        },
        "id": "uqQ5uYTdZZxk",
        "outputId": "47d33abf-3552-4453-87c9-1d9eb0a270ac"
      },
      "execution_count": 107,
      "outputs": [
        {
          "output_type": "stream",
          "name": "stdout",
          "text": [
            "tensor([75.])\n"
          ]
        }
      ]
    },
    {
      "cell_type": "code",
      "source": [
        "paddle.disable_static()\n",
        "x = paddle.to_tensor([[[-1.], [-1.]]])\n",
        "x.stop_gradient = False\n",
        "axis = [0, 2]\n",
        "axis_ = [0, 2]\n",
        "keepdims = False\n",
        "x = paddle.moveaxis(x, axis_, [-2, -1])\n",
        "y = paddle.min(\n",
        "            paddle.linalg.svd(x)[1],\n",
        "            axis=-1,\n",
        "            keepdim=False,\n",
        "        )\n",
        "y.stop_gradient = False\n",
        "z = paddle.grad(y, x)\n",
        "z = paddle.to_tensor(z)\n",
        "print(x.shape, y.shape, z.shape, z)"
      ],
      "metadata": {
        "id": "j5lii24BsiEX",
        "colab": {
          "base_uri": "https://localhost:8080/"
        },
        "outputId": "a8cd2620-75bb-44fe-bec5-5d0d7471f163"
      },
      "execution_count": null,
      "outputs": [
        {
          "output_type": "stream",
          "name": "stdout",
          "text": [
            "[2, 1, 1] [2] [1, 2, 1, 1] Tensor(shape=[1, 2, 1, 1], dtype=float32, place=Place(cpu), stop_gradient=True,\n",
            "       [[[[-1.]],\n",
            "\n",
            "         [[-1.]]]])\n"
          ]
        }
      ]
    },
    {
      "cell_type": "code",
      "source": [
        "paddle.disable_static()\n",
        "x = paddle.to_tensor([[[-1.], [-1.]]])\n",
        "x.stop_gradient = False\n",
        "axis = [0, 1]\n",
        "keepdims = False\n",
        "y = paddle.amax(\n",
        "            paddle.sum(paddle.abs(x), axis=axis[0], keepdim=True),\n",
        "            axis=axis,\n",
        "            keepdim=keepdims,\n",
        "        )\n",
        "y.stop_gradient = False\n",
        "z = paddle.grad(y, x)\n",
        "z = paddle.to_tensor(z)\n",
        "print(x.shape, y.shape, z.shape, z)"
      ],
      "metadata": {
        "id": "W1npyoxP4X8J",
        "colab": {
          "base_uri": "https://localhost:8080/"
        },
        "outputId": "d8022c7f-ad8a-4695-c5f3-37b0833dc387"
      },
      "execution_count": 124,
      "outputs": [
        {
          "output_type": "stream",
          "name": "stdout",
          "text": [
            "[1, 2, 1] [1] [1, 1, 2, 1] Tensor(shape=[1, 1, 2, 1], dtype=float32, place=Place(cpu), stop_gradient=True,\n",
            "       [[[[-0.50000000],\n",
            "          [-0.50000000]]]])\n"
          ]
        }
      ]
    },
    {
      "cell_type": "code",
      "source": [],
      "metadata": {
        "id": "F8wL-R4wuNoI"
      },
      "execution_count": null,
      "outputs": []
    }
  ]
}