{
  "nbformat": 4,
  "nbformat_minor": 0,
  "metadata": {
    "colab": {
      "provenance": [],
      "authorship_tag": "ABX9TyOSTyzrilue/lZEdcG6/COG",
      "include_colab_link": true
    },
    "kernelspec": {
      "name": "python3",
      "display_name": "Python 3"
    },
    "language_info": {
      "name": "python"
    }
  },
  "cells": [
    {
      "cell_type": "markdown",
      "metadata": {
        "id": "view-in-github",
        "colab_type": "text"
      },
      "source": [
        "<a href=\"https://colab.research.google.com/github/Kacper-W-Kozdon/notebook-testing-ivy/blob/main/ivy_paddle_bfw_grad_issue.ipynb\" target=\"_parent\"><img src=\"https://colab.research.google.com/assets/colab-badge.svg\" alt=\"Open In Colab\"/></a>"
      ]
    },
    {
      "cell_type": "code",
      "source": [
        "!pip install paddlepaddle\n",
        "import paddle as paddle\n",
        "import torch\n",
        "import tensorflow as tf"
      ],
      "metadata": {
        "colab": {
          "base_uri": "https://localhost:8080/"
        },
        "id": "RZP3SNFHryAU",
        "outputId": "5167664b-68ae-4a74-cd32-477577999a65"
      },
      "execution_count": 1,
      "outputs": [
        {
          "output_type": "stream",
          "name": "stdout",
          "text": [
            "Collecting paddlepaddle\n",
            "  Downloading paddlepaddle-2.6.0-cp310-cp310-manylinux1_x86_64.whl (125.7 MB)\n",
            "\u001b[2K     \u001b[90m━━━━━━━━━━━━━━━━━━━━━━━━━━━━━━━━━━━━━━━━\u001b[0m \u001b[32m125.7/125.7 MB\u001b[0m \u001b[31m6.1 MB/s\u001b[0m eta \u001b[36m0:00:00\u001b[0m\n",
            "\u001b[?25hCollecting httpx (from paddlepaddle)\n",
            "  Downloading httpx-0.27.0-py3-none-any.whl (75 kB)\n",
            "\u001b[2K     \u001b[90m━━━━━━━━━━━━━━━━━━━━━━━━━━━━━━━━━━━━━━━━\u001b[0m \u001b[32m75.6/75.6 kB\u001b[0m \u001b[31m10.0 MB/s\u001b[0m eta \u001b[36m0:00:00\u001b[0m\n",
            "\u001b[?25hRequirement already satisfied: numpy>=1.13 in /usr/local/lib/python3.10/dist-packages (from paddlepaddle) (1.25.2)\n",
            "Requirement already satisfied: Pillow in /usr/local/lib/python3.10/dist-packages (from paddlepaddle) (9.4.0)\n",
            "Requirement already satisfied: decorator in /usr/local/lib/python3.10/dist-packages (from paddlepaddle) (4.4.2)\n",
            "Collecting astor (from paddlepaddle)\n",
            "  Downloading astor-0.8.1-py2.py3-none-any.whl (27 kB)\n",
            "Requirement already satisfied: opt-einsum==3.3.0 in /usr/local/lib/python3.10/dist-packages (from paddlepaddle) (3.3.0)\n",
            "Requirement already satisfied: protobuf>=3.20.2 in /usr/local/lib/python3.10/dist-packages (from paddlepaddle) (3.20.3)\n",
            "Requirement already satisfied: anyio in /usr/local/lib/python3.10/dist-packages (from httpx->paddlepaddle) (3.7.1)\n",
            "Requirement already satisfied: certifi in /usr/local/lib/python3.10/dist-packages (from httpx->paddlepaddle) (2024.2.2)\n",
            "Collecting httpcore==1.* (from httpx->paddlepaddle)\n",
            "  Downloading httpcore-1.0.4-py3-none-any.whl (77 kB)\n",
            "\u001b[2K     \u001b[90m━━━━━━━━━━━━━━━━━━━━━━━━━━━━━━━━━━━━━━━━\u001b[0m \u001b[32m77.8/77.8 kB\u001b[0m \u001b[31m9.9 MB/s\u001b[0m eta \u001b[36m0:00:00\u001b[0m\n",
            "\u001b[?25hRequirement already satisfied: idna in /usr/local/lib/python3.10/dist-packages (from httpx->paddlepaddle) (3.6)\n",
            "Requirement already satisfied: sniffio in /usr/local/lib/python3.10/dist-packages (from httpx->paddlepaddle) (1.3.1)\n",
            "Collecting h11<0.15,>=0.13 (from httpcore==1.*->httpx->paddlepaddle)\n",
            "  Downloading h11-0.14.0-py3-none-any.whl (58 kB)\n",
            "\u001b[2K     \u001b[90m━━━━━━━━━━━━━━━━━━━━━━━━━━━━━━━━━━━━━━━━\u001b[0m \u001b[32m58.3/58.3 kB\u001b[0m \u001b[31m6.9 MB/s\u001b[0m eta \u001b[36m0:00:00\u001b[0m\n",
            "\u001b[?25hRequirement already satisfied: exceptiongroup in /usr/local/lib/python3.10/dist-packages (from anyio->httpx->paddlepaddle) (1.2.0)\n",
            "Installing collected packages: h11, astor, httpcore, httpx, paddlepaddle\n",
            "Successfully installed astor-0.8.1 h11-0.14.0 httpcore-1.0.4 httpx-0.27.0 paddlepaddle-2.6.0\n"
          ]
        }
      ]
    },
    {
      "cell_type": "code",
      "execution_count": null,
      "metadata": {
        "colab": {
          "base_uri": "https://localhost:8080/"
        },
        "id": "QCXXFDLarpOt",
        "outputId": "7872a11f-469a-47a5-d2e1-63b70534a020"
      },
      "outputs": [
        {
          "output_type": "stream",
          "name": "stdout",
          "text": [
            "Tensor(shape=[5, 1], dtype=float32, place=Place(cpu), stop_gradient=False,\n",
            "       [[257.51852417 ],\n",
            "        [3685.70629883],\n",
            "        [289.61648560 ],\n",
            "        [5711.54541016],\n",
            "        [9093.14843750]])\n",
            "[4, 5, 1, 1] [5, 1] [1, 4, 5, 1, 1] Tensor(shape=[1, 4, 5, 1, 1], dtype=float32, place=Place(cpu), stop_gradient=True,\n",
            "       [[[[[ 0.00000000]],\n",
            "\n",
            "          [[-0.00000000]],\n",
            "\n",
            "          [[-0.00000000]],\n",
            "\n",
            "          [[-0.00000000]],\n",
            "\n",
            "          [[ 0.00000000]]],\n",
            "\n",
            "\n",
            "         [[[ 0.00000000]],\n",
            "\n",
            "          [[-0.00000000]],\n",
            "\n",
            "          [[-0.00000000]],\n",
            "\n",
            "          [[-0.00000000]],\n",
            "\n",
            "          [[ 0.00000000]]],\n",
            "\n",
            "\n",
            "         [[[ 0.00000000]],\n",
            "\n",
            "          [[-0.00000000]],\n",
            "\n",
            "          [[-0.00000000]],\n",
            "\n",
            "          [[-0.00000000]],\n",
            "\n",
            "          [[ 0.00000000]]],\n",
            "\n",
            "\n",
            "         [[[-0.00000000]],\n",
            "\n",
            "          [[ 0.00000000]],\n",
            "\n",
            "          [[ 0.00000000]],\n",
            "\n",
            "          [[ 0.00000000]],\n",
            "\n",
            "          [[-0.00000000]]]]])\n"
          ]
        }
      ],
      "source": [
        "paddle.disable_static()\n",
        "x = paddle.to_tensor([[[[-2.56000000e+02]],\n",
        "                     [[-2.56000000e+02]],\n",
        "                     [[-2.56000000e+02]],\n",
        "                     [[-2.56000000e+02]],\n",
        "                     [[-1.39360240e-01]]],\n",
        "\n",
        "                    [[[-1.38816263e-01]],\n",
        "                     [[-3.42670618e+03]],\n",
        "                     [[-3.22831575e+01]],\n",
        "                     [[-5.45454544e+03]],\n",
        "                     [[-1.10000000e+00]]],\n",
        "\n",
        "                    [[[-1.10000000e+00]],\n",
        "                     [[-2.00001000e+00]],\n",
        "                     [[-9.99990000e-01]],\n",
        "                     [[-9.99990000e-01]],\n",
        "                     [[-9.99990000e-01]]],\n",
        "\n",
        "                    [[[ 2.79699967e-01]],\n",
        "                     [[ 1.00000000e+00]],\n",
        "                     [[ 3.33333333e-01]],\n",
        "                     [[ 1.00000000e-04]],\n",
        "                     [[ 9.09090909e+03]]]])\n",
        "x.stop_gradient = False\n",
        "axis = [0, 2]\n",
        "keepdims = False\n",
        "y = paddle.amax(\n",
        "            paddle.sum(paddle.abs(x), axis=axis[0], keepdim=True),\n",
        "            axis=axis,\n",
        "            keepdim=keepdims,\n",
        "        )\n",
        "y.stop_gradient = False\n",
        "z = paddle.grad(y, x)\n",
        "z = paddle.to_tensor(z)\n",
        "print(y)\n",
        "print(x.shape, y.shape, z.shape, z)"
      ]
    },
    {
      "cell_type": "code",
      "source": [
        "paddle.disable_static()\n",
        "x = paddle.to_tensor([[[[-2.56000000e+02]],\n",
        "                     [[-2.56000000e+02]],\n",
        "                     [[-2.56000000e+02]],\n",
        "                     [[-2.56000000e+02]],\n",
        "                     [[-1.39360240e-01]]],\n",
        "\n",
        "                    [[[-1.38816263e-01]],\n",
        "                     [[-3.42670618e+03]],\n",
        "                     [[-3.22831575e+01]],\n",
        "                     [[-5.45454544e+03]],\n",
        "                     [[-1.10000000e+00]]],\n",
        "\n",
        "                    [[[-1.10000000e+00]],\n",
        "                     [[-2.00001000e+00]],\n",
        "                     [[-9.99990000e-01]],\n",
        "                     [[-9.99990000e-01]],\n",
        "                     [[-9.99990000e-01]]],\n",
        "\n",
        "                    [[[ 2.79699967e-01]],\n",
        "                     [[ 1.00000000e+00]],\n",
        "                     [[ 3.33333333e-01]],\n",
        "                     [[ 1.00000000e-04]],\n",
        "                     [[ 9.09090909e+03]]]])\n",
        "x.stop_gradient = False\n",
        "axis = [0, 2]\n",
        "keepdims = False\n",
        "y = paddle.amax(\n",
        "            paddle.sum(paddle.abs(x), axis=axis[0], keepdim=True),\n",
        "            axis=axis,\n",
        "            keepdim=keepdims,\n",
        "        )\n",
        "y.stop_gradient = False\n",
        "z = paddle.grad(y, x)\n",
        "z = paddle.to_tensor(z)\n",
        "print(x.shape, y.shape, z.shape, z)"
      ],
      "metadata": {
        "colab": {
          "base_uri": "https://localhost:8080/"
        },
        "id": "952woevjr-TH",
        "outputId": "aaa9faf9-9419-43ab-c549-0a161291e916"
      },
      "execution_count": 8,
      "outputs": [
        {
          "output_type": "stream",
          "name": "stdout",
          "text": [
            "[4, 5, 1, 1] [5, 1] [1, 4, 5, 1, 1] Tensor(shape=[1, 4, 5, 1, 1], dtype=float32, place=Place(cpu), stop_gradient=True,\n",
            "       [[[[[ 28.66020393]],\n",
            "\n",
            "          [[-0.00000000 ]],\n",
            "\n",
            "          [[ -0.        ]],\n",
            "\n",
            "          [[ -0.        ]],\n",
            "\n",
            "          [[ -0.        ]]],\n",
            "\n",
            "\n",
            "         [[[ 28.66020393]],\n",
            "\n",
            "          [[-0.00000000 ]],\n",
            "\n",
            "          [[ -0.        ]],\n",
            "\n",
            "          [[ -0.        ]],\n",
            "\n",
            "          [[ -0.        ]]],\n",
            "\n",
            "\n",
            "         [[[ 28.66020393]],\n",
            "\n",
            "          [[-0.00000000 ]],\n",
            "\n",
            "          [[ -0.        ]],\n",
            "\n",
            "          [[ -0.        ]],\n",
            "\n",
            "          [[ -0.        ]]],\n",
            "\n",
            "\n",
            "         [[[-28.66020393]],\n",
            "\n",
            "          [[ 0.00000000 ]],\n",
            "\n",
            "          [[ 0.         ]],\n",
            "\n",
            "          [[ 0.         ]],\n",
            "\n",
            "          [[ 0.         ]]]]])\n"
          ]
        }
      ]
    },
    {
      "cell_type": "code",
      "source": [
        "x = torch.tensor([[[[-2.56000000e+02]],\n",
        "                     [[-2.56000000e+02]],\n",
        "                     [[-2.56000000e+02]],\n",
        "                     [[-2.56000000e+02]],\n",
        "                     [[-1.39360240e-01]]],\n",
        "\n",
        "                    [[[-1.38816263e-01]],\n",
        "                     [[-3.42670618e+03]],\n",
        "                     [[-3.22831575e+01]],\n",
        "                     [[-5.45454544e+03]],\n",
        "                     [[-1.10000000e+00]]],\n",
        "\n",
        "                    [[[-1.10000000e+00]],\n",
        "                     [[-2.00001000e+00]],\n",
        "                     [[-9.99990000e-01]],\n",
        "                     [[-9.99990000e-01]],\n",
        "                     [[-9.99990000e-01]]],\n",
        "\n",
        "                    [[[ 2.79699967e-01]],\n",
        "                     [[ 1.00000000e+00]],\n",
        "                     [[ 3.33333333e-01]],\n",
        "                     [[ 1.00000000e-04]],\n",
        "                     [[ 9.09090909e+03]]]])\n",
        "x.requires_grad_(True)\n",
        "axis = (0, 2)\n",
        "ord = 1\n",
        "keepdims = False\n",
        "y = torch.linalg.matrix_norm(x, dim=axis, keepdims=keepdims, ord=ord)\n",
        "y=y.expand((4, 5, 1))\n",
        "w = torch.gradient(y, dim=(0,))\n",
        "print(w[0])"
      ],
      "metadata": {
        "colab": {
          "base_uri": "https://localhost:8080/"
        },
        "id": "TwHKuNEjr89G",
        "outputId": "69aaf8ce-a9ee-42fd-94bf-690eb8c9a4c8"
      },
      "execution_count": null,
      "outputs": [
        {
          "output_type": "stream",
          "name": "stdout",
          "text": [
            "tensor([[[0.],\n",
            "         [0.],\n",
            "         [0.],\n",
            "         [0.],\n",
            "         [0.]],\n",
            "\n",
            "        [[0.],\n",
            "         [0.],\n",
            "         [0.],\n",
            "         [0.],\n",
            "         [0.]],\n",
            "\n",
            "        [[0.],\n",
            "         [0.],\n",
            "         [0.],\n",
            "         [0.],\n",
            "         [0.]],\n",
            "\n",
            "        [[0.],\n",
            "         [0.],\n",
            "         [0.],\n",
            "         [0.],\n",
            "         [0.]]], grad_fn=<CatBackward0>)\n"
          ]
        }
      ]
    },
    {
      "cell_type": "code",
      "source": [
        "x = torch.tensor([[[-1.], [-1.]]])\n",
        "x.requires_grad_(True)\n",
        "axis = (0, 2)\n",
        "ord = -1\n",
        "keepdims = False\n",
        "y = torch.linalg.matrix_norm(x, dim=axis, keepdims=keepdims, ord=ord)\n",
        "print(y)\n",
        "y.backward(inputs=x, gradient=torch.tensor([1, 1]))\n",
        "print(x.grad)"
      ],
      "metadata": {
        "colab": {
          "base_uri": "https://localhost:8080/"
        },
        "id": "VHb5OLBusBLN",
        "outputId": "dd0f7847-ce3b-41ec-e91f-d2337558349c"
      },
      "execution_count": 68,
      "outputs": [
        {
          "output_type": "stream",
          "name": "stdout",
          "text": [
            "tensor([1., 1.], grad_fn=<AminBackward0>)\n",
            "tensor([[[-1.],\n",
            "         [-1.]]])\n"
          ]
        }
      ]
    },
    {
      "cell_type": "code",
      "source": [
        "x = torch.tensor([3.])\n",
        "x.requires_grad_(True)\n",
        "y = x**2\n",
        "y.backward(inputs=x)\n",
        "print(x.grad)"
      ],
      "metadata": {
        "colab": {
          "base_uri": "https://localhost:8080/"
        },
        "id": "uqQ5uYTdZZxk",
        "outputId": "cf26c7bf-9549-42f1-a3a1-c9c3a06bcd04"
      },
      "execution_count": 45,
      "outputs": [
        {
          "output_type": "stream",
          "name": "stdout",
          "text": [
            "tensor([6.])\n"
          ]
        }
      ]
    },
    {
      "cell_type": "code",
      "source": [
        "paddle.disable_static()\n",
        "x = paddle.to_tensor([[[-1.], [-1.]]])\n",
        "x.stop_gradient = False\n",
        "axis = [0, 2]\n",
        "axis_ = [0, 2]\n",
        "keepdims = False\n",
        "x = paddle.moveaxis(x, axis_, [-2, -1])\n",
        "y = paddle.min(\n",
        "            paddle.linalg.svd(x)[1],\n",
        "            axis=-1,\n",
        "            keepdim=False,\n",
        "        )\n",
        "y.stop_gradient = False\n",
        "z = paddle.grad(y, x)\n",
        "z = paddle.to_tensor(z)\n",
        "print(x.shape, y.shape, z.shape, z)"
      ],
      "metadata": {
        "id": "j5lii24BsiEX",
        "colab": {
          "base_uri": "https://localhost:8080/"
        },
        "outputId": "a8cd2620-75bb-44fe-bec5-5d0d7471f163"
      },
      "execution_count": 67,
      "outputs": [
        {
          "output_type": "stream",
          "name": "stdout",
          "text": [
            "[2, 1, 1] [2] [1, 2, 1, 1] Tensor(shape=[1, 2, 1, 1], dtype=float32, place=Place(cpu), stop_gradient=True,\n",
            "       [[[[-1.]],\n",
            "\n",
            "         [[-1.]]]])\n"
          ]
        }
      ]
    },
    {
      "cell_type": "code",
      "source": [],
      "metadata": {
        "id": "W1npyoxP4X8J"
      },
      "execution_count": null,
      "outputs": []
    }
  ]
}