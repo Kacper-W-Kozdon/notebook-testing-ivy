{
  "nbformat": 4,
  "nbformat_minor": 0,
  "metadata": {
    "colab": {
      "provenance": [],
      "authorship_tag": "ABX9TyN4UJrtjBLriEN26Vcy7MCL",
      "include_colab_link": true
    },
    "kernelspec": {
      "name": "python3",
      "display_name": "Python 3"
    },
    "language_info": {
      "name": "python"
    }
  },
  "cells": [
    {
      "cell_type": "markdown",
      "metadata": {
        "id": "view-in-github",
        "colab_type": "text"
      },
      "source": [
        "<a href=\"https://colab.research.google.com/github/Kacper-W-Kozdon/notebook-testing-ivy/blob/main/ivy_paddle_bfw_grad_issue.ipynb\" target=\"_parent\"><img src=\"https://colab.research.google.com/assets/colab-badge.svg\" alt=\"Open In Colab\"/></a>"
      ]
    },
    {
      "cell_type": "code",
      "source": [
        "!pip install paddlepaddle\n",
        "import paddle as paddle\n",
        "import torch\n",
        "import tensorflow as tf"
      ],
      "metadata": {
        "colab": {
          "base_uri": "https://localhost:8080/"
        },
        "id": "RZP3SNFHryAU",
        "outputId": "7bd0745c-513b-43ec-d423-156dac01744e"
      },
      "execution_count": 12,
      "outputs": [
        {
          "output_type": "stream",
          "name": "stdout",
          "text": [
            "Requirement already satisfied: paddlepaddle in /usr/local/lib/python3.10/dist-packages (2.6.0)\n",
            "Requirement already satisfied: httpx in /usr/local/lib/python3.10/dist-packages (from paddlepaddle) (0.27.0)\n",
            "Requirement already satisfied: numpy>=1.13 in /usr/local/lib/python3.10/dist-packages (from paddlepaddle) (1.25.2)\n",
            "Requirement already satisfied: Pillow in /usr/local/lib/python3.10/dist-packages (from paddlepaddle) (9.4.0)\n",
            "Requirement already satisfied: decorator in /usr/local/lib/python3.10/dist-packages (from paddlepaddle) (4.4.2)\n",
            "Requirement already satisfied: astor in /usr/local/lib/python3.10/dist-packages (from paddlepaddle) (0.8.1)\n",
            "Requirement already satisfied: opt-einsum==3.3.0 in /usr/local/lib/python3.10/dist-packages (from paddlepaddle) (3.3.0)\n",
            "Requirement already satisfied: protobuf>=3.20.2 in /usr/local/lib/python3.10/dist-packages (from paddlepaddle) (3.20.3)\n",
            "Requirement already satisfied: anyio in /usr/local/lib/python3.10/dist-packages (from httpx->paddlepaddle) (3.7.1)\n",
            "Requirement already satisfied: certifi in /usr/local/lib/python3.10/dist-packages (from httpx->paddlepaddle) (2024.2.2)\n",
            "Requirement already satisfied: httpcore==1.* in /usr/local/lib/python3.10/dist-packages (from httpx->paddlepaddle) (1.0.4)\n",
            "Requirement already satisfied: idna in /usr/local/lib/python3.10/dist-packages (from httpx->paddlepaddle) (3.6)\n",
            "Requirement already satisfied: sniffio in /usr/local/lib/python3.10/dist-packages (from httpx->paddlepaddle) (1.3.1)\n",
            "Requirement already satisfied: h11<0.15,>=0.13 in /usr/local/lib/python3.10/dist-packages (from httpcore==1.*->httpx->paddlepaddle) (0.14.0)\n",
            "Requirement already satisfied: exceptiongroup in /usr/local/lib/python3.10/dist-packages (from anyio->httpx->paddlepaddle) (1.2.0)\n"
          ]
        }
      ]
    },
    {
      "cell_type": "code",
      "execution_count": null,
      "metadata": {
        "colab": {
          "base_uri": "https://localhost:8080/"
        },
        "id": "QCXXFDLarpOt",
        "outputId": "b089f5b4-285e-4cb9-bf23-459c83324ffb"
      },
      "outputs": [
        {
          "output_type": "stream",
          "name": "stdout",
          "text": [
            "Tensor(shape=[1, 5, 1, 1], dtype=float32, place=Place(cpu), stop_gradient=False,\n",
            "       [[[[257.51852417 ]],\n",
            "\n",
            "         [[3685.70629883]],\n",
            "\n",
            "         [[289.61648560 ]],\n",
            "\n",
            "         [[5711.54541016]],\n",
            "\n",
            "         [[9093.14843750]]]])\n",
            "[4, 5, 1, 1] [1, 5, 1, 1] [1, 4, 5, 1, 1] Tensor(shape=[1, 4, 5, 1, 1], dtype=float32, place=Place(cpu), stop_gradient=True,\n",
            "       [[[[[-1.]],\n",
            "\n",
            "          [[-1.]],\n",
            "\n",
            "          [[-1.]],\n",
            "\n",
            "          [[-1.]],\n",
            "\n",
            "          [[-1.]]],\n",
            "\n",
            "\n",
            "         [[[-1.]],\n",
            "\n",
            "          [[-1.]],\n",
            "\n",
            "          [[-1.]],\n",
            "\n",
            "          [[-1.]],\n",
            "\n",
            "          [[-1.]]],\n",
            "\n",
            "\n",
            "         [[[-1.]],\n",
            "\n",
            "          [[-1.]],\n",
            "\n",
            "          [[-1.]],\n",
            "\n",
            "          [[-1.]],\n",
            "\n",
            "          [[-1.]]],\n",
            "\n",
            "\n",
            "         [[[ 1.]],\n",
            "\n",
            "          [[ 1.]],\n",
            "\n",
            "          [[ 1.]],\n",
            "\n",
            "          [[ 1.]],\n",
            "\n",
            "          [[ 1.]]]]])\n"
          ]
        }
      ],
      "source": [
        "paddle.disable_static()\n",
        "x = paddle.to_tensor([[[[-2.56000000e+02]],\n",
        "                     [[-2.56000000e+02]],\n",
        "                     [[-2.56000000e+02]],\n",
        "                     [[-2.56000000e+02]],\n",
        "                     [[-1.39360240e-01]]],\n",
        "\n",
        "                    [[[-1.38816263e-01]],\n",
        "                     [[-3.42670618e+03]],\n",
        "                     [[-3.22831575e+01]],\n",
        "                     [[-5.45454544e+03]],\n",
        "                     [[-1.10000000e+00]]],\n",
        "\n",
        "                    [[[-1.10000000e+00]],\n",
        "                     [[-2.00001000e+00]],\n",
        "                     [[-9.99990000e-01]],\n",
        "                     [[-9.99990000e-01]],\n",
        "                     [[-9.99990000e-01]]],\n",
        "\n",
        "                    [[[ 2.79699967e-01]],\n",
        "                     [[ 1.00000000e+00]],\n",
        "                     [[ 3.33333333e-01]],\n",
        "                     [[ 1.00000000e-04]],\n",
        "                     [[ 9.09090909e+03]]]])\n",
        "x.stop_gradient = False\n",
        "axis = [0, 2]\n",
        "keepdims = True\n",
        "y = paddle.max(\n",
        "            paddle.sum(paddle.abs(x), axis=axis[0], keepdim=True),\n",
        "            axis=axis,\n",
        "            keepdim=keepdims,\n",
        "        )\n",
        "y.stop_gradient = False\n",
        "z = paddle.grad(y, x)\n",
        "z = paddle.to_tensor(z)\n",
        "print(y)\n",
        "print(x.shape, y.shape, z.shape, z)"
      ]
    },
    {
      "cell_type": "code",
      "source": [
        "paddle.disable_static()\n",
        "x = paddle.to_tensor([[[[-2.56000000e+02]],\n",
        "                     [[-2.56000000e+02]],\n",
        "                     [[-2.56000000e+02]],\n",
        "                     [[-2.56000000e+02]],\n",
        "                     [[-1.39360240e-01]]],\n",
        "\n",
        "                    [[[-1.38816263e-01]],\n",
        "                     [[-3.42670618e+03]],\n",
        "                     [[-3.22831575e+01]],\n",
        "                     [[-5.45454544e+03]],\n",
        "                     [[-1.10000000e+00]]],\n",
        "\n",
        "                    [[[-1.10000000e+00]],\n",
        "                     [[-2.00001000e+00]],\n",
        "                     [[-9.99990000e-01]],\n",
        "                     [[-9.99990000e-01]],\n",
        "                     [[-9.99990000e-01]]],\n",
        "\n",
        "                    [[[ 2.79699967e-01]],\n",
        "                     [[ 1.00000000e+00]],\n",
        "                     [[ 3.33333333e-01]],\n",
        "                     [[ 1.00000000e-04]],\n",
        "                     [[ 9.09090909e+03]]]])\n",
        "x.stop_gradient = False\n",
        "axis = [0, 2]\n",
        "keepdims = False\n",
        "y = paddle.max(\n",
        "            paddle.sum(paddle.abs(x), axis=axis[0], keepdim=True),\n",
        "            axis=axis,\n",
        "            keepdim=keepdims,\n",
        "        )\n",
        "y.stop_gradient = False\n",
        "z = paddle.grad(y, x)\n",
        "z = paddle.to_tensor(z)\n",
        "print(x.shape, y.shape, z.shape, z)\n",
        "print()\n",
        "print(paddle.sum(paddle.abs(x), axis=axis[0], keepdim=True))"
      ],
      "metadata": {
        "colab": {
          "base_uri": "https://localhost:8080/"
        },
        "id": "952woevjr-TH",
        "outputId": "284f1bb3-9a1e-4c48-d579-f8311dfdab0a"
      },
      "execution_count": 117,
      "outputs": [
        {
          "output_type": "stream",
          "name": "stdout",
          "text": [
            "[4, 5, 1, 1] [5, 1] [1, 4, 5, 1, 1] Tensor(shape=[1, 4, 5, 1, 1], dtype=float32, place=Place(cpu), stop_gradient=True,\n",
            "       [[[[[-1.]],\n",
            "\n",
            "          [[-1.]],\n",
            "\n",
            "          [[-1.]],\n",
            "\n",
            "          [[-1.]],\n",
            "\n",
            "          [[-1.]]],\n",
            "\n",
            "\n",
            "         [[[-1.]],\n",
            "\n",
            "          [[-1.]],\n",
            "\n",
            "          [[-1.]],\n",
            "\n",
            "          [[-1.]],\n",
            "\n",
            "          [[-1.]]],\n",
            "\n",
            "\n",
            "         [[[-1.]],\n",
            "\n",
            "          [[-1.]],\n",
            "\n",
            "          [[-1.]],\n",
            "\n",
            "          [[-1.]],\n",
            "\n",
            "          [[-1.]]],\n",
            "\n",
            "\n",
            "         [[[ 1.]],\n",
            "\n",
            "          [[ 1.]],\n",
            "\n",
            "          [[ 1.]],\n",
            "\n",
            "          [[ 1.]],\n",
            "\n",
            "          [[ 1.]]]]])\n",
            "\n",
            "Tensor(shape=[1, 5, 1, 1], dtype=float32, place=Place(cpu), stop_gradient=False,\n",
            "       [[[[257.51852417 ]],\n",
            "\n",
            "         [[3685.70629883]],\n",
            "\n",
            "         [[289.61648560 ]],\n",
            "\n",
            "         [[5711.54541016]],\n",
            "\n",
            "         [[9093.14843750]]]])\n"
          ]
        }
      ]
    },
    {
      "cell_type": "code",
      "source": [
        "x = torch.tensor([[[[-2.56000000e+02]],\n",
        "                     [[-2.56000000e+02]],\n",
        "                     [[-2.56000000e+02]],\n",
        "                     [[-2.56000000e+02]],\n",
        "                     [[-1.39360240e-01]]],\n",
        "\n",
        "                    [[[-1.38816263e-01]],\n",
        "                     [[-3.42670618e+03]],\n",
        "                     [[-3.22831575e+01]],\n",
        "                     [[-5.45454544e+03]],\n",
        "                     [[-1.10000000e+00]]],\n",
        "\n",
        "                    [[[-1.10000000e+00]],\n",
        "                     [[-2.00001000e+00]],\n",
        "                     [[-9.99990000e-01]],\n",
        "                     [[-9.99990000e-01]],\n",
        "                     [[-9.99990000e-01]]],\n",
        "\n",
        "                    [[[ 2.79699967e-01]],\n",
        "                     [[ 1.00000000e+00]],\n",
        "                     [[ 3.33333333e-01]],\n",
        "                     [[ 1.00000000e-04]],\n",
        "                     [[ 9.09090909e+03]]]])\n",
        "v = torch.tensor([[[[-2.56000000e+02]],\n",
        "                     [[-2.56000000e+02]],\n",
        "                     [[-2.56000000e+02]],\n",
        "                     [[-2.56000000e+02]],\n",
        "                     [[-1.39360240e-01]]],\n",
        "\n",
        "                    [[[-1.38816263e-01]],\n",
        "                     [[-3.42670618e+03]],\n",
        "                     [[-3.22831575e+01]],\n",
        "                     [[-5.45454544e+03]],\n",
        "                     [[-1.10000000e+00]]],\n",
        "\n",
        "                    [[[-1.10000000e+00]],\n",
        "                     [[-2.00001000e+00]],\n",
        "                     [[-9.99990000e-01]],\n",
        "                     [[-9.99990000e-01]],\n",
        "                     [[-9.99990000e-01]]],\n",
        "\n",
        "                    [[[ 2.79699967e-01]],\n",
        "                     [[ 1.00000000e+00]],\n",
        "                     [[ 3.33333333e-01]],\n",
        "                     [[ 1.00000000e-04]],\n",
        "                     [[ 9.09090909e+03]]]])\n",
        "v.requires_grad_(True)\n",
        "x.requires_grad_(True)\n",
        "axis = (0, 2)\n",
        "ord = 1\n",
        "keepdims = False\n",
        "y = torch.linalg.matrix_norm(x, dim=axis, keepdims=keepdims, ord=ord)\n",
        "print(y)\n",
        "y.backward(torch.ones_like(y))\n",
        "print(x.grad)\n",
        "z = torch.amax(torch.sum(torch.abs(v), axis=axis[0], keepdim=True), axis=axis, keepdim=keepdims)\n",
        "z.backward(torch.ones_like(z))\n",
        "print(all(v.grad.flatten() == x.grad.flatten()))"
      ],
      "metadata": {
        "colab": {
          "base_uri": "https://localhost:8080/"
        },
        "id": "TwHKuNEjr89G",
        "outputId": "7d8fee16-f9d9-48cb-a180-32544ed83111"
      },
      "execution_count": 113,
      "outputs": [
        {
          "output_type": "stream",
          "name": "stdout",
          "text": [
            "tensor([[ 257.5185],\n",
            "        [3685.7063],\n",
            "        [ 289.6165],\n",
            "        [5711.5454],\n",
            "        [9093.1484]], grad_fn=<AmaxBackward0>)\n",
            "tensor([[[[-1.]],\n",
            "\n",
            "         [[-1.]],\n",
            "\n",
            "         [[-1.]],\n",
            "\n",
            "         [[-1.]],\n",
            "\n",
            "         [[-1.]]],\n",
            "\n",
            "\n",
            "        [[[-1.]],\n",
            "\n",
            "         [[-1.]],\n",
            "\n",
            "         [[-1.]],\n",
            "\n",
            "         [[-1.]],\n",
            "\n",
            "         [[-1.]]],\n",
            "\n",
            "\n",
            "        [[[-1.]],\n",
            "\n",
            "         [[-1.]],\n",
            "\n",
            "         [[-1.]],\n",
            "\n",
            "         [[-1.]],\n",
            "\n",
            "         [[-1.]]],\n",
            "\n",
            "\n",
            "        [[[ 1.]],\n",
            "\n",
            "         [[ 1.]],\n",
            "\n",
            "         [[ 1.]],\n",
            "\n",
            "         [[ 1.]],\n",
            "\n",
            "         [[ 1.]]]])\n",
            "True\n"
          ]
        }
      ]
    },
    {
      "cell_type": "code",
      "source": [
        "x = torch.tensor([[[-1.], [-1.]]])\n",
        "x.requires_grad_(True)\n",
        "axis = (0, 1)\n",
        "ord = -1\n",
        "keepdims = False\n",
        "y = torch.linalg.matrix_norm(x, dim=axis, keepdims=keepdims, ord=ord)\n",
        "print(y)\n",
        "y.backward(torch.ones_like(y))\n",
        "print(x.grad)"
      ],
      "metadata": {
        "colab": {
          "base_uri": "https://localhost:8080/"
        },
        "id": "VHb5OLBusBLN",
        "outputId": "4e663845-eaca-4e5f-ba14-d3f8771f6b7d"
      },
      "execution_count": 121,
      "outputs": [
        {
          "output_type": "stream",
          "name": "stdout",
          "text": [
            "tensor([1.], grad_fn=<AminBackward0>)\n",
            "tensor([[[-0.5000],\n",
            "         [-0.5000]]])\n"
          ]
        }
      ]
    },
    {
      "cell_type": "code",
      "source": [
        "paddle.disable_static()\n",
        "axis = [0, 2]\n",
        "x = paddle.to_tensor([[[-1.], [-1.]]])\n",
        "x.stop_gradient=False\n",
        "x = paddle.moveaxis(x, axis, [-2, -1])\n",
        "ret = paddle.min(paddle.linalg.svd(x)[1], axis=-1, keepdim=False)\n",
        "grad = paddle.grad(ret, x)\n",
        "grad = paddle.to_tensor(grad)\n",
        "print(ret)\n",
        "print(grad)"
      ],
      "metadata": {
        "colab": {
          "base_uri": "https://localhost:8080/"
        },
        "id": "tU7jeIB-tunG",
        "outputId": "922bca4e-85ab-4f3c-f5e6-a7a8ebebc81e"
      },
      "execution_count": 88,
      "outputs": [
        {
          "output_type": "stream",
          "name": "stdout",
          "text": [
            "Tensor(shape=[2], dtype=float32, place=Place(cpu), stop_gradient=False,\n",
            "       [1., 1.])\n",
            "Tensor(shape=[1, 2, 1, 1], dtype=float32, place=Place(cpu), stop_gradient=True,\n",
            "       [[[[-1.]],\n",
            "\n",
            "         [[-1.]]]])\n"
          ]
        }
      ]
    },
    {
      "cell_type": "code",
      "source": [
        "x = torch.tensor([5.])\n",
        "x.requires_grad_(True)\n",
        "y = x**3\n",
        "y.backward(gradient=torch.ones_like(y))\n",
        "print(x.grad)"
      ],
      "metadata": {
        "colab": {
          "base_uri": "https://localhost:8080/"
        },
        "id": "uqQ5uYTdZZxk",
        "outputId": "42bec2e9-5e76-4d71-f637-01a26daf4ef6"
      },
      "execution_count": 108,
      "outputs": [
        {
          "output_type": "stream",
          "name": "stdout",
          "text": [
            "tensor([75.])\n"
          ]
        }
      ]
    },
    {
      "cell_type": "code",
      "source": [
        "paddle.disable_static()\n",
        "x = paddle.to_tensor([[-1.]])\n",
        "x.stop_gradient = False\n",
        "axis = [0, 1]\n",
        "axis_ = [0, 1]\n",
        "print(x.dim())\n",
        "keepdims = False\n",
        "x = paddle.moveaxis(x, axis_, [-2, -1])\n",
        "y = paddle.amin(\n",
        "            paddle.linalg.svd(x)[1],\n",
        "            axis=0,\n",
        "            keepdim=False,\n",
        "        )\n",
        "y.stop_gradient = False\n",
        "z = paddle.grad(y, x)\n",
        "z = paddle.to_tensor(z)\n",
        "print(x.shape, y.shape, z.shape, \"\\n\", z)"
      ],
      "metadata": {
        "id": "j5lii24BsiEX",
        "colab": {
          "base_uri": "https://localhost:8080/"
        },
        "outputId": "6ad2bdfc-b35c-4ff2-a167-e516a55ba213"
      },
      "execution_count": 37,
      "outputs": [
        {
          "output_type": "stream",
          "name": "stdout",
          "text": [
            "2\n",
            "[1, 1] [] [1, 1, 1] \n",
            " Tensor(shape=[1, 1, 1], dtype=float32, place=Place(cpu), stop_gradient=True,\n",
            "       [[[-1.]]])\n"
          ]
        }
      ]
    },
    {
      "cell_type": "code",
      "source": [
        "paddle.disable_static()\n",
        "x = paddle.to_tensor([[[-1.], [-1.]]])\n",
        "x.stop_gradient = False\n",
        "axis = [0, 1]\n",
        "keepdims = False\n",
        "y = paddle.amax(\n",
        "            paddle.sum(paddle.abs(x), axis=axis[0], keepdim=True),\n",
        "            axis=axis,\n",
        "            keepdim=keepdims,\n",
        "        )\n",
        "y.stop_gradient = False\n",
        "z = paddle.grad(y, x)\n",
        "z = paddle.to_tensor(z)\n",
        "print(x.shape, y.shape, z.shape, z)\n",
        "print()\n",
        "print(paddle.sum(paddle.abs(x), axis=axis[0], keepdim=True))"
      ],
      "metadata": {
        "id": "W1npyoxP4X8J",
        "colab": {
          "base_uri": "https://localhost:8080/"
        },
        "outputId": "380d52f5-2d9a-47aa-eff1-40b9d0bcdd02"
      },
      "execution_count": 125,
      "outputs": [
        {
          "output_type": "stream",
          "name": "stdout",
          "text": [
            "[1, 2, 1] [1] [1, 1, 2, 1] Tensor(shape=[1, 1, 2, 1], dtype=float32, place=Place(cpu), stop_gradient=True,\n",
            "       [[[[-0.50000000],\n",
            "          [-0.50000000]]]])\n",
            "\n",
            "Tensor(shape=[1, 2, 1], dtype=float32, place=Place(cpu), stop_gradient=False,\n",
            "       [[[1.],\n",
            "         [1.]]])\n"
          ]
        }
      ]
    },
    {
      "cell_type": "code",
      "source": [
        "paddle.disable_static()\n",
        "axis = [0, 1]\n",
        "x = paddle.to_tensor([[[-1., -1.]]])\n",
        "x.stop_gradient=False\n",
        "x = paddle.moveaxis(x, axis, [-2, -1])\n",
        "ret = paddle.amin(paddle.linalg.svd(x)[1], axis=0,)\n",
        "grad = paddle.grad(ret, x)\n",
        "grad = paddle.to_tensor(grad)\n",
        "print(ret)\n",
        "print(grad)"
      ],
      "metadata": {
        "id": "F8wL-R4wuNoI",
        "colab": {
          "base_uri": "https://localhost:8080/"
        },
        "outputId": "2e16a161-d42d-4b07-ad43-abddd28927c0"
      },
      "execution_count": 35,
      "outputs": [
        {
          "output_type": "stream",
          "name": "stdout",
          "text": [
            "Tensor(shape=[1], dtype=float32, place=Place(cpu), stop_gradient=False,\n",
            "       [1.])\n",
            "Tensor(shape=[1, 2, 1, 1], dtype=float32, place=Place(cpu), stop_gradient=True,\n",
            "       [[[[-0.50000000]],\n",
            "\n",
            "         [[-0.50000000]]]])\n"
          ]
        }
      ]
    },
    {
      "cell_type": "code",
      "source": [],
      "metadata": {
        "id": "JToCLyTBrXX3"
      },
      "execution_count": null,
      "outputs": []
    }
  ]
}