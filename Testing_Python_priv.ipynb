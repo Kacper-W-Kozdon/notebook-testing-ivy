{
  "nbformat": 4,
  "nbformat_minor": 0,
  "metadata": {
    "colab": {
      "provenance": [],
      "authorship_tag": "ABX9TyPMCdy2ANuH7kMXd/9KX/uZ",
      "include_colab_link": true
    },
    "kernelspec": {
      "name": "python3",
      "display_name": "Python 3"
    },
    "language_info": {
      "name": "python"
    }
  },
  "cells": [
    {
      "cell_type": "markdown",
      "metadata": {
        "id": "view-in-github",
        "colab_type": "text"
      },
      "source": [
        "<a href=\"https://colab.research.google.com/github/Kacper-W-Kozdon/notebook-testing-ivy/blob/main/Testing_Python_priv.ipynb\" target=\"_parent\"><img src=\"https://colab.research.google.com/assets/colab-badge.svg\" alt=\"Open In Colab\"/></a>"
      ]
    },
    {
      "cell_type": "code",
      "execution_count": null,
      "metadata": {
        "colab": {
          "base_uri": "https://localhost:8080/"
        },
        "id": "JTV5Cp2PFSjC",
        "outputId": "4b10a42e-4db1-4a72-f87b-3241dd54c96e"
      },
      "outputs": [
        {
          "output_type": "stream",
          "name": "stdout",
          "text": [
            "[[4, 5, 6, 7], [8, 9]]\n"
          ]
        }
      ],
      "source": [
        "lst = [[1, 2, 3],\n",
        "       [4, 5, 6, 7],\n",
        "       [8, 9]]\n",
        "print(lst[1:3][0:2])\n"
      ]
    },
    {
      "cell_type": "code",
      "source": [
        "\n",
        "def wrap(fun):\n",
        "  def wrapper(*args, **kwargs):\n",
        "    print(fun.__doc__)\n",
        "    return fun\n",
        "  return wrapper\n",
        "\n",
        "@wrap\n",
        "def fun():\n",
        "  '''\n",
        "  asdfasdf\n",
        "  '''\n",
        "fun()\n",
        "\n",
        "\n",
        "\n"
      ],
      "metadata": {
        "id": "hfmu8eYnFqaw",
        "colab": {
          "base_uri": "https://localhost:8080/"
        },
        "outputId": "e30dded7-8e30-4328-b7af-5a5cf1987a24"
      },
      "execution_count": null,
      "outputs": [
        {
          "output_type": "stream",
          "name": "stdout",
          "text": [
            "\n",
            "  asdfasdf\n",
            "  \n"
          ]
        },
        {
          "output_type": "execute_result",
          "data": {
            "text/plain": [
              "<function __main__.fun()>"
            ]
          },
          "metadata": {},
          "execution_count": 2
        }
      ]
    },
    {
      "cell_type": "markdown",
      "source": [],
      "metadata": {
        "id": "Q56NAEkVfMiU"
      }
    },
    {
      "cell_type": "code",
      "source": [
        "x = 0\n",
        "a = list([0])\n",
        "\n",
        "\n",
        "def test_fun():\n",
        "  global x\n",
        "  x += 1\n",
        "\n",
        "def test_fun2(x):\n",
        "  x += 1\n",
        "  return x\n",
        "\n",
        "def test_fun3(x = x):\n",
        "  def inside(fun, *args, **kwargs):\n",
        "\n",
        "    return dict(**kwargs)\n",
        "  print(inside(test_fun3))\n",
        "  print()\n",
        "  print(vars())\n",
        "  print(globals())\n",
        "  vars().__setitem__(str(a), list([2]))\n",
        "  print(vars())\n",
        "  x[:] = [1, 2, 3]\n",
        "\n",
        "\n",
        "\n",
        "\n",
        "\n",
        "\n",
        "\n",
        "\n",
        "\n",
        "\n",
        "\n",
        "test_fun()\n",
        "test_fun2(x)\n",
        "test_fun3(x = a)\n",
        "print(x)\n",
        "print(a)\n",
        "\n"
      ],
      "metadata": {
        "id": "3zg8fx56OIrk",
        "colab": {
          "base_uri": "https://localhost:8080/"
        },
        "outputId": "e5a5ff3d-1431-4272-c4f9-418ee3834761"
      },
      "execution_count": null,
      "outputs": [
        {
          "output_type": "stream",
          "name": "stdout",
          "text": [
            "{}\n",
            "\n",
            "{'x': [0], 'inside': <function test_fun3.<locals>.inside at 0x7b1e07b51090>}\n",
            "{'__name__': '__main__', '__doc__': 'Automatically created module for IPython interactive environment', '__package__': None, '__loader__': None, '__spec__': None, '__builtin__': <module 'builtins' (built-in)>, '__builtins__': <module 'builtins' (built-in)>, '_ih': ['', 'lst = [[1, 2, 3],\\n       [4, 5, 6, 7],\\n       [8, 9]]\\nprint(lst[1:3][0:2])', \"def wrap(fun):\\n  def wrapper(*args, **kwargs):\\n    print(fun.__doc__)\\n    return fun\\n  return wrapper\\n\\n@wrap\\ndef fun():\\n  '''\\n  asdfasdf\\n  '''\\nfun()\", 'x = 0\\na = list([0])\\n\\n\\ndef test_fun():\\n  global x\\n  x += 1\\n\\ndef test_fun2(x):\\n  x += 1\\n  return x\\n\\ndef test_fun3(x = x):\\n  def inside(fun, *args, **kwargs):\\n\\n    return dict(**kwargs)\\n  print(inside(test_fun3))\\n  print()\\n  print(vars())\\n  print(globals())\\n  vars().__setitem__(str(a), list([2]))\\n  print(vars())\\n  x[:] = [1, 2, 3]\\n\\n\\n\\n\\n\\n\\n\\n\\n\\n\\n\\ntest_fun()\\ntest_fun2(x)\\ntest_fun3(x = a)\\nprint(x)\\nprint(a)'], '_oh': {2: <function fun at 0x7b1e07b51bd0>}, '_dh': ['/content'], 'In': ['', 'lst = [[1, 2, 3],\\n       [4, 5, 6, 7],\\n       [8, 9]]\\nprint(lst[1:3][0:2])', \"def wrap(fun):\\n  def wrapper(*args, **kwargs):\\n    print(fun.__doc__)\\n    return fun\\n  return wrapper\\n\\n@wrap\\ndef fun():\\n  '''\\n  asdfasdf\\n  '''\\nfun()\", 'x = 0\\na = list([0])\\n\\n\\ndef test_fun():\\n  global x\\n  x += 1\\n\\ndef test_fun2(x):\\n  x += 1\\n  return x\\n\\ndef test_fun3(x = x):\\n  def inside(fun, *args, **kwargs):\\n\\n    return dict(**kwargs)\\n  print(inside(test_fun3))\\n  print()\\n  print(vars())\\n  print(globals())\\n  vars().__setitem__(str(a), list([2]))\\n  print(vars())\\n  x[:] = [1, 2, 3]\\n\\n\\n\\n\\n\\n\\n\\n\\n\\n\\n\\ntest_fun()\\ntest_fun2(x)\\ntest_fun3(x = a)\\nprint(x)\\nprint(a)'], 'Out': {2: <function fun at 0x7b1e07b51bd0>}, 'get_ipython': <bound method InteractiveShell.get_ipython of <google.colab._shell.Shell object at 0x7b1e20eaa5c0>>, 'exit': <IPython.core.autocall.ZMQExitAutocall object at 0x7b1e20eaafb0>, 'quit': <IPython.core.autocall.ZMQExitAutocall object at 0x7b1e20eaafb0>, '_': <function fun at 0x7b1e07b51bd0>, '__': '', '___': '', '_i': \"\\ndef wrap(fun):\\n  def wrapper(*args, **kwargs):\\n    print(fun.__doc__)\\n    return fun\\n  return wrapper\\n\\n@wrap\\ndef fun():\\n  '''\\n  asdfasdf\\n  '''\\nfun()\", '_ii': 'lst = [[1, 2, 3],\\n       [4, 5, 6, 7],\\n       [8, 9]]\\nprint(lst[1:3][0:2])', '_iii': '', '_i1': 'lst = [[1, 2, 3],\\n       [4, 5, 6, 7],\\n       [8, 9]]\\nprint(lst[1:3][0:2])', 'lst': [[1, 2, 3], [4, 5, 6, 7], [8, 9]], '_i2': \"\\ndef wrap(fun):\\n  def wrapper(*args, **kwargs):\\n    print(fun.__doc__)\\n    return fun\\n  return wrapper\\n\\n@wrap\\ndef fun():\\n  '''\\n  asdfasdf\\n  '''\\nfun()\", 'wrap': <function wrap at 0x7b1e07b51c60>, 'fun': <function wrap.<locals>.wrapper at 0x7b1e07b51900>, '_2': <function fun at 0x7b1e07b51bd0>, '_i3': 'x = 0\\na = list([0])\\n\\n\\ndef test_fun():\\n  global x\\n  x += 1\\n\\ndef test_fun2(x):\\n  x += 1\\n  return x\\n\\ndef test_fun3(x = x):\\n  def inside(fun, *args, **kwargs):\\n\\n    return dict(**kwargs)\\n  print(inside(test_fun3))\\n  print()\\n  print(vars())\\n  print(globals())\\n  vars().__setitem__(str(a), list([2]))\\n  print(vars())\\n  x[:] = [1, 2, 3]\\n\\n\\n\\n\\n\\n\\n\\n\\n\\n\\n\\ntest_fun()\\ntest_fun2(x)\\ntest_fun3(x = a)\\nprint(x)\\nprint(a)', 'x': 1, 'a': [0], 'test_fun': <function test_fun at 0x7b1e07b512d0>, 'test_fun2': <function test_fun2 at 0x7b1e07b517e0>, 'test_fun3': <function test_fun3 at 0x7b1e07b51b40>}\n",
            "{'x': [0], 'inside': <function test_fun3.<locals>.inside at 0x7b1e07b51090>, '[0]': [2]}\n",
            "1\n",
            "[1, 2, 3]\n"
          ]
        }
      ]
    },
    {
      "cell_type": "code",
      "source": [
        "\n",
        "test_dict = {\"entry1\": 0, \"entry2\": 2}\n",
        "print(test_dict.get(\"entry1\"))\n",
        "print(test_dict.get(\"entry3\"))"
      ],
      "metadata": {
        "colab": {
          "base_uri": "https://localhost:8080/"
        },
        "id": "hU6jwDAdVzuv",
        "outputId": "f97a6896-b3e5-4455-a0e4-b1c35aaf9c50"
      },
      "execution_count": null,
      "outputs": [
        {
          "output_type": "stream",
          "name": "stdout",
          "text": [
            "0\n",
            "None\n"
          ]
        }
      ]
    },
    {
      "cell_type": "code",
      "source": [
        "import torch\n",
        "import tensorflow as tf"
      ],
      "metadata": {
        "id": "y0RoyeSAWsCX"
      },
      "execution_count": 1,
      "outputs": []
    },
    {
      "cell_type": "code",
      "source": [],
      "metadata": {
        "id": "CSqeGprORcYZ"
      },
      "execution_count": null,
      "outputs": []
    },
    {
      "cell_type": "code",
      "source": [
        "a = torch.tensor([1, 2, 3, 4])\n",
        "b = torch.tensor([[5, 6], [7, 8]])\n",
        "print(a.reshape(b.shape))\n",
        "print(torch.reshape(a, b.shape))"
      ],
      "metadata": {
        "colab": {
          "base_uri": "https://localhost:8080/"
        },
        "id": "bmjJHBqIRdw1",
        "outputId": "6d574a29-2ba6-4a9f-cbe6-bb94d79af8c2"
      },
      "execution_count": null,
      "outputs": [
        {
          "output_type": "stream",
          "name": "stdout",
          "text": [
            "tensor([[1, 2],\n",
            "        [3, 4]])\n",
            "tensor([[1, 2],\n",
            "        [3, 4]])\n"
          ]
        }
      ]
    },
    {
      "cell_type": "code",
      "source": [
        "def gather_old(\n",
        "    params: torch.Tensor,\n",
        "    indices: torch.Tensor,\n",
        "    /,\n",
        "    *,\n",
        "    axis: int = -1,\n",
        "    batch_dims: int = 0,\n",
        "    out: torch.Tensor = None,\n",
        ") -> torch.Tensor:\n",
        "    axis %= len(params.shape)\n",
        "    batch_dims %= len(params.shape)\n",
        "    result = []\n",
        "    if batch_dims == 0:\n",
        "\n",
        "\n",
        "      print(params.shape, indices.shape, params.shape < indices.shape, params.dim(), indices.dim())\n",
        "      dim_diff = params.dim() - indices.dim()\n",
        "      if dim_diff > 0:\n",
        "        params_squeezed = params\n",
        "        for d in range(dim_diff):\n",
        "          params_squeezed.squeeze(-1)\n",
        "        result = torch.take(\n",
        "              params_squeezed, indices.long(), out=None)\n",
        "        print(\"res: \", result)\n",
        "\n",
        "        print(\"shape: \", (params.shape[:axis] + indices.shape[batch_dims:]\n",
        "                                + params.shape[axis + 1 :]))\n",
        "        for d in range(dim_diff):\n",
        "          result = result.expand((params.shape[:axis] + indices.shape[batch_dims:]\n",
        "                                + params.shape[axis + 1 :]))\n",
        "\n",
        "        print(\"reshaped result: \", result)\n",
        "      else:\n",
        "        result = torch.take(\n",
        "              params, indices.long(), out=None)\n",
        "        print(\"else res: \", result)\n",
        "        print(\"shape: \", (params.shape[:axis] + indices.shape[batch_dims:]\n",
        "                                + params.shape[axis + 1 :]))\n",
        "        result = result.reshape((params.shape[:axis] + indices.shape[batch_dims:]\n",
        "                                + params.shape[axis + 1 :])\n",
        "                                )\n",
        "\n",
        "      print([*params.shape[0:batch_dims], *result.shape[1:]], (params.shape[:axis] + indices.shape[batch_dims:]\n",
        "                              + params.shape[axis + 1 :]), result, params.shape, indices.shape, params.shape > indices.shape, params.shape == indices.shape\n",
        "            )\n",
        "\n",
        "    else:\n",
        "        params_slices = torch.unbind(params, axis=0)\n",
        "        indices_slices = torch.unbind(indices, axis=0)\n",
        "        for b in range(batch_dims):\n",
        "            if b == 0:\n",
        "                zip_list = [(p, i) for p, i in zip(params_slices, indices_slices)]\n",
        "            else:\n",
        "                zip_list = [\n",
        "                    (p, i) for z in [zip(p1, i1) for p1, i1 in zip_list] for p, i in z\n",
        "                ]\n",
        "        for z in zip_list:\n",
        "            p, i = z\n",
        "            print(p.shape, i.reshape((-1, )).shape)\n",
        "            r = torch.gather(\n",
        "                p, (axis - batch_dims), torch.reshape(i.long(), (-1, )),\n",
        "                sparse_grad=False, out=None\n",
        "            )\n",
        "\n",
        "            result.append(r)\n",
        "        result = torch.stack(result)\n",
        "        #result = torch.cat(result, dim=0)\n",
        "        print(\"shape: \", (params.shape[:axis] + indices.shape[batch_dims:]\n",
        "                                + params.shape[axis + 1 :]))\n",
        "        result = result.reshape((params.shape[:axis] + indices.shape[batch_dims:]\n",
        "                                + params.shape[axis + 1 :])\n",
        "                                )\n",
        "    return result"
      ],
      "metadata": {
        "id": "WAPPpQnERuzc"
      },
      "execution_count": null,
      "outputs": []
    },
    {
      "cell_type": "code",
      "source": [
        "def gather(\n",
        "    params: torch.Tensor,\n",
        "    indices: torch.Tensor,\n",
        "    /,\n",
        "    *,\n",
        "    axis: int = -1,\n",
        "    batch_dims: int = 0,\n",
        "    out: torch.Tensor = None,\n",
        ") -> torch.Tensor:\n",
        "    axis %= len(params.shape)\n",
        "    axis = abs(len(params.shape) + axis) if axis < 0 else axis\n",
        "    print(f\"AXIS: {axis}\")\n",
        "    batch_dims %= len(params.shape)\n",
        "    result = []\n",
        "\n",
        "    def expand_p_i(params, indices):\n",
        "        ind_dim_helper_table = [1 for dim in list(indices.shape)]\n",
        "        ind_singleton_dims = torch.Size(ind_dim_helper_table)\n",
        "        param_singleton_dims_table = [1 for dim in list(params.shape)]\n",
        "        param_singleton_dims = torch.Size(param_singleton_dims_table)\n",
        "        print(\"INDICES SHAPE: \", indices.shape)\n",
        "        print(\"PARAMS SHAPE: \", params.shape)\n",
        "        print(f\"SINGLETON_DIMS: {param_singleton_dims}, {ind_singleton_dims}\")\n",
        "        print(\"RESHAPE SHAPE: \", param_singleton_dims[:axis]\n",
        "                                     + indices.shape[batch_dims:]\n",
        "                                     + param_singleton_dims[axis + 1:], \"\\n\",\n",
        "                                    params.shape[:axis]\n",
        "                                   + ind_singleton_dims[batch_dims:]\n",
        "                                   + params.shape[axis + 1:])\n",
        "        print(param_singleton_dims[:axis],\n",
        "                                      indices.shape[batch_dims:],\n",
        "                                      param_singleton_dims[axis + 1:], batch_dims)\n",
        "        params_ex = params if (indices.dim() - batch_dims <= 1) else \\\n",
        "                    params.reshape(params.shape[:axis]\n",
        "                                   + ind_singleton_dims[batch_dims:]\n",
        "                                   + params.shape[axis + 1:])\n",
        "        indices_ex = indices if (params.dim() <= 1) else \\\n",
        "                    indices.reshape(param_singleton_dims[:axis]\n",
        "                                     + indices.shape[batch_dims:]\n",
        "                                     + param_singleton_dims[axis + 1:])\n",
        "\n",
        "        print(\"FINAL SHAPE: \", params.shape[:axis]\n",
        "                                         + indices.shape[batch_dims:]\n",
        "                                         + params.shape[axis + 1:], params.shape[axis:] + indices.shape[batch_dims:] + params.shape[axis + 1:] >= params_ex.shape)\n",
        "\n",
        "        if (params.shape[:axis]\n",
        "           + indices.shape[batch_dims:]\n",
        "           + params.shape[axis + 1:]) >= params_ex.shape:\n",
        "            params_ex = params_ex.expand(params.shape[:axis]\n",
        "                                         + indices.shape[batch_dims:]\n",
        "                                         + params.shape[axis + 1:])\n",
        "        if (params.shape[:axis]\n",
        "           + indices.shape[batch_dims:]\n",
        "           + params.shape[axis + 1:]) >= indices_ex.shape:\n",
        "            indices_ex = indices_ex.expand(params.shape[:axis]\n",
        "                                           + indices.shape[batch_dims:]\n",
        "                                           + params.shape[axis + 1:])\n",
        "        print(\"EXPANDED SHAPES: \", params_ex.shape, indices_ex.shape)\n",
        "        return params_ex, indices_ex\n",
        "    if batch_dims == 0:\n",
        "        dim_diff = params.dim() - indices.dim()\n",
        "        if dim_diff != 0:\n",
        "            params_expanded, indices_expanded = expand_p_i(params, indices)\n",
        "            result = torch.gather(\n",
        "                                    params_expanded, axis,\n",
        "                                    indices_expanded.long(),\n",
        "                                    sparse_grad=False, out=out\n",
        "                                 )\n",
        "            return result\n",
        "        else:\n",
        "            params_expanded, indices_expanded = expand_p_i(params, indices)\n",
        "            result = torch.gather(\n",
        "                params_expanded, axis, indices_expanded.long(), sparse_grad=False, out=out)\n",
        "\n",
        "    else:\n",
        "        params_slices = torch.unbind(params, axis=0) if params.dim() > 1 else params\n",
        "        indices_slices = torch.unbind(indices, axis=0) if indices.dim() > 1 else indices\n",
        "        print(f\"SLICES: {params_slices}, {indices_slices}\")\n",
        "        for b in range(batch_dims):\n",
        "            if b == 0:\n",
        "                zip_list = [(p, i) for\n",
        "                            p, i in\n",
        "                            zip(params_slices, indices_slices)\n",
        "                            ]\n",
        "            else:\n",
        "                zip_list = [\n",
        "                           (p, i) for z in [zip(p1, i1) for p1, i1 in zip_list]\n",
        "                           for p, i in z\n",
        "                            ]\n",
        "        for z in zip_list:\n",
        "            p, i = z\n",
        "            dim_diff = p.dim() - i.dim()\n",
        "            p_expanded = p\n",
        "            i_expanded = i\n",
        "            if dim_diff != 0:\n",
        "              p_expanded, i_expanded = expand_p_i(p, i)\n",
        "            print(\"p, i shapes: \", p_expanded.shape, i_expanded.shape)\n",
        "            r = torch.gather(\n",
        "                             p_expanded, (axis - batch_dims),\n",
        "                             i_expanded.long(),\n",
        "                             sparse_grad=False, out=None\n",
        "                            )\n",
        "\n",
        "            result.append(r)\n",
        "        result = torch.stack(result)\n",
        "        result = result.reshape(params.shape[:axis] + max(indices.shape[batch_dims:], torch.Size([1])) + params.shape[axis + 1:])\n",
        "        print(\"FINAL RES SHAPE: \", result.shape, params.shape[:axis], indices.shape[batch_dims:], params.shape[axis + 1:])\n",
        "\n",
        "\n",
        "    return result"
      ],
      "metadata": {
        "id": "qFw57Sz9ptK_"
      },
      "execution_count": 2,
      "outputs": []
    },
    {
      "cell_type": "code",
      "source": [
        "params = torch.tensor([1])\n",
        "\n",
        "indices = torch.tensor([[0], [0]])\n",
        "\n",
        "paramstf = tf.constant([1])\n",
        "\n",
        "indicestf = tf.constant([[0], [0]])\n",
        "\n",
        "axis = -1\n",
        "batch_dims = 0\n",
        "\n",
        "print(params.shape)\n",
        "print(indices.expand((indices.shape[0], params.shape[-1 - axis])))\n",
        "print(params.shape[:axis] , indices.shape[batch_dims:] , params.shape[axis + 1:])\n",
        "print(params.dim(), indices.dim())\n",
        "print(\"tf: \", tf.gather(paramstf, indicestf, axis = axis, batch_dims = batch_dims))\n",
        "print()\n",
        "print()\n",
        "print(\"torch: \", gather(params, indices, axis = axis, batch_dims = batch_dims))\n",
        "tf_tensor = tf.gather(paramstf, indicestf, axis = axis, batch_dims = batch_dims)\n",
        "torch_tensor = gather(params, indices, axis = axis, batch_dims = batch_dims)\n",
        "print(tf_tensor == tf.convert_to_tensor(torch_tensor, dtype = \"int32\"))\n",
        "print(\"torch_to_tf: \", torch_to_tf)\n",
        "print()"
      ],
      "metadata": {
        "id": "LWX8LEzZEdar"
      },
      "execution_count": null,
      "outputs": []
    },
    {
      "cell_type": "code",
      "source": [
        "params = torch.tensor([-1.])\n",
        "\n",
        "indices = torch.tensor([[0, 0, 0],\n",
        "                   [0, 0, 0]])\n",
        "\n",
        "paramstf = tf.constant([-1.])\n",
        "\n",
        "indicestf = tf.constant([[0, 0, 0],\n",
        "                   [0, 0, 0]])\n",
        "\n",
        "axis = 0\n",
        "batch_dims = 0\n",
        "\n",
        "print(\"tf: \", tf.gather(paramstf, indicestf, axis = axis, batch_dims = batch_dims))\n",
        "print()\n",
        "print()\n",
        "print(\"torch: \", gather(params, indices, axis = axis, batch_dims = batch_dims))\n",
        "torch_tensor = tf.gather(paramstf, indicestf, axis = axis, batch_dims = batch_dims)\n",
        "torch_to_tf = tf.convert_to_tensor(torch_tensor)\n",
        "tf_tensor = gather(params, indices, axis = axis, batch_dims = batch_dims)\n",
        "print()\n",
        "print(tf_tensor == torch_to_tf)"
      ],
      "metadata": {
        "colab": {
          "base_uri": "https://localhost:8080/"
        },
        "id": "d-dGjdSpTKBt",
        "outputId": "e100a10b-abb1-48be-d88a-3cc11dce5479"
      },
      "execution_count": 7,
      "outputs": [
        {
          "output_type": "stream",
          "name": "stdout",
          "text": [
            "tf:  tf.Tensor(\n",
            "[[-1. -1. -1.]\n",
            " [-1. -1. -1.]], shape=(2, 3), dtype=float32)\n",
            "\n",
            "\n",
            "AXIS: 0\n",
            "INDICES SHAPE:  torch.Size([2, 3])\n",
            "PARAMS SHAPE:  torch.Size([1])\n",
            "SINGLETON_DIMS: torch.Size([1]), torch.Size([1, 1])\n",
            "RESHAPE SHAPE:  torch.Size([2, 3]) \n",
            " torch.Size([1, 1])\n",
            "torch.Size([]) torch.Size([2, 3]) torch.Size([]) 0\n",
            "FINAL SHAPE:  torch.Size([2, 3]) True\n",
            "EXPANDED SHAPES:  torch.Size([2, 3]) torch.Size([2, 3])\n",
            "torch:  tensor([[-1., -1., -1.],\n",
            "        [-1., -1., -1.]])\n",
            "AXIS: 0\n",
            "INDICES SHAPE:  torch.Size([2, 3])\n",
            "PARAMS SHAPE:  torch.Size([1])\n",
            "SINGLETON_DIMS: torch.Size([1]), torch.Size([1, 1])\n",
            "RESHAPE SHAPE:  torch.Size([2, 3]) \n",
            " torch.Size([1, 1])\n",
            "torch.Size([]) torch.Size([2, 3]) torch.Size([]) 0\n",
            "FINAL SHAPE:  torch.Size([2, 3]) True\n",
            "EXPANDED SHAPES:  torch.Size([2, 3]) torch.Size([2, 3])\n",
            "\n",
            "tf.Tensor(\n",
            "[[ True  True  True]\n",
            " [ True  True  True]], shape=(2, 3), dtype=bool)\n"
          ]
        }
      ]
    },
    {
      "cell_type": "code",
      "source": [
        "params = torch.tensor([0])\n",
        "\n",
        "indices = torch.tensor([0, 0])\n",
        "\n",
        "paramstf = tf.constant([0])\n",
        "\n",
        "indicestf = tf.constant([0, 0])\n",
        "\n",
        "axis = 0\n",
        "batch_dims = 0\n",
        "\n",
        "print(\"tf: \", tf.gather(paramstf, indicestf, axis = axis, batch_dims = batch_dims))\n",
        "print()\n",
        "print()\n",
        "print(\"torch: \", gather(params, indices, axis = axis, batch_dims = batch_dims))\n",
        "tf_tensor = tf.gather(paramstf, indicestf, axis = axis, batch_dims = batch_dims)\n",
        "torch_tensor = gather(params, indices, axis = axis, batch_dims = batch_dims)\n",
        "torch_to_tf = tf.convert_to_tensor(torch_tensor, dtype = \"int32\")\n",
        "print(\"torch_to_tf: \", torch_to_tf)\n",
        "print()\n",
        "print(tf_tensor == torch_to_tf)"
      ],
      "metadata": {
        "colab": {
          "base_uri": "https://localhost:8080/"
        },
        "id": "JRo18trYTVsG",
        "outputId": "f67e5483-e6bf-4c5f-b1fc-03a4d7ec4de7"
      },
      "execution_count": null,
      "outputs": [
        {
          "output_type": "stream",
          "name": "stdout",
          "text": [
            "tf:  tf.Tensor([0 0], shape=(2,), dtype=int32)\n",
            "\n",
            "\n",
            "AXIS: 0\n",
            "INDICES SHAPE:  torch.Size([2])\n",
            "PARAMS SHAPE:  torch.Size([1])\n",
            "SINGLETON_DIMS: torch.Size([1]), torch.Size([1])\n",
            "RESHAPE SHAPE:  torch.Size([2]) \n",
            " torch.Size([1])\n",
            "torch.Size([]) torch.Size([2]) torch.Size([]) 0\n",
            "FINAL SHAPE:  torch.Size([2]) True\n",
            "EXPANDED SHAPES:  torch.Size([2]) torch.Size([2])\n",
            "torch:  tensor([0, 0])\n",
            "AXIS: 0\n",
            "INDICES SHAPE:  torch.Size([2])\n",
            "PARAMS SHAPE:  torch.Size([1])\n",
            "SINGLETON_DIMS: torch.Size([1]), torch.Size([1])\n",
            "RESHAPE SHAPE:  torch.Size([2]) \n",
            " torch.Size([1])\n",
            "torch.Size([]) torch.Size([2]) torch.Size([]) 0\n",
            "FINAL SHAPE:  torch.Size([2]) True\n",
            "EXPANDED SHAPES:  torch.Size([2]) torch.Size([2])\n",
            "torch_to_tf:  tf.Tensor([0 0], shape=(2,), dtype=int32)\n",
            "\n",
            "tf.Tensor([ True  True], shape=(2,), dtype=bool)\n"
          ]
        }
      ]
    },
    {
      "cell_type": "code",
      "source": [
        "params = torch.tensor([-1])\n",
        "\n",
        "indices = torch.tensor([[0]])\n",
        "\n",
        "paramstf = tf.constant([-1])\n",
        "\n",
        "indicestf = tf.constant([[0]])\n",
        "\n",
        "axis = 0\n",
        "batch_dims = 0\n",
        "\n",
        "print(\"tf: \", tf.gather(paramstf, indicestf, axis = axis, batch_dims = batch_dims))\n",
        "print()\n",
        "print()\n",
        "print(\"torch: \", gather(params, indices, axis = axis, batch_dims = batch_dims))\n",
        "tf_tensor = tf.gather(paramstf, indicestf, axis = axis, batch_dims = batch_dims)\n",
        "torch_tensor = gather(params, indices, axis = axis, batch_dims = batch_dims)\n",
        "torch_to_tf = tf.convert_to_tensor(torch_tensor, dtype = \"int32\")\n",
        "print(\"torch_to_tf: \", torch_to_tf)\n",
        "print()\n",
        "print(tf_tensor == torch_to_tf)"
      ],
      "metadata": {
        "colab": {
          "base_uri": "https://localhost:8080/"
        },
        "id": "6U7ApWFeXEw_",
        "outputId": "315b38ac-fb3e-4e60-ba9e-4a1283471fb1"
      },
      "execution_count": null,
      "outputs": [
        {
          "output_type": "stream",
          "name": "stdout",
          "text": [
            "tf:  tf.Tensor([[-1]], shape=(1, 1), dtype=int32)\n",
            "\n",
            "\n",
            "AXIS: 0\n",
            "INDICES SHAPE:  torch.Size([1, 1])\n",
            "PARAMS SHAPE:  torch.Size([1])\n",
            "SINGLETON_DIMS: torch.Size([1]), torch.Size([1, 1])\n",
            "RESHAPE SHAPE:  torch.Size([1, 1]) \n",
            " torch.Size([1, 1])\n",
            "torch.Size([]) torch.Size([1, 1]) torch.Size([]) 0\n",
            "FINAL SHAPE:  torch.Size([1, 1]) True\n",
            "EXPANDED SHAPES:  torch.Size([1, 1]) torch.Size([1, 1])\n",
            "torch:  tensor([[-1]])\n",
            "AXIS: 0\n",
            "INDICES SHAPE:  torch.Size([1, 1])\n",
            "PARAMS SHAPE:  torch.Size([1])\n",
            "SINGLETON_DIMS: torch.Size([1]), torch.Size([1, 1])\n",
            "RESHAPE SHAPE:  torch.Size([1, 1]) \n",
            " torch.Size([1, 1])\n",
            "torch.Size([]) torch.Size([1, 1]) torch.Size([]) 0\n",
            "FINAL SHAPE:  torch.Size([1, 1]) True\n",
            "EXPANDED SHAPES:  torch.Size([1, 1]) torch.Size([1, 1])\n",
            "torch_to_tf:  tf.Tensor([[-1]], shape=(1, 1), dtype=int32)\n",
            "\n",
            "tf.Tensor([[ True]], shape=(1, 1), dtype=bool)\n"
          ]
        }
      ]
    },
    {
      "cell_type": "code",
      "source": [
        "params = torch.tensor([[-1]])\n",
        "\n",
        "indices = torch.tensor([0])\n",
        "\n",
        "paramstf = tf.constant([[-1]])\n",
        "\n",
        "indicestf = tf.constant([0])\n",
        "\n",
        "axis = 0\n",
        "batch_dims = 0\n",
        "\n",
        "print(\"tf: \", tf.gather(paramstf, indicestf, axis = axis, batch_dims = batch_dims))\n",
        "print()\n",
        "print()\n",
        "print(\"torch: \", gather(params, indices, axis = axis, batch_dims = batch_dims))\n",
        "tf_tensor = tf.gather(paramstf, indicestf, axis = axis, batch_dims = batch_dims)\n",
        "torch_tensor = gather(params, indices, axis = axis, batch_dims = batch_dims)\n",
        "torch_to_tf = tf.convert_to_tensor(torch_tensor, dtype = \"int32\")\n",
        "print(\"torch_to_tf: \", torch_to_tf)\n",
        "print()\n",
        "print(tf_tensor == torch_to_tf)"
      ],
      "metadata": {
        "colab": {
          "base_uri": "https://localhost:8080/"
        },
        "id": "YWJuj44IaK3b",
        "outputId": "ebb1f23e-41be-4cd2-9045-08f0a3545b7f"
      },
      "execution_count": null,
      "outputs": [
        {
          "output_type": "stream",
          "name": "stdout",
          "text": [
            "tf:  tf.Tensor([[-1]], shape=(1, 1), dtype=int32)\n",
            "\n",
            "\n",
            "AXIS: 0\n",
            "INDICES SHAPE:  torch.Size([1])\n",
            "PARAMS SHAPE:  torch.Size([1, 1])\n",
            "SINGLETON_DIMS: torch.Size([1, 1]), torch.Size([1])\n",
            "RESHAPE SHAPE:  torch.Size([1, 1]) \n",
            " torch.Size([1, 1])\n",
            "torch.Size([]) torch.Size([1]) torch.Size([1]) 0\n",
            "FINAL SHAPE:  torch.Size([1, 1]) True\n",
            "EXPANDED SHAPES:  torch.Size([1, 1]) torch.Size([1, 1])\n",
            "torch:  tensor([[-1]])\n",
            "AXIS: 0\n",
            "INDICES SHAPE:  torch.Size([1])\n",
            "PARAMS SHAPE:  torch.Size([1, 1])\n",
            "SINGLETON_DIMS: torch.Size([1, 1]), torch.Size([1])\n",
            "RESHAPE SHAPE:  torch.Size([1, 1]) \n",
            " torch.Size([1, 1])\n",
            "torch.Size([]) torch.Size([1]) torch.Size([1]) 0\n",
            "FINAL SHAPE:  torch.Size([1, 1]) True\n",
            "EXPANDED SHAPES:  torch.Size([1, 1]) torch.Size([1, 1])\n",
            "torch_to_tf:  tf.Tensor([[-1]], shape=(1, 1), dtype=int32)\n",
            "\n",
            "tf.Tensor([[ True]], shape=(1, 1), dtype=bool)\n"
          ]
        }
      ]
    },
    {
      "cell_type": "code",
      "source": [
        "params = torch.tensor([0])\n",
        "\n",
        "indices = torch.tensor([0])\n",
        "\n",
        "paramstf = tf.constant([0])\n",
        "\n",
        "indicestf = tf.constant([0])\n",
        "\n",
        "axis = 0\n",
        "batch_dims = 0\n",
        "\n",
        "print(\"tf: \", tf.gather(paramstf, indicestf, axis = axis, batch_dims = batch_dims))\n",
        "print()\n",
        "print()\n",
        "print(\"torch: \", gather(params, indices, axis = axis, batch_dims = batch_dims))\n",
        "tf_tensor = tf.gather(paramstf, indicestf, axis = axis, batch_dims = batch_dims)\n",
        "torch_tensor = gather(params, indices, axis = axis, batch_dims = batch_dims)\n",
        "torch_to_tf = tf.convert_to_tensor(torch_tensor, dtype = \"int32\")\n",
        "print(\"torch_to_tf: \", torch_to_tf)\n",
        "print()\n",
        "print(tf_tensor == torch_to_tf)"
      ],
      "metadata": {
        "colab": {
          "base_uri": "https://localhost:8080/"
        },
        "id": "v1XzxC7_eAcC",
        "outputId": "894b5c99-5912-44ef-c855-0fd5a2210d39"
      },
      "execution_count": null,
      "outputs": [
        {
          "output_type": "stream",
          "name": "stdout",
          "text": [
            "tf:  tf.Tensor([0], shape=(1,), dtype=int32)\n",
            "\n",
            "\n",
            "AXIS: 0\n",
            "INDICES SHAPE:  torch.Size([1])\n",
            "PARAMS SHAPE:  torch.Size([1])\n",
            "SINGLETON_DIMS: torch.Size([1]), torch.Size([1])\n",
            "RESHAPE SHAPE:  torch.Size([1]) \n",
            " torch.Size([1])\n",
            "torch.Size([]) torch.Size([1]) torch.Size([]) 0\n",
            "FINAL SHAPE:  torch.Size([1]) True\n",
            "EXPANDED SHAPES:  torch.Size([1]) torch.Size([1])\n",
            "torch:  tensor([0])\n",
            "AXIS: 0\n",
            "INDICES SHAPE:  torch.Size([1])\n",
            "PARAMS SHAPE:  torch.Size([1])\n",
            "SINGLETON_DIMS: torch.Size([1]), torch.Size([1])\n",
            "RESHAPE SHAPE:  torch.Size([1]) \n",
            " torch.Size([1])\n",
            "torch.Size([]) torch.Size([1]) torch.Size([]) 0\n",
            "FINAL SHAPE:  torch.Size([1]) True\n",
            "EXPANDED SHAPES:  torch.Size([1]) torch.Size([1])\n",
            "torch_to_tf:  tf.Tensor([0], shape=(1,), dtype=int32)\n",
            "\n",
            "tf.Tensor([ True], shape=(1,), dtype=bool)\n"
          ]
        }
      ]
    },
    {
      "cell_type": "code",
      "source": [
        "params = torch.tensor([[0],\n",
        "                 [0]])\n",
        "\n",
        "indices = torch.tensor([0])\n",
        "\n",
        "paramstf = tf.constant([[0],\n",
        "                 [0]])\n",
        "\n",
        "indicestf = tf.constant([0])\n",
        "\n",
        "axis = 1\n",
        "batch_dims = 0\n",
        "\n",
        "\n",
        "print(\"tf: \", tf.gather(paramstf, indicestf, axis = axis, batch_dims = batch_dims))\n",
        "print()\n",
        "print()\n",
        "print(\"torch: \", gather(params, indices, axis = axis, batch_dims = batch_dims))\n",
        "tf_tensor = tf.gather(paramstf, indicestf, axis = axis, batch_dims = batch_dims)\n",
        "torch_tensor = gather(params, indices, axis = axis, batch_dims = batch_dims)\n",
        "torch_to_tf = tf.convert_to_tensor(torch_tensor, dtype = \"int32\")\n",
        "print(\"torch_to_tf: \", torch_to_tf)\n",
        "print()\n",
        "print(tf_tensor == torch_to_tf)"
      ],
      "metadata": {
        "colab": {
          "base_uri": "https://localhost:8080/"
        },
        "id": "RHXhCfN5le44",
        "outputId": "8ca9dc06-442e-4085-8e36-aafa5d62a9f4"
      },
      "execution_count": null,
      "outputs": [
        {
          "output_type": "stream",
          "name": "stdout",
          "text": [
            "tf:  tf.Tensor(\n",
            "[[0]\n",
            " [0]], shape=(2, 1), dtype=int32)\n",
            "\n",
            "\n",
            "AXIS: 1\n",
            "INDICES SHAPE:  torch.Size([1])\n",
            "PARAMS SHAPE:  torch.Size([2, 1])\n",
            "SINGLETON_DIMS: torch.Size([1, 1]), torch.Size([1])\n",
            "RESHAPE SHAPE:  torch.Size([1, 1]) \n",
            " torch.Size([2, 1])\n",
            "torch.Size([1]) torch.Size([1]) torch.Size([]) 0\n",
            "FINAL SHAPE:  torch.Size([2, 1]) False\n",
            "EXPANDED SHAPES:  torch.Size([2, 1]) torch.Size([2, 1])\n",
            "torch:  tensor([[0],\n",
            "        [0]])\n",
            "AXIS: 1\n",
            "INDICES SHAPE:  torch.Size([1])\n",
            "PARAMS SHAPE:  torch.Size([2, 1])\n",
            "SINGLETON_DIMS: torch.Size([1, 1]), torch.Size([1])\n",
            "RESHAPE SHAPE:  torch.Size([1, 1]) \n",
            " torch.Size([2, 1])\n",
            "torch.Size([1]) torch.Size([1]) torch.Size([]) 0\n",
            "FINAL SHAPE:  torch.Size([2, 1]) False\n",
            "EXPANDED SHAPES:  torch.Size([2, 1]) torch.Size([2, 1])\n",
            "torch_to_tf:  tf.Tensor(\n",
            "[[0]\n",
            " [0]], shape=(2, 1), dtype=int32)\n",
            "\n",
            "tf.Tensor(\n",
            "[[ True]\n",
            " [ True]], shape=(2, 1), dtype=bool)\n"
          ]
        }
      ]
    },
    {
      "cell_type": "code",
      "source": [
        "params = torch.tensor([[-13712,  25013, -11631,  -2072,  -7720, -29788, -27294]])\n",
        "\n",
        "indices = torch.tensor([3, 4, 1])\n",
        "\n",
        "paramstf = tf.constant([[-13712,  25013, -11631,  -2072,  -7720, -29788, -27294]])\n",
        "\n",
        "indicestf = tf.constant([3, 4, 1])\n",
        "\n",
        "axis = 1\n",
        "batch_dims = 0\n",
        "\n",
        "print(f\"BATCH DIMS: {batch_dims}\")\n",
        "print(\"tf: \", tf.gather(paramstf, indicestf, axis = axis, batch_dims = batch_dims))\n",
        "print()\n",
        "print()\n",
        "print(\"torch: \", gather(params, indices, axis = axis, batch_dims = batch_dims))\n",
        "tf_tensor = tf.gather(paramstf, indicestf, axis = axis, batch_dims = batch_dims)\n",
        "torch_tensor = gather(params, indices, axis = axis, batch_dims = batch_dims)\n",
        "torch_to_tf = tf.convert_to_tensor(torch_tensor, dtype = \"int32\")\n",
        "print(\"torch_to_tf: \", torch_to_tf)\n",
        "print()\n",
        "print(tf_tensor == torch_to_tf)"
      ],
      "metadata": {
        "colab": {
          "base_uri": "https://localhost:8080/"
        },
        "id": "LtAwBJEnNRZf",
        "outputId": "3b0dc5b2-2813-4b7e-c695-bca93e21e93f"
      },
      "execution_count": null,
      "outputs": [
        {
          "output_type": "stream",
          "name": "stdout",
          "text": [
            "BATCH DIMS: 0\n",
            "tf:  tf.Tensor([[-2072 -7720 25013]], shape=(1, 3), dtype=int32)\n",
            "\n",
            "\n",
            "AXIS: 1\n",
            "INDICES SHAPE:  torch.Size([3])\n",
            "PARAMS SHAPE:  torch.Size([1, 7])\n",
            "SINGLETON_DIMS: torch.Size([1, 1]), torch.Size([1])\n",
            "RESHAPE SHAPE:  torch.Size([1, 3]) \n",
            " torch.Size([1, 1])\n",
            "torch.Size([1]) torch.Size([3]) torch.Size([]) 0\n",
            "FINAL SHAPE:  torch.Size([1, 3]) True\n",
            "EXPANDED SHAPES:  torch.Size([1, 7]) torch.Size([1, 3])\n",
            "torch:  tensor([[-2072, -7720, 25013]])\n",
            "AXIS: 1\n",
            "INDICES SHAPE:  torch.Size([3])\n",
            "PARAMS SHAPE:  torch.Size([1, 7])\n",
            "SINGLETON_DIMS: torch.Size([1, 1]), torch.Size([1])\n",
            "RESHAPE SHAPE:  torch.Size([1, 3]) \n",
            " torch.Size([1, 1])\n",
            "torch.Size([1]) torch.Size([3]) torch.Size([]) 0\n",
            "FINAL SHAPE:  torch.Size([1, 3]) True\n",
            "EXPANDED SHAPES:  torch.Size([1, 7]) torch.Size([1, 3])\n",
            "torch_to_tf:  tf.Tensor([[-2072 -7720 25013]], shape=(1, 3), dtype=int32)\n",
            "\n",
            "tf.Tensor([[ True  True  True]], shape=(1, 3), dtype=bool)\n"
          ]
        }
      ]
    },
    {
      "cell_type": "code",
      "source": [
        "params = torch.tensor([[-1, -1]])\n",
        "\n",
        "indices = torch.tensor([0])\n",
        "\n",
        "paramstf = tf.constant([[-1, -1]])\n",
        "\n",
        "indicestf = tf.constant([0])\n",
        "\n",
        "axis = 0\n",
        "batch_dims = 0\n",
        "\n",
        "\n",
        "\n",
        "print(\"tf: \", tf.gather(paramstf, indicestf, axis = axis, batch_dims = batch_dims))\n",
        "print()\n",
        "print()\n",
        "print(\"torch: \", gather(params, indices, axis = axis, batch_dims = batch_dims))\n",
        "tf_tensor = tf.gather(paramstf, indicestf, axis = axis, batch_dims = batch_dims)\n",
        "torch_tensor = gather(params, indices, axis = axis, batch_dims = batch_dims)\n",
        "torch_to_tf = tf.convert_to_tensor(torch_tensor, dtype = \"int32\")\n",
        "print(\"torch_to_tf: \", torch_to_tf)\n",
        "print()\n",
        "print(tf_tensor == torch_to_tf)"
      ],
      "metadata": {
        "id": "H6S64nm9dCgv",
        "colab": {
          "base_uri": "https://localhost:8080/"
        },
        "outputId": "120209d0-bbd4-4a40-c714-470adad2a88f"
      },
      "execution_count": null,
      "outputs": [
        {
          "output_type": "stream",
          "name": "stdout",
          "text": [
            "tf:  tf.Tensor([[-1 -1]], shape=(1, 2), dtype=int32)\n",
            "\n",
            "\n",
            "AXIS: 0\n",
            "INDICES SHAPE:  torch.Size([1])\n",
            "PARAMS SHAPE:  torch.Size([1, 2])\n",
            "SINGLETON_DIMS: torch.Size([1, 1]), torch.Size([1])\n",
            "RESHAPE SHAPE:  torch.Size([1, 1]) \n",
            " torch.Size([1, 2])\n",
            "torch.Size([]) torch.Size([1]) torch.Size([1]) 0\n",
            "FINAL SHAPE:  torch.Size([1, 2]) True\n",
            "EXPANDED SHAPES:  torch.Size([1, 2]) torch.Size([1, 2])\n",
            "torch:  tensor([[-1, -1]])\n",
            "AXIS: 0\n",
            "INDICES SHAPE:  torch.Size([1])\n",
            "PARAMS SHAPE:  torch.Size([1, 2])\n",
            "SINGLETON_DIMS: torch.Size([1, 1]), torch.Size([1])\n",
            "RESHAPE SHAPE:  torch.Size([1, 1]) \n",
            " torch.Size([1, 2])\n",
            "torch.Size([]) torch.Size([1]) torch.Size([1]) 0\n",
            "FINAL SHAPE:  torch.Size([1, 2]) True\n",
            "EXPANDED SHAPES:  torch.Size([1, 2]) torch.Size([1, 2])\n",
            "torch_to_tf:  tf.Tensor([[-1 -1]], shape=(1, 2), dtype=int32)\n",
            "\n",
            "tf.Tensor([[ True  True]], shape=(1, 2), dtype=bool)\n"
          ]
        }
      ]
    },
    {
      "cell_type": "code",
      "source": [
        "params = torch.tensor([[-1]])\n",
        "\n",
        "indices = torch.tensor([[0]])\n",
        "\n",
        "paramstf = tf.constant([[-1]])\n",
        "\n",
        "indicestf = tf.constant([[0]])\n",
        "\n",
        "axis = 0\n",
        "batch_dims = 0\n",
        "\n",
        "\n",
        "print(\"tf: \", tf.gather(paramstf, indicestf, axis = axis, batch_dims = batch_dims))\n",
        "print()\n",
        "print()\n",
        "print(\"torch: \", gather(params, indices, axis = axis, batch_dims = batch_dims))\n",
        "tf_tensor = tf.gather(paramstf, indicestf, axis = axis, batch_dims = batch_dims)\n",
        "torch_tensor = gather(params, indices, axis = axis, batch_dims = batch_dims)\n",
        "torch_to_tf = tf.convert_to_tensor(torch_tensor, dtype = \"int32\")\n",
        "print(\"torch_to_tf: \", torch_to_tf)\n",
        "print()\n",
        "print(tf_tensor == torch_to_tf)"
      ],
      "metadata": {
        "id": "SNeXmM8fg7CR",
        "colab": {
          "base_uri": "https://localhost:8080/"
        },
        "outputId": "a19ec614-dd30-47d1-f12c-c3e154dd1f0d"
      },
      "execution_count": null,
      "outputs": [
        {
          "output_type": "stream",
          "name": "stdout",
          "text": [
            "tf:  tf.Tensor([[[-1]]], shape=(1, 1, 1), dtype=int32)\n",
            "\n",
            "\n",
            "AXIS: 0\n",
            "INDICES SHAPE:  torch.Size([1, 1])\n",
            "PARAMS SHAPE:  torch.Size([1, 1])\n",
            "SINGLETON_DIMS: torch.Size([1, 1]), torch.Size([1, 1])\n",
            "RESHAPE SHAPE:  torch.Size([1, 1, 1]) \n",
            " torch.Size([1, 1, 1])\n",
            "torch.Size([]) torch.Size([1, 1]) torch.Size([1]) 0\n",
            "FINAL SHAPE:  torch.Size([1, 1, 1]) True\n",
            "EXPANDED SHAPES:  torch.Size([1, 1, 1]) torch.Size([1, 1, 1])\n",
            "torch:  tensor([[[-1]]])\n",
            "AXIS: 0\n",
            "INDICES SHAPE:  torch.Size([1, 1])\n",
            "PARAMS SHAPE:  torch.Size([1, 1])\n",
            "SINGLETON_DIMS: torch.Size([1, 1]), torch.Size([1, 1])\n",
            "RESHAPE SHAPE:  torch.Size([1, 1, 1]) \n",
            " torch.Size([1, 1, 1])\n",
            "torch.Size([]) torch.Size([1, 1]) torch.Size([1]) 0\n",
            "FINAL SHAPE:  torch.Size([1, 1, 1]) True\n",
            "EXPANDED SHAPES:  torch.Size([1, 1, 1]) torch.Size([1, 1, 1])\n",
            "torch_to_tf:  tf.Tensor([[[-1]]], shape=(1, 1, 1), dtype=int32)\n",
            "\n",
            "tf.Tensor([[[ True]]], shape=(1, 1, 1), dtype=bool)\n"
          ]
        }
      ]
    },
    {
      "cell_type": "code",
      "source": [
        "a = torch.tensor([[1]])\n",
        "print(a.reshape((1, 1, 1)))"
      ],
      "metadata": {
        "id": "VHVpu0JWoOea"
      },
      "execution_count": null,
      "outputs": []
    },
    {
      "cell_type": "code",
      "source": [
        "params = torch.tensor([[-1], [-1], [-1]])\n",
        "\n",
        "indices = torch.tensor([1])\n",
        "\n",
        "paramstf = tf.constant([[-1], [-1], [-1]])\n",
        "\n",
        "indicestf = tf.constant([1])\n",
        "\n",
        "axis = 0\n",
        "batch_dims = 0\n",
        "print(indices.unsqueeze(-1).unsqueeze(-1))\n",
        "print(params.squeeze(-1))\n",
        "print(params.dim(), indices.dim())\n",
        "print(\"tf: \", tf.gather(paramstf, indicestf, axis = axis, batch_dims = batch_dims))\n",
        "print()\n",
        "print()\n",
        "print(\"torch: \", gather(params, indices, axis = axis, batch_dims = batch_dims))\n",
        "tf_tensor = tf.gather(paramstf, indicestf, axis = axis, batch_dims = batch_dims)\n",
        "torch_tensor = gather(params, indices, axis = axis, batch_dims = batch_dims)\n",
        "torch_to_tf = tf.convert_to_tensor(torch_tensor, dtype = \"int32\")\n",
        "print(\"torch_to_tf: \", torch_to_tf)\n",
        "print()\n",
        "print(tf_tensor == torch_to_tf)"
      ],
      "metadata": {
        "colab": {
          "base_uri": "https://localhost:8080/"
        },
        "id": "fii13QArv-6Z",
        "outputId": "aefa59bc-f3fa-4d70-e1e3-d5e37b26fbac"
      },
      "execution_count": null,
      "outputs": [
        {
          "output_type": "stream",
          "name": "stdout",
          "text": [
            "tensor([[[1]]])\n",
            "tensor([-1, -1, -1])\n",
            "2 1\n",
            "tf:  tf.Tensor([[-1]], shape=(1, 1), dtype=int32)\n",
            "\n",
            "\n",
            "AXIS: 0\n",
            "INDICES SHAPE:  torch.Size([1])\n",
            "PARAMS SHAPE:  torch.Size([3, 1])\n",
            "SINGLETON_DIMS: torch.Size([1, 1]), torch.Size([1])\n",
            "RESHAPE SHAPE:  torch.Size([1, 1]) \n",
            " torch.Size([1, 1])\n",
            "torch.Size([]) torch.Size([1]) torch.Size([1]) 0\n",
            "FINAL SHAPE:  torch.Size([1, 1]) True\n",
            "EXPANDED SHAPES:  torch.Size([3, 1]) torch.Size([1, 1])\n",
            "torch:  tensor([[-1]])\n",
            "AXIS: 0\n",
            "INDICES SHAPE:  torch.Size([1])\n",
            "PARAMS SHAPE:  torch.Size([3, 1])\n",
            "SINGLETON_DIMS: torch.Size([1, 1]), torch.Size([1])\n",
            "RESHAPE SHAPE:  torch.Size([1, 1]) \n",
            " torch.Size([1, 1])\n",
            "torch.Size([]) torch.Size([1]) torch.Size([1]) 0\n",
            "FINAL SHAPE:  torch.Size([1, 1]) True\n",
            "EXPANDED SHAPES:  torch.Size([3, 1]) torch.Size([1, 1])\n",
            "torch_to_tf:  tf.Tensor([[-1]], shape=(1, 1), dtype=int32)\n",
            "\n",
            "tf.Tensor([[ True]], shape=(1, 1), dtype=bool)\n"
          ]
        }
      ]
    },
    {
      "cell_type": "code",
      "source": [
        "torch.gather(torch.tensor([[-1], [-1], [-1]]), 0, torch.tensor([[1]]))"
      ],
      "metadata": {
        "id": "AEh2tBe22iJB"
      },
      "execution_count": null,
      "outputs": []
    },
    {
      "cell_type": "code",
      "source": [
        "params = torch.tensor([[0], [0], [1]])\n",
        "\n",
        "indices = torch.tensor([0])\n",
        "\n",
        "paramstf = tf.constant([[0], [0], [1]])\n",
        "\n",
        "indicestf = tf.constant([0])\n",
        "\n",
        "axis = 0\n",
        "batch_dims = 1\n",
        "\n",
        "print(params.dim(), indices.dim())\n",
        "print(paramstf.shape[:axis] + indicestf.shape[batch_dims:] + paramstf.shape[axis + 1:])\n",
        "print(params.shape[:axis] + indices.shape[batch_dims:] + params.shape[axis + 1:])\n",
        "\n",
        "print(\"tf: \", tf.gather(paramstf, indicestf, axis = axis, batch_dims = batch_dims))\n",
        "print()\n",
        "print()\n",
        "print(\"torch: \", gather(params, indices, axis = axis, batch_dims = batch_dims))\n",
        "tf_tensor = tf.gather(paramstf, indicestf, axis = axis, batch_dims = batch_dims)\n",
        "torch_tensor = gather(params, indices, axis = axis, batch_dims = batch_dims)\n",
        "torch_to_tf = tf.convert_to_tensor(torch_tensor, dtype = \"int32\")\n",
        "print(\"torch_to_tf: \", torch_to_tf)\n",
        "print()\n",
        "print(tf_tensor == torch_to_tf)"
      ],
      "metadata": {
        "id": "SGNyJUkv3GUW",
        "colab": {
          "base_uri": "https://localhost:8080/"
        },
        "outputId": "d248b0b9-d0e0-4131-8249-de61dc9aaa50"
      },
      "execution_count": null,
      "outputs": [
        {
          "output_type": "stream",
          "name": "stdout",
          "text": [
            "2 1\n",
            "(1,)\n",
            "torch.Size([1])\n",
            "tf:  tf.Tensor([[0]], shape=(1, 1), dtype=int32)\n",
            "\n",
            "\n",
            "AXIS: 0\n",
            "SLICES: (tensor([0]), tensor([0]), tensor([1])), tensor([0])\n",
            "INDICES SHAPE:  torch.Size([])\n",
            "PARAMS SHAPE:  torch.Size([1])\n",
            "SINGLETON_DIMS: torch.Size([1]), torch.Size([])\n",
            "RESHAPE SHAPE:  torch.Size([]) \n",
            " torch.Size([])\n",
            "torch.Size([]) torch.Size([]) torch.Size([]) 1\n",
            "FINAL SHAPE:  torch.Size([]) True\n",
            "EXPANDED SHAPES:  torch.Size([1]) torch.Size([])\n",
            "p, i shapes:  torch.Size([1]) torch.Size([])\n",
            "FINAL RES SHAPE:  torch.Size([1, 1]) torch.Size([]) torch.Size([]) torch.Size([1])\n",
            "torch:  tensor([[0]])\n",
            "AXIS: 0\n",
            "SLICES: (tensor([0]), tensor([0]), tensor([1])), tensor([0])\n",
            "INDICES SHAPE:  torch.Size([])\n",
            "PARAMS SHAPE:  torch.Size([1])\n",
            "SINGLETON_DIMS: torch.Size([1]), torch.Size([])\n",
            "RESHAPE SHAPE:  torch.Size([]) \n",
            " torch.Size([])\n",
            "torch.Size([]) torch.Size([]) torch.Size([]) 1\n",
            "FINAL SHAPE:  torch.Size([]) True\n",
            "EXPANDED SHAPES:  torch.Size([1]) torch.Size([])\n",
            "p, i shapes:  torch.Size([1]) torch.Size([])\n",
            "FINAL RES SHAPE:  torch.Size([1, 1]) torch.Size([]) torch.Size([]) torch.Size([1])\n",
            "torch_to_tf:  tf.Tensor([[0]], shape=(1, 1), dtype=int32)\n",
            "\n",
            "tf.Tensor([[ True]], shape=(1, 1), dtype=bool)\n"
          ]
        }
      ]
    },
    {
      "cell_type": "code",
      "source": [
        "params = torch.tensor([[0], [1]])\n",
        "\n",
        "indices = torch.tensor([[0]])\n",
        "\n",
        "paramstf = tf.constant([[0], [1]])\n",
        "\n",
        "indicestf = tf.constant([[0]])\n",
        "\n",
        "\n",
        "\n",
        "axis = 1\n",
        "batch_dims = 0\n",
        "print(torch.gather(params, axis, indices))\n",
        "print(params.shape)\n",
        "print(indices.expand((indices.shape[0], params.shape[-1 - axis])))\n",
        "print(torch.gather(params, axis, indices))\n",
        "print(params.dim(), indices.dim())\n",
        "print(\"tf: \", tf.gather(paramstf, indicestf, axis = axis, batch_dims = batch_dims))\n",
        "print()\n",
        "print()\n",
        "print(\"torch: \", gather(params, indices, axis = axis, batch_dims = batch_dims))\n",
        "tf_tensor = tf.gather(paramstf, indicestf, axis = axis, batch_dims = batch_dims)\n",
        "torch_tensor = gather(params, indices, axis = axis, batch_dims = batch_dims)\n",
        "torch_to_tf = tf.convert_to_tensor(torch_tensor, dtype = \"int32\")\n",
        "print(\"torch_to_tf: \", torch_to_tf)\n",
        "print()\n",
        "print(tf_tensor == torch_to_tf)"
      ],
      "metadata": {
        "id": "oX8dX48VNUPF",
        "colab": {
          "base_uri": "https://localhost:8080/"
        },
        "outputId": "81834c6a-87e9-4951-b9a0-5011fd8f84f5"
      },
      "execution_count": null,
      "outputs": [
        {
          "output_type": "stream",
          "name": "stdout",
          "text": [
            "tensor([[0]])\n",
            "torch.Size([2, 1])\n",
            "tensor([[0, 0]])\n",
            "tensor([[0]])\n",
            "2 2\n",
            "tf:  tf.Tensor(\n",
            "[[[0]]\n",
            "\n",
            " [[1]]], shape=(2, 1, 1), dtype=int32)\n",
            "\n",
            "\n",
            "AXIS: 1\n",
            "INDICES SHAPE:  torch.Size([1, 1])\n",
            "PARAMS SHAPE:  torch.Size([2, 1])\n",
            "SINGLETON_DIMS: torch.Size([1, 1]), torch.Size([1, 1])\n",
            "RESHAPE SHAPE:  torch.Size([1, 1, 1]) \n",
            " torch.Size([2, 1, 1])\n",
            "torch.Size([1]) torch.Size([1, 1]) torch.Size([]) 0\n",
            "FINAL SHAPE:  torch.Size([2, 1, 1]) False\n",
            "EXPANDED SHAPES:  torch.Size([2, 1, 1]) torch.Size([2, 1, 1])\n",
            "torch:  tensor([[[0]],\n",
            "\n",
            "        [[1]]])\n",
            "AXIS: 1\n",
            "INDICES SHAPE:  torch.Size([1, 1])\n",
            "PARAMS SHAPE:  torch.Size([2, 1])\n",
            "SINGLETON_DIMS: torch.Size([1, 1]), torch.Size([1, 1])\n",
            "RESHAPE SHAPE:  torch.Size([1, 1, 1]) \n",
            " torch.Size([2, 1, 1])\n",
            "torch.Size([1]) torch.Size([1, 1]) torch.Size([]) 0\n",
            "FINAL SHAPE:  torch.Size([2, 1, 1]) False\n",
            "EXPANDED SHAPES:  torch.Size([2, 1, 1]) torch.Size([2, 1, 1])\n",
            "torch_to_tf:  tf.Tensor(\n",
            "[[[0]]\n",
            "\n",
            " [[1]]], shape=(2, 1, 1), dtype=int32)\n",
            "\n",
            "tf.Tensor(\n",
            "[[[ True]]\n",
            "\n",
            " [[ True]]], shape=(2, 1, 1), dtype=bool)\n"
          ]
        }
      ]
    },
    {
      "cell_type": "code",
      "source": [
        "axis = 1\n",
        "batch_dims = 0\n",
        "\n",
        "params = torch.tensor([[[0], [2]]])\n",
        "\n",
        "indices = torch.tensor([[[0], [0]], [[0], [0]]])\n",
        "print(\"xxx: \", params.shape[:2] + indices.shape + params.shape[2 + 1:])\n",
        "#params = params.expand((1, 2, 2))\n",
        "#params = params.unsqueeze(-1).unsqueeze(-1)\n",
        "params = params.expand(params.shape[:axis] + indices.shape + params.shape[axis + 1:])\n",
        "print(\"params shape: \", params.shape)\n",
        "indices = indices.unsqueeze(0).unsqueeze(2)\n",
        "indices = indices.expand(params.shape)\n",
        "\n",
        "paramstf = tf.constant([[[0], [2]]])\n",
        "\n",
        "indicestf = tf.constant([[[0], [0]], [[0], [0]]])\n",
        "print(paramstf.shape, indicestf.shape)\n",
        "\n",
        "print(torch.gather(params, axis, indices))\n",
        "print(tf.gather(paramstf, indicestf, axis, batch_dims = batch_dims))"
      ],
      "metadata": {
        "id": "HbyMAtyBOX4L",
        "colab": {
          "base_uri": "https://localhost:8080/",
          "height": 262
        },
        "outputId": "4560d7e4-a098-47e1-f636-2485886a941f"
      },
      "execution_count": null,
      "outputs": [
        {
          "output_type": "stream",
          "name": "stdout",
          "text": [
            "xxx:  torch.Size([1, 2, 2, 2, 1])\n"
          ]
        },
        {
          "output_type": "error",
          "ename": "RuntimeError",
          "evalue": "ignored",
          "traceback": [
            "\u001b[0;31m---------------------------------------------------------------------------\u001b[0m",
            "\u001b[0;31mRuntimeError\u001b[0m                              Traceback (most recent call last)",
            "\u001b[0;32m<ipython-input-154-926de174abd7>\u001b[0m in \u001b[0;36m<cell line: 10>\u001b[0;34m()\u001b[0m\n\u001b[1;32m      8\u001b[0m \u001b[0;31m#params = params.expand((1, 2, 2))\u001b[0m\u001b[0;34m\u001b[0m\u001b[0;34m\u001b[0m\u001b[0m\n\u001b[1;32m      9\u001b[0m \u001b[0;31m#params = params.unsqueeze(-1).unsqueeze(-1)\u001b[0m\u001b[0;34m\u001b[0m\u001b[0;34m\u001b[0m\u001b[0m\n\u001b[0;32m---> 10\u001b[0;31m \u001b[0mparams\u001b[0m \u001b[0;34m=\u001b[0m \u001b[0mparams\u001b[0m\u001b[0;34m.\u001b[0m\u001b[0mexpand\u001b[0m\u001b[0;34m(\u001b[0m\u001b[0mparams\u001b[0m\u001b[0;34m.\u001b[0m\u001b[0mshape\u001b[0m\u001b[0;34m[\u001b[0m\u001b[0;34m:\u001b[0m\u001b[0maxis\u001b[0m\u001b[0;34m]\u001b[0m \u001b[0;34m+\u001b[0m \u001b[0mindices\u001b[0m\u001b[0;34m.\u001b[0m\u001b[0mshape\u001b[0m \u001b[0;34m+\u001b[0m \u001b[0mparams\u001b[0m\u001b[0;34m.\u001b[0m\u001b[0mshape\u001b[0m\u001b[0;34m[\u001b[0m\u001b[0maxis\u001b[0m \u001b[0;34m+\u001b[0m \u001b[0;36m1\u001b[0m\u001b[0;34m:\u001b[0m\u001b[0;34m]\u001b[0m\u001b[0;34m)\u001b[0m\u001b[0;34m\u001b[0m\u001b[0;34m\u001b[0m\u001b[0m\n\u001b[0m\u001b[1;32m     11\u001b[0m \u001b[0mprint\u001b[0m\u001b[0;34m(\u001b[0m\u001b[0;34m\"params shape: \"\u001b[0m\u001b[0;34m,\u001b[0m \u001b[0mparams\u001b[0m\u001b[0;34m.\u001b[0m\u001b[0mshape\u001b[0m\u001b[0;34m)\u001b[0m\u001b[0;34m\u001b[0m\u001b[0;34m\u001b[0m\u001b[0m\n\u001b[1;32m     12\u001b[0m \u001b[0mindices\u001b[0m \u001b[0;34m=\u001b[0m \u001b[0mindices\u001b[0m\u001b[0;34m.\u001b[0m\u001b[0munsqueeze\u001b[0m\u001b[0;34m(\u001b[0m\u001b[0;36m0\u001b[0m\u001b[0;34m)\u001b[0m\u001b[0;34m.\u001b[0m\u001b[0munsqueeze\u001b[0m\u001b[0;34m(\u001b[0m\u001b[0;36m2\u001b[0m\u001b[0;34m)\u001b[0m\u001b[0;34m\u001b[0m\u001b[0;34m\u001b[0m\u001b[0m\n",
            "\u001b[0;31mRuntimeError\u001b[0m: The expanded size of the tensor (1) must match the existing size (2) at non-singleton dimension 3.  Target sizes: [1, 2, 2, 1, 1].  Tensor sizes: [1, 2, 1]"
          ]
        }
      ]
    },
    {
      "cell_type": "code",
      "source": [
        "a = torch.tensor([[1, 2]])\n",
        "a.shape\n",
        "a0 = a.expand((3, 3, 2))\n",
        "a = a0.reshape((3, 3, 1, 2))\n",
        "a = a.expand((3, 3, 2, 2))\n",
        "ai0 = torch.ones((3, 2))\n",
        "ai = ai0.reshape((1, 3, 2, 1))\n",
        "ai = ai.expand((3, 3, 2, 2))\n",
        "\n",
        "b = [1 for dim in list(a.shape)]\n",
        "c = torch.Size(b)\n",
        "d = torch.ones(c)\n",
        "\n",
        "restorch = torch.gather(a, 1, ai.long())\n",
        "torch_to_tf_a = tf.convert_to_tensor(a0, dtype = \"int32\")\n",
        "torch_to_tf_ai = tf.convert_to_tensor(ai0, dtype = \"int32\")\n",
        "print(torch_to_tf_a.shape, torch_to_tf_ai.shape)\n",
        "restf = tf.gather(torch_to_tf_a, torch_to_tf_ai, axis = 1, batch_dims = 0)\n",
        "print(restf)\n",
        "print()\n",
        "print(restorch.shape)\n",
        "restf == tf.convert_to_tensor(restorch, dtype = \"int32\")\n"
      ],
      "metadata": {
        "id": "-ofcesGfdRMd",
        "colab": {
          "base_uri": "https://localhost:8080/"
        },
        "outputId": "c3afe9de-5538-423c-b247-54ffcd40758a"
      },
      "execution_count": null,
      "outputs": [
        {
          "output_type": "stream",
          "name": "stdout",
          "text": [
            "(3, 3, 2) (3, 2)\n",
            "tf.Tensor(\n",
            "[[[[1 2]\n",
            "   [1 2]]\n",
            "\n",
            "  [[1 2]\n",
            "   [1 2]]\n",
            "\n",
            "  [[1 2]\n",
            "   [1 2]]]\n",
            "\n",
            "\n",
            " [[[1 2]\n",
            "   [1 2]]\n",
            "\n",
            "  [[1 2]\n",
            "   [1 2]]\n",
            "\n",
            "  [[1 2]\n",
            "   [1 2]]]\n",
            "\n",
            "\n",
            " [[[1 2]\n",
            "   [1 2]]\n",
            "\n",
            "  [[1 2]\n",
            "   [1 2]]\n",
            "\n",
            "  [[1 2]\n",
            "   [1 2]]]], shape=(3, 3, 2, 2), dtype=int32)\n",
            "\n",
            "torch.Size([3, 3, 2, 2])\n"
          ]
        },
        {
          "output_type": "execute_result",
          "data": {
            "text/plain": [
              "<tf.Tensor: shape=(3, 3, 2, 2), dtype=bool, numpy=\n",
              "array([[[[ True,  True],\n",
              "         [ True,  True]],\n",
              "\n",
              "        [[ True,  True],\n",
              "         [ True,  True]],\n",
              "\n",
              "        [[ True,  True],\n",
              "         [ True,  True]]],\n",
              "\n",
              "\n",
              "       [[[ True,  True],\n",
              "         [ True,  True]],\n",
              "\n",
              "        [[ True,  True],\n",
              "         [ True,  True]],\n",
              "\n",
              "        [[ True,  True],\n",
              "         [ True,  True]]],\n",
              "\n",
              "\n",
              "       [[[ True,  True],\n",
              "         [ True,  True]],\n",
              "\n",
              "        [[ True,  True],\n",
              "         [ True,  True]],\n",
              "\n",
              "        [[ True,  True],\n",
              "         [ True,  True]]]])>"
            ]
          },
          "metadata": {},
          "execution_count": 155
        }
      ]
    },
    {
      "cell_type": "code",
      "source": [
        "params = torch.tensor([1])\n",
        "\n",
        "indices = torch.tensor([[0], [0]])\n",
        "\n",
        "paramstf = tf.constant([1])\n",
        "\n",
        "indicestf = tf.constant([[0], [0]])\n",
        "\n",
        "axis = -1\n",
        "batch_dims = 0\n",
        "\n",
        "print(params.shape)\n",
        "print(indices.expand((indices.shape[0], params.shape[-1 - axis])))\n",
        "print(params.shape[:axis] , indices.shape[batch_dims:] , params.shape[axis + 1:])\n",
        "print(params.dim(), indices.dim())\n",
        "print(\"tf: \", tf.gather(paramstf, indicestf, axis = axis, batch_dims = batch_dims))\n",
        "print()\n",
        "print()\n",
        "print(\"torch: \", gather(params, indices, axis = axis, batch_dims = batch_dims))\n",
        "tf_tensor = tf.gather(paramstf, indicestf, axis = axis, batch_dims = batch_dims)\n",
        "torch_tensor = gather(params, indices, axis = axis, batch_dims = batch_dims)\n",
        "print(tf_tensor == tf.convert_to_tensor(torch_tensor, dtype = \"int32\"))\n",
        "print(\"torch_to_tf: \", torch_to_tf)\n",
        "print()"
      ],
      "metadata": {
        "id": "ImdDZFpWxmd4",
        "colab": {
          "base_uri": "https://localhost:8080/"
        },
        "outputId": "bea00474-de4c-4272-bca7-c0299763f10b"
      },
      "execution_count": null,
      "outputs": [
        {
          "output_type": "stream",
          "name": "stdout",
          "text": [
            "torch.Size([1])\n",
            "tensor([[0],\n",
            "        [0]])\n",
            "torch.Size([]) torch.Size([2, 1]) torch.Size([1])\n",
            "1 2\n",
            "tf:  tf.Tensor(\n",
            "[[1]\n",
            " [1]], shape=(2, 1), dtype=int32)\n",
            "\n",
            "\n",
            "AXIS: 0\n",
            "INDICES SHAPE:  torch.Size([2, 1])\n",
            "PARAMS SHAPE:  torch.Size([1])\n",
            "SINGLETON_DIMS: torch.Size([1]), torch.Size([1, 1])\n",
            "RESHAPE SHAPE:  torch.Size([2, 1]) \n",
            " torch.Size([1, 1])\n",
            "torch.Size([]) torch.Size([2, 1]) torch.Size([]) 0\n",
            "FINAL SHAPE:  torch.Size([2, 1]) True\n",
            "EXPANDED SHAPES:  torch.Size([2, 1]) torch.Size([2, 1])\n",
            "torch:  tensor([[1],\n",
            "        [1]])\n",
            "AXIS: 0\n",
            "INDICES SHAPE:  torch.Size([2, 1])\n",
            "PARAMS SHAPE:  torch.Size([1])\n",
            "SINGLETON_DIMS: torch.Size([1]), torch.Size([1, 1])\n",
            "RESHAPE SHAPE:  torch.Size([2, 1]) \n",
            " torch.Size([1, 1])\n",
            "torch.Size([]) torch.Size([2, 1]) torch.Size([]) 0\n",
            "FINAL SHAPE:  torch.Size([2, 1]) True\n",
            "EXPANDED SHAPES:  torch.Size([2, 1]) torch.Size([2, 1])\n",
            "tf.Tensor(\n",
            "[[ True]\n",
            " [ True]], shape=(2, 1), dtype=bool)\n",
            "torch_to_tf:  tf.Tensor(\n",
            "[[[0]]\n",
            "\n",
            " [[1]]], shape=(2, 1, 1), dtype=int32)\n",
            "\n"
          ]
        }
      ]
    },
    {
      "cell_type": "code",
      "source": [],
      "metadata": {
        "id": "_cFQLT6pEbBR"
      },
      "execution_count": null,
      "outputs": []
    },
    {
      "cell_type": "code",
      "source": [
        "a = torch.tensor([[[1]]])\n",
        "b = torch.tensor([-1, -1, -1])\n",
        "axis = 0\n",
        "batch_dims = 0\n",
        "print(a.shape, b.shape)\n",
        "print(a.reshape((1, 1, 1, 1)))\n",
        "print(a.shape[:axis], b.shape, a.shape[axis + 1:])\n",
        "\n",
        "a = a.expand((a.shape[:axis] + b.shape + a.shape[axis + 1:]))\n",
        "print(a)"
      ],
      "metadata": {
        "id": "yitiyZxikn2c"
      },
      "execution_count": null,
      "outputs": []
    },
    {
      "cell_type": "markdown",
      "source": [],
      "metadata": {
        "id": "AYuWcIiFjgAG"
      }
    },
    {
      "cell_type": "code",
      "source": [
        "a = torch.tensor([0])\n",
        "print(a.dim())\n",
        "a = torch.tensor([[0]])\n",
        "print(a.dim())"
      ],
      "metadata": {
        "id": "49McLCmcuU8U",
        "colab": {
          "base_uri": "https://localhost:8080/"
        },
        "outputId": "f0c4f0dd-67f9-4679-ab54-5c358e2e51ef"
      },
      "execution_count": null,
      "outputs": [
        {
          "output_type": "stream",
          "name": "stdout",
          "text": [
            "1\n",
            "2\n"
          ]
        }
      ]
    },
    {
      "cell_type": "code",
      "source": [
        "x = torch.randn(3, 4, 1)\n",
        "torch.unflatten(input = x, dim = 1, sizes = (2, 2)).shape"
      ],
      "metadata": {
        "id": "FG7AKnkVeOf_",
        "colab": {
          "base_uri": "https://localhost:8080/"
        },
        "outputId": "d3d4b2ab-ee03-4884-da13-9bb9549e0243"
      },
      "execution_count": null,
      "outputs": [
        {
          "output_type": "execute_result",
          "data": {
            "text/plain": [
              "torch.Size([3, 2, 2, 1])"
            ]
          },
          "metadata": {},
          "execution_count": 3
        }
      ]
    },
    {
      "cell_type": "code",
      "source": [
        "from datetime import datetime\n",
        "datetime.strptime(\"2023-12-30\", '%Y-%m-%d').date().weekday()"
      ],
      "metadata": {
        "id": "fO54THekjXwU",
        "colab": {
          "base_uri": "https://localhost:8080/"
        },
        "outputId": "d40e50b9-d3ad-4274-c498-3c1fe8935279"
      },
      "execution_count": null,
      "outputs": [
        {
          "output_type": "execute_result",
          "data": {
            "text/plain": [
              "5"
            ]
          },
          "metadata": {},
          "execution_count": 9
        }
      ]
    },
    {
      "cell_type": "code",
      "source": [
        "type(tuple([1])) is not tuple"
      ],
      "metadata": {
        "id": "WOrNVLSsxKCg",
        "colab": {
          "base_uri": "https://localhost:8080/"
        },
        "outputId": "d5126d07-28e3-4f28-fa00-918e0d1cc496"
      },
      "execution_count": null,
      "outputs": [
        {
          "output_type": "execute_result",
          "data": {
            "text/plain": [
              "False"
            ]
          },
          "metadata": {},
          "execution_count": 6
        }
      ]
    },
    {
      "cell_type": "code",
      "source": [
        "a = 0\n",
        "x = a if type(a) is not tuple else a[0]\n",
        "print(x)"
      ],
      "metadata": {
        "colab": {
          "base_uri": "https://localhost:8080/"
        },
        "id": "SeYYNErnZQZT",
        "outputId": "ab5e4fb7-45b8-41a0-a73c-41c990a37227"
      },
      "execution_count": null,
      "outputs": [
        {
          "output_type": "stream",
          "name": "stdout",
          "text": [
            "0\n"
          ]
        }
      ]
    },
    {
      "cell_type": "code",
      "source": [
        "import math"
      ],
      "metadata": {
        "id": "6DYOZwzeqN6V"
      },
      "execution_count": null,
      "outputs": []
    },
    {
      "cell_type": "code",
      "source": [
        "def factorization(n):\n",
        "        factors = []\n",
        "\n",
        "        def get_factor(n):\n",
        "            x_fixed = 2\n",
        "            cycle_size = 2\n",
        "            x = 2\n",
        "            factor = 1 if n % 2 else 2\n",
        "\n",
        "            while factor == 1:\n",
        "                for count in range(cycle_size):\n",
        "                    if factor > 1:\n",
        "                        break\n",
        "                    x = (x * x + 1) % n\n",
        "                    factor = math.gcd(x - x_fixed, n)\n",
        "\n",
        "                cycle_size *= 2\n",
        "                x_fixed = x\n",
        "\n",
        "            return factor\n",
        "\n",
        "        while n > 1:\n",
        "            next = get_factor(n)\n",
        "            factors.append(next)\n",
        "            n //= next\n",
        "\n",
        "        return factors"
      ],
      "metadata": {
        "id": "hh8OQLisZo02"
      },
      "execution_count": null,
      "outputs": []
    },
    {
      "cell_type": "code",
      "source": [
        "factorization(3)"
      ],
      "metadata": {
        "colab": {
          "base_uri": "https://localhost:8080/"
        },
        "id": "Ly2-CuSKqO07",
        "outputId": "fb99900d-10fb-4240-cf6d-52e6603feb79"
      },
      "execution_count": null,
      "outputs": [
        {
          "output_type": "execute_result",
          "data": {
            "text/plain": [
              "[3]"
            ]
          },
          "metadata": {},
          "execution_count": 5
        }
      ]
    },
    {
      "cell_type": "code",
      "source": [
        "import torch"
      ],
      "metadata": {
        "id": "TlTQ-YE-sph3"
      },
      "execution_count": null,
      "outputs": []
    },
    {
      "cell_type": "code",
      "source": [
        "a = torch.tensor([[False, False]])\n",
        "a.shape[1]"
      ],
      "metadata": {
        "colab": {
          "base_uri": "https://localhost:8080/"
        },
        "id": "CFzluqHbqQsL",
        "outputId": "355e793f-ff91-4551-9379-b97423dbe10a"
      },
      "execution_count": null,
      "outputs": [
        {
          "output_type": "execute_result",
          "data": {
            "text/plain": [
              "2"
            ]
          },
          "metadata": {},
          "execution_count": 72
        }
      ]
    },
    {
      "cell_type": "code",
      "source": [],
      "metadata": {
        "id": "zmycvDiFse-R"
      },
      "execution_count": null,
      "outputs": []
    }
  ]
}