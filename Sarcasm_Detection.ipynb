{
  "nbformat": 4,
  "nbformat_minor": 0,
  "metadata": {
    "colab": {
      "provenance": [],
      "authorship_tag": "ABX9TyMxmlcNAxeP7kpiJC8MAryu",
      "include_colab_link": true
    },
    "kernelspec": {
      "name": "python3",
      "display_name": "Python 3"
    },
    "language_info": {
      "name": "python"
    }
  },
  "cells": [
    {
      "cell_type": "markdown",
      "metadata": {
        "id": "view-in-github",
        "colab_type": "text"
      },
      "source": [
        "<a href=\"https://colab.research.google.com/github/Kacper-W-Kozdon/notebook-testing-ivy/blob/main/Sarcasm_Detection.ipynb\" target=\"_parent\"><img src=\"https://colab.research.google.com/assets/colab-badge.svg\" alt=\"Open In Colab\"/></a>"
      ]
    },
    {
      "cell_type": "code",
      "execution_count": 4,
      "metadata": {
        "colab": {
          "base_uri": "https://localhost:8080/"
        },
        "id": "qO7x-UtWJG14",
        "outputId": "034f06cd-e76c-4746-c636-973c3079cbc5"
      },
      "outputs": [
        {
          "output_type": "stream",
          "name": "stdout",
          "text": [
            "Cloning into 'demos'...\n",
            "remote: Enumerating objects: 3152, done.\u001b[K\n",
            "remote: Counting objects: 100% (608/608), done.\u001b[K\n",
            "remote: Compressing objects: 100% (229/229), done.\u001b[K\n",
            "remote: Total 3152 (delta 440), reused 421 (delta 348), pack-reused 2544\u001b[K\n",
            "Receiving objects: 100% (3152/3152), 16.26 MiB | 23.29 MiB/s, done.\n",
            "Resolving deltas: 100% (1813/1813), done.\n",
            "fatal: destination path 'ivy' already exists and is not an empty directory.\n"
          ]
        }
      ],
      "source": [
        "!git clone https://github.com/Kacper-W-Kozdon/demos.git\n",
        "!git clone https://github.com/Kacper-W-Kozdon/ivy.git"
      ]
    },
    {
      "cell_type": "code",
      "source": [
        "!pip install -U -q ivy mlflow datasets>=2.14.5 nlp 2>/dev/null\n",
        "import ivy"
      ],
      "metadata": {
        "id": "UNPUacTlJ8M_"
      },
      "execution_count": 2,
      "outputs": []
    },
    {
      "cell_type": "code",
      "source": [
        "# Import necessary libraries\n",
        "import pandas as pd  # For data manipulation and analysis\n",
        "import gc  # For garbage collection to manage memory\n",
        "import re  # For regular expressions\n",
        "import numpy as np  # For numerical operations and arrays\n",
        "\n",
        "import warnings  # For handling warnings\n",
        "warnings.filterwarnings(\"ignore\")  # Ignore warning messages\n",
        "\n",
        "import torch  # PyTorch library for deep learning\n",
        "from transformers import AutoModel, AutoTokenizer  # Transformers library for natural language processing\n",
        "from transformers import TextDataset, LineByLineTextDataset, DataCollatorForLanguageModeling, \\\n",
        "pipeline, Trainer, TrainingArguments, DataCollatorWithPadding  # Transformers components for text processing\n",
        "from transformers import AutoModelForSequenceClassification  # Transformer model for sequence classification\n",
        "\n",
        "from nlp import Dataset  # Import custom 'Dataset' class for natural language processing tasks\n",
        "from imblearn.over_sampling import RandomOverSampler  # For oversampling to handle class imbalance\n",
        "import datasets  # Import datasets library\n",
        "from datasets import Dataset, Image, ClassLabel  # Import custom 'Dataset', 'ClassLabel', and 'Image' classes\n",
        "from transformers import pipeline  # Transformers library for pipelines\n",
        "from bs4 import BeautifulSoup  # For parsing HTML content\n",
        "\n",
        "import matplotlib.pyplot as plt  # For data visualization\n",
        "import itertools  # For working with iterators\n",
        "from sklearn.metrics import (  # Import various metrics from scikit-learn\n",
        "    accuracy_score,  # For calculating accuracy\n",
        "    roc_auc_score,  # For ROC AUC score\n",
        "    confusion_matrix,  # For confusion matrix\n",
        "    classification_report,  # For classification report\n",
        "    f1_score  # For F1 score\n",
        ")\n",
        "\n",
        "from datasets import load_metric  # Import load_metric function to load evaluation metrics\n",
        "\n",
        "from tqdm import tqdm  # For displaying progress bars\n",
        "tqdm.pandas()  # Enable progress bars for pandas operations"
      ],
      "metadata": {
        "id": "CTrf1K9BKZRG"
      },
      "execution_count": 3,
      "outputs": []
    },
    {
      "cell_type": "code",
      "source": [
        "df = pd.read_csv(\"/content/demos/Contributor_demos/Sarcasm Detection/train-balanced-sarcasm.csv\")\n",
        "print(df.head())\n",
        "df = df.drop_duplicates()\n",
        "df = df[~df['comment'].isnull()]\n",
        "df = df[~df['label'].isnull()]"
      ],
      "metadata": {
        "id": "8QqrDqp2Kual"
      },
      "execution_count": null,
      "outputs": []
    }
  ]
}