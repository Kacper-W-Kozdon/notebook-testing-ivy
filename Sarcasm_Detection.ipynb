{
  "nbformat": 4,
  "nbformat_minor": 0,
  "metadata": {
    "colab": {
      "provenance": [],
      "authorship_tag": "ABX9TyNnZjqT8gQjy1Wjct/jhIT3",
      "include_colab_link": true
    },
    "kernelspec": {
      "name": "python3",
      "display_name": "Python 3"
    },
    "language_info": {
      "name": "python"
    },
    "widgets": {
      "application/vnd.jupyter.widget-state+json": {
        "5064ca0710f545c5a1abb9f4c7fe2d05": {
          "model_module": "@jupyter-widgets/controls",
          "model_name": "HBoxModel",
          "model_module_version": "1.5.0",
          "state": {
            "_dom_classes": [],
            "_model_module": "@jupyter-widgets/controls",
            "_model_module_version": "1.5.0",
            "_model_name": "HBoxModel",
            "_view_count": null,
            "_view_module": "@jupyter-widgets/controls",
            "_view_module_version": "1.5.0",
            "_view_name": "HBoxView",
            "box_style": "",
            "children": [
              "IPY_MODEL_b8195a1987714b759e4bb27a717f2e0c",
              "IPY_MODEL_e5320b5c413c465f90034f15a8915a09",
              "IPY_MODEL_bd1904f9ffcd43669f6f0ddb0faf57fd"
            ],
            "layout": "IPY_MODEL_84565e41b05c4e3b84cb8f9c2f08514f"
          }
        },
        "b8195a1987714b759e4bb27a717f2e0c": {
          "model_module": "@jupyter-widgets/controls",
          "model_name": "HTMLModel",
          "model_module_version": "1.5.0",
          "state": {
            "_dom_classes": [],
            "_model_module": "@jupyter-widgets/controls",
            "_model_module_version": "1.5.0",
            "_model_name": "HTMLModel",
            "_view_count": null,
            "_view_module": "@jupyter-widgets/controls",
            "_view_module_version": "1.5.0",
            "_view_name": "HTMLView",
            "description": "",
            "description_tooltip": null,
            "layout": "IPY_MODEL_216a6976dbc14958853703c0deae8fea",
            "placeholder": "​",
            "style": "IPY_MODEL_1f894ef791264dfd8d24220de3ac2867",
            "value": "tokenizer_config.json: 100%"
          }
        },
        "e5320b5c413c465f90034f15a8915a09": {
          "model_module": "@jupyter-widgets/controls",
          "model_name": "FloatProgressModel",
          "model_module_version": "1.5.0",
          "state": {
            "_dom_classes": [],
            "_model_module": "@jupyter-widgets/controls",
            "_model_module_version": "1.5.0",
            "_model_name": "FloatProgressModel",
            "_view_count": null,
            "_view_module": "@jupyter-widgets/controls",
            "_view_module_version": "1.5.0",
            "_view_name": "ProgressView",
            "bar_style": "success",
            "description": "",
            "description_tooltip": null,
            "layout": "IPY_MODEL_8a177c76ea0d48ff8a8daf7bf3639a05",
            "max": 49,
            "min": 0,
            "orientation": "horizontal",
            "style": "IPY_MODEL_6284177c416a42f990a6cfcb0b98a63a",
            "value": 49
          }
        },
        "bd1904f9ffcd43669f6f0ddb0faf57fd": {
          "model_module": "@jupyter-widgets/controls",
          "model_name": "HTMLModel",
          "model_module_version": "1.5.0",
          "state": {
            "_dom_classes": [],
            "_model_module": "@jupyter-widgets/controls",
            "_model_module_version": "1.5.0",
            "_model_name": "HTMLModel",
            "_view_count": null,
            "_view_module": "@jupyter-widgets/controls",
            "_view_module_version": "1.5.0",
            "_view_name": "HTMLView",
            "description": "",
            "description_tooltip": null,
            "layout": "IPY_MODEL_6915298d23484a11a7fac8f126567027",
            "placeholder": "​",
            "style": "IPY_MODEL_fe6ea908587643728b8d5438cc154da6",
            "value": " 49.0/49.0 [00:00&lt;00:00, 2.41kB/s]"
          }
        },
        "84565e41b05c4e3b84cb8f9c2f08514f": {
          "model_module": "@jupyter-widgets/base",
          "model_name": "LayoutModel",
          "model_module_version": "1.2.0",
          "state": {
            "_model_module": "@jupyter-widgets/base",
            "_model_module_version": "1.2.0",
            "_model_name": "LayoutModel",
            "_view_count": null,
            "_view_module": "@jupyter-widgets/base",
            "_view_module_version": "1.2.0",
            "_view_name": "LayoutView",
            "align_content": null,
            "align_items": null,
            "align_self": null,
            "border": null,
            "bottom": null,
            "display": null,
            "flex": null,
            "flex_flow": null,
            "grid_area": null,
            "grid_auto_columns": null,
            "grid_auto_flow": null,
            "grid_auto_rows": null,
            "grid_column": null,
            "grid_gap": null,
            "grid_row": null,
            "grid_template_areas": null,
            "grid_template_columns": null,
            "grid_template_rows": null,
            "height": null,
            "justify_content": null,
            "justify_items": null,
            "left": null,
            "margin": null,
            "max_height": null,
            "max_width": null,
            "min_height": null,
            "min_width": null,
            "object_fit": null,
            "object_position": null,
            "order": null,
            "overflow": null,
            "overflow_x": null,
            "overflow_y": null,
            "padding": null,
            "right": null,
            "top": null,
            "visibility": null,
            "width": null
          }
        },
        "216a6976dbc14958853703c0deae8fea": {
          "model_module": "@jupyter-widgets/base",
          "model_name": "LayoutModel",
          "model_module_version": "1.2.0",
          "state": {
            "_model_module": "@jupyter-widgets/base",
            "_model_module_version": "1.2.0",
            "_model_name": "LayoutModel",
            "_view_count": null,
            "_view_module": "@jupyter-widgets/base",
            "_view_module_version": "1.2.0",
            "_view_name": "LayoutView",
            "align_content": null,
            "align_items": null,
            "align_self": null,
            "border": null,
            "bottom": null,
            "display": null,
            "flex": null,
            "flex_flow": null,
            "grid_area": null,
            "grid_auto_columns": null,
            "grid_auto_flow": null,
            "grid_auto_rows": null,
            "grid_column": null,
            "grid_gap": null,
            "grid_row": null,
            "grid_template_areas": null,
            "grid_template_columns": null,
            "grid_template_rows": null,
            "height": null,
            "justify_content": null,
            "justify_items": null,
            "left": null,
            "margin": null,
            "max_height": null,
            "max_width": null,
            "min_height": null,
            "min_width": null,
            "object_fit": null,
            "object_position": null,
            "order": null,
            "overflow": null,
            "overflow_x": null,
            "overflow_y": null,
            "padding": null,
            "right": null,
            "top": null,
            "visibility": null,
            "width": null
          }
        },
        "1f894ef791264dfd8d24220de3ac2867": {
          "model_module": "@jupyter-widgets/controls",
          "model_name": "DescriptionStyleModel",
          "model_module_version": "1.5.0",
          "state": {
            "_model_module": "@jupyter-widgets/controls",
            "_model_module_version": "1.5.0",
            "_model_name": "DescriptionStyleModel",
            "_view_count": null,
            "_view_module": "@jupyter-widgets/base",
            "_view_module_version": "1.2.0",
            "_view_name": "StyleView",
            "description_width": ""
          }
        },
        "8a177c76ea0d48ff8a8daf7bf3639a05": {
          "model_module": "@jupyter-widgets/base",
          "model_name": "LayoutModel",
          "model_module_version": "1.2.0",
          "state": {
            "_model_module": "@jupyter-widgets/base",
            "_model_module_version": "1.2.0",
            "_model_name": "LayoutModel",
            "_view_count": null,
            "_view_module": "@jupyter-widgets/base",
            "_view_module_version": "1.2.0",
            "_view_name": "LayoutView",
            "align_content": null,
            "align_items": null,
            "align_self": null,
            "border": null,
            "bottom": null,
            "display": null,
            "flex": null,
            "flex_flow": null,
            "grid_area": null,
            "grid_auto_columns": null,
            "grid_auto_flow": null,
            "grid_auto_rows": null,
            "grid_column": null,
            "grid_gap": null,
            "grid_row": null,
            "grid_template_areas": null,
            "grid_template_columns": null,
            "grid_template_rows": null,
            "height": null,
            "justify_content": null,
            "justify_items": null,
            "left": null,
            "margin": null,
            "max_height": null,
            "max_width": null,
            "min_height": null,
            "min_width": null,
            "object_fit": null,
            "object_position": null,
            "order": null,
            "overflow": null,
            "overflow_x": null,
            "overflow_y": null,
            "padding": null,
            "right": null,
            "top": null,
            "visibility": null,
            "width": null
          }
        },
        "6284177c416a42f990a6cfcb0b98a63a": {
          "model_module": "@jupyter-widgets/controls",
          "model_name": "ProgressStyleModel",
          "model_module_version": "1.5.0",
          "state": {
            "_model_module": "@jupyter-widgets/controls",
            "_model_module_version": "1.5.0",
            "_model_name": "ProgressStyleModel",
            "_view_count": null,
            "_view_module": "@jupyter-widgets/base",
            "_view_module_version": "1.2.0",
            "_view_name": "StyleView",
            "bar_color": null,
            "description_width": ""
          }
        },
        "6915298d23484a11a7fac8f126567027": {
          "model_module": "@jupyter-widgets/base",
          "model_name": "LayoutModel",
          "model_module_version": "1.2.0",
          "state": {
            "_model_module": "@jupyter-widgets/base",
            "_model_module_version": "1.2.0",
            "_model_name": "LayoutModel",
            "_view_count": null,
            "_view_module": "@jupyter-widgets/base",
            "_view_module_version": "1.2.0",
            "_view_name": "LayoutView",
            "align_content": null,
            "align_items": null,
            "align_self": null,
            "border": null,
            "bottom": null,
            "display": null,
            "flex": null,
            "flex_flow": null,
            "grid_area": null,
            "grid_auto_columns": null,
            "grid_auto_flow": null,
            "grid_auto_rows": null,
            "grid_column": null,
            "grid_gap": null,
            "grid_row": null,
            "grid_template_areas": null,
            "grid_template_columns": null,
            "grid_template_rows": null,
            "height": null,
            "justify_content": null,
            "justify_items": null,
            "left": null,
            "margin": null,
            "max_height": null,
            "max_width": null,
            "min_height": null,
            "min_width": null,
            "object_fit": null,
            "object_position": null,
            "order": null,
            "overflow": null,
            "overflow_x": null,
            "overflow_y": null,
            "padding": null,
            "right": null,
            "top": null,
            "visibility": null,
            "width": null
          }
        },
        "fe6ea908587643728b8d5438cc154da6": {
          "model_module": "@jupyter-widgets/controls",
          "model_name": "DescriptionStyleModel",
          "model_module_version": "1.5.0",
          "state": {
            "_model_module": "@jupyter-widgets/controls",
            "_model_module_version": "1.5.0",
            "_model_name": "DescriptionStyleModel",
            "_view_count": null,
            "_view_module": "@jupyter-widgets/base",
            "_view_module_version": "1.2.0",
            "_view_name": "StyleView",
            "description_width": ""
          }
        },
        "b07a93c1582e468b9ccba01b53426fd4": {
          "model_module": "@jupyter-widgets/controls",
          "model_name": "HBoxModel",
          "model_module_version": "1.5.0",
          "state": {
            "_dom_classes": [],
            "_model_module": "@jupyter-widgets/controls",
            "_model_module_version": "1.5.0",
            "_model_name": "HBoxModel",
            "_view_count": null,
            "_view_module": "@jupyter-widgets/controls",
            "_view_module_version": "1.5.0",
            "_view_name": "HBoxView",
            "box_style": "",
            "children": [
              "IPY_MODEL_d15e82abe6574ecf8a287bb5e00f410d",
              "IPY_MODEL_7f59c789af6c40569bcc8bc138124c68",
              "IPY_MODEL_db965d84a80e45b08d8fe89a30cdfcbe"
            ],
            "layout": "IPY_MODEL_a5aaff5ee29242b4839289194d54a9ff"
          }
        },
        "d15e82abe6574ecf8a287bb5e00f410d": {
          "model_module": "@jupyter-widgets/controls",
          "model_name": "HTMLModel",
          "model_module_version": "1.5.0",
          "state": {
            "_dom_classes": [],
            "_model_module": "@jupyter-widgets/controls",
            "_model_module_version": "1.5.0",
            "_model_name": "HTMLModel",
            "_view_count": null,
            "_view_module": "@jupyter-widgets/controls",
            "_view_module_version": "1.5.0",
            "_view_name": "HTMLView",
            "description": "",
            "description_tooltip": null,
            "layout": "IPY_MODEL_04091ea5751142908cd3fd83f8762e43",
            "placeholder": "​",
            "style": "IPY_MODEL_aea59310f4264b07b13636b084f1cadb",
            "value": "config.json: 100%"
          }
        },
        "7f59c789af6c40569bcc8bc138124c68": {
          "model_module": "@jupyter-widgets/controls",
          "model_name": "FloatProgressModel",
          "model_module_version": "1.5.0",
          "state": {
            "_dom_classes": [],
            "_model_module": "@jupyter-widgets/controls",
            "_model_module_version": "1.5.0",
            "_model_name": "FloatProgressModel",
            "_view_count": null,
            "_view_module": "@jupyter-widgets/controls",
            "_view_module_version": "1.5.0",
            "_view_name": "ProgressView",
            "bar_style": "success",
            "description": "",
            "description_tooltip": null,
            "layout": "IPY_MODEL_ffe51531d554449a871c686c536d0f38",
            "max": 570,
            "min": 0,
            "orientation": "horizontal",
            "style": "IPY_MODEL_a397636d24e44faeb399142babbff39c",
            "value": 570
          }
        },
        "db965d84a80e45b08d8fe89a30cdfcbe": {
          "model_module": "@jupyter-widgets/controls",
          "model_name": "HTMLModel",
          "model_module_version": "1.5.0",
          "state": {
            "_dom_classes": [],
            "_model_module": "@jupyter-widgets/controls",
            "_model_module_version": "1.5.0",
            "_model_name": "HTMLModel",
            "_view_count": null,
            "_view_module": "@jupyter-widgets/controls",
            "_view_module_version": "1.5.0",
            "_view_name": "HTMLView",
            "description": "",
            "description_tooltip": null,
            "layout": "IPY_MODEL_94bf29ed90da43bcb3edfd509c2aaa7a",
            "placeholder": "​",
            "style": "IPY_MODEL_51509cb644704cbd9ab4cee9efa161a0",
            "value": " 570/570 [00:00&lt;00:00, 32.7kB/s]"
          }
        },
        "a5aaff5ee29242b4839289194d54a9ff": {
          "model_module": "@jupyter-widgets/base",
          "model_name": "LayoutModel",
          "model_module_version": "1.2.0",
          "state": {
            "_model_module": "@jupyter-widgets/base",
            "_model_module_version": "1.2.0",
            "_model_name": "LayoutModel",
            "_view_count": null,
            "_view_module": "@jupyter-widgets/base",
            "_view_module_version": "1.2.0",
            "_view_name": "LayoutView",
            "align_content": null,
            "align_items": null,
            "align_self": null,
            "border": null,
            "bottom": null,
            "display": null,
            "flex": null,
            "flex_flow": null,
            "grid_area": null,
            "grid_auto_columns": null,
            "grid_auto_flow": null,
            "grid_auto_rows": null,
            "grid_column": null,
            "grid_gap": null,
            "grid_row": null,
            "grid_template_areas": null,
            "grid_template_columns": null,
            "grid_template_rows": null,
            "height": null,
            "justify_content": null,
            "justify_items": null,
            "left": null,
            "margin": null,
            "max_height": null,
            "max_width": null,
            "min_height": null,
            "min_width": null,
            "object_fit": null,
            "object_position": null,
            "order": null,
            "overflow": null,
            "overflow_x": null,
            "overflow_y": null,
            "padding": null,
            "right": null,
            "top": null,
            "visibility": null,
            "width": null
          }
        },
        "04091ea5751142908cd3fd83f8762e43": {
          "model_module": "@jupyter-widgets/base",
          "model_name": "LayoutModel",
          "model_module_version": "1.2.0",
          "state": {
            "_model_module": "@jupyter-widgets/base",
            "_model_module_version": "1.2.0",
            "_model_name": "LayoutModel",
            "_view_count": null,
            "_view_module": "@jupyter-widgets/base",
            "_view_module_version": "1.2.0",
            "_view_name": "LayoutView",
            "align_content": null,
            "align_items": null,
            "align_self": null,
            "border": null,
            "bottom": null,
            "display": null,
            "flex": null,
            "flex_flow": null,
            "grid_area": null,
            "grid_auto_columns": null,
            "grid_auto_flow": null,
            "grid_auto_rows": null,
            "grid_column": null,
            "grid_gap": null,
            "grid_row": null,
            "grid_template_areas": null,
            "grid_template_columns": null,
            "grid_template_rows": null,
            "height": null,
            "justify_content": null,
            "justify_items": null,
            "left": null,
            "margin": null,
            "max_height": null,
            "max_width": null,
            "min_height": null,
            "min_width": null,
            "object_fit": null,
            "object_position": null,
            "order": null,
            "overflow": null,
            "overflow_x": null,
            "overflow_y": null,
            "padding": null,
            "right": null,
            "top": null,
            "visibility": null,
            "width": null
          }
        },
        "aea59310f4264b07b13636b084f1cadb": {
          "model_module": "@jupyter-widgets/controls",
          "model_name": "DescriptionStyleModel",
          "model_module_version": "1.5.0",
          "state": {
            "_model_module": "@jupyter-widgets/controls",
            "_model_module_version": "1.5.0",
            "_model_name": "DescriptionStyleModel",
            "_view_count": null,
            "_view_module": "@jupyter-widgets/base",
            "_view_module_version": "1.2.0",
            "_view_name": "StyleView",
            "description_width": ""
          }
        },
        "ffe51531d554449a871c686c536d0f38": {
          "model_module": "@jupyter-widgets/base",
          "model_name": "LayoutModel",
          "model_module_version": "1.2.0",
          "state": {
            "_model_module": "@jupyter-widgets/base",
            "_model_module_version": "1.2.0",
            "_model_name": "LayoutModel",
            "_view_count": null,
            "_view_module": "@jupyter-widgets/base",
            "_view_module_version": "1.2.0",
            "_view_name": "LayoutView",
            "align_content": null,
            "align_items": null,
            "align_self": null,
            "border": null,
            "bottom": null,
            "display": null,
            "flex": null,
            "flex_flow": null,
            "grid_area": null,
            "grid_auto_columns": null,
            "grid_auto_flow": null,
            "grid_auto_rows": null,
            "grid_column": null,
            "grid_gap": null,
            "grid_row": null,
            "grid_template_areas": null,
            "grid_template_columns": null,
            "grid_template_rows": null,
            "height": null,
            "justify_content": null,
            "justify_items": null,
            "left": null,
            "margin": null,
            "max_height": null,
            "max_width": null,
            "min_height": null,
            "min_width": null,
            "object_fit": null,
            "object_position": null,
            "order": null,
            "overflow": null,
            "overflow_x": null,
            "overflow_y": null,
            "padding": null,
            "right": null,
            "top": null,
            "visibility": null,
            "width": null
          }
        },
        "a397636d24e44faeb399142babbff39c": {
          "model_module": "@jupyter-widgets/controls",
          "model_name": "ProgressStyleModel",
          "model_module_version": "1.5.0",
          "state": {
            "_model_module": "@jupyter-widgets/controls",
            "_model_module_version": "1.5.0",
            "_model_name": "ProgressStyleModel",
            "_view_count": null,
            "_view_module": "@jupyter-widgets/base",
            "_view_module_version": "1.2.0",
            "_view_name": "StyleView",
            "bar_color": null,
            "description_width": ""
          }
        },
        "94bf29ed90da43bcb3edfd509c2aaa7a": {
          "model_module": "@jupyter-widgets/base",
          "model_name": "LayoutModel",
          "model_module_version": "1.2.0",
          "state": {
            "_model_module": "@jupyter-widgets/base",
            "_model_module_version": "1.2.0",
            "_model_name": "LayoutModel",
            "_view_count": null,
            "_view_module": "@jupyter-widgets/base",
            "_view_module_version": "1.2.0",
            "_view_name": "LayoutView",
            "align_content": null,
            "align_items": null,
            "align_self": null,
            "border": null,
            "bottom": null,
            "display": null,
            "flex": null,
            "flex_flow": null,
            "grid_area": null,
            "grid_auto_columns": null,
            "grid_auto_flow": null,
            "grid_auto_rows": null,
            "grid_column": null,
            "grid_gap": null,
            "grid_row": null,
            "grid_template_areas": null,
            "grid_template_columns": null,
            "grid_template_rows": null,
            "height": null,
            "justify_content": null,
            "justify_items": null,
            "left": null,
            "margin": null,
            "max_height": null,
            "max_width": null,
            "min_height": null,
            "min_width": null,
            "object_fit": null,
            "object_position": null,
            "order": null,
            "overflow": null,
            "overflow_x": null,
            "overflow_y": null,
            "padding": null,
            "right": null,
            "top": null,
            "visibility": null,
            "width": null
          }
        },
        "51509cb644704cbd9ab4cee9efa161a0": {
          "model_module": "@jupyter-widgets/controls",
          "model_name": "DescriptionStyleModel",
          "model_module_version": "1.5.0",
          "state": {
            "_model_module": "@jupyter-widgets/controls",
            "_model_module_version": "1.5.0",
            "_model_name": "DescriptionStyleModel",
            "_view_count": null,
            "_view_module": "@jupyter-widgets/base",
            "_view_module_version": "1.2.0",
            "_view_name": "StyleView",
            "description_width": ""
          }
        },
        "29e696950a56481f88e92c87e2152c7d": {
          "model_module": "@jupyter-widgets/controls",
          "model_name": "HBoxModel",
          "model_module_version": "1.5.0",
          "state": {
            "_dom_classes": [],
            "_model_module": "@jupyter-widgets/controls",
            "_model_module_version": "1.5.0",
            "_model_name": "HBoxModel",
            "_view_count": null,
            "_view_module": "@jupyter-widgets/controls",
            "_view_module_version": "1.5.0",
            "_view_name": "HBoxView",
            "box_style": "",
            "children": [
              "IPY_MODEL_d7224ed0ce1a46358870136323f9364b",
              "IPY_MODEL_f2cafd2689eb45f9a1ec402d0a7434f5",
              "IPY_MODEL_2952453166df4e509c968b4827d1d50e"
            ],
            "layout": "IPY_MODEL_e3733f5731824fb59988ba6750dc4786"
          }
        },
        "d7224ed0ce1a46358870136323f9364b": {
          "model_module": "@jupyter-widgets/controls",
          "model_name": "HTMLModel",
          "model_module_version": "1.5.0",
          "state": {
            "_dom_classes": [],
            "_model_module": "@jupyter-widgets/controls",
            "_model_module_version": "1.5.0",
            "_model_name": "HTMLModel",
            "_view_count": null,
            "_view_module": "@jupyter-widgets/controls",
            "_view_module_version": "1.5.0",
            "_view_name": "HTMLView",
            "description": "",
            "description_tooltip": null,
            "layout": "IPY_MODEL_ec7d16537ddf4a08b0a11f67fb2a5a90",
            "placeholder": "​",
            "style": "IPY_MODEL_a979f214b4524d57b6b8a5b1071361c2",
            "value": "vocab.txt: 100%"
          }
        },
        "f2cafd2689eb45f9a1ec402d0a7434f5": {
          "model_module": "@jupyter-widgets/controls",
          "model_name": "FloatProgressModel",
          "model_module_version": "1.5.0",
          "state": {
            "_dom_classes": [],
            "_model_module": "@jupyter-widgets/controls",
            "_model_module_version": "1.5.0",
            "_model_name": "FloatProgressModel",
            "_view_count": null,
            "_view_module": "@jupyter-widgets/controls",
            "_view_module_version": "1.5.0",
            "_view_name": "ProgressView",
            "bar_style": "success",
            "description": "",
            "description_tooltip": null,
            "layout": "IPY_MODEL_23418cfb67de477ba2957f1ee2023042",
            "max": 213450,
            "min": 0,
            "orientation": "horizontal",
            "style": "IPY_MODEL_2b166493170a41cca392f534f6927724",
            "value": 213450
          }
        },
        "2952453166df4e509c968b4827d1d50e": {
          "model_module": "@jupyter-widgets/controls",
          "model_name": "HTMLModel",
          "model_module_version": "1.5.0",
          "state": {
            "_dom_classes": [],
            "_model_module": "@jupyter-widgets/controls",
            "_model_module_version": "1.5.0",
            "_model_name": "HTMLModel",
            "_view_count": null,
            "_view_module": "@jupyter-widgets/controls",
            "_view_module_version": "1.5.0",
            "_view_name": "HTMLView",
            "description": "",
            "description_tooltip": null,
            "layout": "IPY_MODEL_a455365031444fa8857fb3d386e4b648",
            "placeholder": "​",
            "style": "IPY_MODEL_5eee59e26318492fb41d1e01736ff8b7",
            "value": " 213k/213k [00:00&lt;00:00, 578kB/s]"
          }
        },
        "e3733f5731824fb59988ba6750dc4786": {
          "model_module": "@jupyter-widgets/base",
          "model_name": "LayoutModel",
          "model_module_version": "1.2.0",
          "state": {
            "_model_module": "@jupyter-widgets/base",
            "_model_module_version": "1.2.0",
            "_model_name": "LayoutModel",
            "_view_count": null,
            "_view_module": "@jupyter-widgets/base",
            "_view_module_version": "1.2.0",
            "_view_name": "LayoutView",
            "align_content": null,
            "align_items": null,
            "align_self": null,
            "border": null,
            "bottom": null,
            "display": null,
            "flex": null,
            "flex_flow": null,
            "grid_area": null,
            "grid_auto_columns": null,
            "grid_auto_flow": null,
            "grid_auto_rows": null,
            "grid_column": null,
            "grid_gap": null,
            "grid_row": null,
            "grid_template_areas": null,
            "grid_template_columns": null,
            "grid_template_rows": null,
            "height": null,
            "justify_content": null,
            "justify_items": null,
            "left": null,
            "margin": null,
            "max_height": null,
            "max_width": null,
            "min_height": null,
            "min_width": null,
            "object_fit": null,
            "object_position": null,
            "order": null,
            "overflow": null,
            "overflow_x": null,
            "overflow_y": null,
            "padding": null,
            "right": null,
            "top": null,
            "visibility": null,
            "width": null
          }
        },
        "ec7d16537ddf4a08b0a11f67fb2a5a90": {
          "model_module": "@jupyter-widgets/base",
          "model_name": "LayoutModel",
          "model_module_version": "1.2.0",
          "state": {
            "_model_module": "@jupyter-widgets/base",
            "_model_module_version": "1.2.0",
            "_model_name": "LayoutModel",
            "_view_count": null,
            "_view_module": "@jupyter-widgets/base",
            "_view_module_version": "1.2.0",
            "_view_name": "LayoutView",
            "align_content": null,
            "align_items": null,
            "align_self": null,
            "border": null,
            "bottom": null,
            "display": null,
            "flex": null,
            "flex_flow": null,
            "grid_area": null,
            "grid_auto_columns": null,
            "grid_auto_flow": null,
            "grid_auto_rows": null,
            "grid_column": null,
            "grid_gap": null,
            "grid_row": null,
            "grid_template_areas": null,
            "grid_template_columns": null,
            "grid_template_rows": null,
            "height": null,
            "justify_content": null,
            "justify_items": null,
            "left": null,
            "margin": null,
            "max_height": null,
            "max_width": null,
            "min_height": null,
            "min_width": null,
            "object_fit": null,
            "object_position": null,
            "order": null,
            "overflow": null,
            "overflow_x": null,
            "overflow_y": null,
            "padding": null,
            "right": null,
            "top": null,
            "visibility": null,
            "width": null
          }
        },
        "a979f214b4524d57b6b8a5b1071361c2": {
          "model_module": "@jupyter-widgets/controls",
          "model_name": "DescriptionStyleModel",
          "model_module_version": "1.5.0",
          "state": {
            "_model_module": "@jupyter-widgets/controls",
            "_model_module_version": "1.5.0",
            "_model_name": "DescriptionStyleModel",
            "_view_count": null,
            "_view_module": "@jupyter-widgets/base",
            "_view_module_version": "1.2.0",
            "_view_name": "StyleView",
            "description_width": ""
          }
        },
        "23418cfb67de477ba2957f1ee2023042": {
          "model_module": "@jupyter-widgets/base",
          "model_name": "LayoutModel",
          "model_module_version": "1.2.0",
          "state": {
            "_model_module": "@jupyter-widgets/base",
            "_model_module_version": "1.2.0",
            "_model_name": "LayoutModel",
            "_view_count": null,
            "_view_module": "@jupyter-widgets/base",
            "_view_module_version": "1.2.0",
            "_view_name": "LayoutView",
            "align_content": null,
            "align_items": null,
            "align_self": null,
            "border": null,
            "bottom": null,
            "display": null,
            "flex": null,
            "flex_flow": null,
            "grid_area": null,
            "grid_auto_columns": null,
            "grid_auto_flow": null,
            "grid_auto_rows": null,
            "grid_column": null,
            "grid_gap": null,
            "grid_row": null,
            "grid_template_areas": null,
            "grid_template_columns": null,
            "grid_template_rows": null,
            "height": null,
            "justify_content": null,
            "justify_items": null,
            "left": null,
            "margin": null,
            "max_height": null,
            "max_width": null,
            "min_height": null,
            "min_width": null,
            "object_fit": null,
            "object_position": null,
            "order": null,
            "overflow": null,
            "overflow_x": null,
            "overflow_y": null,
            "padding": null,
            "right": null,
            "top": null,
            "visibility": null,
            "width": null
          }
        },
        "2b166493170a41cca392f534f6927724": {
          "model_module": "@jupyter-widgets/controls",
          "model_name": "ProgressStyleModel",
          "model_module_version": "1.5.0",
          "state": {
            "_model_module": "@jupyter-widgets/controls",
            "_model_module_version": "1.5.0",
            "_model_name": "ProgressStyleModel",
            "_view_count": null,
            "_view_module": "@jupyter-widgets/base",
            "_view_module_version": "1.2.0",
            "_view_name": "StyleView",
            "bar_color": null,
            "description_width": ""
          }
        },
        "a455365031444fa8857fb3d386e4b648": {
          "model_module": "@jupyter-widgets/base",
          "model_name": "LayoutModel",
          "model_module_version": "1.2.0",
          "state": {
            "_model_module": "@jupyter-widgets/base",
            "_model_module_version": "1.2.0",
            "_model_name": "LayoutModel",
            "_view_count": null,
            "_view_module": "@jupyter-widgets/base",
            "_view_module_version": "1.2.0",
            "_view_name": "LayoutView",
            "align_content": null,
            "align_items": null,
            "align_self": null,
            "border": null,
            "bottom": null,
            "display": null,
            "flex": null,
            "flex_flow": null,
            "grid_area": null,
            "grid_auto_columns": null,
            "grid_auto_flow": null,
            "grid_auto_rows": null,
            "grid_column": null,
            "grid_gap": null,
            "grid_row": null,
            "grid_template_areas": null,
            "grid_template_columns": null,
            "grid_template_rows": null,
            "height": null,
            "justify_content": null,
            "justify_items": null,
            "left": null,
            "margin": null,
            "max_height": null,
            "max_width": null,
            "min_height": null,
            "min_width": null,
            "object_fit": null,
            "object_position": null,
            "order": null,
            "overflow": null,
            "overflow_x": null,
            "overflow_y": null,
            "padding": null,
            "right": null,
            "top": null,
            "visibility": null,
            "width": null
          }
        },
        "5eee59e26318492fb41d1e01736ff8b7": {
          "model_module": "@jupyter-widgets/controls",
          "model_name": "DescriptionStyleModel",
          "model_module_version": "1.5.0",
          "state": {
            "_model_module": "@jupyter-widgets/controls",
            "_model_module_version": "1.5.0",
            "_model_name": "DescriptionStyleModel",
            "_view_count": null,
            "_view_module": "@jupyter-widgets/base",
            "_view_module_version": "1.2.0",
            "_view_name": "StyleView",
            "description_width": ""
          }
        },
        "e4ec148b7ebd41f7a5dc349bdf46fd93": {
          "model_module": "@jupyter-widgets/controls",
          "model_name": "HBoxModel",
          "model_module_version": "1.5.0",
          "state": {
            "_dom_classes": [],
            "_model_module": "@jupyter-widgets/controls",
            "_model_module_version": "1.5.0",
            "_model_name": "HBoxModel",
            "_view_count": null,
            "_view_module": "@jupyter-widgets/controls",
            "_view_module_version": "1.5.0",
            "_view_name": "HBoxView",
            "box_style": "",
            "children": [
              "IPY_MODEL_ddf253641066476aa11694bded67c373",
              "IPY_MODEL_7f67475329a34a389ab24b16224ac324",
              "IPY_MODEL_41afbf93dafb48788a5773b61cabe6eb"
            ],
            "layout": "IPY_MODEL_b1eaff643fcd49f7b695d828cf5cdbc7"
          }
        },
        "ddf253641066476aa11694bded67c373": {
          "model_module": "@jupyter-widgets/controls",
          "model_name": "HTMLModel",
          "model_module_version": "1.5.0",
          "state": {
            "_dom_classes": [],
            "_model_module": "@jupyter-widgets/controls",
            "_model_module_version": "1.5.0",
            "_model_name": "HTMLModel",
            "_view_count": null,
            "_view_module": "@jupyter-widgets/controls",
            "_view_module_version": "1.5.0",
            "_view_name": "HTMLView",
            "description": "",
            "description_tooltip": null,
            "layout": "IPY_MODEL_f779b39a05f74d4d8cfbc188ebc19ba6",
            "placeholder": "​",
            "style": "IPY_MODEL_91253c16b4744b52870461989fc1dde2",
            "value": "tokenizer.json: 100%"
          }
        },
        "7f67475329a34a389ab24b16224ac324": {
          "model_module": "@jupyter-widgets/controls",
          "model_name": "FloatProgressModel",
          "model_module_version": "1.5.0",
          "state": {
            "_dom_classes": [],
            "_model_module": "@jupyter-widgets/controls",
            "_model_module_version": "1.5.0",
            "_model_name": "FloatProgressModel",
            "_view_count": null,
            "_view_module": "@jupyter-widgets/controls",
            "_view_module_version": "1.5.0",
            "_view_name": "ProgressView",
            "bar_style": "success",
            "description": "",
            "description_tooltip": null,
            "layout": "IPY_MODEL_8efb3bc4bc3a47beaebc990e50eaff44",
            "max": 435797,
            "min": 0,
            "orientation": "horizontal",
            "style": "IPY_MODEL_23129f88941a4e6398bed24f4793ed53",
            "value": 435797
          }
        },
        "41afbf93dafb48788a5773b61cabe6eb": {
          "model_module": "@jupyter-widgets/controls",
          "model_name": "HTMLModel",
          "model_module_version": "1.5.0",
          "state": {
            "_dom_classes": [],
            "_model_module": "@jupyter-widgets/controls",
            "_model_module_version": "1.5.0",
            "_model_name": "HTMLModel",
            "_view_count": null,
            "_view_module": "@jupyter-widgets/controls",
            "_view_module_version": "1.5.0",
            "_view_name": "HTMLView",
            "description": "",
            "description_tooltip": null,
            "layout": "IPY_MODEL_0de28a53d9094a56a2d785445ed27fca",
            "placeholder": "​",
            "style": "IPY_MODEL_4ee545bb622f4e85a6987a36b389d296",
            "value": " 436k/436k [00:00&lt;00:00, 780kB/s]"
          }
        },
        "b1eaff643fcd49f7b695d828cf5cdbc7": {
          "model_module": "@jupyter-widgets/base",
          "model_name": "LayoutModel",
          "model_module_version": "1.2.0",
          "state": {
            "_model_module": "@jupyter-widgets/base",
            "_model_module_version": "1.2.0",
            "_model_name": "LayoutModel",
            "_view_count": null,
            "_view_module": "@jupyter-widgets/base",
            "_view_module_version": "1.2.0",
            "_view_name": "LayoutView",
            "align_content": null,
            "align_items": null,
            "align_self": null,
            "border": null,
            "bottom": null,
            "display": null,
            "flex": null,
            "flex_flow": null,
            "grid_area": null,
            "grid_auto_columns": null,
            "grid_auto_flow": null,
            "grid_auto_rows": null,
            "grid_column": null,
            "grid_gap": null,
            "grid_row": null,
            "grid_template_areas": null,
            "grid_template_columns": null,
            "grid_template_rows": null,
            "height": null,
            "justify_content": null,
            "justify_items": null,
            "left": null,
            "margin": null,
            "max_height": null,
            "max_width": null,
            "min_height": null,
            "min_width": null,
            "object_fit": null,
            "object_position": null,
            "order": null,
            "overflow": null,
            "overflow_x": null,
            "overflow_y": null,
            "padding": null,
            "right": null,
            "top": null,
            "visibility": null,
            "width": null
          }
        },
        "f779b39a05f74d4d8cfbc188ebc19ba6": {
          "model_module": "@jupyter-widgets/base",
          "model_name": "LayoutModel",
          "model_module_version": "1.2.0",
          "state": {
            "_model_module": "@jupyter-widgets/base",
            "_model_module_version": "1.2.0",
            "_model_name": "LayoutModel",
            "_view_count": null,
            "_view_module": "@jupyter-widgets/base",
            "_view_module_version": "1.2.0",
            "_view_name": "LayoutView",
            "align_content": null,
            "align_items": null,
            "align_self": null,
            "border": null,
            "bottom": null,
            "display": null,
            "flex": null,
            "flex_flow": null,
            "grid_area": null,
            "grid_auto_columns": null,
            "grid_auto_flow": null,
            "grid_auto_rows": null,
            "grid_column": null,
            "grid_gap": null,
            "grid_row": null,
            "grid_template_areas": null,
            "grid_template_columns": null,
            "grid_template_rows": null,
            "height": null,
            "justify_content": null,
            "justify_items": null,
            "left": null,
            "margin": null,
            "max_height": null,
            "max_width": null,
            "min_height": null,
            "min_width": null,
            "object_fit": null,
            "object_position": null,
            "order": null,
            "overflow": null,
            "overflow_x": null,
            "overflow_y": null,
            "padding": null,
            "right": null,
            "top": null,
            "visibility": null,
            "width": null
          }
        },
        "91253c16b4744b52870461989fc1dde2": {
          "model_module": "@jupyter-widgets/controls",
          "model_name": "DescriptionStyleModel",
          "model_module_version": "1.5.0",
          "state": {
            "_model_module": "@jupyter-widgets/controls",
            "_model_module_version": "1.5.0",
            "_model_name": "DescriptionStyleModel",
            "_view_count": null,
            "_view_module": "@jupyter-widgets/base",
            "_view_module_version": "1.2.0",
            "_view_name": "StyleView",
            "description_width": ""
          }
        },
        "8efb3bc4bc3a47beaebc990e50eaff44": {
          "model_module": "@jupyter-widgets/base",
          "model_name": "LayoutModel",
          "model_module_version": "1.2.0",
          "state": {
            "_model_module": "@jupyter-widgets/base",
            "_model_module_version": "1.2.0",
            "_model_name": "LayoutModel",
            "_view_count": null,
            "_view_module": "@jupyter-widgets/base",
            "_view_module_version": "1.2.0",
            "_view_name": "LayoutView",
            "align_content": null,
            "align_items": null,
            "align_self": null,
            "border": null,
            "bottom": null,
            "display": null,
            "flex": null,
            "flex_flow": null,
            "grid_area": null,
            "grid_auto_columns": null,
            "grid_auto_flow": null,
            "grid_auto_rows": null,
            "grid_column": null,
            "grid_gap": null,
            "grid_row": null,
            "grid_template_areas": null,
            "grid_template_columns": null,
            "grid_template_rows": null,
            "height": null,
            "justify_content": null,
            "justify_items": null,
            "left": null,
            "margin": null,
            "max_height": null,
            "max_width": null,
            "min_height": null,
            "min_width": null,
            "object_fit": null,
            "object_position": null,
            "order": null,
            "overflow": null,
            "overflow_x": null,
            "overflow_y": null,
            "padding": null,
            "right": null,
            "top": null,
            "visibility": null,
            "width": null
          }
        },
        "23129f88941a4e6398bed24f4793ed53": {
          "model_module": "@jupyter-widgets/controls",
          "model_name": "ProgressStyleModel",
          "model_module_version": "1.5.0",
          "state": {
            "_model_module": "@jupyter-widgets/controls",
            "_model_module_version": "1.5.0",
            "_model_name": "ProgressStyleModel",
            "_view_count": null,
            "_view_module": "@jupyter-widgets/base",
            "_view_module_version": "1.2.0",
            "_view_name": "StyleView",
            "bar_color": null,
            "description_width": ""
          }
        },
        "0de28a53d9094a56a2d785445ed27fca": {
          "model_module": "@jupyter-widgets/base",
          "model_name": "LayoutModel",
          "model_module_version": "1.2.0",
          "state": {
            "_model_module": "@jupyter-widgets/base",
            "_model_module_version": "1.2.0",
            "_model_name": "LayoutModel",
            "_view_count": null,
            "_view_module": "@jupyter-widgets/base",
            "_view_module_version": "1.2.0",
            "_view_name": "LayoutView",
            "align_content": null,
            "align_items": null,
            "align_self": null,
            "border": null,
            "bottom": null,
            "display": null,
            "flex": null,
            "flex_flow": null,
            "grid_area": null,
            "grid_auto_columns": null,
            "grid_auto_flow": null,
            "grid_auto_rows": null,
            "grid_column": null,
            "grid_gap": null,
            "grid_row": null,
            "grid_template_areas": null,
            "grid_template_columns": null,
            "grid_template_rows": null,
            "height": null,
            "justify_content": null,
            "justify_items": null,
            "left": null,
            "margin": null,
            "max_height": null,
            "max_width": null,
            "min_height": null,
            "min_width": null,
            "object_fit": null,
            "object_position": null,
            "order": null,
            "overflow": null,
            "overflow_x": null,
            "overflow_y": null,
            "padding": null,
            "right": null,
            "top": null,
            "visibility": null,
            "width": null
          }
        },
        "4ee545bb622f4e85a6987a36b389d296": {
          "model_module": "@jupyter-widgets/controls",
          "model_name": "DescriptionStyleModel",
          "model_module_version": "1.5.0",
          "state": {
            "_model_module": "@jupyter-widgets/controls",
            "_model_module_version": "1.5.0",
            "_model_name": "DescriptionStyleModel",
            "_view_count": null,
            "_view_module": "@jupyter-widgets/base",
            "_view_module_version": "1.2.0",
            "_view_name": "StyleView",
            "description_width": ""
          }
        },
        "07c53c478f234ac998bc1292a5d2dadb": {
          "model_module": "@jupyter-widgets/controls",
          "model_name": "HBoxModel",
          "model_module_version": "1.5.0",
          "state": {
            "_dom_classes": [],
            "_model_module": "@jupyter-widgets/controls",
            "_model_module_version": "1.5.0",
            "_model_name": "HBoxModel",
            "_view_count": null,
            "_view_module": "@jupyter-widgets/controls",
            "_view_module_version": "1.5.0",
            "_view_name": "HBoxView",
            "box_style": "",
            "children": [
              "IPY_MODEL_e165aa0efd6b474ebee2ca5a831f5852",
              "IPY_MODEL_54ee207db15842a799c0964e3998e3af",
              "IPY_MODEL_f6fb272083c547b1bb3e4ed20459ed3a"
            ],
            "layout": "IPY_MODEL_a49ce52cbb0940e9be5b85b65c6e2067"
          }
        },
        "e165aa0efd6b474ebee2ca5a831f5852": {
          "model_module": "@jupyter-widgets/controls",
          "model_name": "HTMLModel",
          "model_module_version": "1.5.0",
          "state": {
            "_dom_classes": [],
            "_model_module": "@jupyter-widgets/controls",
            "_model_module_version": "1.5.0",
            "_model_name": "HTMLModel",
            "_view_count": null,
            "_view_module": "@jupyter-widgets/controls",
            "_view_module_version": "1.5.0",
            "_view_name": "HTMLView",
            "description": "",
            "description_tooltip": null,
            "layout": "IPY_MODEL_5986b1a96f274c36b656c59fcb8d6946",
            "placeholder": "​",
            "style": "IPY_MODEL_cd385a9ee3a941d68898700855c77701",
            "value": "model.safetensors:   2%"
          }
        },
        "54ee207db15842a799c0964e3998e3af": {
          "model_module": "@jupyter-widgets/controls",
          "model_name": "FloatProgressModel",
          "model_module_version": "1.5.0",
          "state": {
            "_dom_classes": [],
            "_model_module": "@jupyter-widgets/controls",
            "_model_module_version": "1.5.0",
            "_model_name": "FloatProgressModel",
            "_view_count": null,
            "_view_module": "@jupyter-widgets/controls",
            "_view_module_version": "1.5.0",
            "_view_name": "ProgressView",
            "bar_style": "",
            "description": "",
            "description_tooltip": null,
            "layout": "IPY_MODEL_65eecc20ddf34a3fa98e0d72d87be63e",
            "max": 435755784,
            "min": 0,
            "orientation": "horizontal",
            "style": "IPY_MODEL_4d14f3ca9c5d40ada16600f04b2a24b0",
            "value": 10485760
          }
        },
        "f6fb272083c547b1bb3e4ed20459ed3a": {
          "model_module": "@jupyter-widgets/controls",
          "model_name": "HTMLModel",
          "model_module_version": "1.5.0",
          "state": {
            "_dom_classes": [],
            "_model_module": "@jupyter-widgets/controls",
            "_model_module_version": "1.5.0",
            "_model_name": "HTMLModel",
            "_view_count": null,
            "_view_module": "@jupyter-widgets/controls",
            "_view_module_version": "1.5.0",
            "_view_name": "HTMLView",
            "description": "",
            "description_tooltip": null,
            "layout": "IPY_MODEL_24b16c402397499bb5a455f03d2ab9bf",
            "placeholder": "​",
            "style": "IPY_MODEL_35238cd832654058b57cd835d9a5d922",
            "value": " 10.5M/436M [00:00&lt;00:05, 75.5MB/s]"
          }
        },
        "a49ce52cbb0940e9be5b85b65c6e2067": {
          "model_module": "@jupyter-widgets/base",
          "model_name": "LayoutModel",
          "model_module_version": "1.2.0",
          "state": {
            "_model_module": "@jupyter-widgets/base",
            "_model_module_version": "1.2.0",
            "_model_name": "LayoutModel",
            "_view_count": null,
            "_view_module": "@jupyter-widgets/base",
            "_view_module_version": "1.2.0",
            "_view_name": "LayoutView",
            "align_content": null,
            "align_items": null,
            "align_self": null,
            "border": null,
            "bottom": null,
            "display": null,
            "flex": null,
            "flex_flow": null,
            "grid_area": null,
            "grid_auto_columns": null,
            "grid_auto_flow": null,
            "grid_auto_rows": null,
            "grid_column": null,
            "grid_gap": null,
            "grid_row": null,
            "grid_template_areas": null,
            "grid_template_columns": null,
            "grid_template_rows": null,
            "height": null,
            "justify_content": null,
            "justify_items": null,
            "left": null,
            "margin": null,
            "max_height": null,
            "max_width": null,
            "min_height": null,
            "min_width": null,
            "object_fit": null,
            "object_position": null,
            "order": null,
            "overflow": null,
            "overflow_x": null,
            "overflow_y": null,
            "padding": null,
            "right": null,
            "top": null,
            "visibility": null,
            "width": null
          }
        },
        "5986b1a96f274c36b656c59fcb8d6946": {
          "model_module": "@jupyter-widgets/base",
          "model_name": "LayoutModel",
          "model_module_version": "1.2.0",
          "state": {
            "_model_module": "@jupyter-widgets/base",
            "_model_module_version": "1.2.0",
            "_model_name": "LayoutModel",
            "_view_count": null,
            "_view_module": "@jupyter-widgets/base",
            "_view_module_version": "1.2.0",
            "_view_name": "LayoutView",
            "align_content": null,
            "align_items": null,
            "align_self": null,
            "border": null,
            "bottom": null,
            "display": null,
            "flex": null,
            "flex_flow": null,
            "grid_area": null,
            "grid_auto_columns": null,
            "grid_auto_flow": null,
            "grid_auto_rows": null,
            "grid_column": null,
            "grid_gap": null,
            "grid_row": null,
            "grid_template_areas": null,
            "grid_template_columns": null,
            "grid_template_rows": null,
            "height": null,
            "justify_content": null,
            "justify_items": null,
            "left": null,
            "margin": null,
            "max_height": null,
            "max_width": null,
            "min_height": null,
            "min_width": null,
            "object_fit": null,
            "object_position": null,
            "order": null,
            "overflow": null,
            "overflow_x": null,
            "overflow_y": null,
            "padding": null,
            "right": null,
            "top": null,
            "visibility": null,
            "width": null
          }
        },
        "cd385a9ee3a941d68898700855c77701": {
          "model_module": "@jupyter-widgets/controls",
          "model_name": "DescriptionStyleModel",
          "model_module_version": "1.5.0",
          "state": {
            "_model_module": "@jupyter-widgets/controls",
            "_model_module_version": "1.5.0",
            "_model_name": "DescriptionStyleModel",
            "_view_count": null,
            "_view_module": "@jupyter-widgets/base",
            "_view_module_version": "1.2.0",
            "_view_name": "StyleView",
            "description_width": ""
          }
        },
        "65eecc20ddf34a3fa98e0d72d87be63e": {
          "model_module": "@jupyter-widgets/base",
          "model_name": "LayoutModel",
          "model_module_version": "1.2.0",
          "state": {
            "_model_module": "@jupyter-widgets/base",
            "_model_module_version": "1.2.0",
            "_model_name": "LayoutModel",
            "_view_count": null,
            "_view_module": "@jupyter-widgets/base",
            "_view_module_version": "1.2.0",
            "_view_name": "LayoutView",
            "align_content": null,
            "align_items": null,
            "align_self": null,
            "border": null,
            "bottom": null,
            "display": null,
            "flex": null,
            "flex_flow": null,
            "grid_area": null,
            "grid_auto_columns": null,
            "grid_auto_flow": null,
            "grid_auto_rows": null,
            "grid_column": null,
            "grid_gap": null,
            "grid_row": null,
            "grid_template_areas": null,
            "grid_template_columns": null,
            "grid_template_rows": null,
            "height": null,
            "justify_content": null,
            "justify_items": null,
            "left": null,
            "margin": null,
            "max_height": null,
            "max_width": null,
            "min_height": null,
            "min_width": null,
            "object_fit": null,
            "object_position": null,
            "order": null,
            "overflow": null,
            "overflow_x": null,
            "overflow_y": null,
            "padding": null,
            "right": null,
            "top": null,
            "visibility": null,
            "width": null
          }
        },
        "4d14f3ca9c5d40ada16600f04b2a24b0": {
          "model_module": "@jupyter-widgets/controls",
          "model_name": "ProgressStyleModel",
          "model_module_version": "1.5.0",
          "state": {
            "_model_module": "@jupyter-widgets/controls",
            "_model_module_version": "1.5.0",
            "_model_name": "ProgressStyleModel",
            "_view_count": null,
            "_view_module": "@jupyter-widgets/base",
            "_view_module_version": "1.2.0",
            "_view_name": "StyleView",
            "bar_color": null,
            "description_width": ""
          }
        },
        "24b16c402397499bb5a455f03d2ab9bf": {
          "model_module": "@jupyter-widgets/base",
          "model_name": "LayoutModel",
          "model_module_version": "1.2.0",
          "state": {
            "_model_module": "@jupyter-widgets/base",
            "_model_module_version": "1.2.0",
            "_model_name": "LayoutModel",
            "_view_count": null,
            "_view_module": "@jupyter-widgets/base",
            "_view_module_version": "1.2.0",
            "_view_name": "LayoutView",
            "align_content": null,
            "align_items": null,
            "align_self": null,
            "border": null,
            "bottom": null,
            "display": null,
            "flex": null,
            "flex_flow": null,
            "grid_area": null,
            "grid_auto_columns": null,
            "grid_auto_flow": null,
            "grid_auto_rows": null,
            "grid_column": null,
            "grid_gap": null,
            "grid_row": null,
            "grid_template_areas": null,
            "grid_template_columns": null,
            "grid_template_rows": null,
            "height": null,
            "justify_content": null,
            "justify_items": null,
            "left": null,
            "margin": null,
            "max_height": null,
            "max_width": null,
            "min_height": null,
            "min_width": null,
            "object_fit": null,
            "object_position": null,
            "order": null,
            "overflow": null,
            "overflow_x": null,
            "overflow_y": null,
            "padding": null,
            "right": null,
            "top": null,
            "visibility": null,
            "width": null
          }
        },
        "35238cd832654058b57cd835d9a5d922": {
          "model_module": "@jupyter-widgets/controls",
          "model_name": "DescriptionStyleModel",
          "model_module_version": "1.5.0",
          "state": {
            "_model_module": "@jupyter-widgets/controls",
            "_model_module_version": "1.5.0",
            "_model_name": "DescriptionStyleModel",
            "_view_count": null,
            "_view_module": "@jupyter-widgets/base",
            "_view_module_version": "1.2.0",
            "_view_name": "StyleView",
            "description_width": ""
          }
        }
      }
    }
  },
  "cells": [
    {
      "cell_type": "markdown",
      "metadata": {
        "id": "view-in-github",
        "colab_type": "text"
      },
      "source": [
        "<a href=\"https://colab.research.google.com/github/Kacper-W-Kozdon/notebook-testing-ivy/blob/main/Sarcasm_Detection.ipynb\" target=\"_parent\"><img src=\"https://colab.research.google.com/assets/colab-badge.svg\" alt=\"Open In Colab\"/></a>"
      ]
    },
    {
      "cell_type": "markdown",
      "source": [
        "# IVY TRANSPILER"
      ],
      "metadata": {
        "id": "s2B-C0ETR8j-"
      }
    },
    {
      "cell_type": "markdown",
      "source": [
        "Installing kaggle and uploading the API key necessary to use it."
      ],
      "metadata": {
        "id": "lVY3Z4myS1O4"
      }
    },
    {
      "cell_type": "code",
      "source": [
        "!pip install -q kaggle\n",
        "from google.colab import files\n",
        "from google.colab import userdata\n",
        "import os\n",
        "files.upload(); #Upload kaggle.json - you can get from the kaggle account settings, from the API section."
      ],
      "metadata": {
        "id": "7R4luV8tSDFn",
        "colab": {
          "base_uri": "https://localhost:8080/",
          "height": 73
        },
        "outputId": "f2932057-bb7c-4662-92bb-83c03bf218f0"
      },
      "execution_count": 1,
      "outputs": [
        {
          "output_type": "display_data",
          "data": {
            "text/plain": [
              "<IPython.core.display.HTML object>"
            ],
            "text/html": [
              "\n",
              "     <input type=\"file\" id=\"files-1ce6001d-81c7-4b48-b340-bca803bac39d\" name=\"files[]\" multiple disabled\n",
              "        style=\"border:none\" />\n",
              "     <output id=\"result-1ce6001d-81c7-4b48-b340-bca803bac39d\">\n",
              "      Upload widget is only available when the cell has been executed in the\n",
              "      current browser session. Please rerun this cell to enable.\n",
              "      </output>\n",
              "      <script>// Copyright 2017 Google LLC\n",
              "//\n",
              "// Licensed under the Apache License, Version 2.0 (the \"License\");\n",
              "// you may not use this file except in compliance with the License.\n",
              "// You may obtain a copy of the License at\n",
              "//\n",
              "//      http://www.apache.org/licenses/LICENSE-2.0\n",
              "//\n",
              "// Unless required by applicable law or agreed to in writing, software\n",
              "// distributed under the License is distributed on an \"AS IS\" BASIS,\n",
              "// WITHOUT WARRANTIES OR CONDITIONS OF ANY KIND, either express or implied.\n",
              "// See the License for the specific language governing permissions and\n",
              "// limitations under the License.\n",
              "\n",
              "/**\n",
              " * @fileoverview Helpers for google.colab Python module.\n",
              " */\n",
              "(function(scope) {\n",
              "function span(text, styleAttributes = {}) {\n",
              "  const element = document.createElement('span');\n",
              "  element.textContent = text;\n",
              "  for (const key of Object.keys(styleAttributes)) {\n",
              "    element.style[key] = styleAttributes[key];\n",
              "  }\n",
              "  return element;\n",
              "}\n",
              "\n",
              "// Max number of bytes which will be uploaded at a time.\n",
              "const MAX_PAYLOAD_SIZE = 100 * 1024;\n",
              "\n",
              "function _uploadFiles(inputId, outputId) {\n",
              "  const steps = uploadFilesStep(inputId, outputId);\n",
              "  const outputElement = document.getElementById(outputId);\n",
              "  // Cache steps on the outputElement to make it available for the next call\n",
              "  // to uploadFilesContinue from Python.\n",
              "  outputElement.steps = steps;\n",
              "\n",
              "  return _uploadFilesContinue(outputId);\n",
              "}\n",
              "\n",
              "// This is roughly an async generator (not supported in the browser yet),\n",
              "// where there are multiple asynchronous steps and the Python side is going\n",
              "// to poll for completion of each step.\n",
              "// This uses a Promise to block the python side on completion of each step,\n",
              "// then passes the result of the previous step as the input to the next step.\n",
              "function _uploadFilesContinue(outputId) {\n",
              "  const outputElement = document.getElementById(outputId);\n",
              "  const steps = outputElement.steps;\n",
              "\n",
              "  const next = steps.next(outputElement.lastPromiseValue);\n",
              "  return Promise.resolve(next.value.promise).then((value) => {\n",
              "    // Cache the last promise value to make it available to the next\n",
              "    // step of the generator.\n",
              "    outputElement.lastPromiseValue = value;\n",
              "    return next.value.response;\n",
              "  });\n",
              "}\n",
              "\n",
              "/**\n",
              " * Generator function which is called between each async step of the upload\n",
              " * process.\n",
              " * @param {string} inputId Element ID of the input file picker element.\n",
              " * @param {string} outputId Element ID of the output display.\n",
              " * @return {!Iterable<!Object>} Iterable of next steps.\n",
              " */\n",
              "function* uploadFilesStep(inputId, outputId) {\n",
              "  const inputElement = document.getElementById(inputId);\n",
              "  inputElement.disabled = false;\n",
              "\n",
              "  const outputElement = document.getElementById(outputId);\n",
              "  outputElement.innerHTML = '';\n",
              "\n",
              "  const pickedPromise = new Promise((resolve) => {\n",
              "    inputElement.addEventListener('change', (e) => {\n",
              "      resolve(e.target.files);\n",
              "    });\n",
              "  });\n",
              "\n",
              "  const cancel = document.createElement('button');\n",
              "  inputElement.parentElement.appendChild(cancel);\n",
              "  cancel.textContent = 'Cancel upload';\n",
              "  const cancelPromise = new Promise((resolve) => {\n",
              "    cancel.onclick = () => {\n",
              "      resolve(null);\n",
              "    };\n",
              "  });\n",
              "\n",
              "  // Wait for the user to pick the files.\n",
              "  const files = yield {\n",
              "    promise: Promise.race([pickedPromise, cancelPromise]),\n",
              "    response: {\n",
              "      action: 'starting',\n",
              "    }\n",
              "  };\n",
              "\n",
              "  cancel.remove();\n",
              "\n",
              "  // Disable the input element since further picks are not allowed.\n",
              "  inputElement.disabled = true;\n",
              "\n",
              "  if (!files) {\n",
              "    return {\n",
              "      response: {\n",
              "        action: 'complete',\n",
              "      }\n",
              "    };\n",
              "  }\n",
              "\n",
              "  for (const file of files) {\n",
              "    const li = document.createElement('li');\n",
              "    li.append(span(file.name, {fontWeight: 'bold'}));\n",
              "    li.append(span(\n",
              "        `(${file.type || 'n/a'}) - ${file.size} bytes, ` +\n",
              "        `last modified: ${\n",
              "            file.lastModifiedDate ? file.lastModifiedDate.toLocaleDateString() :\n",
              "                                    'n/a'} - `));\n",
              "    const percent = span('0% done');\n",
              "    li.appendChild(percent);\n",
              "\n",
              "    outputElement.appendChild(li);\n",
              "\n",
              "    const fileDataPromise = new Promise((resolve) => {\n",
              "      const reader = new FileReader();\n",
              "      reader.onload = (e) => {\n",
              "        resolve(e.target.result);\n",
              "      };\n",
              "      reader.readAsArrayBuffer(file);\n",
              "    });\n",
              "    // Wait for the data to be ready.\n",
              "    let fileData = yield {\n",
              "      promise: fileDataPromise,\n",
              "      response: {\n",
              "        action: 'continue',\n",
              "      }\n",
              "    };\n",
              "\n",
              "    // Use a chunked sending to avoid message size limits. See b/62115660.\n",
              "    let position = 0;\n",
              "    do {\n",
              "      const length = Math.min(fileData.byteLength - position, MAX_PAYLOAD_SIZE);\n",
              "      const chunk = new Uint8Array(fileData, position, length);\n",
              "      position += length;\n",
              "\n",
              "      const base64 = btoa(String.fromCharCode.apply(null, chunk));\n",
              "      yield {\n",
              "        response: {\n",
              "          action: 'append',\n",
              "          file: file.name,\n",
              "          data: base64,\n",
              "        },\n",
              "      };\n",
              "\n",
              "      let percentDone = fileData.byteLength === 0 ?\n",
              "          100 :\n",
              "          Math.round((position / fileData.byteLength) * 100);\n",
              "      percent.textContent = `${percentDone}% done`;\n",
              "\n",
              "    } while (position < fileData.byteLength);\n",
              "  }\n",
              "\n",
              "  // All done.\n",
              "  yield {\n",
              "    response: {\n",
              "      action: 'complete',\n",
              "    }\n",
              "  };\n",
              "}\n",
              "\n",
              "scope.google = scope.google || {};\n",
              "scope.google.colab = scope.google.colab || {};\n",
              "scope.google.colab._files = {\n",
              "  _uploadFiles,\n",
              "  _uploadFilesContinue,\n",
              "};\n",
              "})(self);\n",
              "</script> "
            ]
          },
          "metadata": {}
        },
        {
          "output_type": "stream",
          "name": "stdout",
          "text": [
            "Saving kaggle.json to kaggle.json\n"
          ]
        }
      ]
    },
    {
      "cell_type": "markdown",
      "source": [
        "Installing packages necessary to use torch's transformers."
      ],
      "metadata": {
        "id": "GRyxyRkNqONt"
      }
    },
    {
      "cell_type": "code",
      "source": [
        "!pip install tqdm boto3 requests regex sentencepiece sacremoses"
      ],
      "metadata": {
        "id": "yhD653HGqOj2",
        "colab": {
          "base_uri": "https://localhost:8080/"
        },
        "outputId": "3ddf7652-6593-4abd-82c1-85447379002e"
      },
      "execution_count": 2,
      "outputs": [
        {
          "output_type": "stream",
          "name": "stdout",
          "text": [
            "Requirement already satisfied: tqdm in /usr/local/lib/python3.10/dist-packages (4.66.2)\n",
            "Collecting boto3\n",
            "  Downloading boto3-1.34.72-py3-none-any.whl (139 kB)\n",
            "\u001b[2K     \u001b[90m━━━━━━━━━━━━━━━━━━━━━━━━━━━━━━━━━━━━━━━━\u001b[0m \u001b[32m139.3/139.3 kB\u001b[0m \u001b[31m2.5 MB/s\u001b[0m eta \u001b[36m0:00:00\u001b[0m\n",
            "\u001b[?25hRequirement already satisfied: requests in /usr/local/lib/python3.10/dist-packages (2.31.0)\n",
            "Requirement already satisfied: regex in /usr/local/lib/python3.10/dist-packages (2023.12.25)\n",
            "Requirement already satisfied: sentencepiece in /usr/local/lib/python3.10/dist-packages (0.1.99)\n",
            "Collecting sacremoses\n",
            "  Downloading sacremoses-0.1.1-py3-none-any.whl (897 kB)\n",
            "\u001b[2K     \u001b[90m━━━━━━━━━━━━━━━━━━━━━━━━━━━━━━━━━━━━━━━━\u001b[0m \u001b[32m897.5/897.5 kB\u001b[0m \u001b[31m12.3 MB/s\u001b[0m eta \u001b[36m0:00:00\u001b[0m\n",
            "\u001b[?25hCollecting botocore<1.35.0,>=1.34.72 (from boto3)\n",
            "  Downloading botocore-1.34.72-py3-none-any.whl (12.0 MB)\n",
            "\u001b[2K     \u001b[90m━━━━━━━━━━━━━━━━━━━━━━━━━━━━━━━━━━━━━━━━\u001b[0m \u001b[32m12.0/12.0 MB\u001b[0m \u001b[31m29.4 MB/s\u001b[0m eta \u001b[36m0:00:00\u001b[0m\n",
            "\u001b[?25hCollecting jmespath<2.0.0,>=0.7.1 (from boto3)\n",
            "  Downloading jmespath-1.0.1-py3-none-any.whl (20 kB)\n",
            "Collecting s3transfer<0.11.0,>=0.10.0 (from boto3)\n",
            "  Downloading s3transfer-0.10.1-py3-none-any.whl (82 kB)\n",
            "\u001b[2K     \u001b[90m━━━━━━━━━━━━━━━━━━━━━━━━━━━━━━━━━━━━━━━━\u001b[0m \u001b[32m82.2/82.2 kB\u001b[0m \u001b[31m10.4 MB/s\u001b[0m eta \u001b[36m0:00:00\u001b[0m\n",
            "\u001b[?25hRequirement already satisfied: charset-normalizer<4,>=2 in /usr/local/lib/python3.10/dist-packages (from requests) (3.3.2)\n",
            "Requirement already satisfied: idna<4,>=2.5 in /usr/local/lib/python3.10/dist-packages (from requests) (3.6)\n",
            "Requirement already satisfied: urllib3<3,>=1.21.1 in /usr/local/lib/python3.10/dist-packages (from requests) (2.0.7)\n",
            "Requirement already satisfied: certifi>=2017.4.17 in /usr/local/lib/python3.10/dist-packages (from requests) (2024.2.2)\n",
            "Requirement already satisfied: click in /usr/local/lib/python3.10/dist-packages (from sacremoses) (8.1.7)\n",
            "Requirement already satisfied: joblib in /usr/local/lib/python3.10/dist-packages (from sacremoses) (1.3.2)\n",
            "Requirement already satisfied: python-dateutil<3.0.0,>=2.1 in /usr/local/lib/python3.10/dist-packages (from botocore<1.35.0,>=1.34.72->boto3) (2.8.2)\n",
            "Requirement already satisfied: six>=1.5 in /usr/local/lib/python3.10/dist-packages (from python-dateutil<3.0.0,>=2.1->botocore<1.35.0,>=1.34.72->boto3) (1.16.0)\n",
            "Installing collected packages: sacremoses, jmespath, botocore, s3transfer, boto3\n",
            "Successfully installed boto3-1.34.72 botocore-1.34.72 jmespath-1.0.1 s3transfer-0.10.1 sacremoses-0.1.1\n"
          ]
        }
      ]
    },
    {
      "cell_type": "markdown",
      "source": [
        "To use the API, credentials need to be copied into the kaggle folder. If everything works, the output will show the list of available datasets."
      ],
      "metadata": {
        "id": "aCN2c1DGTbVM"
      }
    },
    {
      "cell_type": "code",
      "source": [
        "!mkdir ~/.kaggle\n",
        "!cp kaggle.json ~/.kaggle/\n",
        "!chmod 600 ~/.kaggle/kaggle.json\n",
        "!kaggle datasets list"
      ],
      "metadata": {
        "id": "JfGZETFqTOla",
        "colab": {
          "base_uri": "https://localhost:8080/"
        },
        "outputId": "77c049f3-5e44-4858-937b-c589989f5679"
      },
      "execution_count": 3,
      "outputs": [
        {
          "output_type": "stream",
          "name": "stdout",
          "text": [
            "Warning: Looks like you're using an outdated API Version, please consider updating (server 1.6.7 / client 1.5.16)\n",
            "ref                                                  title                                               size  lastUpdated          downloadCount  voteCount  usabilityRating  \n",
            "---------------------------------------------------  -------------------------------------------------  -----  -------------------  -------------  ---------  ---------------  \n",
            "sudarshan24byte/online-food-dataset                  Online Food Dataset                                  3KB  2024-03-02 18:50:30          12706        251  0.9411765        \n",
            "syedanwarafridi/vehicle-sales-data                   Vehicle Sales Data                                  19MB  2024-02-21 20:16:17          21198        363  1.0              \n",
            "bhavikjikadara/student-study-performance             Student Study Performance                            9KB  2024-03-07 06:14:09           6771        105  1.0              \n",
            "julianoorlandi/spotify-top-songs-and-audio-features  Spotify Top Songs and Audio Features               526KB  2024-03-18 12:49:50           1931         38  1.0              \n",
            "nbroad/gemma-rewrite-nbroad                          gemma-rewrite-nbroad                                 8MB  2024-03-03 04:52:39           1033         79  1.0              \n",
            "arnavvvvv/spotify-music                              Top Spotify Songs                                   47KB  2024-03-06 05:20:29           6913         92  1.0              \n",
            "tarunrm09/climate-change-indicators                  Climate change Indicators                           34KB  2024-02-22 08:53:54          10028        184  1.0              \n",
            "bhavikjikadara/mental-health-dataset                 Mental Health Dataset                                2MB  2024-03-18 06:05:16           1769         40  1.0              \n",
            "mexwell/boat-price-prediction                        🚤 Boat Price Prediction                            670KB  2024-02-28 08:58:33            873         22  1.0              \n",
            "nartaa/features-head-starter-models                  Features+Head Starter Models                         3GB  2024-03-26 11:32:50            378         25  1.0              \n",
            "mexwell/student-scores                               🎓 Student Scores                                    62KB  2024-03-05 10:08:50           1430         30  1.0              \n",
            "javiersab/billionaires-dataset-cleaned               Billionaires dataset cleaned                       126KB  2024-02-24 00:52:53           1091         31  1.0              \n",
            "rahulvyasm/medical-insurance-cost-prediction         Medical Insurance Cost Prediction                   32KB  2024-03-14 18:23:22           1249         28  0.9411765        \n",
            "ayushparwal2026/ipl-cricket-data-2008-2023           Ipl-cricket-data-2008-2023                         216KB  2024-03-17 18:27:53            636         22  1.0              \n",
            "nisshaachoudhary/store-data-analysis-using-ms-excel  Store Data Analysis using MS excel                  12MB  2024-03-10 10:15:25            782         25  0.9411765        \n",
            "ayushparwal2026/cars-dataset                         Cars Dataset                                       169KB  2024-03-11 16:23:49           2471         37  1.0              \n",
            "ronaldonyango/global-suicide-rates-1990-to-2022      Suicide Rates & Socioeconomic Factors (1990 - 22)    2MB  2024-03-14 14:30:20           2533         34  1.0              \n",
            "sujalsuthar/airlines-reviews                         Airline Reviews Dataset                              3MB  2024-03-06 16:30:30           1878         32  1.0              \n",
            "kanchana1990/world-air-quality-data-2024-updated     World Air Quality Data 2024 (Updated)                2MB  2024-03-25 15:10:07            847         23  0.9411765        \n",
            "thesnak/stock-market-analysis                        Stock Market Analysis                                6KB  2024-03-21 20:52:55            795         33  1.0              \n"
          ]
        }
      ]
    },
    {
      "cell_type": "markdown",
      "source": [],
      "metadata": {
        "id": "P1aQHs-9Tkt2"
      }
    },
    {
      "cell_type": "markdown",
      "source": [
        "Preparing the ivy library."
      ],
      "metadata": {
        "id": "_Sf8EImZT6kZ"
      }
    },
    {
      "cell_type": "code",
      "source": [
        "#Inser the correct user when cloning the repos. Make sure that they are up-to-date.\n",
        "\n",
        "!git clone \"https://github.com/Kacper-W-Kozdon/demos.git\"\n",
        "!git clone \"https://github.com/Kacper-W-Kozdon/ivy.git\"\n",
        "!pip install -U -q paddlepaddle ivy accelerate>=0.21.0 mlflow datasets>=2.14.5 nlp 2>/dev/null"
      ],
      "metadata": {
        "colab": {
          "base_uri": "https://localhost:8080/"
        },
        "id": "7DMn3EoEUBGQ",
        "outputId": "948effe3-d92b-43fc-bcaf-b156aa71b0dc"
      },
      "execution_count": 5,
      "outputs": [
        {
          "output_type": "stream",
          "name": "stdout",
          "text": [
            "Cloning into 'demos'...\n",
            "remote: Enumerating objects: 3152, done.\u001b[K\n",
            "remote: Counting objects: 100% (719/719), done.\u001b[K\n",
            "remote: Compressing objects: 100% (182/182), done.\u001b[K\n",
            "remote: Total 3152 (delta 627), reused 537 (delta 537), pack-reused 2433\u001b[K\n",
            "Receiving objects: 100% (3152/3152), 16.83 MiB | 18.53 MiB/s, done.\n",
            "Resolving deltas: 100% (1821/1821), done.\n",
            "Cloning into 'ivy'...\n",
            "remote: Enumerating objects: 189066, done.\u001b[K\n",
            "remote: Counting objects: 100% (861/861), done.\u001b[K\n",
            "remote: Compressing objects: 100% (376/376), done.\u001b[K\n",
            "remote: Total 189066 (delta 599), reused 638 (delta 485), pack-reused 188205\u001b[K\n",
            "Receiving objects: 100% (189066/189066), 177.34 MiB | 11.20 MiB/s, done.\n",
            "Resolving deltas: 100% (151823/151823), done.\n"
          ]
        }
      ]
    },
    {
      "cell_type": "markdown",
      "source": [
        "Next: import the ivy library and get the dataset."
      ],
      "metadata": {
        "id": "y1sA3gFuWjDE"
      }
    },
    {
      "cell_type": "code",
      "source": [
        "import ivy\n",
        "!kaggle datasets download -d danofer/sarcasm\n",
        "!cp -f sarcasm.zip '/content/demos/Contributor_demos/Sarcasm Detection/'\n",
        "!unzip '/content/demos/Contributor_demos/Sarcasm Detection/sarcasm.zip' -d '/content/demos/Contributor_demos/Sarcasm Detection/'"
      ],
      "metadata": {
        "id": "7CA3MzIzUayI",
        "colab": {
          "base_uri": "https://localhost:8080/"
        },
        "outputId": "5154b5b4-ed58-4f54-822b-002565247963"
      },
      "execution_count": 6,
      "outputs": [
        {
          "output_type": "stream",
          "name": "stdout",
          "text": [
            "Downloading sarcasm.zip to /content\n",
            " 98% 213M/216M [00:12<00:00, 16.4MB/s]\n",
            "100% 216M/216M [00:12<00:00, 17.7MB/s]\n",
            "Archive:  /content/demos/Contributor_demos/Sarcasm Detection/sarcasm.zip\n",
            "  inflating: /content/demos/Contributor_demos/Sarcasm Detection/test-balanced.csv  \n",
            "  inflating: /content/demos/Contributor_demos/Sarcasm Detection/test-unbalanced.csv  \n",
            "  inflating: /content/demos/Contributor_demos/Sarcasm Detection/train-balanced-sarc.csv.gz  \n",
            "  inflating: /content/demos/Contributor_demos/Sarcasm Detection/train-balanced-sarcasm.csv  \n"
          ]
        }
      ]
    },
    {
      "cell_type": "markdown",
      "source": [
        "Import the libraries suggested in the model which is to be transpiled."
      ],
      "metadata": {
        "id": "UKN-VX8QXDEG"
      }
    },
    {
      "cell_type": "code",
      "source": [
        "# Import necessary libraries\n",
        "import pandas as pd  # For data manipulation and analysis\n",
        "import gc  # For garbage collection to manage memory\n",
        "import re  # For regular expressions\n",
        "import numpy as np  # For numerical operations and arrays\n",
        "import paddle\n",
        "\n",
        "# Libraries to accompany torch's transformers\n",
        "import tqdm\n",
        "import boto3\n",
        "import requests\n",
        "import regex\n",
        "import sentencepiece\n",
        "import sacremoses\n",
        "\n",
        "import warnings  # For handling warnings\n",
        "warnings.filterwarnings(\"ignore\")  # Ignore warning messages\n",
        "\n",
        "import tensorflow as tf\n",
        "import torch  # PyTorch library for deep learning\n",
        "from transformers import AutoModel, AutoTokenizer  # Transformers library for natural language processing\n",
        "from transformers import TextDataset, LineByLineTextDataset, DataCollatorForLanguageModeling, \\\n",
        "pipeline, Trainer, TrainingArguments, DataCollatorWithPadding  # Transformers components for text processing\n",
        "from transformers import AutoModelForSequenceClassification  # Transformer model for sequence classification\n",
        "\n",
        "import accelerate\n",
        "\n",
        "from nlp import Dataset  # Import custom 'Dataset' class for natural language processing tasks\n",
        "from imblearn.over_sampling import RandomOverSampler  # For oversampling to handle class imbalance\n",
        "import datasets  # Import datasets library\n",
        "from datasets import Dataset, Image, ClassLabel  # Import custom 'Dataset', 'ClassLabel', and 'Image' classes\n",
        "from transformers import pipeline  # Transformers library for pipelines\n",
        "from bs4 import BeautifulSoup  # For parsing HTML content\n",
        "\n",
        "import matplotlib.pyplot as plt  # For data visualization\n",
        "import itertools  # For working with iterators\n",
        "from sklearn.metrics import (  # Import various metrics from scikit-learn\n",
        "    accuracy_score,  # For calculating accuracy\n",
        "    roc_auc_score,  # For ROC AUC score\n",
        "    confusion_matrix,  # For confusion matrix\n",
        "    classification_report,  # For classification report\n",
        "    f1_score  # For F1 score\n",
        ")\n",
        "\n",
        "from datasets import load_metric  # Import load_metric function to load evaluation metrics\n",
        "\n",
        "from tqdm import tqdm  # For displaying progress bars\n",
        "tqdm.pandas()  # Enable progress bars for pandas operations"
      ],
      "metadata": {
        "id": "19rgBXHJXHFu"
      },
      "execution_count": 7,
      "outputs": []
    },
    {
      "cell_type": "markdown",
      "source": [
        "Set the seeds."
      ],
      "metadata": {
        "id": "JU7qbxYdsVlK"
      }
    },
    {
      "cell_type": "code",
      "source": [
        "tf.keras.utils.set_random_seed(0)\n",
        "torch.manual_seed(0)\n",
        "paddle.seed(0)"
      ],
      "metadata": {
        "id": "HxD1xridsU_l",
        "colab": {
          "base_uri": "https://localhost:8080/"
        },
        "outputId": "8814795e-9523-4901-c75a-83f010ff9a54"
      },
      "execution_count": 8,
      "outputs": [
        {
          "output_type": "execute_result",
          "data": {
            "text/plain": [
              "<paddle.base.libpaddle.Generator at 0x7d31a9ab8bb0>"
            ]
          },
          "metadata": {},
          "execution_count": 8
        }
      ]
    },
    {
      "cell_type": "markdown",
      "source": [
        "Get the API key for ivy transpiler from your account and upload it to the project. Move it to the correct directory."
      ],
      "metadata": {
        "id": "zwU4oNrkXyxT"
      }
    },
    {
      "cell_type": "code",
      "source": [
        "files.upload(); #Upload key.pem - you can get from the kaggle account settings, from the API section."
      ],
      "metadata": {
        "id": "LME9LyKaXyVF",
        "colab": {
          "base_uri": "https://localhost:8080/",
          "height": 73
        },
        "outputId": "b1875691-cd55-46b5-e2ee-2b1bc4c2f4eb"
      },
      "execution_count": 9,
      "outputs": [
        {
          "output_type": "display_data",
          "data": {
            "text/plain": [
              "<IPython.core.display.HTML object>"
            ],
            "text/html": [
              "\n",
              "     <input type=\"file\" id=\"files-b715b41c-621d-4f1a-b287-c19bdbe4152d\" name=\"files[]\" multiple disabled\n",
              "        style=\"border:none\" />\n",
              "     <output id=\"result-b715b41c-621d-4f1a-b287-c19bdbe4152d\">\n",
              "      Upload widget is only available when the cell has been executed in the\n",
              "      current browser session. Please rerun this cell to enable.\n",
              "      </output>\n",
              "      <script>// Copyright 2017 Google LLC\n",
              "//\n",
              "// Licensed under the Apache License, Version 2.0 (the \"License\");\n",
              "// you may not use this file except in compliance with the License.\n",
              "// You may obtain a copy of the License at\n",
              "//\n",
              "//      http://www.apache.org/licenses/LICENSE-2.0\n",
              "//\n",
              "// Unless required by applicable law or agreed to in writing, software\n",
              "// distributed under the License is distributed on an \"AS IS\" BASIS,\n",
              "// WITHOUT WARRANTIES OR CONDITIONS OF ANY KIND, either express or implied.\n",
              "// See the License for the specific language governing permissions and\n",
              "// limitations under the License.\n",
              "\n",
              "/**\n",
              " * @fileoverview Helpers for google.colab Python module.\n",
              " */\n",
              "(function(scope) {\n",
              "function span(text, styleAttributes = {}) {\n",
              "  const element = document.createElement('span');\n",
              "  element.textContent = text;\n",
              "  for (const key of Object.keys(styleAttributes)) {\n",
              "    element.style[key] = styleAttributes[key];\n",
              "  }\n",
              "  return element;\n",
              "}\n",
              "\n",
              "// Max number of bytes which will be uploaded at a time.\n",
              "const MAX_PAYLOAD_SIZE = 100 * 1024;\n",
              "\n",
              "function _uploadFiles(inputId, outputId) {\n",
              "  const steps = uploadFilesStep(inputId, outputId);\n",
              "  const outputElement = document.getElementById(outputId);\n",
              "  // Cache steps on the outputElement to make it available for the next call\n",
              "  // to uploadFilesContinue from Python.\n",
              "  outputElement.steps = steps;\n",
              "\n",
              "  return _uploadFilesContinue(outputId);\n",
              "}\n",
              "\n",
              "// This is roughly an async generator (not supported in the browser yet),\n",
              "// where there are multiple asynchronous steps and the Python side is going\n",
              "// to poll for completion of each step.\n",
              "// This uses a Promise to block the python side on completion of each step,\n",
              "// then passes the result of the previous step as the input to the next step.\n",
              "function _uploadFilesContinue(outputId) {\n",
              "  const outputElement = document.getElementById(outputId);\n",
              "  const steps = outputElement.steps;\n",
              "\n",
              "  const next = steps.next(outputElement.lastPromiseValue);\n",
              "  return Promise.resolve(next.value.promise).then((value) => {\n",
              "    // Cache the last promise value to make it available to the next\n",
              "    // step of the generator.\n",
              "    outputElement.lastPromiseValue = value;\n",
              "    return next.value.response;\n",
              "  });\n",
              "}\n",
              "\n",
              "/**\n",
              " * Generator function which is called between each async step of the upload\n",
              " * process.\n",
              " * @param {string} inputId Element ID of the input file picker element.\n",
              " * @param {string} outputId Element ID of the output display.\n",
              " * @return {!Iterable<!Object>} Iterable of next steps.\n",
              " */\n",
              "function* uploadFilesStep(inputId, outputId) {\n",
              "  const inputElement = document.getElementById(inputId);\n",
              "  inputElement.disabled = false;\n",
              "\n",
              "  const outputElement = document.getElementById(outputId);\n",
              "  outputElement.innerHTML = '';\n",
              "\n",
              "  const pickedPromise = new Promise((resolve) => {\n",
              "    inputElement.addEventListener('change', (e) => {\n",
              "      resolve(e.target.files);\n",
              "    });\n",
              "  });\n",
              "\n",
              "  const cancel = document.createElement('button');\n",
              "  inputElement.parentElement.appendChild(cancel);\n",
              "  cancel.textContent = 'Cancel upload';\n",
              "  const cancelPromise = new Promise((resolve) => {\n",
              "    cancel.onclick = () => {\n",
              "      resolve(null);\n",
              "    };\n",
              "  });\n",
              "\n",
              "  // Wait for the user to pick the files.\n",
              "  const files = yield {\n",
              "    promise: Promise.race([pickedPromise, cancelPromise]),\n",
              "    response: {\n",
              "      action: 'starting',\n",
              "    }\n",
              "  };\n",
              "\n",
              "  cancel.remove();\n",
              "\n",
              "  // Disable the input element since further picks are not allowed.\n",
              "  inputElement.disabled = true;\n",
              "\n",
              "  if (!files) {\n",
              "    return {\n",
              "      response: {\n",
              "        action: 'complete',\n",
              "      }\n",
              "    };\n",
              "  }\n",
              "\n",
              "  for (const file of files) {\n",
              "    const li = document.createElement('li');\n",
              "    li.append(span(file.name, {fontWeight: 'bold'}));\n",
              "    li.append(span(\n",
              "        `(${file.type || 'n/a'}) - ${file.size} bytes, ` +\n",
              "        `last modified: ${\n",
              "            file.lastModifiedDate ? file.lastModifiedDate.toLocaleDateString() :\n",
              "                                    'n/a'} - `));\n",
              "    const percent = span('0% done');\n",
              "    li.appendChild(percent);\n",
              "\n",
              "    outputElement.appendChild(li);\n",
              "\n",
              "    const fileDataPromise = new Promise((resolve) => {\n",
              "      const reader = new FileReader();\n",
              "      reader.onload = (e) => {\n",
              "        resolve(e.target.result);\n",
              "      };\n",
              "      reader.readAsArrayBuffer(file);\n",
              "    });\n",
              "    // Wait for the data to be ready.\n",
              "    let fileData = yield {\n",
              "      promise: fileDataPromise,\n",
              "      response: {\n",
              "        action: 'continue',\n",
              "      }\n",
              "    };\n",
              "\n",
              "    // Use a chunked sending to avoid message size limits. See b/62115660.\n",
              "    let position = 0;\n",
              "    do {\n",
              "      const length = Math.min(fileData.byteLength - position, MAX_PAYLOAD_SIZE);\n",
              "      const chunk = new Uint8Array(fileData, position, length);\n",
              "      position += length;\n",
              "\n",
              "      const base64 = btoa(String.fromCharCode.apply(null, chunk));\n",
              "      yield {\n",
              "        response: {\n",
              "          action: 'append',\n",
              "          file: file.name,\n",
              "          data: base64,\n",
              "        },\n",
              "      };\n",
              "\n",
              "      let percentDone = fileData.byteLength === 0 ?\n",
              "          100 :\n",
              "          Math.round((position / fileData.byteLength) * 100);\n",
              "      percent.textContent = `${percentDone}% done`;\n",
              "\n",
              "    } while (position < fileData.byteLength);\n",
              "  }\n",
              "\n",
              "  // All done.\n",
              "  yield {\n",
              "    response: {\n",
              "      action: 'complete',\n",
              "    }\n",
              "  };\n",
              "}\n",
              "\n",
              "scope.google = scope.google || {};\n",
              "scope.google.colab = scope.google.colab || {};\n",
              "scope.google.colab._files = {\n",
              "  _uploadFiles,\n",
              "  _uploadFilesContinue,\n",
              "};\n",
              "})(self);\n",
              "</script> "
            ]
          },
          "metadata": {}
        },
        {
          "output_type": "stream",
          "name": "stdout",
          "text": [
            "Saving key.pem to key.pem\n"
          ]
        }
      ]
    },
    {
      "cell_type": "code",
      "source": [
        "!mkdir ~/.ivy #It might be necessary to change \".ivy\" to \"ivy\".\n",
        "!cp key.pem ~/.ivy/"
      ],
      "metadata": {
        "id": "NbuJUunHYIwg"
      },
      "execution_count": 10,
      "outputs": []
    },
    {
      "cell_type": "markdown",
      "source": [
        "First we're loading the tokenizer and the model from torch. All of the basic set-up instructions can be found here: https://colab.research.google.com/github/pytorch/pytorch.github.io/blob/master/assets/hub/huggingface_pytorch-transformers.ipynb#scrollTo=72d8f2de"
      ],
      "metadata": {
        "id": "DWCnfosUshGK"
      }
    },
    {
      "cell_type": "code",
      "source": [
        "tokenizer = torch.hub.load('huggingface/pytorch-transformers', 'tokenizer', 'bert-base-cased')\n",
        "model = torch.hub.load('huggingface/pytorch-transformers', 'model', 'bert-base-cased')\n",
        "\n",
        "sequence_classifier = torch.hub.load('huggingface/pytorch-transformers', 'modelForSequenceClassification', 'bert-base-cased')"
      ],
      "metadata": {
        "id": "2rZY3rhisgXZ",
        "colab": {
          "base_uri": "https://localhost:8080/",
          "height": 212,
          "referenced_widgets": [
            "5064ca0710f545c5a1abb9f4c7fe2d05",
            "b8195a1987714b759e4bb27a717f2e0c",
            "e5320b5c413c465f90034f15a8915a09",
            "bd1904f9ffcd43669f6f0ddb0faf57fd",
            "84565e41b05c4e3b84cb8f9c2f08514f",
            "216a6976dbc14958853703c0deae8fea",
            "1f894ef791264dfd8d24220de3ac2867",
            "8a177c76ea0d48ff8a8daf7bf3639a05",
            "6284177c416a42f990a6cfcb0b98a63a",
            "6915298d23484a11a7fac8f126567027",
            "fe6ea908587643728b8d5438cc154da6",
            "b07a93c1582e468b9ccba01b53426fd4",
            "d15e82abe6574ecf8a287bb5e00f410d",
            "7f59c789af6c40569bcc8bc138124c68",
            "db965d84a80e45b08d8fe89a30cdfcbe",
            "a5aaff5ee29242b4839289194d54a9ff",
            "04091ea5751142908cd3fd83f8762e43",
            "aea59310f4264b07b13636b084f1cadb",
            "ffe51531d554449a871c686c536d0f38",
            "a397636d24e44faeb399142babbff39c",
            "94bf29ed90da43bcb3edfd509c2aaa7a",
            "51509cb644704cbd9ab4cee9efa161a0",
            "29e696950a56481f88e92c87e2152c7d",
            "d7224ed0ce1a46358870136323f9364b",
            "f2cafd2689eb45f9a1ec402d0a7434f5",
            "2952453166df4e509c968b4827d1d50e",
            "e3733f5731824fb59988ba6750dc4786",
            "ec7d16537ddf4a08b0a11f67fb2a5a90",
            "a979f214b4524d57b6b8a5b1071361c2",
            "23418cfb67de477ba2957f1ee2023042",
            "2b166493170a41cca392f534f6927724",
            "a455365031444fa8857fb3d386e4b648",
            "5eee59e26318492fb41d1e01736ff8b7",
            "e4ec148b7ebd41f7a5dc349bdf46fd93",
            "ddf253641066476aa11694bded67c373",
            "7f67475329a34a389ab24b16224ac324",
            "41afbf93dafb48788a5773b61cabe6eb",
            "b1eaff643fcd49f7b695d828cf5cdbc7",
            "f779b39a05f74d4d8cfbc188ebc19ba6",
            "91253c16b4744b52870461989fc1dde2",
            "8efb3bc4bc3a47beaebc990e50eaff44",
            "23129f88941a4e6398bed24f4793ed53",
            "0de28a53d9094a56a2d785445ed27fca",
            "4ee545bb622f4e85a6987a36b389d296",
            "07c53c478f234ac998bc1292a5d2dadb",
            "e165aa0efd6b474ebee2ca5a831f5852",
            "54ee207db15842a799c0964e3998e3af",
            "f6fb272083c547b1bb3e4ed20459ed3a",
            "a49ce52cbb0940e9be5b85b65c6e2067",
            "5986b1a96f274c36b656c59fcb8d6946",
            "cd385a9ee3a941d68898700855c77701",
            "65eecc20ddf34a3fa98e0d72d87be63e",
            "4d14f3ca9c5d40ada16600f04b2a24b0",
            "24b16c402397499bb5a455f03d2ab9bf",
            "35238cd832654058b57cd835d9a5d922"
          ]
        },
        "outputId": "e95110f0-665e-425f-b5f7-0e8249f33281"
      },
      "execution_count": null,
      "outputs": [
        {
          "output_type": "stream",
          "name": "stderr",
          "text": [
            "Downloading: \"https://github.com/huggingface/pytorch-transformers/zipball/main\" to /root/.cache/torch/hub/main.zip\n"
          ]
        },
        {
          "output_type": "display_data",
          "data": {
            "text/plain": [
              "tokenizer_config.json:   0%|          | 0.00/49.0 [00:00<?, ?B/s]"
            ],
            "application/vnd.jupyter.widget-view+json": {
              "version_major": 2,
              "version_minor": 0,
              "model_id": "5064ca0710f545c5a1abb9f4c7fe2d05"
            }
          },
          "metadata": {}
        },
        {
          "output_type": "display_data",
          "data": {
            "text/plain": [
              "config.json:   0%|          | 0.00/570 [00:00<?, ?B/s]"
            ],
            "application/vnd.jupyter.widget-view+json": {
              "version_major": 2,
              "version_minor": 0,
              "model_id": "b07a93c1582e468b9ccba01b53426fd4"
            }
          },
          "metadata": {}
        },
        {
          "output_type": "display_data",
          "data": {
            "text/plain": [
              "vocab.txt:   0%|          | 0.00/213k [00:00<?, ?B/s]"
            ],
            "application/vnd.jupyter.widget-view+json": {
              "version_major": 2,
              "version_minor": 0,
              "model_id": "29e696950a56481f88e92c87e2152c7d"
            }
          },
          "metadata": {}
        },
        {
          "output_type": "display_data",
          "data": {
            "text/plain": [
              "tokenizer.json:   0%|          | 0.00/436k [00:00<?, ?B/s]"
            ],
            "application/vnd.jupyter.widget-view+json": {
              "version_major": 2,
              "version_minor": 0,
              "model_id": "e4ec148b7ebd41f7a5dc349bdf46fd93"
            }
          },
          "metadata": {}
        },
        {
          "output_type": "stream",
          "name": "stderr",
          "text": [
            "Using cache found in /root/.cache/torch/hub/huggingface_pytorch-transformers_main\n"
          ]
        },
        {
          "output_type": "display_data",
          "data": {
            "text/plain": [
              "model.safetensors:   0%|          | 0.00/436M [00:00<?, ?B/s]"
            ],
            "application/vnd.jupyter.widget-view+json": {
              "version_major": 2,
              "version_minor": 0,
              "model_id": "07c53c478f234ac998bc1292a5d2dadb"
            }
          },
          "metadata": {}
        }
      ]
    },
    {
      "cell_type": "code",
      "source": [
        "from ivy.stateful.module import Module\n",
        "from ivy.stateful.sequential import Sequential\n",
        "from ivy.stateful.layers import *\n",
        "from ivy.stateful.losses import *\n",
        "from ivy.stateful.optimizers import *\n",
        "from ivy.stateful.activations import *\n",
        "from ivy.stateful.initializers import *\n",
        "from ivy.stateful.norms import *"
      ],
      "metadata": {
        "id": "b0MdcERZYS_6"
      },
      "execution_count": null,
      "outputs": []
    },
    {
      "cell_type": "code",
      "source": [
        "ivy.set_backend(\"tensorflow\")\n",
        "ivy.set_soft_device_mode(True)\n",
        "#tokenizer_tf = ivy.transpile(tokenizer, source=\"torch\", to=\"tensorflow\")\n",
        "#model_pd = ivy.to_ivy_module(model)\n",
        "#model_pd = model_pd.trace_graph()\n",
        "#model_pd = model_pd.set_backend(\"tensorflow\")\n",
        "model_tf = ivy.transpile(model, source=\"torch\", to=\"tensorflow\")\n",
        "sequence_classifier_tf = ivy.transpile(sequence_classifier, source=\"torch\", to=\"tensorflow\")"
      ],
      "metadata": {
        "id": "W6alZ3W1VtOz"
      },
      "execution_count": null,
      "outputs": []
    },
    {
      "cell_type": "code",
      "source": [
        "df = pd.read_csv(\"/content/demos/Contributor_demos/Sarcasm Detection/train-balanced-sarcasm.csv\")\n",
        "df = df.drop_duplicates()\n",
        "df = df.rename(columns={'comment': 'title'})\n",
        "df = df[['label', 'title']]\n",
        "df = df[~df['label'].isnull()]\n",
        "df = df[~df['title'].isnull()]\n",
        "df.sample(5)"
      ],
      "metadata": {
        "id": "5RdJOhqgYDph"
      },
      "execution_count": null,
      "outputs": []
    },
    {
      "cell_type": "code",
      "source": [
        "def count_words(text: str) -> int:\n",
        "  return len(text.split())\n",
        "\n",
        "def count_symbols(text: str) -> int:\n",
        "  return len(\"\".join(text.split()))\n",
        "\n",
        "def symbol_to_word_ratio(text: str) -> float:\n",
        "  return count_symbols(text)/count_words(text)\n",
        "\n",
        "def upper_lower_ratio(text: str) -> float:\n",
        "  text = \"\".join(text.split())\n",
        "  return sum(1 for c in text if c.isupper())/(max([sum(1 for c in text if c.islower()), 1]))\n",
        "\n",
        "df['word_count'] = df[\"title\"].apply(count_words)\n",
        "df['symbol_count'] = df[\"title\"].apply(count_symbols)\n",
        "df[\"upper_lower_ratio\"] = df[\"title\"].apply(upper_lower_ratio)\n",
        "df[\"symbol_to_word_ratio\"] = df[\"title\"].apply(symbol_to_word_ratio)\n",
        "df.sample(5)"
      ],
      "metadata": {
        "id": "BVA6U5Y0c7vg"
      },
      "execution_count": null,
      "outputs": []
    },
    {
      "cell_type": "markdown",
      "source": [
        "A few plots to see some some characteristics of the data."
      ],
      "metadata": {
        "id": "YY9ru5DbJqxa"
      }
    },
    {
      "cell_type": "code",
      "source": [
        "df_no_sarc = df.where(df[\"label\"] == 0)\n",
        "df_no_sarc = df_no_sarc.where(df_no_sarc[\"word_count\"] <= 51)\n",
        "df_sarc = df.where(df[\"label\"] == 1)\n",
        "df_sarc = df_sarc.where(df_sarc[\"word_count\"] <= 51)\n",
        "df_no_sarc = df_no_sarc[np.isfinite(df_no_sarc[\"word_count\"])]\n",
        "df_sarc = df_sarc[np.isfinite(df_sarc[\"word_count\"])]\n",
        "plt.style.use('_mpl-gallery-nogrid')\n",
        "\n",
        "hist_df_no_sarc, bin_edges_no = np.histogram(df_no_sarc[\"word_count\"].values, density=True)\n",
        "hist_df_sarc, bin_edges = np.histogram(df_sarc[\"word_count\"].values, density=True)\n",
        "# plot:\n",
        "fig, (ax1, ax2) = plt.subplots(1, 2, figsize=(12, 5))\n",
        "\n",
        "bin_mids_no = [(bin_edges_no[i+1] + bin_edges_no[i])/2 for i in range(len(bin_edges_no) - 1)]\n",
        "bin_mids = [(bin_edges[i+1] + bin_edges[i])/2 for i in range(len(bin_edges) - 1)]\n",
        "ax1.bar(bin_mids_no, hist_df_no_sarc, width=bin_edges_no[1] - bin_edges_no[0])\n",
        "ax2.bar(bin_mids, hist_df_sarc, width=bin_edges[1] - bin_edges[0])\n",
        "ax1.set_title(\"Hist no sarcasm\")\n",
        "ax1.set_ylabel(\"density\")\n",
        "ax1.set_xlabel(\"word count\")\n",
        "ax1.set_xticks(bin_edges_no)\n",
        "ax1.grid(True)\n",
        "ax2.set_title(\"Hist sarcasm\")\n",
        "ax2.set_xlabel(\"word count\")\n",
        "ax2.set_xticks(bin_edges)\n",
        "ax2.grid(True)\n",
        "plt.show()"
      ],
      "metadata": {
        "id": "_LEHSFedgIBq"
      },
      "execution_count": null,
      "outputs": []
    },
    {
      "cell_type": "code",
      "source": [
        "df_no_sarc = df.where(df[\"label\"] == 0)\n",
        "df_no_sarc = df_no_sarc.where(df_no_sarc[\"symbol_count\"] <= 201)\n",
        "df_sarc = df.where(df[\"label\"] == 1)\n",
        "df_sarc = df_sarc.where(df_sarc[\"symbol_count\"] <= 201)\n",
        "df_no_sarc = df_no_sarc[np.isfinite(df_no_sarc[\"symbol_count\"])]\n",
        "df_sarc = df_sarc[np.isfinite(df_sarc[\"symbol_count\"])]\n",
        "plt.style.use('_mpl-gallery-nogrid')\n",
        "\n",
        "hist_df_no_sarc, bin_edges_no = np.histogram(df_no_sarc[\"symbol_count\"].values, density=True)\n",
        "hist_df_sarc, bin_edges = np.histogram(df_sarc[\"symbol_count\"].values, density=True)\n",
        "# plot:\n",
        "fig, (ax1, ax2) = plt.subplots(1, 2, figsize=(12, 5))\n",
        "\n",
        "bin_mids_no = [(bin_edges_no[i+1] + bin_edges_no[i])/2 for i in range(len(bin_edges_no) - 1)]\n",
        "bin_mids = [(bin_edges[i+1] + bin_edges[i])/2 for i in range(len(bin_edges) - 1)]\n",
        "ax1.bar(bin_mids_no, hist_df_no_sarc, width=bin_edges_no[1] - bin_edges_no[0])\n",
        "ax2.bar(bin_mids, hist_df_sarc, width=bin_edges[1] - bin_edges[0])\n",
        "ax1.set_title(\"Hist no sarcasm\")\n",
        "ax1.set_ylabel(\"density\")\n",
        "ax1.set_xlabel(\"symbol count\")\n",
        "ax1.set_xticks(bin_edges_no)\n",
        "ax1.grid(True)\n",
        "ax2.set_title(\"Hist sarcasm\")\n",
        "ax2.set_xlabel(\"symbol count\")\n",
        "ax2.set_xticks(bin_edges)\n",
        "ax2.grid(True)\n",
        "plt.show()"
      ],
      "metadata": {
        "id": "RcYhYzfygLc9"
      },
      "execution_count": null,
      "outputs": []
    },
    {
      "cell_type": "code",
      "source": [
        "df_no_sarc = df.where(df[\"label\"] == 0)\n",
        "df_no_sarc = df_no_sarc.where(df_no_sarc[\"upper_lower_ratio\"] <= 0.3)\n",
        "df_sarc = df.where(df[\"label\"] == 1)\n",
        "df_sarc = df_sarc.where(df_sarc[\"upper_lower_ratio\"] <= 0.3)\n",
        "df_no_sarc = df_no_sarc[np.isfinite(df_no_sarc[\"upper_lower_ratio\"])]\n",
        "df_sarc = df_sarc[np.isfinite(df_sarc[\"upper_lower_ratio\"])]\n",
        "plt.style.use('_mpl-gallery-nogrid')\n",
        "\n",
        "hist_df_no_sarc, bin_edges_no = np.histogram(df_no_sarc[\"upper_lower_ratio\"].values, density=True)\n",
        "hist_df_sarc, bin_edges = np.histogram(df_sarc[\"upper_lower_ratio\"].values, density=True)\n",
        "# plot:\n",
        "fig, (ax1, ax2) = plt.subplots(1, 2, figsize=(12, 5))\n",
        "\n",
        "bin_mids_no = [(bin_edges_no[i+1] + bin_edges_no[i])/2 for i in range(len(bin_edges_no) - 1)]\n",
        "bin_mids = [(bin_edges[i+1] + bin_edges[i])/2 for i in range(len(bin_edges) - 1)]\n",
        "ax1.bar(bin_mids_no, hist_df_no_sarc, width=bin_edges_no[1] - bin_edges_no[0])\n",
        "ax2.bar(bin_mids, hist_df_sarc, width=bin_edges[1] - bin_edges[0])\n",
        "ax1.set_title(\"Hist no sarcasm\")\n",
        "ax1.set_ylabel(\"density\")\n",
        "ax1.set_xlabel(\"upper/lower ratio\")\n",
        "ax1.set_xticks(bin_edges_no)\n",
        "ax1.grid(True)\n",
        "ax2.set_title(\"Hist sarcasm\")\n",
        "ax2.set_xlabel(\"upper/lower ratio\")\n",
        "ax2.set_xticks(bin_edges)\n",
        "ax2.grid(True)\n",
        "plt.show()"
      ],
      "metadata": {
        "id": "vvKbuhLaDaSP"
      },
      "execution_count": null,
      "outputs": []
    },
    {
      "cell_type": "code",
      "source": [
        "df_no_sarc = df.where(df[\"label\"] == 0)\n",
        "df_no_sarc = df_no_sarc.where(df_no_sarc[\"symbol_to_word_ratio\"] <= 11)\n",
        "df_sarc = df.where(df[\"label\"] == 1)\n",
        "df_sarc = df_sarc.where(df_sarc[\"symbol_to_word_ratio\"] <= 11)\n",
        "df_no_sarc = df_no_sarc[np.isfinite(df_no_sarc[\"symbol_to_word_ratio\"])]\n",
        "df_sarc = df_sarc[np.isfinite(df_sarc[\"symbol_to_word_ratio\"])]\n",
        "plt.style.use('_mpl-gallery-nogrid')\n",
        "\n",
        "hist_df_no_sarc, bin_edges_no = np.histogram(df_no_sarc[\"symbol_to_word_ratio\"].values, density=True)\n",
        "hist_df_sarc, bin_edges = np.histogram(df_sarc[\"symbol_to_word_ratio\"].values, density=True)\n",
        "# plot:\n",
        "fig, (ax1, ax2) = plt.subplots(1, 2, figsize=(12, 5))\n",
        "\n",
        "bin_mids_no = [(bin_edges_no[i+1] + bin_edges_no[i])/2 for i in range(len(bin_edges_no) - 1)]\n",
        "bin_mids = [(bin_edges[i+1] + bin_edges[i])/2 for i in range(len(bin_edges) - 1)]\n",
        "ax1.bar(bin_mids_no, hist_df_no_sarc, width=bin_edges_no[1] - bin_edges_no[0])\n",
        "ax2.bar(bin_mids, hist_df_sarc, width=bin_edges[1] - bin_edges[0])\n",
        "ax1.set_title(\"Hist no sarcasm\")\n",
        "ax1.set_ylabel(\"density\")\n",
        "ax1.set_xlabel(\"symbols/words ratio\")\n",
        "ax1.set_xticks(bin_edges_no)\n",
        "ax1.grid(True)\n",
        "ax2.set_title(\"Hist sarcasm\")\n",
        "ax2.set_xlabel(\"symbols/words ratio\")\n",
        "ax2.set_xticks(bin_edges)\n",
        "ax2.grid(True)\n",
        "plt.show()"
      ],
      "metadata": {
        "id": "HkuIzb1JF1U1"
      },
      "execution_count": null,
      "outputs": []
    },
    {
      "cell_type": "code",
      "source": [],
      "metadata": {
        "id": "WGVjdx1oIoKo"
      },
      "execution_count": null,
      "outputs": []
    },
    {
      "cell_type": "markdown",
      "source": [
        "Checking if the tokenizer, encoder/decoder and classifier work."
      ],
      "metadata": {
        "id": "86gm5mdio9Hf"
      }
    },
    {
      "cell_type": "code",
      "source": [
        "input = df[\"title\"][1]\n",
        "print(f\"The raw input: \\n{input}\\n\")\n",
        "token = tokenizer(input, return_tensors=\"pt\", add_special_tokens=True)\n",
        "print(f\"The token: \\n{token}\\n\")\n",
        "with torch.no_grad():\n",
        "  encoded_token = model(**token)\n",
        "print(f\"The encoded token: \\n{encoded_token}\\n\")"
      ],
      "metadata": {
        "id": "8UvKrBTwpECS"
      },
      "execution_count": null,
      "outputs": []
    },
    {
      "cell_type": "markdown",
      "source": [
        "Checking if the transpiled tokenizer, encoder/decoder and classifier work."
      ],
      "metadata": {
        "id": "kcogrroTrFTg"
      }
    },
    {
      "cell_type": "code",
      "source": [
        "input = df[\"title\"][1]\n",
        "print(f\"The raw input: \\n{input}\\n\")\n",
        "token = tokenizer.encode(input, return_tensors=\"tf\", add_special_tokens=True)\n",
        "print(f\"The token: \\n{token}\\n\")\n",
        "#input_ids, token_type_ids, attention_mask = token[\"input_ids\"], token[\"token_type_ids\"], token[\"attention_mask\"]\n",
        "encoded_token = model_tf(token)\n",
        "print(f\"The encoded token: \\n{encoded_token}\\n\")"
      ],
      "metadata": {
        "id": "mYy0M5oapJjD"
      },
      "execution_count": null,
      "outputs": []
    },
    {
      "cell_type": "markdown",
      "source": [
        "A quick check whether transpiling to paddle works as intended."
      ],
      "metadata": {
        "id": "MP4JRoYbGbpC"
      }
    },
    {
      "cell_type": "code",
      "source": [
        "class Network(torch.nn.Module):\n",
        "\n",
        "    def __init__(self):\n",
        "     super().__init__()\n",
        "     self._linear = torch.nn.Linear(3, 3)\n",
        "\n",
        "    def forward(self, x):\n",
        "     return self._linear(x)\n",
        "\n",
        "x = torch.tensor([1., 2., 3.])\n",
        "net = Network()\n",
        "net(x)"
      ],
      "metadata": {
        "id": "kEUO3sSCrRYf"
      },
      "execution_count": null,
      "outputs": []
    },
    {
      "cell_type": "code",
      "source": [
        "ivy.set_backend(\"paddle\")\n",
        "net_pd = ivy.transpile(net, source=\"torch\", to=\"paddle\")\n",
        "x_pd = paddle.to_tensor([1., 2., 3.])\n",
        "net_pd(x_pd)"
      ],
      "metadata": {
        "id": "5y7xNkstJKas"
      },
      "execution_count": null,
      "outputs": []
    },
    {
      "cell_type": "markdown",
      "source": [
        "Setting up the classifier based on BERT's sequence classifier model."
      ],
      "metadata": {
        "id": "hB-1iHnoBjBZ"
      }
    },
    {
      "cell_type": "code",
      "source": [
        "class Classifier(torch.nn.Module):\n",
        "    def __init__(self, num_classes=2):\n",
        "        super(Classifier, self).__init__()\n",
        "        self.tokenizer = tokenizer\n",
        "        self.model = sequence_classifier\n",
        "\n",
        "    def forward(self, x):\n",
        "        x = self.tokenizer(x, return_tensors=\"pt\", add_special_tokens=True)\n",
        "        x = self.model(**x)\n",
        "        return x\n",
        "\n",
        "input = df[\"title\"][1]\n",
        "print(input)\n",
        "classifier = Classifier()\n",
        "print(classifier(input))\n",
        "\n",
        "ivy.set_backend(\"paddle\")\n",
        "classifier_pd = ivy.transpile(classifier, source=\"torch\", to=\"paddle\")\n",
        "print(classifier_pd(input))\n",
        "print(f\"Layers: {classifier_pd.sublayers()}\")"
      ],
      "metadata": {
        "id": "m3gMHZMdovuU"
      },
      "execution_count": null,
      "outputs": []
    },
    {
      "cell_type": "markdown",
      "source": [
        "Setting up the training and training the model."
      ],
      "metadata": {
        "id": "bGiRydXsFkdR"
      }
    },
    {
      "cell_type": "code",
      "source": [
        "import paddle.distributed as dist\n",
        "def one_hot(input):\n",
        "  input = paddle.to_tensor(input)\n",
        "  return paddle.nn.functional.one_hot(input, num_classes=2)\n",
        "\n",
        "if type(df['label'][1]) is int:\n",
        "  df['label'] = df['label'].map(one_hot)\n",
        "\n",
        "print(df.sample(5))\n",
        "\n",
        "train_dataset = df[['title', 'label']]\n",
        "test_dataset = df[['title', 'label']]"
      ],
      "metadata": {
        "id": "V9QJNQepK4U1"
      },
      "execution_count": null,
      "outputs": []
    },
    {
      "cell_type": "code",
      "source": [
        "\n",
        "\n",
        "train_loader = paddle.io.DataLoader(train_dataset, batch_size=64, shuffle=True)\n",
        "\n",
        "def train(model):\n",
        "\n",
        "  parameters = model.parameters()\n",
        "  adam = paddle.optimizer.Adam(learning_rate=0.001, parameters=model.parameters())\n",
        "  loss_fn = paddle.nn.CrossEntropyLoss()\n",
        "  metric = paddle.metric.Accuracy()\n",
        "  epochs = 2\n",
        "  classifier = paddle.DataParallel(model)\n",
        "\n",
        "  for epoch in range(epochs):\n",
        "    for batch_id, data in enumerate(train_loader()):\n",
        "      x_data = data[0]\n",
        "      y_data = data[1]\n",
        "      predicts = classifier(x_data)\n",
        "      acc = paddle.metric.accuracy(predicts, y_data)\n",
        "      loss = loss_fn(predicts, y_data)\n",
        "      loss.backward()\n",
        "      if batch_id % 100 == 0:\n",
        "          print(\"epoch: {}, batch_id: {}, loss is: {}, acc is: {}\".format(epoch, batch_id, loss.numpy(), acc.numpy()))\n",
        "      adam.step()\n",
        "      adam.clear_grad()"
      ],
      "metadata": {
        "id": "LLZwipjSDGAf"
      },
      "execution_count": null,
      "outputs": []
    },
    {
      "cell_type": "code",
      "source": [],
      "metadata": {
        "id": "4k21SfgTrEKL"
      },
      "execution_count": null,
      "outputs": []
    }
  ]
}