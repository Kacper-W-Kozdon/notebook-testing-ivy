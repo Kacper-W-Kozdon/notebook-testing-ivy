{
  "nbformat": 4,
  "nbformat_minor": 0,
  "metadata": {
    "colab": {
      "provenance": [],
      "gpuType": "T4",
      "include_colab_link": true
    },
    "kernelspec": {
      "name": "python3",
      "display_name": "Python 3"
    },
    "language_info": {
      "name": "python"
    },
    "accelerator": "GPU"
  },
  "cells": [
    {
      "cell_type": "markdown",
      "metadata": {
        "id": "view-in-github",
        "colab_type": "text"
      },
      "source": [
        "<a href=\"https://colab.research.google.com/github/Kacper-W-Kozdon/notebook-testing-ivy/blob/main/Sarcasm_Detection.ipynb\" target=\"_parent\"><img src=\"https://colab.research.google.com/assets/colab-badge.svg\" alt=\"Open In Colab\"/></a>"
      ]
    },
    {
      "cell_type": "markdown",
      "source": [
        "# IVY TRANSPILER"
      ],
      "metadata": {
        "id": "s2B-C0ETR8j-"
      }
    },
    {
      "cell_type": "markdown",
      "source": [
        "Installing kaggle and uploading the API key necessary to use it."
      ],
      "metadata": {
        "id": "lVY3Z4myS1O4"
      }
    },
    {
      "cell_type": "code",
      "source": [
        "!pip install -q kaggle\n",
        "from google.colab import files\n",
        "from google.colab import userdata\n",
        "import os\n",
        "files.upload(); #Upload kaggle.json - you can get from the kaggle account settings, from the API section."
      ],
      "metadata": {
        "id": "7R4luV8tSDFn",
        "colab": {
          "base_uri": "https://localhost:8080/",
          "height": 73
        },
        "outputId": "037d9bbd-e6e7-468c-d523-23af01e07d74"
      },
      "execution_count": 1,
      "outputs": [
        {
          "output_type": "display_data",
          "data": {
            "text/plain": [
              "<IPython.core.display.HTML object>"
            ],
            "text/html": [
              "\n",
              "     <input type=\"file\" id=\"files-c3413392-ed20-4a3e-b75c-fd900372cdea\" name=\"files[]\" multiple disabled\n",
              "        style=\"border:none\" />\n",
              "     <output id=\"result-c3413392-ed20-4a3e-b75c-fd900372cdea\">\n",
              "      Upload widget is only available when the cell has been executed in the\n",
              "      current browser session. Please rerun this cell to enable.\n",
              "      </output>\n",
              "      <script>// Copyright 2017 Google LLC\n",
              "//\n",
              "// Licensed under the Apache License, Version 2.0 (the \"License\");\n",
              "// you may not use this file except in compliance with the License.\n",
              "// You may obtain a copy of the License at\n",
              "//\n",
              "//      http://www.apache.org/licenses/LICENSE-2.0\n",
              "//\n",
              "// Unless required by applicable law or agreed to in writing, software\n",
              "// distributed under the License is distributed on an \"AS IS\" BASIS,\n",
              "// WITHOUT WARRANTIES OR CONDITIONS OF ANY KIND, either express or implied.\n",
              "// See the License for the specific language governing permissions and\n",
              "// limitations under the License.\n",
              "\n",
              "/**\n",
              " * @fileoverview Helpers for google.colab Python module.\n",
              " */\n",
              "(function(scope) {\n",
              "function span(text, styleAttributes = {}) {\n",
              "  const element = document.createElement('span');\n",
              "  element.textContent = text;\n",
              "  for (const key of Object.keys(styleAttributes)) {\n",
              "    element.style[key] = styleAttributes[key];\n",
              "  }\n",
              "  return element;\n",
              "}\n",
              "\n",
              "// Max number of bytes which will be uploaded at a time.\n",
              "const MAX_PAYLOAD_SIZE = 100 * 1024;\n",
              "\n",
              "function _uploadFiles(inputId, outputId) {\n",
              "  const steps = uploadFilesStep(inputId, outputId);\n",
              "  const outputElement = document.getElementById(outputId);\n",
              "  // Cache steps on the outputElement to make it available for the next call\n",
              "  // to uploadFilesContinue from Python.\n",
              "  outputElement.steps = steps;\n",
              "\n",
              "  return _uploadFilesContinue(outputId);\n",
              "}\n",
              "\n",
              "// This is roughly an async generator (not supported in the browser yet),\n",
              "// where there are multiple asynchronous steps and the Python side is going\n",
              "// to poll for completion of each step.\n",
              "// This uses a Promise to block the python side on completion of each step,\n",
              "// then passes the result of the previous step as the input to the next step.\n",
              "function _uploadFilesContinue(outputId) {\n",
              "  const outputElement = document.getElementById(outputId);\n",
              "  const steps = outputElement.steps;\n",
              "\n",
              "  const next = steps.next(outputElement.lastPromiseValue);\n",
              "  return Promise.resolve(next.value.promise).then((value) => {\n",
              "    // Cache the last promise value to make it available to the next\n",
              "    // step of the generator.\n",
              "    outputElement.lastPromiseValue = value;\n",
              "    return next.value.response;\n",
              "  });\n",
              "}\n",
              "\n",
              "/**\n",
              " * Generator function which is called between each async step of the upload\n",
              " * process.\n",
              " * @param {string} inputId Element ID of the input file picker element.\n",
              " * @param {string} outputId Element ID of the output display.\n",
              " * @return {!Iterable<!Object>} Iterable of next steps.\n",
              " */\n",
              "function* uploadFilesStep(inputId, outputId) {\n",
              "  const inputElement = document.getElementById(inputId);\n",
              "  inputElement.disabled = false;\n",
              "\n",
              "  const outputElement = document.getElementById(outputId);\n",
              "  outputElement.innerHTML = '';\n",
              "\n",
              "  const pickedPromise = new Promise((resolve) => {\n",
              "    inputElement.addEventListener('change', (e) => {\n",
              "      resolve(e.target.files);\n",
              "    });\n",
              "  });\n",
              "\n",
              "  const cancel = document.createElement('button');\n",
              "  inputElement.parentElement.appendChild(cancel);\n",
              "  cancel.textContent = 'Cancel upload';\n",
              "  const cancelPromise = new Promise((resolve) => {\n",
              "    cancel.onclick = () => {\n",
              "      resolve(null);\n",
              "    };\n",
              "  });\n",
              "\n",
              "  // Wait for the user to pick the files.\n",
              "  const files = yield {\n",
              "    promise: Promise.race([pickedPromise, cancelPromise]),\n",
              "    response: {\n",
              "      action: 'starting',\n",
              "    }\n",
              "  };\n",
              "\n",
              "  cancel.remove();\n",
              "\n",
              "  // Disable the input element since further picks are not allowed.\n",
              "  inputElement.disabled = true;\n",
              "\n",
              "  if (!files) {\n",
              "    return {\n",
              "      response: {\n",
              "        action: 'complete',\n",
              "      }\n",
              "    };\n",
              "  }\n",
              "\n",
              "  for (const file of files) {\n",
              "    const li = document.createElement('li');\n",
              "    li.append(span(file.name, {fontWeight: 'bold'}));\n",
              "    li.append(span(\n",
              "        `(${file.type || 'n/a'}) - ${file.size} bytes, ` +\n",
              "        `last modified: ${\n",
              "            file.lastModifiedDate ? file.lastModifiedDate.toLocaleDateString() :\n",
              "                                    'n/a'} - `));\n",
              "    const percent = span('0% done');\n",
              "    li.appendChild(percent);\n",
              "\n",
              "    outputElement.appendChild(li);\n",
              "\n",
              "    const fileDataPromise = new Promise((resolve) => {\n",
              "      const reader = new FileReader();\n",
              "      reader.onload = (e) => {\n",
              "        resolve(e.target.result);\n",
              "      };\n",
              "      reader.readAsArrayBuffer(file);\n",
              "    });\n",
              "    // Wait for the data to be ready.\n",
              "    let fileData = yield {\n",
              "      promise: fileDataPromise,\n",
              "      response: {\n",
              "        action: 'continue',\n",
              "      }\n",
              "    };\n",
              "\n",
              "    // Use a chunked sending to avoid message size limits. See b/62115660.\n",
              "    let position = 0;\n",
              "    do {\n",
              "      const length = Math.min(fileData.byteLength - position, MAX_PAYLOAD_SIZE);\n",
              "      const chunk = new Uint8Array(fileData, position, length);\n",
              "      position += length;\n",
              "\n",
              "      const base64 = btoa(String.fromCharCode.apply(null, chunk));\n",
              "      yield {\n",
              "        response: {\n",
              "          action: 'append',\n",
              "          file: file.name,\n",
              "          data: base64,\n",
              "        },\n",
              "      };\n",
              "\n",
              "      let percentDone = fileData.byteLength === 0 ?\n",
              "          100 :\n",
              "          Math.round((position / fileData.byteLength) * 100);\n",
              "      percent.textContent = `${percentDone}% done`;\n",
              "\n",
              "    } while (position < fileData.byteLength);\n",
              "  }\n",
              "\n",
              "  // All done.\n",
              "  yield {\n",
              "    response: {\n",
              "      action: 'complete',\n",
              "    }\n",
              "  };\n",
              "}\n",
              "\n",
              "scope.google = scope.google || {};\n",
              "scope.google.colab = scope.google.colab || {};\n",
              "scope.google.colab._files = {\n",
              "  _uploadFiles,\n",
              "  _uploadFilesContinue,\n",
              "};\n",
              "})(self);\n",
              "</script> "
            ]
          },
          "metadata": {}
        },
        {
          "output_type": "stream",
          "name": "stdout",
          "text": [
            "Saving kaggle.json to kaggle.json\n"
          ]
        }
      ]
    },
    {
      "cell_type": "markdown",
      "source": [
        "Installing packages necessary to use torch's transformers."
      ],
      "metadata": {
        "id": "GRyxyRkNqONt"
      }
    },
    {
      "cell_type": "code",
      "source": [
        "!pip install tqdm boto3 requests regex sentencepiece sacremoses"
      ],
      "metadata": {
        "id": "yhD653HGqOj2",
        "colab": {
          "base_uri": "https://localhost:8080/"
        },
        "outputId": "f318dd0d-df6e-4fb6-efa4-b67a91611218"
      },
      "execution_count": 2,
      "outputs": [
        {
          "output_type": "stream",
          "name": "stdout",
          "text": [
            "Requirement already satisfied: tqdm in /usr/local/lib/python3.10/dist-packages (4.66.2)\n",
            "Collecting boto3\n",
            "  Downloading boto3-1.34.76-py3-none-any.whl (139 kB)\n",
            "\u001b[2K     \u001b[90m━━━━━━━━━━━━━━━━━━━━━━━━━━━━━━━━━━━━━━━━\u001b[0m \u001b[32m139.3/139.3 kB\u001b[0m \u001b[31m2.8 MB/s\u001b[0m eta \u001b[36m0:00:00\u001b[0m\n",
            "\u001b[?25hRequirement already satisfied: requests in /usr/local/lib/python3.10/dist-packages (2.31.0)\n",
            "Requirement already satisfied: regex in /usr/local/lib/python3.10/dist-packages (2023.12.25)\n",
            "Requirement already satisfied: sentencepiece in /usr/local/lib/python3.10/dist-packages (0.1.99)\n",
            "Collecting sacremoses\n",
            "  Downloading sacremoses-0.1.1-py3-none-any.whl (897 kB)\n",
            "\u001b[2K     \u001b[90m━━━━━━━━━━━━━━━━━━━━━━━━━━━━━━━━━━━━━━━━\u001b[0m \u001b[32m897.5/897.5 kB\u001b[0m \u001b[31m9.3 MB/s\u001b[0m eta \u001b[36m0:00:00\u001b[0m\n",
            "\u001b[?25hCollecting botocore<1.35.0,>=1.34.76 (from boto3)\n",
            "  Downloading botocore-1.34.76-py3-none-any.whl (12.1 MB)\n",
            "\u001b[2K     \u001b[90m━━━━━━━━━━━━━━━━━━━━━━━━━━━━━━━━━━━━━━━━\u001b[0m \u001b[32m12.1/12.1 MB\u001b[0m \u001b[31m27.4 MB/s\u001b[0m eta \u001b[36m0:00:00\u001b[0m\n",
            "\u001b[?25hCollecting jmespath<2.0.0,>=0.7.1 (from boto3)\n",
            "  Downloading jmespath-1.0.1-py3-none-any.whl (20 kB)\n",
            "Collecting s3transfer<0.11.0,>=0.10.0 (from boto3)\n",
            "  Downloading s3transfer-0.10.1-py3-none-any.whl (82 kB)\n",
            "\u001b[2K     \u001b[90m━━━━━━━━━━━━━━━━━━━━━━━━━━━━━━━━━━━━━━━━\u001b[0m \u001b[32m82.2/82.2 kB\u001b[0m \u001b[31m8.5 MB/s\u001b[0m eta \u001b[36m0:00:00\u001b[0m\n",
            "\u001b[?25hRequirement already satisfied: charset-normalizer<4,>=2 in /usr/local/lib/python3.10/dist-packages (from requests) (3.3.2)\n",
            "Requirement already satisfied: idna<4,>=2.5 in /usr/local/lib/python3.10/dist-packages (from requests) (3.6)\n",
            "Requirement already satisfied: urllib3<3,>=1.21.1 in /usr/local/lib/python3.10/dist-packages (from requests) (2.0.7)\n",
            "Requirement already satisfied: certifi>=2017.4.17 in /usr/local/lib/python3.10/dist-packages (from requests) (2024.2.2)\n",
            "Requirement already satisfied: click in /usr/local/lib/python3.10/dist-packages (from sacremoses) (8.1.7)\n",
            "Requirement already satisfied: joblib in /usr/local/lib/python3.10/dist-packages (from sacremoses) (1.3.2)\n",
            "Requirement already satisfied: python-dateutil<3.0.0,>=2.1 in /usr/local/lib/python3.10/dist-packages (from botocore<1.35.0,>=1.34.76->boto3) (2.8.2)\n",
            "Requirement already satisfied: six>=1.5 in /usr/local/lib/python3.10/dist-packages (from python-dateutil<3.0.0,>=2.1->botocore<1.35.0,>=1.34.76->boto3) (1.16.0)\n",
            "Installing collected packages: sacremoses, jmespath, botocore, s3transfer, boto3\n",
            "Successfully installed boto3-1.34.76 botocore-1.34.76 jmespath-1.0.1 s3transfer-0.10.1 sacremoses-0.1.1\n"
          ]
        }
      ]
    },
    {
      "cell_type": "markdown",
      "source": [
        "To use the API, credentials need to be copied into the kaggle folder. If everything works, the output will show the list of available datasets."
      ],
      "metadata": {
        "id": "aCN2c1DGTbVM"
      }
    },
    {
      "cell_type": "code",
      "source": [
        "!mkdir ~/.kaggle\n",
        "!cp kaggle.json ~/.kaggle/\n",
        "!chmod 600 ~/.kaggle/kaggle.json\n",
        "!kaggle datasets list"
      ],
      "metadata": {
        "id": "JfGZETFqTOla",
        "colab": {
          "base_uri": "https://localhost:8080/"
        },
        "outputId": "c9212a90-738d-4d23-e10a-cc0fb8a3caac"
      },
      "execution_count": 3,
      "outputs": [
        {
          "output_type": "stream",
          "name": "stdout",
          "text": [
            "Warning: Looks like you're using an outdated API Version, please consider updating (server 1.6.7 / client 1.5.16)\n",
            "ref                                                  title                                          size  lastUpdated          downloadCount  voteCount  usabilityRating  \n",
            "---------------------------------------------------  --------------------------------------------  -----  -------------------  -------------  ---------  ---------------  \n",
            "sudarshan24byte/online-food-dataset                  Online Food Dataset                             3KB  2024-03-02 18:50:30          16921        333  0.9411765        \n",
            "sukhmandeepsinghbrar/heart-attack-dataset            Heart Attack Dataset                           16KB  2024-03-30 05:14:35           1089         25  1.0              \n",
            "divu2001/coffee-shop-sales-analysis                  Coffee Shop Sales Analysis                      2MB  2024-03-30 10:57:57           1072         27  1.0              \n",
            "syedanwarafridi/vehicle-sales-data                   Vehicle Sales Data                             19MB  2024-02-21 20:16:17          23626        383  1.0              \n",
            "bhavikjikadara/student-study-performance             Student Study Performance                       9KB  2024-03-07 06:14:09           8562        118  1.0              \n",
            "saurabhbadole/latest-data-science-job-salaries-2024  Latest Data Science Job Salaries 2020 - 2024   69KB  2024-03-26 19:00:33           1181         29  1.0              \n",
            "lovishbansal123/sales-of-a-supermarket               Sales of a Supermarket                         36KB  2024-03-26 12:38:06           2050         35  1.0              \n",
            "nbroad/gemma-rewrite-nbroad                          gemma-rewrite-nbroad                            8MB  2024-03-03 04:52:39           1194         86  1.0              \n",
            "sukhmandeepsinghbrar/car-price-prediction-dataset    Car Price Prediction Dataset                  141KB  2024-03-28 08:27:39            916         30  1.0              \n",
            "kanchana1990/world-air-quality-data-2024-updated     World Air Quality Data 2024 (Updated)           2MB  2024-03-25 15:10:07           1772         47  1.0              \n",
            "anandshaw2001/airlines-reviews-and-rating            Airlines Reviews and Rating                     1MB  2024-03-24 17:13:19            953         26  1.0              \n",
            "sahirmaharajj/fuel-economy                           Vehicle Fuel Economy                            1MB  2024-03-20 18:27:18           1614         36  1.0              \n",
            "aryanverma99/ipl-2024-player-lifetime-dataset        IPL 2024: Player Lifetime Dataset              33KB  2024-03-29 04:26:07            316         26  1.0              \n",
            "mahdiehhajian/energy-consumption                     Energy Consumption                             18KB  2024-03-29 17:30:54            484         34  0.9411765        \n",
            "prishasawhney/imdb-dataset-top-2000-movies           IMDB Dataset (Top 2000 movies)                 75KB  2024-03-27 18:51:36            786         26  1.0              \n",
            "susanta21/real-student-mbb-degree-college-data       Student General Degree College Data           426KB  2024-03-30 11:26:10            814         30  1.0              \n",
            "tanishqdublish/vehcile-fuel-consumption              Vehicle Fuel consumption                        1MB  2024-03-28 07:18:39            736         29  1.0              \n",
            "bhavikjikadara/mental-health-dataset                 Mental Health Dataset                           2MB  2024-03-18 06:05:16           2507         47  1.0              \n",
            "nartaa/features-head-starter-models                  Features+Head Starter Models                    3GB  2024-03-31 06:59:48            475         31  1.0              \n",
            "arnavvvvv/spotify-music                              Top Spotify Songs                              47KB  2024-03-06 05:20:29           7656        101  1.0              \n"
          ]
        }
      ]
    },
    {
      "cell_type": "markdown",
      "source": [],
      "metadata": {
        "id": "P1aQHs-9Tkt2"
      }
    },
    {
      "cell_type": "markdown",
      "source": [
        "Preparing the ivy library."
      ],
      "metadata": {
        "id": "_Sf8EImZT6kZ"
      }
    },
    {
      "cell_type": "code",
      "source": [
        "#Insert the correct user when cloning the repos. Make sure that they are up-to-date.\n",
        "\n",
        "!git clone \"https://github.com/Kacper-W-Kozdon/demos.git\"\n",
        "!git clone \"https://github.com/Kacper-W-Kozdon/ivy.git\"\n",
        "!pip install -U -q paddlepaddle ivy accelerate>=0.21.0 mlflow datasets>=2.14.5 nlp 2>/dev/null"
      ],
      "metadata": {
        "colab": {
          "base_uri": "https://localhost:8080/"
        },
        "id": "7DMn3EoEUBGQ",
        "outputId": "ffbcc30c-32cb-4ee7-8a52-19e4f3ce154a"
      },
      "execution_count": 4,
      "outputs": [
        {
          "output_type": "stream",
          "name": "stdout",
          "text": [
            "Cloning into 'demos'...\n",
            "remote: Enumerating objects: 3152, done.\u001b[K\n",
            "remote: Counting objects: 100% (757/757), done.\u001b[K\n",
            "remote: Compressing objects: 100% (191/191), done.\u001b[K\n",
            "remote: Total 3152 (delta 665), reused 566 (delta 566), pack-reused 2395\u001b[K\n",
            "Receiving objects: 100% (3152/3152), 16.81 MiB | 20.04 MiB/s, done.\n",
            "Resolving deltas: 100% (1821/1821), done.\n",
            "Cloning into 'ivy'...\n",
            "remote: Enumerating objects: 189521, done.\u001b[K\n",
            "remote: Counting objects: 100% (1317/1317), done.\u001b[K\n",
            "remote: Compressing objects: 100% (648/648), done.\u001b[K\n",
            "remote: Total 189521 (delta 933), reused 895 (delta 669), pack-reused 188204\u001b[K\n",
            "Receiving objects: 100% (189521/189521), 164.37 MiB | 12.64 MiB/s, done.\n",
            "Resolving deltas: 100% (152551/152551), done.\n"
          ]
        }
      ]
    },
    {
      "cell_type": "markdown",
      "source": [
        "Next: import the ivy library and get the dataset."
      ],
      "metadata": {
        "id": "y1sA3gFuWjDE"
      }
    },
    {
      "cell_type": "code",
      "source": [
        "import ivy\n",
        "!kaggle datasets download -d danofer/sarcasm\n",
        "!cp -f sarcasm.zip '/content/demos/Contributor_demos/Sarcasm Detection/'\n",
        "!unzip '/content/demos/Contributor_demos/Sarcasm Detection/sarcasm.zip' -d '/content/demos/Contributor_demos/Sarcasm Detection/'"
      ],
      "metadata": {
        "id": "7CA3MzIzUayI",
        "colab": {
          "base_uri": "https://localhost:8080/"
        },
        "outputId": "d3b86354-3772-4ef8-94cf-3cc1a7e17505"
      },
      "execution_count": 5,
      "outputs": [
        {
          "output_type": "stream",
          "name": "stdout",
          "text": [
            "Downloading sarcasm.zip to /content\n",
            " 95% 205M/216M [00:02<00:00, 118MB/s] \n",
            "100% 216M/216M [00:03<00:00, 69.4MB/s]\n",
            "Archive:  /content/demos/Contributor_demos/Sarcasm Detection/sarcasm.zip\n",
            "  inflating: /content/demos/Contributor_demos/Sarcasm Detection/test-balanced.csv  \n",
            "  inflating: /content/demos/Contributor_demos/Sarcasm Detection/test-unbalanced.csv  \n",
            "  inflating: /content/demos/Contributor_demos/Sarcasm Detection/train-balanced-sarc.csv.gz  \n",
            "  inflating: /content/demos/Contributor_demos/Sarcasm Detection/train-balanced-sarcasm.csv  \n"
          ]
        }
      ]
    },
    {
      "cell_type": "markdown",
      "source": [
        "Import the libraries suggested in the model which is to be transpiled."
      ],
      "metadata": {
        "id": "UKN-VX8QXDEG"
      }
    },
    {
      "cell_type": "code",
      "source": [
        "# Import necessary libraries\n",
        "import pandas as pd  # For data manipulation and analysis\n",
        "import gc  # For garbage collection to manage memory\n",
        "import re  # For regular expressions\n",
        "import numpy as np  # For numerical operations and arrays\n",
        "import paddle\n",
        "\n",
        "# Libraries to accompany torch's transformers\n",
        "import tqdm\n",
        "import boto3\n",
        "import requests\n",
        "import regex\n",
        "import sentencepiece\n",
        "import sacremoses\n",
        "\n",
        "import warnings  # For handling warnings\n",
        "warnings.filterwarnings(\"ignore\")  # Ignore warning messages\n",
        "\n",
        "import tensorflow as tf\n",
        "import torch  # PyTorch library for deep learning\n",
        "from transformers import AutoModel, AutoTokenizer  # Transformers library for natural language processing\n",
        "from transformers import TextDataset, LineByLineTextDataset, DataCollatorForLanguageModeling, \\\n",
        "pipeline, Trainer, TrainingArguments, DataCollatorWithPadding  # Transformers components for text processing\n",
        "from transformers import AutoModelForSequenceClassification  # Transformer model for sequence classification\n",
        "\n",
        "import accelerate\n",
        "\n",
        "from nlp import Dataset  # Import custom 'Dataset' class for natural language processing tasks\n",
        "from imblearn.over_sampling import RandomOverSampler  # For oversampling to handle class imbalance\n",
        "import datasets  # Import datasets library\n",
        "from datasets import Dataset, Image, ClassLabel  # Import custom 'Dataset', 'ClassLabel', and 'Image' classes\n",
        "from transformers import pipeline  # Transformers library for pipelines\n",
        "from bs4 import BeautifulSoup  # For parsing HTML content\n",
        "\n",
        "import matplotlib.pyplot as plt  # For data visualization\n",
        "import itertools  # For working with iterators\n",
        "from sklearn.metrics import (  # Import various metrics from scikit-learn\n",
        "    accuracy_score,  # For calculating accuracy\n",
        "    roc_auc_score,  # For ROC AUC score\n",
        "    confusion_matrix,  # For confusion matrix\n",
        "    classification_report,  # For classification report\n",
        "    f1_score  # For F1 score\n",
        ")\n",
        "\n",
        "from datasets import load_metric  # Import load_metric function to load evaluation metrics\n",
        "\n",
        "from tqdm import tqdm  # For displaying progress bars\n",
        "tqdm.pandas()  # Enable progress bars for pandas operations"
      ],
      "metadata": {
        "id": "19rgBXHJXHFu"
      },
      "execution_count": 6,
      "outputs": []
    },
    {
      "cell_type": "markdown",
      "source": [
        "Set the seeds."
      ],
      "metadata": {
        "id": "JU7qbxYdsVlK"
      }
    },
    {
      "cell_type": "code",
      "source": [
        "tf.keras.utils.set_random_seed(0)\n",
        "torch.manual_seed(0)\n",
        "paddle.seed(0)"
      ],
      "metadata": {
        "id": "HxD1xridsU_l",
        "colab": {
          "base_uri": "https://localhost:8080/"
        },
        "outputId": "ca0035a3-dc3c-446f-a5f6-cf432a4c64e5"
      },
      "execution_count": 7,
      "outputs": [
        {
          "output_type": "execute_result",
          "data": {
            "text/plain": [
              "<paddle.base.libpaddle.Generator at 0x7da587c6f3f0>"
            ]
          },
          "metadata": {},
          "execution_count": 7
        }
      ]
    },
    {
      "cell_type": "markdown",
      "source": [
        "Get the API key for ivy transpiler from your account and upload it to the project. Move it to the correct directory."
      ],
      "metadata": {
        "id": "zwU4oNrkXyxT"
      }
    },
    {
      "cell_type": "code",
      "source": [
        "files.upload(); #Upload key.pem - you can get from the kaggle account settings, from the API section."
      ],
      "metadata": {
        "id": "LME9LyKaXyVF",
        "colab": {
          "base_uri": "https://localhost:8080/",
          "height": 73
        },
        "outputId": "df7434c8-cb53-4f13-873b-7038fb78373b"
      },
      "execution_count": 8,
      "outputs": [
        {
          "output_type": "display_data",
          "data": {
            "text/plain": [
              "<IPython.core.display.HTML object>"
            ],
            "text/html": [
              "\n",
              "     <input type=\"file\" id=\"files-8380ec10-f9d4-451a-aba3-1cb293031c96\" name=\"files[]\" multiple disabled\n",
              "        style=\"border:none\" />\n",
              "     <output id=\"result-8380ec10-f9d4-451a-aba3-1cb293031c96\">\n",
              "      Upload widget is only available when the cell has been executed in the\n",
              "      current browser session. Please rerun this cell to enable.\n",
              "      </output>\n",
              "      <script>// Copyright 2017 Google LLC\n",
              "//\n",
              "// Licensed under the Apache License, Version 2.0 (the \"License\");\n",
              "// you may not use this file except in compliance with the License.\n",
              "// You may obtain a copy of the License at\n",
              "//\n",
              "//      http://www.apache.org/licenses/LICENSE-2.0\n",
              "//\n",
              "// Unless required by applicable law or agreed to in writing, software\n",
              "// distributed under the License is distributed on an \"AS IS\" BASIS,\n",
              "// WITHOUT WARRANTIES OR CONDITIONS OF ANY KIND, either express or implied.\n",
              "// See the License for the specific language governing permissions and\n",
              "// limitations under the License.\n",
              "\n",
              "/**\n",
              " * @fileoverview Helpers for google.colab Python module.\n",
              " */\n",
              "(function(scope) {\n",
              "function span(text, styleAttributes = {}) {\n",
              "  const element = document.createElement('span');\n",
              "  element.textContent = text;\n",
              "  for (const key of Object.keys(styleAttributes)) {\n",
              "    element.style[key] = styleAttributes[key];\n",
              "  }\n",
              "  return element;\n",
              "}\n",
              "\n",
              "// Max number of bytes which will be uploaded at a time.\n",
              "const MAX_PAYLOAD_SIZE = 100 * 1024;\n",
              "\n",
              "function _uploadFiles(inputId, outputId) {\n",
              "  const steps = uploadFilesStep(inputId, outputId);\n",
              "  const outputElement = document.getElementById(outputId);\n",
              "  // Cache steps on the outputElement to make it available for the next call\n",
              "  // to uploadFilesContinue from Python.\n",
              "  outputElement.steps = steps;\n",
              "\n",
              "  return _uploadFilesContinue(outputId);\n",
              "}\n",
              "\n",
              "// This is roughly an async generator (not supported in the browser yet),\n",
              "// where there are multiple asynchronous steps and the Python side is going\n",
              "// to poll for completion of each step.\n",
              "// This uses a Promise to block the python side on completion of each step,\n",
              "// then passes the result of the previous step as the input to the next step.\n",
              "function _uploadFilesContinue(outputId) {\n",
              "  const outputElement = document.getElementById(outputId);\n",
              "  const steps = outputElement.steps;\n",
              "\n",
              "  const next = steps.next(outputElement.lastPromiseValue);\n",
              "  return Promise.resolve(next.value.promise).then((value) => {\n",
              "    // Cache the last promise value to make it available to the next\n",
              "    // step of the generator.\n",
              "    outputElement.lastPromiseValue = value;\n",
              "    return next.value.response;\n",
              "  });\n",
              "}\n",
              "\n",
              "/**\n",
              " * Generator function which is called between each async step of the upload\n",
              " * process.\n",
              " * @param {string} inputId Element ID of the input file picker element.\n",
              " * @param {string} outputId Element ID of the output display.\n",
              " * @return {!Iterable<!Object>} Iterable of next steps.\n",
              " */\n",
              "function* uploadFilesStep(inputId, outputId) {\n",
              "  const inputElement = document.getElementById(inputId);\n",
              "  inputElement.disabled = false;\n",
              "\n",
              "  const outputElement = document.getElementById(outputId);\n",
              "  outputElement.innerHTML = '';\n",
              "\n",
              "  const pickedPromise = new Promise((resolve) => {\n",
              "    inputElement.addEventListener('change', (e) => {\n",
              "      resolve(e.target.files);\n",
              "    });\n",
              "  });\n",
              "\n",
              "  const cancel = document.createElement('button');\n",
              "  inputElement.parentElement.appendChild(cancel);\n",
              "  cancel.textContent = 'Cancel upload';\n",
              "  const cancelPromise = new Promise((resolve) => {\n",
              "    cancel.onclick = () => {\n",
              "      resolve(null);\n",
              "    };\n",
              "  });\n",
              "\n",
              "  // Wait for the user to pick the files.\n",
              "  const files = yield {\n",
              "    promise: Promise.race([pickedPromise, cancelPromise]),\n",
              "    response: {\n",
              "      action: 'starting',\n",
              "    }\n",
              "  };\n",
              "\n",
              "  cancel.remove();\n",
              "\n",
              "  // Disable the input element since further picks are not allowed.\n",
              "  inputElement.disabled = true;\n",
              "\n",
              "  if (!files) {\n",
              "    return {\n",
              "      response: {\n",
              "        action: 'complete',\n",
              "      }\n",
              "    };\n",
              "  }\n",
              "\n",
              "  for (const file of files) {\n",
              "    const li = document.createElement('li');\n",
              "    li.append(span(file.name, {fontWeight: 'bold'}));\n",
              "    li.append(span(\n",
              "        `(${file.type || 'n/a'}) - ${file.size} bytes, ` +\n",
              "        `last modified: ${\n",
              "            file.lastModifiedDate ? file.lastModifiedDate.toLocaleDateString() :\n",
              "                                    'n/a'} - `));\n",
              "    const percent = span('0% done');\n",
              "    li.appendChild(percent);\n",
              "\n",
              "    outputElement.appendChild(li);\n",
              "\n",
              "    const fileDataPromise = new Promise((resolve) => {\n",
              "      const reader = new FileReader();\n",
              "      reader.onload = (e) => {\n",
              "        resolve(e.target.result);\n",
              "      };\n",
              "      reader.readAsArrayBuffer(file);\n",
              "    });\n",
              "    // Wait for the data to be ready.\n",
              "    let fileData = yield {\n",
              "      promise: fileDataPromise,\n",
              "      response: {\n",
              "        action: 'continue',\n",
              "      }\n",
              "    };\n",
              "\n",
              "    // Use a chunked sending to avoid message size limits. See b/62115660.\n",
              "    let position = 0;\n",
              "    do {\n",
              "      const length = Math.min(fileData.byteLength - position, MAX_PAYLOAD_SIZE);\n",
              "      const chunk = new Uint8Array(fileData, position, length);\n",
              "      position += length;\n",
              "\n",
              "      const base64 = btoa(String.fromCharCode.apply(null, chunk));\n",
              "      yield {\n",
              "        response: {\n",
              "          action: 'append',\n",
              "          file: file.name,\n",
              "          data: base64,\n",
              "        },\n",
              "      };\n",
              "\n",
              "      let percentDone = fileData.byteLength === 0 ?\n",
              "          100 :\n",
              "          Math.round((position / fileData.byteLength) * 100);\n",
              "      percent.textContent = `${percentDone}% done`;\n",
              "\n",
              "    } while (position < fileData.byteLength);\n",
              "  }\n",
              "\n",
              "  // All done.\n",
              "  yield {\n",
              "    response: {\n",
              "      action: 'complete',\n",
              "    }\n",
              "  };\n",
              "}\n",
              "\n",
              "scope.google = scope.google || {};\n",
              "scope.google.colab = scope.google.colab || {};\n",
              "scope.google.colab._files = {\n",
              "  _uploadFiles,\n",
              "  _uploadFilesContinue,\n",
              "};\n",
              "})(self);\n",
              "</script> "
            ]
          },
          "metadata": {}
        },
        {
          "output_type": "stream",
          "name": "stdout",
          "text": [
            "Saving key.pem to key.pem\n"
          ]
        }
      ]
    },
    {
      "cell_type": "code",
      "source": [
        "!mkdir ~/.ivy #It might be necessary to change \".ivy\" to \"ivy\".\n",
        "!cp key.pem ~/.ivy/"
      ],
      "metadata": {
        "id": "NbuJUunHYIwg"
      },
      "execution_count": 9,
      "outputs": []
    },
    {
      "cell_type": "markdown",
      "source": [
        "First we're loading the tokenizer and the model from torch. All of the basic set-up instructions can be found here: https://colab.research.google.com/github/pytorch/pytorch.github.io/blob/master/assets/hub/huggingface_pytorch-transformers.ipynb#scrollTo=72d8f2de"
      ],
      "metadata": {
        "id": "DWCnfosUshGK"
      }
    },
    {
      "cell_type": "code",
      "source": [
        "tokenizer = torch.hub.load('huggingface/pytorch-transformers', 'tokenizer', 'bert-base-cased')\n",
        "model = torch.hub.load('huggingface/pytorch-transformers', 'model', 'bert-base-cased')\n",
        "\n",
        "sequence_classifier = torch.hub.load('huggingface/pytorch-transformers', 'modelForSequenceClassification', 'bert-base-cased')"
      ],
      "metadata": {
        "id": "2rZY3rhisgXZ",
        "colab": {
          "base_uri": "https://localhost:8080/"
        },
        "outputId": "0d582938-7dfa-4d67-d250-0b7a9182b043"
      },
      "execution_count": 22,
      "outputs": [
        {
          "output_type": "stream",
          "name": "stderr",
          "text": [
            "Using cache found in /root/.cache/torch/hub/huggingface_pytorch-transformers_main\n",
            "Using cache found in /root/.cache/torch/hub/huggingface_pytorch-transformers_main\n",
            "Using cache found in /root/.cache/torch/hub/huggingface_pytorch-transformers_main\n",
            "Some weights of BertForSequenceClassification were not initialized from the model checkpoint at bert-base-cased and are newly initialized: ['classifier.bias', 'classifier.weight']\n",
            "You should probably TRAIN this model on a down-stream task to be able to use it for predictions and inference.\n"
          ]
        }
      ]
    },
    {
      "cell_type": "code",
      "source": [
        "from ivy.stateful.module import Module\n",
        "from ivy.stateful.sequential import Sequential\n",
        "from ivy.stateful.layers import *\n",
        "from ivy.stateful.losses import *\n",
        "from ivy.stateful.optimizers import *\n",
        "from ivy.stateful.activations import *\n",
        "from ivy.stateful.initializers import *\n",
        "from ivy.stateful.norms import *"
      ],
      "metadata": {
        "id": "b0MdcERZYS_6"
      },
      "execution_count": 11,
      "outputs": []
    },
    {
      "cell_type": "code",
      "source": [
        "ivy.set_backend(\"tensorflow\")\n",
        "ivy.set_soft_device_mode(True)\n",
        "#tokenizer_tf = ivy.transpile(tokenizer, source=\"torch\", to=\"tensorflow\")\n",
        "#model_pd = ivy.to_ivy_module(model)\n",
        "#model_pd = model_pd.trace_graph()\n",
        "#model_pd = model_pd.set_backend(\"tensorflow\")\n",
        "model_tf = ivy.transpile(model, source=\"torch\", to=\"tensorflow\")\n",
        "sequence_classifier_tf = ivy.transpile(sequence_classifier, source=\"torch\", to=\"tensorflow\")"
      ],
      "metadata": {
        "id": "W6alZ3W1VtOz"
      },
      "execution_count": 25,
      "outputs": []
    },
    {
      "cell_type": "code",
      "source": [
        "df = pd.read_csv(\"/content/demos/Contributor_demos/Sarcasm Detection/train-balanced-sarcasm.csv\")\n",
        "df = df.drop_duplicates()\n",
        "df = df.rename(columns={'comment': 'title'})\n",
        "df = df[['label', 'title']]\n",
        "df = df[~df['label'].isnull()]\n",
        "df = df[~df['title'].isnull()]\n",
        "df.sample(5)"
      ],
      "metadata": {
        "id": "5RdJOhqgYDph",
        "colab": {
          "base_uri": "https://localhost:8080/",
          "height": 206
        },
        "outputId": "af9ed83d-c7c6-4dcc-f0ee-2ed11ab15450"
      },
      "execution_count": 13,
      "outputs": [
        {
          "output_type": "execute_result",
          "data": {
            "text/plain": [
              "        label                                              title\n",
              "242003      0  Congrats to winners and and a BIG thank you to...\n",
              "861046      1  Totally did not expect a screenshot with \"No m...\n",
              "568738      1                 the technology isnt there yet guys\n",
              "419147      1  I dunno man, pretty sure this shit happens in ...\n",
              "154503      1                        Eww gross, she's not human!"
            ],
            "text/html": [
              "\n",
              "  <div id=\"df-df3ff240-7f59-47bf-bcaf-919ba583984b\" class=\"colab-df-container\">\n",
              "    <div>\n",
              "<style scoped>\n",
              "    .dataframe tbody tr th:only-of-type {\n",
              "        vertical-align: middle;\n",
              "    }\n",
              "\n",
              "    .dataframe tbody tr th {\n",
              "        vertical-align: top;\n",
              "    }\n",
              "\n",
              "    .dataframe thead th {\n",
              "        text-align: right;\n",
              "    }\n",
              "</style>\n",
              "<table border=\"1\" class=\"dataframe\">\n",
              "  <thead>\n",
              "    <tr style=\"text-align: right;\">\n",
              "      <th></th>\n",
              "      <th>label</th>\n",
              "      <th>title</th>\n",
              "    </tr>\n",
              "  </thead>\n",
              "  <tbody>\n",
              "    <tr>\n",
              "      <th>242003</th>\n",
              "      <td>0</td>\n",
              "      <td>Congrats to winners and and a BIG thank you to...</td>\n",
              "    </tr>\n",
              "    <tr>\n",
              "      <th>861046</th>\n",
              "      <td>1</td>\n",
              "      <td>Totally did not expect a screenshot with \"No m...</td>\n",
              "    </tr>\n",
              "    <tr>\n",
              "      <th>568738</th>\n",
              "      <td>1</td>\n",
              "      <td>the technology isnt there yet guys</td>\n",
              "    </tr>\n",
              "    <tr>\n",
              "      <th>419147</th>\n",
              "      <td>1</td>\n",
              "      <td>I dunno man, pretty sure this shit happens in ...</td>\n",
              "    </tr>\n",
              "    <tr>\n",
              "      <th>154503</th>\n",
              "      <td>1</td>\n",
              "      <td>Eww gross, she's not human!</td>\n",
              "    </tr>\n",
              "  </tbody>\n",
              "</table>\n",
              "</div>\n",
              "    <div class=\"colab-df-buttons\">\n",
              "\n",
              "  <div class=\"colab-df-container\">\n",
              "    <button class=\"colab-df-convert\" onclick=\"convertToInteractive('df-df3ff240-7f59-47bf-bcaf-919ba583984b')\"\n",
              "            title=\"Convert this dataframe to an interactive table.\"\n",
              "            style=\"display:none;\">\n",
              "\n",
              "  <svg xmlns=\"http://www.w3.org/2000/svg\" height=\"24px\" viewBox=\"0 -960 960 960\">\n",
              "    <path d=\"M120-120v-720h720v720H120Zm60-500h600v-160H180v160Zm220 220h160v-160H400v160Zm0 220h160v-160H400v160ZM180-400h160v-160H180v160Zm440 0h160v-160H620v160ZM180-180h160v-160H180v160Zm440 0h160v-160H620v160Z\"/>\n",
              "  </svg>\n",
              "    </button>\n",
              "\n",
              "  <style>\n",
              "    .colab-df-container {\n",
              "      display:flex;\n",
              "      gap: 12px;\n",
              "    }\n",
              "\n",
              "    .colab-df-convert {\n",
              "      background-color: #E8F0FE;\n",
              "      border: none;\n",
              "      border-radius: 50%;\n",
              "      cursor: pointer;\n",
              "      display: none;\n",
              "      fill: #1967D2;\n",
              "      height: 32px;\n",
              "      padding: 0 0 0 0;\n",
              "      width: 32px;\n",
              "    }\n",
              "\n",
              "    .colab-df-convert:hover {\n",
              "      background-color: #E2EBFA;\n",
              "      box-shadow: 0px 1px 2px rgba(60, 64, 67, 0.3), 0px 1px 3px 1px rgba(60, 64, 67, 0.15);\n",
              "      fill: #174EA6;\n",
              "    }\n",
              "\n",
              "    .colab-df-buttons div {\n",
              "      margin-bottom: 4px;\n",
              "    }\n",
              "\n",
              "    [theme=dark] .colab-df-convert {\n",
              "      background-color: #3B4455;\n",
              "      fill: #D2E3FC;\n",
              "    }\n",
              "\n",
              "    [theme=dark] .colab-df-convert:hover {\n",
              "      background-color: #434B5C;\n",
              "      box-shadow: 0px 1px 3px 1px rgba(0, 0, 0, 0.15);\n",
              "      filter: drop-shadow(0px 1px 2px rgba(0, 0, 0, 0.3));\n",
              "      fill: #FFFFFF;\n",
              "    }\n",
              "  </style>\n",
              "\n",
              "    <script>\n",
              "      const buttonEl =\n",
              "        document.querySelector('#df-df3ff240-7f59-47bf-bcaf-919ba583984b button.colab-df-convert');\n",
              "      buttonEl.style.display =\n",
              "        google.colab.kernel.accessAllowed ? 'block' : 'none';\n",
              "\n",
              "      async function convertToInteractive(key) {\n",
              "        const element = document.querySelector('#df-df3ff240-7f59-47bf-bcaf-919ba583984b');\n",
              "        const dataTable =\n",
              "          await google.colab.kernel.invokeFunction('convertToInteractive',\n",
              "                                                    [key], {});\n",
              "        if (!dataTable) return;\n",
              "\n",
              "        const docLinkHtml = 'Like what you see? Visit the ' +\n",
              "          '<a target=\"_blank\" href=https://colab.research.google.com/notebooks/data_table.ipynb>data table notebook</a>'\n",
              "          + ' to learn more about interactive tables.';\n",
              "        element.innerHTML = '';\n",
              "        dataTable['output_type'] = 'display_data';\n",
              "        await google.colab.output.renderOutput(dataTable, element);\n",
              "        const docLink = document.createElement('div');\n",
              "        docLink.innerHTML = docLinkHtml;\n",
              "        element.appendChild(docLink);\n",
              "      }\n",
              "    </script>\n",
              "  </div>\n",
              "\n",
              "\n",
              "<div id=\"df-65615e45-ae17-48ae-87e8-bd67d819587d\">\n",
              "  <button class=\"colab-df-quickchart\" onclick=\"quickchart('df-65615e45-ae17-48ae-87e8-bd67d819587d')\"\n",
              "            title=\"Suggest charts\"\n",
              "            style=\"display:none;\">\n",
              "\n",
              "<svg xmlns=\"http://www.w3.org/2000/svg\" height=\"24px\"viewBox=\"0 0 24 24\"\n",
              "     width=\"24px\">\n",
              "    <g>\n",
              "        <path d=\"M19 3H5c-1.1 0-2 .9-2 2v14c0 1.1.9 2 2 2h14c1.1 0 2-.9 2-2V5c0-1.1-.9-2-2-2zM9 17H7v-7h2v7zm4 0h-2V7h2v10zm4 0h-2v-4h2v4z\"/>\n",
              "    </g>\n",
              "</svg>\n",
              "  </button>\n",
              "\n",
              "<style>\n",
              "  .colab-df-quickchart {\n",
              "      --bg-color: #E8F0FE;\n",
              "      --fill-color: #1967D2;\n",
              "      --hover-bg-color: #E2EBFA;\n",
              "      --hover-fill-color: #174EA6;\n",
              "      --disabled-fill-color: #AAA;\n",
              "      --disabled-bg-color: #DDD;\n",
              "  }\n",
              "\n",
              "  [theme=dark] .colab-df-quickchart {\n",
              "      --bg-color: #3B4455;\n",
              "      --fill-color: #D2E3FC;\n",
              "      --hover-bg-color: #434B5C;\n",
              "      --hover-fill-color: #FFFFFF;\n",
              "      --disabled-bg-color: #3B4455;\n",
              "      --disabled-fill-color: #666;\n",
              "  }\n",
              "\n",
              "  .colab-df-quickchart {\n",
              "    background-color: var(--bg-color);\n",
              "    border: none;\n",
              "    border-radius: 50%;\n",
              "    cursor: pointer;\n",
              "    display: none;\n",
              "    fill: var(--fill-color);\n",
              "    height: 32px;\n",
              "    padding: 0;\n",
              "    width: 32px;\n",
              "  }\n",
              "\n",
              "  .colab-df-quickchart:hover {\n",
              "    background-color: var(--hover-bg-color);\n",
              "    box-shadow: 0 1px 2px rgba(60, 64, 67, 0.3), 0 1px 3px 1px rgba(60, 64, 67, 0.15);\n",
              "    fill: var(--button-hover-fill-color);\n",
              "  }\n",
              "\n",
              "  .colab-df-quickchart-complete:disabled,\n",
              "  .colab-df-quickchart-complete:disabled:hover {\n",
              "    background-color: var(--disabled-bg-color);\n",
              "    fill: var(--disabled-fill-color);\n",
              "    box-shadow: none;\n",
              "  }\n",
              "\n",
              "  .colab-df-spinner {\n",
              "    border: 2px solid var(--fill-color);\n",
              "    border-color: transparent;\n",
              "    border-bottom-color: var(--fill-color);\n",
              "    animation:\n",
              "      spin 1s steps(1) infinite;\n",
              "  }\n",
              "\n",
              "  @keyframes spin {\n",
              "    0% {\n",
              "      border-color: transparent;\n",
              "      border-bottom-color: var(--fill-color);\n",
              "      border-left-color: var(--fill-color);\n",
              "    }\n",
              "    20% {\n",
              "      border-color: transparent;\n",
              "      border-left-color: var(--fill-color);\n",
              "      border-top-color: var(--fill-color);\n",
              "    }\n",
              "    30% {\n",
              "      border-color: transparent;\n",
              "      border-left-color: var(--fill-color);\n",
              "      border-top-color: var(--fill-color);\n",
              "      border-right-color: var(--fill-color);\n",
              "    }\n",
              "    40% {\n",
              "      border-color: transparent;\n",
              "      border-right-color: var(--fill-color);\n",
              "      border-top-color: var(--fill-color);\n",
              "    }\n",
              "    60% {\n",
              "      border-color: transparent;\n",
              "      border-right-color: var(--fill-color);\n",
              "    }\n",
              "    80% {\n",
              "      border-color: transparent;\n",
              "      border-right-color: var(--fill-color);\n",
              "      border-bottom-color: var(--fill-color);\n",
              "    }\n",
              "    90% {\n",
              "      border-color: transparent;\n",
              "      border-bottom-color: var(--fill-color);\n",
              "    }\n",
              "  }\n",
              "</style>\n",
              "\n",
              "  <script>\n",
              "    async function quickchart(key) {\n",
              "      const quickchartButtonEl =\n",
              "        document.querySelector('#' + key + ' button');\n",
              "      quickchartButtonEl.disabled = true;  // To prevent multiple clicks.\n",
              "      quickchartButtonEl.classList.add('colab-df-spinner');\n",
              "      try {\n",
              "        const charts = await google.colab.kernel.invokeFunction(\n",
              "            'suggestCharts', [key], {});\n",
              "      } catch (error) {\n",
              "        console.error('Error during call to suggestCharts:', error);\n",
              "      }\n",
              "      quickchartButtonEl.classList.remove('colab-df-spinner');\n",
              "      quickchartButtonEl.classList.add('colab-df-quickchart-complete');\n",
              "    }\n",
              "    (() => {\n",
              "      let quickchartButtonEl =\n",
              "        document.querySelector('#df-65615e45-ae17-48ae-87e8-bd67d819587d button');\n",
              "      quickchartButtonEl.style.display =\n",
              "        google.colab.kernel.accessAllowed ? 'block' : 'none';\n",
              "    })();\n",
              "  </script>\n",
              "</div>\n",
              "    </div>\n",
              "  </div>\n"
            ],
            "application/vnd.google.colaboratory.intrinsic+json": {
              "type": "dataframe",
              "summary": "{\n  \"name\": \"df\",\n  \"rows\": 5,\n  \"fields\": [\n    {\n      \"column\": \"label\",\n      \"properties\": {\n        \"dtype\": \"number\",\n        \"std\": 0,\n        \"min\": 0,\n        \"max\": 1,\n        \"num_unique_values\": 2,\n        \"samples\": [\n          1,\n          0\n        ],\n        \"semantic_type\": \"\",\n        \"description\": \"\"\n      }\n    },\n    {\n      \"column\": \"title\",\n      \"properties\": {\n        \"dtype\": \"string\",\n        \"num_unique_values\": 5,\n        \"samples\": [\n          \"Totally did not expect a screenshot with \\\"No message recieved\\\"\",\n          \"Eww gross, she's not human!\"\n        ],\n        \"semantic_type\": \"\",\n        \"description\": \"\"\n      }\n    }\n  ]\n}"
            }
          },
          "metadata": {},
          "execution_count": 13
        }
      ]
    },
    {
      "cell_type": "code",
      "source": [
        "def count_words(text: str) -> int:\n",
        "  return len(text.split())\n",
        "\n",
        "def count_symbols(text: str) -> int:\n",
        "  return len(\"\".join(text.split()))\n",
        "\n",
        "def symbol_to_word_ratio(text: str) -> float:\n",
        "  return count_symbols(text)/count_words(text)\n",
        "\n",
        "def upper_lower_ratio(text: str) -> float:\n",
        "  text = \"\".join(text.split())\n",
        "  return sum(1 for c in text if c.isupper())/(max([sum(1 for c in text if c.islower()), 1]))\n",
        "\n",
        "df['word_count'] = df[\"title\"].apply(count_words)\n",
        "df['symbol_count'] = df[\"title\"].apply(count_symbols)\n",
        "df[\"upper_lower_ratio\"] = df[\"title\"].apply(upper_lower_ratio)\n",
        "df[\"symbol_to_word_ratio\"] = df[\"title\"].apply(symbol_to_word_ratio)\n",
        "df.sample(5)"
      ],
      "metadata": {
        "id": "BVA6U5Y0c7vg",
        "colab": {
          "base_uri": "https://localhost:8080/",
          "height": 206
        },
        "outputId": "90fd6013-3331-442f-8b36-cca4bd42fab1"
      },
      "execution_count": 14,
      "outputs": [
        {
          "output_type": "execute_result",
          "data": {
            "text/plain": [
              "        label                                              title  word_count  \\\n",
              "797130      0                                           Routine?           1   \n",
              "464103      0   I think Apollos will be a good fit for the team.          11   \n",
              "96237       0  It costs 400 000 000$ to fire this weapon for ...          12   \n",
              "598115      0                            found the city slicker.           4   \n",
              "217679      0  If you think regular St Marys is bad, take a l...          15   \n",
              "\n",
              "        symbol_count  upper_lower_ratio  symbol_to_word_ratio  \n",
              "797130             8           0.166667              8.000000  \n",
              "464103            38           0.057143              3.454545  \n",
              "96237             46           0.031250              3.833333  \n",
              "598115            20           0.000000              5.000000  \n",
              "217679            54           0.130435              3.600000  "
            ],
            "text/html": [
              "\n",
              "  <div id=\"df-9728d486-0f04-4c80-8c50-d80daf5bd99e\" class=\"colab-df-container\">\n",
              "    <div>\n",
              "<style scoped>\n",
              "    .dataframe tbody tr th:only-of-type {\n",
              "        vertical-align: middle;\n",
              "    }\n",
              "\n",
              "    .dataframe tbody tr th {\n",
              "        vertical-align: top;\n",
              "    }\n",
              "\n",
              "    .dataframe thead th {\n",
              "        text-align: right;\n",
              "    }\n",
              "</style>\n",
              "<table border=\"1\" class=\"dataframe\">\n",
              "  <thead>\n",
              "    <tr style=\"text-align: right;\">\n",
              "      <th></th>\n",
              "      <th>label</th>\n",
              "      <th>title</th>\n",
              "      <th>word_count</th>\n",
              "      <th>symbol_count</th>\n",
              "      <th>upper_lower_ratio</th>\n",
              "      <th>symbol_to_word_ratio</th>\n",
              "    </tr>\n",
              "  </thead>\n",
              "  <tbody>\n",
              "    <tr>\n",
              "      <th>797130</th>\n",
              "      <td>0</td>\n",
              "      <td>Routine?</td>\n",
              "      <td>1</td>\n",
              "      <td>8</td>\n",
              "      <td>0.166667</td>\n",
              "      <td>8.000000</td>\n",
              "    </tr>\n",
              "    <tr>\n",
              "      <th>464103</th>\n",
              "      <td>0</td>\n",
              "      <td>I think Apollos will be a good fit for the team.</td>\n",
              "      <td>11</td>\n",
              "      <td>38</td>\n",
              "      <td>0.057143</td>\n",
              "      <td>3.454545</td>\n",
              "    </tr>\n",
              "    <tr>\n",
              "      <th>96237</th>\n",
              "      <td>0</td>\n",
              "      <td>It costs 400 000 000$ to fire this weapon for ...</td>\n",
              "      <td>12</td>\n",
              "      <td>46</td>\n",
              "      <td>0.031250</td>\n",
              "      <td>3.833333</td>\n",
              "    </tr>\n",
              "    <tr>\n",
              "      <th>598115</th>\n",
              "      <td>0</td>\n",
              "      <td>found the city slicker.</td>\n",
              "      <td>4</td>\n",
              "      <td>20</td>\n",
              "      <td>0.000000</td>\n",
              "      <td>5.000000</td>\n",
              "    </tr>\n",
              "    <tr>\n",
              "      <th>217679</th>\n",
              "      <td>0</td>\n",
              "      <td>If you think regular St Marys is bad, take a l...</td>\n",
              "      <td>15</td>\n",
              "      <td>54</td>\n",
              "      <td>0.130435</td>\n",
              "      <td>3.600000</td>\n",
              "    </tr>\n",
              "  </tbody>\n",
              "</table>\n",
              "</div>\n",
              "    <div class=\"colab-df-buttons\">\n",
              "\n",
              "  <div class=\"colab-df-container\">\n",
              "    <button class=\"colab-df-convert\" onclick=\"convertToInteractive('df-9728d486-0f04-4c80-8c50-d80daf5bd99e')\"\n",
              "            title=\"Convert this dataframe to an interactive table.\"\n",
              "            style=\"display:none;\">\n",
              "\n",
              "  <svg xmlns=\"http://www.w3.org/2000/svg\" height=\"24px\" viewBox=\"0 -960 960 960\">\n",
              "    <path d=\"M120-120v-720h720v720H120Zm60-500h600v-160H180v160Zm220 220h160v-160H400v160Zm0 220h160v-160H400v160ZM180-400h160v-160H180v160Zm440 0h160v-160H620v160ZM180-180h160v-160H180v160Zm440 0h160v-160H620v160Z\"/>\n",
              "  </svg>\n",
              "    </button>\n",
              "\n",
              "  <style>\n",
              "    .colab-df-container {\n",
              "      display:flex;\n",
              "      gap: 12px;\n",
              "    }\n",
              "\n",
              "    .colab-df-convert {\n",
              "      background-color: #E8F0FE;\n",
              "      border: none;\n",
              "      border-radius: 50%;\n",
              "      cursor: pointer;\n",
              "      display: none;\n",
              "      fill: #1967D2;\n",
              "      height: 32px;\n",
              "      padding: 0 0 0 0;\n",
              "      width: 32px;\n",
              "    }\n",
              "\n",
              "    .colab-df-convert:hover {\n",
              "      background-color: #E2EBFA;\n",
              "      box-shadow: 0px 1px 2px rgba(60, 64, 67, 0.3), 0px 1px 3px 1px rgba(60, 64, 67, 0.15);\n",
              "      fill: #174EA6;\n",
              "    }\n",
              "\n",
              "    .colab-df-buttons div {\n",
              "      margin-bottom: 4px;\n",
              "    }\n",
              "\n",
              "    [theme=dark] .colab-df-convert {\n",
              "      background-color: #3B4455;\n",
              "      fill: #D2E3FC;\n",
              "    }\n",
              "\n",
              "    [theme=dark] .colab-df-convert:hover {\n",
              "      background-color: #434B5C;\n",
              "      box-shadow: 0px 1px 3px 1px rgba(0, 0, 0, 0.15);\n",
              "      filter: drop-shadow(0px 1px 2px rgba(0, 0, 0, 0.3));\n",
              "      fill: #FFFFFF;\n",
              "    }\n",
              "  </style>\n",
              "\n",
              "    <script>\n",
              "      const buttonEl =\n",
              "        document.querySelector('#df-9728d486-0f04-4c80-8c50-d80daf5bd99e button.colab-df-convert');\n",
              "      buttonEl.style.display =\n",
              "        google.colab.kernel.accessAllowed ? 'block' : 'none';\n",
              "\n",
              "      async function convertToInteractive(key) {\n",
              "        const element = document.querySelector('#df-9728d486-0f04-4c80-8c50-d80daf5bd99e');\n",
              "        const dataTable =\n",
              "          await google.colab.kernel.invokeFunction('convertToInteractive',\n",
              "                                                    [key], {});\n",
              "        if (!dataTable) return;\n",
              "\n",
              "        const docLinkHtml = 'Like what you see? Visit the ' +\n",
              "          '<a target=\"_blank\" href=https://colab.research.google.com/notebooks/data_table.ipynb>data table notebook</a>'\n",
              "          + ' to learn more about interactive tables.';\n",
              "        element.innerHTML = '';\n",
              "        dataTable['output_type'] = 'display_data';\n",
              "        await google.colab.output.renderOutput(dataTable, element);\n",
              "        const docLink = document.createElement('div');\n",
              "        docLink.innerHTML = docLinkHtml;\n",
              "        element.appendChild(docLink);\n",
              "      }\n",
              "    </script>\n",
              "  </div>\n",
              "\n",
              "\n",
              "<div id=\"df-38bcfeb5-27ec-4f8d-a0ff-b85f58276ee5\">\n",
              "  <button class=\"colab-df-quickchart\" onclick=\"quickchart('df-38bcfeb5-27ec-4f8d-a0ff-b85f58276ee5')\"\n",
              "            title=\"Suggest charts\"\n",
              "            style=\"display:none;\">\n",
              "\n",
              "<svg xmlns=\"http://www.w3.org/2000/svg\" height=\"24px\"viewBox=\"0 0 24 24\"\n",
              "     width=\"24px\">\n",
              "    <g>\n",
              "        <path d=\"M19 3H5c-1.1 0-2 .9-2 2v14c0 1.1.9 2 2 2h14c1.1 0 2-.9 2-2V5c0-1.1-.9-2-2-2zM9 17H7v-7h2v7zm4 0h-2V7h2v10zm4 0h-2v-4h2v4z\"/>\n",
              "    </g>\n",
              "</svg>\n",
              "  </button>\n",
              "\n",
              "<style>\n",
              "  .colab-df-quickchart {\n",
              "      --bg-color: #E8F0FE;\n",
              "      --fill-color: #1967D2;\n",
              "      --hover-bg-color: #E2EBFA;\n",
              "      --hover-fill-color: #174EA6;\n",
              "      --disabled-fill-color: #AAA;\n",
              "      --disabled-bg-color: #DDD;\n",
              "  }\n",
              "\n",
              "  [theme=dark] .colab-df-quickchart {\n",
              "      --bg-color: #3B4455;\n",
              "      --fill-color: #D2E3FC;\n",
              "      --hover-bg-color: #434B5C;\n",
              "      --hover-fill-color: #FFFFFF;\n",
              "      --disabled-bg-color: #3B4455;\n",
              "      --disabled-fill-color: #666;\n",
              "  }\n",
              "\n",
              "  .colab-df-quickchart {\n",
              "    background-color: var(--bg-color);\n",
              "    border: none;\n",
              "    border-radius: 50%;\n",
              "    cursor: pointer;\n",
              "    display: none;\n",
              "    fill: var(--fill-color);\n",
              "    height: 32px;\n",
              "    padding: 0;\n",
              "    width: 32px;\n",
              "  }\n",
              "\n",
              "  .colab-df-quickchart:hover {\n",
              "    background-color: var(--hover-bg-color);\n",
              "    box-shadow: 0 1px 2px rgba(60, 64, 67, 0.3), 0 1px 3px 1px rgba(60, 64, 67, 0.15);\n",
              "    fill: var(--button-hover-fill-color);\n",
              "  }\n",
              "\n",
              "  .colab-df-quickchart-complete:disabled,\n",
              "  .colab-df-quickchart-complete:disabled:hover {\n",
              "    background-color: var(--disabled-bg-color);\n",
              "    fill: var(--disabled-fill-color);\n",
              "    box-shadow: none;\n",
              "  }\n",
              "\n",
              "  .colab-df-spinner {\n",
              "    border: 2px solid var(--fill-color);\n",
              "    border-color: transparent;\n",
              "    border-bottom-color: var(--fill-color);\n",
              "    animation:\n",
              "      spin 1s steps(1) infinite;\n",
              "  }\n",
              "\n",
              "  @keyframes spin {\n",
              "    0% {\n",
              "      border-color: transparent;\n",
              "      border-bottom-color: var(--fill-color);\n",
              "      border-left-color: var(--fill-color);\n",
              "    }\n",
              "    20% {\n",
              "      border-color: transparent;\n",
              "      border-left-color: var(--fill-color);\n",
              "      border-top-color: var(--fill-color);\n",
              "    }\n",
              "    30% {\n",
              "      border-color: transparent;\n",
              "      border-left-color: var(--fill-color);\n",
              "      border-top-color: var(--fill-color);\n",
              "      border-right-color: var(--fill-color);\n",
              "    }\n",
              "    40% {\n",
              "      border-color: transparent;\n",
              "      border-right-color: var(--fill-color);\n",
              "      border-top-color: var(--fill-color);\n",
              "    }\n",
              "    60% {\n",
              "      border-color: transparent;\n",
              "      border-right-color: var(--fill-color);\n",
              "    }\n",
              "    80% {\n",
              "      border-color: transparent;\n",
              "      border-right-color: var(--fill-color);\n",
              "      border-bottom-color: var(--fill-color);\n",
              "    }\n",
              "    90% {\n",
              "      border-color: transparent;\n",
              "      border-bottom-color: var(--fill-color);\n",
              "    }\n",
              "  }\n",
              "</style>\n",
              "\n",
              "  <script>\n",
              "    async function quickchart(key) {\n",
              "      const quickchartButtonEl =\n",
              "        document.querySelector('#' + key + ' button');\n",
              "      quickchartButtonEl.disabled = true;  // To prevent multiple clicks.\n",
              "      quickchartButtonEl.classList.add('colab-df-spinner');\n",
              "      try {\n",
              "        const charts = await google.colab.kernel.invokeFunction(\n",
              "            'suggestCharts', [key], {});\n",
              "      } catch (error) {\n",
              "        console.error('Error during call to suggestCharts:', error);\n",
              "      }\n",
              "      quickchartButtonEl.classList.remove('colab-df-spinner');\n",
              "      quickchartButtonEl.classList.add('colab-df-quickchart-complete');\n",
              "    }\n",
              "    (() => {\n",
              "      let quickchartButtonEl =\n",
              "        document.querySelector('#df-38bcfeb5-27ec-4f8d-a0ff-b85f58276ee5 button');\n",
              "      quickchartButtonEl.style.display =\n",
              "        google.colab.kernel.accessAllowed ? 'block' : 'none';\n",
              "    })();\n",
              "  </script>\n",
              "</div>\n",
              "    </div>\n",
              "  </div>\n"
            ],
            "application/vnd.google.colaboratory.intrinsic+json": {
              "type": "dataframe",
              "summary": "{\n  \"name\": \"df\",\n  \"rows\": 5,\n  \"fields\": [\n    {\n      \"column\": \"label\",\n      \"properties\": {\n        \"dtype\": \"number\",\n        \"std\": 0,\n        \"min\": 0,\n        \"max\": 0,\n        \"num_unique_values\": 1,\n        \"samples\": [\n          0\n        ],\n        \"semantic_type\": \"\",\n        \"description\": \"\"\n      }\n    },\n    {\n      \"column\": \"title\",\n      \"properties\": {\n        \"dtype\": \"string\",\n        \"num_unique_values\": 5,\n        \"samples\": [\n          \"I think Apollos will be a good fit for the team.\"\n        ],\n        \"semantic_type\": \"\",\n        \"description\": \"\"\n      }\n    },\n    {\n      \"column\": \"word_count\",\n      \"properties\": {\n        \"dtype\": \"number\",\n        \"std\": 5,\n        \"min\": 1,\n        \"max\": 15,\n        \"num_unique_values\": 5,\n        \"samples\": [\n          11\n        ],\n        \"semantic_type\": \"\",\n        \"description\": \"\"\n      }\n    },\n    {\n      \"column\": \"symbol_count\",\n      \"properties\": {\n        \"dtype\": \"number\",\n        \"std\": 18,\n        \"min\": 8,\n        \"max\": 54,\n        \"num_unique_values\": 5,\n        \"samples\": [\n          38\n        ],\n        \"semantic_type\": \"\",\n        \"description\": \"\"\n      }\n    },\n    {\n      \"column\": \"upper_lower_ratio\",\n      \"properties\": {\n        \"dtype\": \"number\",\n        \"std\": 0.0694832837059239,\n        \"min\": 0.0,\n        \"max\": 0.16666666666666666,\n        \"num_unique_values\": 5,\n        \"samples\": [\n          0.05714285714285714\n        ],\n        \"semantic_type\": \"\",\n        \"description\": \"\"\n      }\n    },\n    {\n      \"column\": \"symbol_to_word_ratio\",\n      \"properties\": {\n        \"dtype\": \"number\",\n        \"std\": 1.9014585286752401,\n        \"min\": 3.4545454545454546,\n        \"max\": 8.0,\n        \"num_unique_values\": 5,\n        \"samples\": [\n          3.4545454545454546\n        ],\n        \"semantic_type\": \"\",\n        \"description\": \"\"\n      }\n    }\n  ]\n}"
            }
          },
          "metadata": {},
          "execution_count": 14
        }
      ]
    },
    {
      "cell_type": "markdown",
      "source": [
        "A few plots to see some some characteristics of the data."
      ],
      "metadata": {
        "id": "YY9ru5DbJqxa"
      }
    },
    {
      "cell_type": "code",
      "source": [
        "df_no_sarc = df.where(df[\"label\"] == 0)\n",
        "df_no_sarc = df_no_sarc.where(df_no_sarc[\"word_count\"] <= 51)\n",
        "df_sarc = df.where(df[\"label\"] == 1)\n",
        "df_sarc = df_sarc.where(df_sarc[\"word_count\"] <= 51)\n",
        "df_no_sarc = df_no_sarc[np.isfinite(df_no_sarc[\"word_count\"])]\n",
        "df_sarc = df_sarc[np.isfinite(df_sarc[\"word_count\"])]\n",
        "plt.style.use('_mpl-gallery-nogrid')\n",
        "\n",
        "hist_df_no_sarc, bin_edges_no = np.histogram(df_no_sarc[\"word_count\"].values, density=True)\n",
        "hist_df_sarc, bin_edges = np.histogram(df_sarc[\"word_count\"].values, density=True)\n",
        "# plot:\n",
        "fig, (ax1, ax2) = plt.subplots(1, 2, figsize=(12, 5))\n",
        "\n",
        "bin_mids_no = [(bin_edges_no[i+1] + bin_edges_no[i])/2 for i in range(len(bin_edges_no) - 1)]\n",
        "bin_mids = [(bin_edges[i+1] + bin_edges[i])/2 for i in range(len(bin_edges) - 1)]\n",
        "ax1.bar(bin_mids_no, hist_df_no_sarc, width=bin_edges_no[1] - bin_edges_no[0])\n",
        "ax2.bar(bin_mids, hist_df_sarc, width=bin_edges[1] - bin_edges[0])\n",
        "ax1.set_title(\"Hist no sarcasm\")\n",
        "ax1.set_ylabel(\"density\")\n",
        "ax1.set_xlabel(\"word count\")\n",
        "ax1.set_xticks(bin_edges_no)\n",
        "ax1.grid(True)\n",
        "ax2.set_title(\"Hist sarcasm\")\n",
        "ax2.set_xlabel(\"word count\")\n",
        "ax2.set_xticks(bin_edges)\n",
        "ax2.grid(True)\n",
        "plt.show()"
      ],
      "metadata": {
        "id": "_LEHSFedgIBq",
        "colab": {
          "base_uri": "https://localhost:8080/",
          "height": 587
        },
        "outputId": "ca7a9905-6490-4a46-dfa0-8cc5266da371"
      },
      "execution_count": 15,
      "outputs": [
        {
          "output_type": "display_data",
          "data": {
            "text/plain": [
              "<Figure size 1200x500 with 2 Axes>"
            ],
            "image/png": "[encoded data removed]"
          },
          "metadata": {}
        }
      ]
    },
    {
      "cell_type": "code",
      "source": [
        "df_no_sarc = df.where(df[\"label\"] == 0)\n",
        "df_no_sarc = df_no_sarc.where(df_no_sarc[\"symbol_count\"] <= 201)\n",
        "df_sarc = df.where(df[\"label\"] == 1)\n",
        "df_sarc = df_sarc.where(df_sarc[\"symbol_count\"] <= 201)\n",
        "df_no_sarc = df_no_sarc[np.isfinite(df_no_sarc[\"symbol_count\"])]\n",
        "df_sarc = df_sarc[np.isfinite(df_sarc[\"symbol_count\"])]\n",
        "plt.style.use('_mpl-gallery-nogrid')\n",
        "\n",
        "hist_df_no_sarc, bin_edges_no = np.histogram(df_no_sarc[\"symbol_count\"].values, density=True)\n",
        "hist_df_sarc, bin_edges = np.histogram(df_sarc[\"symbol_count\"].values, density=True)\n",
        "# plot:\n",
        "fig, (ax1, ax2) = plt.subplots(1, 2, figsize=(12, 5))\n",
        "\n",
        "bin_mids_no = [(bin_edges_no[i+1] + bin_edges_no[i])/2 for i in range(len(bin_edges_no) - 1)]\n",
        "bin_mids = [(bin_edges[i+1] + bin_edges[i])/2 for i in range(len(bin_edges) - 1)]\n",
        "ax1.bar(bin_mids_no, hist_df_no_sarc, width=bin_edges_no[1] - bin_edges_no[0])\n",
        "ax2.bar(bin_mids, hist_df_sarc, width=bin_edges[1] - bin_edges[0])\n",
        "ax1.set_title(\"Hist no sarcasm\")\n",
        "ax1.set_ylabel(\"density\")\n",
        "ax1.set_xlabel(\"symbol count\")\n",
        "ax1.set_xticks(bin_edges_no)\n",
        "ax1.grid(True)\n",
        "ax2.set_title(\"Hist sarcasm\")\n",
        "ax2.set_xlabel(\"symbol count\")\n",
        "ax2.set_xticks(bin_edges)\n",
        "ax2.grid(True)\n",
        "plt.show()"
      ],
      "metadata": {
        "id": "RcYhYzfygLc9",
        "colab": {
          "base_uri": "https://localhost:8080/",
          "height": 587
        },
        "outputId": "f9d4e956-d2a3-4955-b8fc-072b5ee4fb53"
      },
      "execution_count": 16,
      "outputs": [
        {
          "output_type": "display_data",
          "data": {
            "text/plain": [
              "<Figure size 1200x500 with 2 Axes>"
            ],
            "image/png": "[encoded data removed]"
          },
          "metadata": {}
        }
      ]
    },
    {
      "cell_type": "code",
      "source": [
        "df_no_sarc = df.where(df[\"label\"] == 0)\n",
        "df_no_sarc = df_no_sarc.where(df_no_sarc[\"upper_lower_ratio\"] <= 0.3)\n",
        "df_sarc = df.where(df[\"label\"] == 1)\n",
        "df_sarc = df_sarc.where(df_sarc[\"upper_lower_ratio\"] <= 0.3)\n",
        "df_no_sarc = df_no_sarc[np.isfinite(df_no_sarc[\"upper_lower_ratio\"])]\n",
        "df_sarc = df_sarc[np.isfinite(df_sarc[\"upper_lower_ratio\"])]\n",
        "plt.style.use('_mpl-gallery-nogrid')\n",
        "\n",
        "hist_df_no_sarc, bin_edges_no = np.histogram(df_no_sarc[\"upper_lower_ratio\"].values, density=True)\n",
        "hist_df_sarc, bin_edges = np.histogram(df_sarc[\"upper_lower_ratio\"].values, density=True)\n",
        "# plot:\n",
        "fig, (ax1, ax2) = plt.subplots(1, 2, figsize=(12, 5))\n",
        "\n",
        "bin_mids_no = [(bin_edges_no[i+1] + bin_edges_no[i])/2 for i in range(len(bin_edges_no) - 1)]\n",
        "bin_mids = [(bin_edges[i+1] + bin_edges[i])/2 for i in range(len(bin_edges) - 1)]\n",
        "ax1.bar(bin_mids_no, hist_df_no_sarc, width=bin_edges_no[1] - bin_edges_no[0])\n",
        "ax2.bar(bin_mids, hist_df_sarc, width=bin_edges[1] - bin_edges[0])\n",
        "ax1.set_title(\"Hist no sarcasm\")\n",
        "ax1.set_ylabel(\"density\")\n",
        "ax1.set_xlabel(\"upper/lower ratio\")\n",
        "ax1.set_xticks(bin_edges_no)\n",
        "ax1.grid(True)\n",
        "ax2.set_title(\"Hist sarcasm\")\n",
        "ax2.set_xlabel(\"upper/lower ratio\")\n",
        "ax2.set_xticks(bin_edges)\n",
        "ax2.grid(True)\n",
        "plt.show()"
      ],
      "metadata": {
        "id": "vvKbuhLaDaSP",
        "colab": {
          "base_uri": "https://localhost:8080/",
          "height": 587
        },
        "outputId": "d16da453-4c7e-4271-fce2-0a036edc95fa"
      },
      "execution_count": 17,
      "outputs": [
        {
          "output_type": "display_data",
          "data": {
            "text/plain": [
              "<Figure size 1200x500 with 2 Axes>"
            ],
            "image/png": "[encoded data removed]"
          },
          "metadata": {}
        }
      ]
    },
    {
      "cell_type": "code",
      "source": [
        "df_no_sarc = df.where(df[\"label\"] == 0)\n",
        "df_no_sarc = df_no_sarc.where(df_no_sarc[\"symbol_to_word_ratio\"] <= 11)\n",
        "df_sarc = df.where(df[\"label\"] == 1)\n",
        "df_sarc = df_sarc.where(df_sarc[\"symbol_to_word_ratio\"] <= 11)\n",
        "df_no_sarc = df_no_sarc[np.isfinite(df_no_sarc[\"symbol_to_word_ratio\"])]\n",
        "df_sarc = df_sarc[np.isfinite(df_sarc[\"symbol_to_word_ratio\"])]\n",
        "plt.style.use('_mpl-gallery-nogrid')\n",
        "\n",
        "hist_df_no_sarc, bin_edges_no = np.histogram(df_no_sarc[\"symbol_to_word_ratio\"].values, density=True)\n",
        "hist_df_sarc, bin_edges = np.histogram(df_sarc[\"symbol_to_word_ratio\"].values, density=True)\n",
        "# plot:\n",
        "fig, (ax1, ax2) = plt.subplots(1, 2, figsize=(12, 5))\n",
        "\n",
        "bin_mids_no = [(bin_edges_no[i+1] + bin_edges_no[i])/2 for i in range(len(bin_edges_no) - 1)]\n",
        "bin_mids = [(bin_edges[i+1] + bin_edges[i])/2 for i in range(len(bin_edges) - 1)]\n",
        "ax1.bar(bin_mids_no, hist_df_no_sarc, width=bin_edges_no[1] - bin_edges_no[0])\n",
        "ax2.bar(bin_mids, hist_df_sarc, width=bin_edges[1] - bin_edges[0])\n",
        "ax1.set_title(\"Hist no sarcasm\")\n",
        "ax1.set_ylabel(\"density\")\n",
        "ax1.set_xlabel(\"symbols/words ratio\")\n",
        "ax1.set_xticks(bin_edges_no)\n",
        "ax1.grid(True)\n",
        "ax2.set_title(\"Hist sarcasm\")\n",
        "ax2.set_xlabel(\"symbols/words ratio\")\n",
        "ax2.set_xticks(bin_edges)\n",
        "ax2.grid(True)\n",
        "plt.show()"
      ],
      "metadata": {
        "id": "HkuIzb1JF1U1",
        "colab": {
          "base_uri": "https://localhost:8080/",
          "height": 587
        },
        "outputId": "59569936-7721-4ec9-c05e-83ab536574be"
      },
      "execution_count": 18,
      "outputs": [
        {
          "output_type": "display_data",
          "data": {
            "text/plain": [
              "<Figure size 1200x500 with 2 Axes>"
            ],
            "image/png": "[encoded data removed]"
          },
          "metadata": {}
        }
      ]
    },
    {
      "cell_type": "code",
      "source": [],
      "metadata": {
        "id": "WGVjdx1oIoKo"
      },
      "execution_count": 18,
      "outputs": []
    },
    {
      "cell_type": "markdown",
      "source": [
        "Checking if the tokenizer, encoder/decoder and classifier work."
      ],
      "metadata": {
        "id": "86gm5mdio9Hf"
      }
    },
    {
      "cell_type": "code",
      "source": [
        "input = df[\"title\"][1]\n",
        "print(f\"The raw input: \\n{input}\\n\")\n",
        "token = tokenizer(input, return_tensors=\"pt\", add_special_tokens=True)\n",
        "print(f\"The token: \\n{token}\\n\")\n",
        "with torch.no_grad():\n",
        "  encoded_token = model(**token)\n",
        "print(f\"The encoded token: \\n{encoded_token}\\n\")"
      ],
      "metadata": {
        "id": "8UvKrBTwpECS",
        "colab": {
          "base_uri": "https://localhost:8080/"
        },
        "outputId": "0579a8ad-8066-4fd3-8797-e2a8a529e95f"
      },
      "execution_count": 19,
      "outputs": [
        {
          "output_type": "stream",
          "name": "stdout",
          "text": [
            "The raw input: \n",
            "You do know west teams play against west teams more than east teams right?\n",
            "\n",
            "The token: \n",
            "{'input_ids': tensor([[ 101, 1192, 1202, 1221, 1745, 1929, 1505, 1222, 1745, 1929, 1167, 1190,\n",
            "         1746, 1929, 1268,  136,  102]]), 'token_type_ids': tensor([[0, 0, 0, 0, 0, 0, 0, 0, 0, 0, 0, 0, 0, 0, 0, 0, 0]]), 'attention_mask': tensor([[1, 1, 1, 1, 1, 1, 1, 1, 1, 1, 1, 1, 1, 1, 1, 1, 1]])}\n",
            "\n",
            "The encoded token: \n",
            "BaseModelOutputWithPoolingAndCrossAttentions(last_hidden_state=tensor([[[ 0.4462,  0.2160, -0.1071,  ...,  0.0152,  0.0267,  0.0355],\n",
            "         [ 0.0494,  0.1604,  0.2987,  ...,  0.5141,  0.0322,  0.2827],\n",
            "         [ 0.4538,  0.4593, -0.2480,  ...,  1.0495, -0.6544, -0.0112],\n",
            "         ...,\n",
            "         [-0.5150, -0.2680,  0.5978,  ...,  1.0094,  0.1459, -0.1362],\n",
            "         [ 0.6309, -0.1056, -0.2410,  ...,  0.7903, -0.3774,  0.2999],\n",
            "         [ 0.8112, -0.3091, -0.4682,  ...,  0.2833,  0.3041, -0.4745]]]), pooler_output=tensor([[-0.6787,  0.4098,  0.9998, -0.9932,  0.9582,  0.8838,  0.9817, -0.9850,\n",
            "         -0.9669, -0.7444,  0.9735,  0.9987, -0.9979, -0.9998,  0.8207, -0.9796,\n",
            "          0.9871, -0.5021, -0.9999, -0.9163, -0.3597, -0.9998,  0.3698,  0.9778,\n",
            "          0.9663, -0.0046,  0.9849,  0.9999,  0.9105, -0.3849,  0.3052, -0.9923,\n",
            "          0.8896, -0.9988,  0.2020,  0.0445,  0.7264, -0.1444,  0.7058, -0.9476,\n",
            "         -0.6747, -0.8829,  0.6764, -0.4368,  0.8622,  0.2647,  0.0972,  0.0156,\n",
            "         -0.0850,  0.9994, -0.9533,  0.9977, -0.9963,  0.9950,  0.9970,  0.3780,\n",
            "          0.9957,  0.1330, -0.9981,  0.2470,  0.9618,  0.2027,  0.9137, -0.0147,\n",
            "          0.0399, -0.4300, -0.8509,  0.1597, -0.5616,  0.3194,  0.3659,  0.2973,\n",
            "          0.9911, -0.9010, -0.1365, -0.8613,  0.6455, -0.9998,  0.9253,  1.0000,\n",
            "          0.7721, -0.9996,  0.9945, -0.2169, -0.7255,  0.5961, -0.9984, -0.9995,\n",
            "          0.0579, -0.4897,  0.8742, -0.9757,  0.4730, -0.8205,  1.0000, -0.9614,\n",
            "         -0.1364,  0.2567,  0.9584, -0.5967, -0.7878,  0.9018,  0.9988, -0.9946,\n",
            "          0.9984,  0.5809, -0.9059, -0.8698,  0.6835,  0.0065,  0.9869, -0.9779,\n",
            "         -0.7045, -0.0384,  0.7738, -0.9330,  0.9799,  0.9528, -0.1877,  1.0000,\n",
            "         -0.1331,  0.9733,  0.9988,  0.9043, -0.8003, -0.2748, -0.5940,  0.9212,\n",
            "         -0.4268, -0.2994,  0.7590, -0.9926, -0.9967,  0.9994, -0.2260,  1.0000,\n",
            "         -0.9989,  0.9926, -0.9999, -0.7794, -0.6310,  0.0556, -0.9849,  0.1181,\n",
            "          0.9921, -0.0080, -0.9327, -0.7633,  0.2744, -0.8482,  0.6196,  0.7174,\n",
            "         -0.9484,  0.9941,  0.9965,  0.9544,  0.9796,  0.1308, -0.9523,  0.9211,\n",
            "          0.9705, -0.9995,  0.8264, -0.9913,  0.9989,  0.9758,  0.7416, -0.9939,\n",
            "          0.9999, -0.4753, -0.1652,  0.1216, -0.3653, -0.9990,  0.4379,  0.3807,\n",
            "          0.7272,  0.9991, -0.9958,  0.9987,  0.8760, -0.1169,  0.7574,  0.9986,\n",
            "         -0.9970, -0.9807, -0.9848,  0.2041,  0.3915,  0.7742,  0.0700,  0.9645,\n",
            "          0.9979,  0.5662, -0.9973, -0.4391,  0.9766, -0.1448,  1.0000, -0.0282,\n",
            "         -0.9997, -0.8302,  0.9466,  0.9921, -0.2542,  0.9793, -0.6505, -0.2424,\n",
            "          0.9895, -0.9954,  0.9977, -0.1318,  0.7518,  0.8990,  0.9923, -0.8069,\n",
            "         -0.1644,  0.1069, -0.7400,  0.9998, -0.9996, -0.1106,  0.3880, -0.9918,\n",
            "         -0.9981,  0.9783, -0.0031, -0.8812, -0.1403,  0.6533,  0.2090,  0.9218,\n",
            "          0.9917, -0.6354, -0.3949, -0.9997, -0.9964, -0.8801, -0.9685, -0.0640,\n",
            "          0.6047, -0.2596, -0.8810, -0.9976,  0.9573,  0.9335, -0.9276, -0.5307,\n",
            "         -0.4708, -0.9977,  0.6958, -0.8534, -0.9973,  0.9995, -0.7533,  0.9958,\n",
            "          0.9852, -0.9958,  0.8501, -0.9988, -0.0496, -0.9946,  0.2782,  0.5094,\n",
            "         -0.8051, -0.0728,  0.9952, -0.9666, -0.7160,  0.8656, -0.9999,  0.9298,\n",
            "         -0.1666,  0.9993,  0.9411,  0.3670,  0.9787,  0.9419, -0.9881, -0.9997,\n",
            "          0.8989,  0.9578, -0.9945, -0.2054,  0.9999, -0.9974, -0.6988, -0.9447,\n",
            "         -0.9933, -0.9996,  0.2339, -0.9011,  0.2867,  0.9811,  0.2066,  0.2345,\n",
            "          0.9930,  0.9951,  0.2706, -0.0722,  0.0391, -0.9771, -0.9782,  0.6734,\n",
            "          0.1501, -0.9999,  0.9998, -0.9960,  0.9956,  0.9214, -0.9957,  0.8315,\n",
            "          0.1211, -0.9693,  0.0483,  0.9999,  0.9700, -0.1565,  0.0903,  0.8999,\n",
            "         -0.1293,  0.5881, -0.8061, -0.5675,  0.1087, -0.8541,  0.9925,  0.6955,\n",
            "         -0.9923,  0.9964,  0.0805,  0.6215, -0.7270,  0.7928,  0.9892, -0.0663,\n",
            "          0.0249,  0.0198, -0.4767, -0.9838,  0.1763, -0.9976, -0.2450,  0.9214,\n",
            "          0.9855, -0.9822,  0.9935, -0.1195,  0.9097, -0.9979,  1.0000, -0.9971,\n",
            "          0.0378,  0.7595, -0.9467, -0.1502,  0.9929,  0.9862,  0.9828, -0.9476,\n",
            "         -0.5083,  0.8675,  0.9788, -0.9819,  0.0941, -0.9991, -0.4805,  0.9946,\n",
            "          0.9960,  0.1059, -0.1265, -0.9980,  0.9552, -0.8834, -0.9204, -0.0727,\n",
            "         -0.8537,  0.7801,  0.9976, -0.5081,  0.7177,  0.1036, -0.9874,  0.8028,\n",
            "          0.8846,  0.9998, -0.9581,  0.1177,  0.9854, -0.2968, -0.5853,  0.5367,\n",
            "          0.9988, -0.9835, -0.2156, -0.9995,  0.0562, -0.8616,  0.0312, -0.5476,\n",
            "          0.0496, -0.7892,  0.9693,  0.2466,  0.6879, -0.5247,  0.9701, -0.0886,\n",
            "          0.0185, -0.3270, -0.1605,  0.4111,  0.3161,  0.9823, -0.9678,  0.9996,\n",
            "         -0.2184, -1.0000, -0.9966, -0.7696, -0.9994,  0.7371, -0.9958,  0.9864,\n",
            "          0.8643, -0.9980, -0.9988, -0.9982, -0.9935,  0.9088,  0.5568,  0.1211,\n",
            "         -0.0569,  0.2346,  0.0840,  0.0286, -0.0344, -0.9454, -0.3980, -0.9981,\n",
            "          0.6402, -0.9999, -0.7108,  0.9964, -0.9943, -0.9549, -0.9251, -0.7142,\n",
            "         -0.8600,  0.2836,  0.9823,  0.1545, -0.5779, -0.9991,  0.9859, -0.8739,\n",
            "          0.1016, -0.8718, -0.9717,  0.9996,  0.8111, -0.1491, -0.1156, -0.9982,\n",
            "          0.9911, -0.9721, -0.9306, -0.9786,  0.2639, -0.9229, -0.9997,  0.0453,\n",
            "          0.9957,  0.9929,  0.9799,  0.4850, -0.4459, -0.9314,  0.1423, -0.9999,\n",
            "          0.7372,  0.8859, -0.9728, -0.7497,  0.9910,  0.9760, -0.9706, -0.9887,\n",
            "          0.7367,  0.6677,  0.9427, -0.1834, -0.4807,  0.2574,  0.1175, -0.9847,\n",
            "         -0.8924,  0.9964, -0.9988,  0.9667,  0.9938,  0.9984, -0.2805, -0.0958,\n",
            "         -0.9849, -0.9910, -0.6705,  0.2448, -0.9999,  0.9998, -1.0000,  0.5395,\n",
            "         -0.4613,  0.9133,  0.9906, -0.3692, -0.9999, -0.9998, -0.0327, -0.1251,\n",
            "          0.9864,  0.3022,  0.1835, -0.6649,  0.1611,  0.9976, -0.8827, -0.6535,\n",
            "         -0.9972,  0.9996,  0.6643, -0.9986,  0.9971, -0.9993,  0.9227,  0.9759,\n",
            "          0.8785,  0.9706, -0.9988,  1.0000, -0.9997,  0.9963, -1.0000, -0.9986,\n",
            "          0.9998, -0.9887, -0.6277, -0.9996, -0.9977,  0.6609,  0.1914, -0.3839,\n",
            "          0.9910, -0.9997, -0.9985,  0.5847, -0.9660, -0.7888,  0.9943, -0.5878,\n",
            "          0.9904, -0.1382,  0.9574,  0.1158,  0.9969,  0.9956, -0.8786, -0.8193,\n",
            "         -0.9942,  0.9738, -0.2801,  0.3753,  0.9365,  0.1051, -0.6303,  0.3882,\n",
            "         -0.9977,  0.4018, -0.4563,  0.9033,  0.9457,  0.7888, -0.1064, -0.5141,\n",
            "         -0.2446, -0.9940,  0.5636, -0.9994,  0.9688, -0.9624,  0.1290, -0.3386,\n",
            "          0.5643, -0.9559,  0.9994,  0.9986, -0.9975,  0.0538,  0.9912, -0.6248,\n",
            "          0.9721, -0.9918,  0.0074,  0.9700, -0.7770,  0.9795,  0.2707, -0.1271,\n",
            "          0.9578, -0.9959, -0.9188, -0.7713,  0.3714,  0.1867, -0.9804,  0.0846,\n",
            "          0.9829, -0.3257, -0.9997,  0.9387, -0.9995, -0.1352,  0.9852, -0.0911,\n",
            "          0.9999, -0.7538,  0.0692,  0.2480, -0.9998, -0.9987,  0.0601, -0.1758,\n",
            "         -0.9845,  0.9991,  0.1201,  0.9077, -0.9998,  0.2980,  0.9964,  0.2570,\n",
            "          0.8577, -0.5894, -0.9560, -0.9811, -0.7247,  0.0404,  0.9070, -0.9854,\n",
            "         -0.8635, -0.8127,  0.9999, -0.9981, -0.8710, -0.9658,  0.4027,  0.8596,\n",
            "          0.4369, -0.0306, -0.9081,  0.9561, -0.9226,  0.9977, -0.9953, -0.9964,\n",
            "          0.9998,  0.6364, -0.9950, -0.3753, -0.1996,  0.2590,  0.1441,  0.8431,\n",
            "         -0.9200, -0.1615, -0.9972,  0.9034, -0.7811, -0.9864, -0.4844, -0.3599,\n",
            "         -0.9964,  0.9942,  0.9671,  0.9999, -0.9998,  0.8565,  0.0173,  0.9992,\n",
            "          0.0325, -0.6438,  0.9345,  0.9996, -0.3708,  0.8564,  0.0025,  0.0515,\n",
            "          0.0194, -0.7850,  0.9975, -0.9757,  0.5194, -0.9588, -0.9999,  0.9999,\n",
            "         -0.0359,  0.9917,  0.3266,  0.8180, -0.8181,  0.9806, -0.9817, -0.8401,\n",
            "         -1.0000,  0.1692, -0.9975, -0.9934, -0.1141,  0.9853, -0.9995, -0.9867,\n",
            "         -0.3959, -1.0000,  0.9677, -0.9928, -0.8721, -0.9872,  0.9976, -0.4249,\n",
            "         -0.5739,  0.9666, -0.9593,  0.9481,  0.9419,  0.3249,  0.3088,  0.1215,\n",
            "         -0.7593, -0.9955, -0.9348, -0.9512,  0.8894, -0.9905, -0.8384,  0.9966,\n",
            "          0.9871, -0.9989, -0.9971,  0.9964, -0.3733,  0.9935, -0.4950, -0.9998,\n",
            "         -0.9999,  0.0397, -0.2802,  0.9958, -0.3363,  0.9913,  0.6519, -0.1745,\n",
            "          0.3139, -0.3825, -0.1849, -0.2308, -0.0886,  1.0000, -0.8555,  0.9931]]), hidden_states=None, past_key_values=None, attentions=None, cross_attentions=None)\n",
            "\n"
          ]
        }
      ]
    },
    {
      "cell_type": "markdown",
      "source": [
        "Checking if the transpiled tokenizer, encoder/decoder and classifier work."
      ],
      "metadata": {
        "id": "kcogrroTrFTg"
      }
    },
    {
      "cell_type": "code",
      "source": [
        "input = df[\"title\"][1]\n",
        "print(f\"The raw input: \\n{input}\\n\")\n",
        "token = tokenizer.encode(input, return_tensors=\"tf\", add_special_tokens=True)\n",
        "print(f\"The token: \\n{token}\\n\")\n",
        "#input_ids, token_type_ids, attention_mask = token[\"input_ids\"], token[\"token_type_ids\"], token[\"attention_mask\"]\n",
        "encoded_token = model_tf(token)\n",
        "print(f\"The encoded token: \\n{encoded_token}\\n\")"
      ],
      "metadata": {
        "id": "mYy0M5oapJjD",
        "colab": {
          "base_uri": "https://localhost:8080/",
          "height": 1000
        },
        "outputId": "a835fc9d-7ba3-4a24-9c63-8e17a5738964"
      },
      "execution_count": 26,
      "outputs": [
        {
          "output_type": "stream",
          "name": "stdout",
          "text": [
            "The raw input: \n",
            "You do know west teams play against west teams more than east teams right?\n",
            "\n",
            "The token: \n",
            "[[ 101 1192 1202 1221 1745 1929 1505 1222 1745 1929 1167 1190 1746 1929\n",
            "  1268  136  102]]\n",
            "\n"
          ]
        },
        {
          "output_type": "error",
          "ename": "RuntimeError",
          "evalue": "Exception encountered when calling layer 'private___keras_model_4' (type __KerasModel).\n\nExpected all tensors to be on the same device, but found at least two devices, cpu and cuda:0! (when checking argument for argument index in method wrapper_CUDA__index_select)\n\nCall arguments received by layer 'private___keras_model_4' (type __KerasModel):\n  • args=('tf.Tensor(shape=(1, 17), dtype=int32)',)\n  • kwargs={'training': 'None'}",
          "traceback": [
            "\u001b[0;31m---------------------------------------------------------------------------\u001b[0m",
            "\u001b[0;31mRuntimeError\u001b[0m                              Traceback (most recent call last)",
            "\u001b[0;32m<ipython-input-26-f4f10d5ccbb3>\u001b[0m in \u001b[0;36m<cell line: 6>\u001b[0;34m()\u001b[0m\n\u001b[1;32m      4\u001b[0m \u001b[0mprint\u001b[0m\u001b[0;34m(\u001b[0m\u001b[0;34mf\"The token: \\n{token}\\n\"\u001b[0m\u001b[0;34m)\u001b[0m\u001b[0;34m\u001b[0m\u001b[0;34m\u001b[0m\u001b[0m\n\u001b[1;32m      5\u001b[0m \u001b[0;31m#input_ids, token_type_ids, attention_mask = token[\"input_ids\"], token[\"token_type_ids\"], token[\"attention_mask\"]\u001b[0m\u001b[0;34m\u001b[0m\u001b[0;34m\u001b[0m\u001b[0m\n\u001b[0;32m----> 6\u001b[0;31m \u001b[0mencoded_token\u001b[0m \u001b[0;34m=\u001b[0m \u001b[0mmodel_tf\u001b[0m\u001b[0;34m(\u001b[0m\u001b[0mtoken\u001b[0m\u001b[0;34m)\u001b[0m\u001b[0;34m\u001b[0m\u001b[0;34m\u001b[0m\u001b[0m\n\u001b[0m\u001b[1;32m      7\u001b[0m \u001b[0mprint\u001b[0m\u001b[0;34m(\u001b[0m\u001b[0;34mf\"The encoded token: \\n{encoded_token}\\n\"\u001b[0m\u001b[0;34m)\u001b[0m\u001b[0;34m\u001b[0m\u001b[0;34m\u001b[0m\u001b[0m\n",
            "\u001b[0;32mIIX.pyx\u001b[0m in \u001b[0;36mIIX.__KerasModel.__call__\u001b[0;34m()\u001b[0m\n",
            "\u001b[0;32m/usr/local/lib/python3.10/dist-packages/keras/src/utils/traceback_utils.py\u001b[0m in \u001b[0;36merror_handler\u001b[0;34m(*args, **kwargs)\u001b[0m\n\u001b[1;32m     68\u001b[0m             \u001b[0;31m# To get the full stack trace, call:\u001b[0m\u001b[0;34m\u001b[0m\u001b[0;34m\u001b[0m\u001b[0m\n\u001b[1;32m     69\u001b[0m             \u001b[0;31m# `tf.debugging.disable_traceback_filtering()`\u001b[0m\u001b[0;34m\u001b[0m\u001b[0;34m\u001b[0m\u001b[0m\n\u001b[0;32m---> 70\u001b[0;31m             \u001b[0;32mraise\u001b[0m \u001b[0me\u001b[0m\u001b[0;34m.\u001b[0m\u001b[0mwith_traceback\u001b[0m\u001b[0;34m(\u001b[0m\u001b[0mfiltered_tb\u001b[0m\u001b[0;34m)\u001b[0m \u001b[0;32mfrom\u001b[0m \u001b[0;32mNone\u001b[0m\u001b[0;34m\u001b[0m\u001b[0;34m\u001b[0m\u001b[0m\n\u001b[0m\u001b[1;32m     71\u001b[0m         \u001b[0;32mfinally\u001b[0m\u001b[0;34m:\u001b[0m\u001b[0;34m\u001b[0m\u001b[0;34m\u001b[0m\u001b[0m\n\u001b[1;32m     72\u001b[0m             \u001b[0;32mdel\u001b[0m \u001b[0mfiltered_tb\u001b[0m\u001b[0;34m\u001b[0m\u001b[0;34m\u001b[0m\u001b[0m\n",
            "\u001b[0;32mIIX.pyx\u001b[0m in \u001b[0;36mIIX.__KerasModel.call\u001b[0;34m()\u001b[0m\n",
            "\u001b[0;32mID.pyx\u001b[0m in \u001b[0;36mID.LazyGraph._initialize\u001b[0;34m()\u001b[0m\n",
            "\u001b[0;32mDM.pyx\u001b[0m in \u001b[0;36mDM.transpile\u001b[0;34m()\u001b[0m\n",
            "\u001b[0;32mDM.pyx\u001b[0m in \u001b[0;36mDM._to_target_framework\u001b[0;34m()\u001b[0m\n",
            "\u001b[0;32mVX.pyx\u001b[0m in \u001b[0;36mVX.trace_graph\u001b[0;34m()\u001b[0m\n",
            "\u001b[0;32mVX.pyx\u001b[0m in \u001b[0;36mVX._trace_graph\u001b[0;34m()\u001b[0m\n",
            "\u001b[0;32mVX.pyx\u001b[0m in \u001b[0;36mVX._create_graph\u001b[0;34m()\u001b[0m\n",
            "\u001b[0;32mVX.pyx\u001b[0m in \u001b[0;36mVX._create_graph\u001b[0;34m()\u001b[0m\n",
            "\u001b[0;32mID.pyx\u001b[0m in \u001b[0;36mID.Graph.log_all_ops\u001b[0;34m()\u001b[0m\n",
            "\u001b[0;32mID.pyx\u001b[0m in \u001b[0;36mID.Graph._log_ops_train\u001b[0;34m()\u001b[0m\n",
            "\u001b[0;32mID.pyx\u001b[0m in \u001b[0;36mID.Graph._compute_return\u001b[0;34m()\u001b[0m\n",
            "\u001b[0;32m/usr/local/lib/python3.10/dist-packages/ivy/stateful/helpers.py\u001b[0m in \u001b[0;36m_call\u001b[0;34m(self, v, buffers, *args, **kwargs)\u001b[0m\n\u001b[1;32m    287\u001b[0m         \u001b[0;32mif\u001b[0m \u001b[0mreplace_v\u001b[0m \u001b[0;32mor\u001b[0m \u001b[0mreplace_buffers\u001b[0m\u001b[0;34m:\u001b[0m\u001b[0;34m\u001b[0m\u001b[0;34m\u001b[0m\u001b[0m\n\u001b[1;32m    288\u001b[0m             \u001b[0;31m# Call the forward pass\u001b[0m\u001b[0;34m\u001b[0m\u001b[0;34m\u001b[0m\u001b[0m\n\u001b[0;32m--> 289\u001b[0;31m             \u001b[0mret\u001b[0m \u001b[0;34m=\u001b[0m \u001b[0mself\u001b[0m\u001b[0;34m.\u001b[0m\u001b[0m_forward\u001b[0m\u001b[0;34m(\u001b[0m\u001b[0;34m*\u001b[0m\u001b[0margs\u001b[0m\u001b[0;34m,\u001b[0m \u001b[0;34m**\u001b[0m\u001b[0mkwargs\u001b[0m\u001b[0;34m)\u001b[0m\u001b[0;34m\u001b[0m\u001b[0;34m\u001b[0m\u001b[0m\n\u001b[0m\u001b[1;32m    290\u001b[0m             \u001b[0;31m# Replace v, buffers if needed\u001b[0m\u001b[0;34m\u001b[0m\u001b[0;34m\u001b[0m\u001b[0m\n\u001b[1;32m    291\u001b[0m             \u001b[0mself\u001b[0m\u001b[0;34m.\u001b[0m\u001b[0m_v\u001b[0m \u001b[0;34m=\u001b[0m \u001b[0mv_orig\u001b[0m \u001b[0;32mif\u001b[0m \u001b[0mreplace_v\u001b[0m \u001b[0;32melse\u001b[0m \u001b[0mself\u001b[0m\u001b[0;34m.\u001b[0m\u001b[0m_v\u001b[0m\u001b[0;34m\u001b[0m\u001b[0;34m\u001b[0m\u001b[0m\n",
            "\u001b[0;32m/usr/local/lib/python3.10/dist-packages/ivy/stateful/module.py\u001b[0m in \u001b[0;36m_forward\u001b[0;34m(self, *a, **kw)\u001b[0m\n\u001b[1;32m    883\u001b[0m         \u001b[0ma\u001b[0m\u001b[0;34m,\u001b[0m \u001b[0mkw\u001b[0m \u001b[0;34m=\u001b[0m \u001b[0mivy\u001b[0m\u001b[0;34m.\u001b[0m\u001b[0margs_to_native\u001b[0m\u001b[0;34m(\u001b[0m\u001b[0;34m*\u001b[0m\u001b[0ma\u001b[0m\u001b[0;34m,\u001b[0m \u001b[0;34m**\u001b[0m\u001b[0mkw\u001b[0m\u001b[0;34m)\u001b[0m\u001b[0;34m\u001b[0m\u001b[0;34m\u001b[0m\u001b[0m\n\u001b[1;32m    884\u001b[0m         \u001b[0mself\u001b[0m\u001b[0;34m.\u001b[0m\u001b[0m_update_v\u001b[0m\u001b[0;34m(\u001b[0m\u001b[0mself\u001b[0m\u001b[0;34m.\u001b[0m\u001b[0mv\u001b[0m\u001b[0;34m)\u001b[0m\u001b[0;34m\u001b[0m\u001b[0;34m\u001b[0m\u001b[0m\n\u001b[0;32m--> 885\u001b[0;31m         \u001b[0mret\u001b[0m \u001b[0;34m=\u001b[0m \u001b[0mself\u001b[0m\u001b[0;34m.\u001b[0m\u001b[0m_native_module\u001b[0m\u001b[0;34m(\u001b[0m\u001b[0;34m*\u001b[0m\u001b[0ma\u001b[0m\u001b[0;34m,\u001b[0m \u001b[0;34m**\u001b[0m\u001b[0mkw\u001b[0m\u001b[0;34m)\u001b[0m\u001b[0;34m\u001b[0m\u001b[0;34m\u001b[0m\u001b[0m\n\u001b[0m\u001b[1;32m    886\u001b[0m         \u001b[0mnested\u001b[0m \u001b[0;34m=\u001b[0m \u001b[0misinstance\u001b[0m\u001b[0;34m(\u001b[0m\u001b[0mret\u001b[0m\u001b[0;34m,\u001b[0m \u001b[0mtuple\u001b[0m\u001b[0;34m)\u001b[0m\u001b[0;34m\u001b[0m\u001b[0;34m\u001b[0m\u001b[0m\n\u001b[1;32m    887\u001b[0m         \u001b[0;32mreturn\u001b[0m \u001b[0mivy\u001b[0m\u001b[0;34m.\u001b[0m\u001b[0mto_native\u001b[0m\u001b[0;34m(\u001b[0m\u001b[0mret\u001b[0m\u001b[0;34m,\u001b[0m \u001b[0mnested\u001b[0m\u001b[0;34m=\u001b[0m\u001b[0mnested\u001b[0m\u001b[0;34m)\u001b[0m\u001b[0;34m\u001b[0m\u001b[0;34m\u001b[0m\u001b[0m\n",
            "\u001b[0;32m/usr/local/lib/python3.10/dist-packages/torch/nn/modules/module.py\u001b[0m in \u001b[0;36mivy___wrapped_call_impl\u001b[0;34m(self, *args, **kwargs)\u001b[0m\n\u001b[1;32m     11\u001b[0m \u001b[0;34m\u001b[0m\u001b[0m\n\u001b[1;32m     12\u001b[0m \u001b[0;32mfrom\u001b[0m \u001b[0mtorch\u001b[0m \u001b[0;32mimport\u001b[0m \u001b[0mTensor\u001b[0m\u001b[0;34m,\u001b[0m \u001b[0mdevice\u001b[0m\u001b[0;34m,\u001b[0m \u001b[0mdtype\u001b[0m\u001b[0;34m\u001b[0m\u001b[0;34m\u001b[0m\u001b[0m\n\u001b[0;32m---> 13\u001b[0;31m \u001b[0;32mfrom\u001b[0m \u001b[0mtyping\u001b[0m \u001b[0;32mimport\u001b[0m \u001b[0mUnion\u001b[0m\u001b[0;34m,\u001b[0m \u001b[0mTuple\u001b[0m\u001b[0;34m,\u001b[0m \u001b[0mAny\u001b[0m\u001b[0;34m,\u001b[0m \u001b[0mCallable\u001b[0m\u001b[0;34m,\u001b[0m \u001b[0mIterator\u001b[0m\u001b[0;34m,\u001b[0m \u001b[0mSet\u001b[0m\u001b[0;34m,\u001b[0m \u001b[0mOptional\u001b[0m\u001b[0;34m,\u001b[0m \u001b[0moverload\u001b[0m\u001b[0;34m,\u001b[0m \u001b[0mTypeVar\u001b[0m\u001b[0;34m,\u001b[0m \u001b[0mMapping\u001b[0m\u001b[0;34m,\u001b[0m \u001b[0mDict\u001b[0m\u001b[0;34m,\u001b[0m \u001b[0mList\u001b[0m\u001b[0;34m\u001b[0m\u001b[0;34m\u001b[0m\u001b[0m\n\u001b[0m\u001b[1;32m     14\u001b[0m \u001b[0;32mfrom\u001b[0m \u001b[0mtyping_extensions\u001b[0m \u001b[0;32mimport\u001b[0m \u001b[0mSelf\u001b[0m\u001b[0;34m\u001b[0m\u001b[0;34m\u001b[0m\u001b[0m\n\u001b[1;32m     15\u001b[0m \u001b[0;32mfrom\u001b[0m \u001b[0;34m...\u001b[0m\u001b[0mutils\u001b[0m\u001b[0;34m.\u001b[0m\u001b[0mhooks\u001b[0m \u001b[0;32mimport\u001b[0m \u001b[0mRemovableHandle\u001b[0m\u001b[0;34m\u001b[0m\u001b[0;34m\u001b[0m\u001b[0m\n",
            "\u001b[0;32mDD.pyx\u001b[0m in \u001b[0;36mDD.converted_call\u001b[0;34m()\u001b[0m\n",
            "\u001b[0;32mDD.pyx\u001b[0m in \u001b[0;36mDD._call_unconverted\u001b[0;34m()\u001b[0m\n",
            "\u001b[0;32m/usr/local/lib/python3.10/dist-packages/torch/nn/modules/module.py\u001b[0m in \u001b[0;36m_call_impl\u001b[0;34m(self, *args, **kwargs)\u001b[0m\n\u001b[1;32m   1518\u001b[0m                 \u001b[0;32mor\u001b[0m \u001b[0m_global_backward_pre_hooks\u001b[0m \u001b[0;32mor\u001b[0m \u001b[0m_global_backward_hooks\u001b[0m\u001b[0;34m\u001b[0m\u001b[0;34m\u001b[0m\u001b[0m\n\u001b[1;32m   1519\u001b[0m                 or _global_forward_hooks or _global_forward_pre_hooks):\n\u001b[0;32m-> 1520\u001b[0;31m             \u001b[0;32mreturn\u001b[0m \u001b[0mforward_call\u001b[0m\u001b[0;34m(\u001b[0m\u001b[0;34m*\u001b[0m\u001b[0margs\u001b[0m\u001b[0;34m,\u001b[0m \u001b[0;34m**\u001b[0m\u001b[0mkwargs\u001b[0m\u001b[0;34m)\u001b[0m\u001b[0;34m\u001b[0m\u001b[0;34m\u001b[0m\u001b[0m\n\u001b[0m\u001b[1;32m   1521\u001b[0m \u001b[0;34m\u001b[0m\u001b[0m\n\u001b[1;32m   1522\u001b[0m         \u001b[0;32mtry\u001b[0m\u001b[0;34m:\u001b[0m\u001b[0;34m\u001b[0m\u001b[0;34m\u001b[0m\u001b[0m\n",
            "\u001b[0;32m/usr/local/lib/python3.10/dist-packages/transformers/models/bert/modeling_bert.py\u001b[0m in \u001b[0;36mforward\u001b[0;34m(self, input_ids, attention_mask, token_type_ids, position_ids, head_mask, inputs_embeds, encoder_hidden_states, encoder_attention_mask, past_key_values, use_cache, output_attentions, output_hidden_states, return_dict)\u001b[0m\n\u001b[1;32m   1004\u001b[0m         \u001b[0mhead_mask\u001b[0m \u001b[0;34m=\u001b[0m \u001b[0mself\u001b[0m\u001b[0;34m.\u001b[0m\u001b[0mget_head_mask\u001b[0m\u001b[0;34m(\u001b[0m\u001b[0mhead_mask\u001b[0m\u001b[0;34m,\u001b[0m \u001b[0mself\u001b[0m\u001b[0;34m.\u001b[0m\u001b[0mconfig\u001b[0m\u001b[0;34m.\u001b[0m\u001b[0mnum_hidden_layers\u001b[0m\u001b[0;34m)\u001b[0m\u001b[0;34m\u001b[0m\u001b[0;34m\u001b[0m\u001b[0m\n\u001b[1;32m   1005\u001b[0m \u001b[0;34m\u001b[0m\u001b[0m\n\u001b[0;32m-> 1006\u001b[0;31m         embedding_output = self.embeddings(\n\u001b[0m\u001b[1;32m   1007\u001b[0m             \u001b[0minput_ids\u001b[0m\u001b[0;34m=\u001b[0m\u001b[0minput_ids\u001b[0m\u001b[0;34m,\u001b[0m\u001b[0;34m\u001b[0m\u001b[0;34m\u001b[0m\u001b[0m\n\u001b[1;32m   1008\u001b[0m             \u001b[0mposition_ids\u001b[0m\u001b[0;34m=\u001b[0m\u001b[0mposition_ids\u001b[0m\u001b[0;34m,\u001b[0m\u001b[0;34m\u001b[0m\u001b[0;34m\u001b[0m\u001b[0m\n",
            "\u001b[0;32m/usr/local/lib/python3.10/dist-packages/torch/nn/modules/module.py\u001b[0m in \u001b[0;36m_wrapped_call_impl\u001b[0;34m(self, *args, **kwargs)\u001b[0m\n\u001b[1;32m   1509\u001b[0m             \u001b[0;32mreturn\u001b[0m \u001b[0mself\u001b[0m\u001b[0;34m.\u001b[0m\u001b[0m_compiled_call_impl\u001b[0m\u001b[0;34m(\u001b[0m\u001b[0;34m*\u001b[0m\u001b[0margs\u001b[0m\u001b[0;34m,\u001b[0m \u001b[0;34m**\u001b[0m\u001b[0mkwargs\u001b[0m\u001b[0;34m)\u001b[0m  \u001b[0;31m# type: ignore[misc]\u001b[0m\u001b[0;34m\u001b[0m\u001b[0;34m\u001b[0m\u001b[0m\n\u001b[1;32m   1510\u001b[0m         \u001b[0;32melse\u001b[0m\u001b[0;34m:\u001b[0m\u001b[0;34m\u001b[0m\u001b[0;34m\u001b[0m\u001b[0m\n\u001b[0;32m-> 1511\u001b[0;31m             \u001b[0;32mreturn\u001b[0m \u001b[0mself\u001b[0m\u001b[0;34m.\u001b[0m\u001b[0m_call_impl\u001b[0m\u001b[0;34m(\u001b[0m\u001b[0;34m*\u001b[0m\u001b[0margs\u001b[0m\u001b[0;34m,\u001b[0m \u001b[0;34m**\u001b[0m\u001b[0mkwargs\u001b[0m\u001b[0;34m)\u001b[0m\u001b[0;34m\u001b[0m\u001b[0;34m\u001b[0m\u001b[0m\n\u001b[0m\u001b[1;32m   1512\u001b[0m \u001b[0;34m\u001b[0m\u001b[0m\n\u001b[1;32m   1513\u001b[0m     \u001b[0;32mdef\u001b[0m \u001b[0m_call_impl\u001b[0m\u001b[0;34m(\u001b[0m\u001b[0mself\u001b[0m\u001b[0;34m,\u001b[0m \u001b[0;34m*\u001b[0m\u001b[0margs\u001b[0m\u001b[0;34m,\u001b[0m \u001b[0;34m**\u001b[0m\u001b[0mkwargs\u001b[0m\u001b[0;34m)\u001b[0m\u001b[0;34m:\u001b[0m\u001b[0;34m\u001b[0m\u001b[0;34m\u001b[0m\u001b[0m\n",
            "\u001b[0;32m/usr/local/lib/python3.10/dist-packages/torch/nn/modules/module.py\u001b[0m in \u001b[0;36m_call_impl\u001b[0;34m(self, *args, **kwargs)\u001b[0m\n\u001b[1;32m   1518\u001b[0m                 \u001b[0;32mor\u001b[0m \u001b[0m_global_backward_pre_hooks\u001b[0m \u001b[0;32mor\u001b[0m \u001b[0m_global_backward_hooks\u001b[0m\u001b[0;34m\u001b[0m\u001b[0;34m\u001b[0m\u001b[0m\n\u001b[1;32m   1519\u001b[0m                 or _global_forward_hooks or _global_forward_pre_hooks):\n\u001b[0;32m-> 1520\u001b[0;31m             \u001b[0;32mreturn\u001b[0m \u001b[0mforward_call\u001b[0m\u001b[0;34m(\u001b[0m\u001b[0;34m*\u001b[0m\u001b[0margs\u001b[0m\u001b[0;34m,\u001b[0m \u001b[0;34m**\u001b[0m\u001b[0mkwargs\u001b[0m\u001b[0;34m)\u001b[0m\u001b[0;34m\u001b[0m\u001b[0;34m\u001b[0m\u001b[0m\n\u001b[0m\u001b[1;32m   1521\u001b[0m \u001b[0;34m\u001b[0m\u001b[0m\n\u001b[1;32m   1522\u001b[0m         \u001b[0;32mtry\u001b[0m\u001b[0;34m:\u001b[0m\u001b[0;34m\u001b[0m\u001b[0;34m\u001b[0m\u001b[0m\n",
            "\u001b[0;32m/usr/local/lib/python3.10/dist-packages/transformers/models/bert/modeling_bert.py\u001b[0m in \u001b[0;36mforward\u001b[0;34m(self, input_ids, token_type_ids, position_ids, inputs_embeds, past_key_values_length)\u001b[0m\n\u001b[1;32m    230\u001b[0m \u001b[0;34m\u001b[0m\u001b[0m\n\u001b[1;32m    231\u001b[0m         \u001b[0;32mif\u001b[0m \u001b[0minputs_embeds\u001b[0m \u001b[0;32mis\u001b[0m \u001b[0;32mNone\u001b[0m\u001b[0;34m:\u001b[0m\u001b[0;34m\u001b[0m\u001b[0;34m\u001b[0m\u001b[0m\n\u001b[0;32m--> 232\u001b[0;31m             \u001b[0minputs_embeds\u001b[0m \u001b[0;34m=\u001b[0m \u001b[0mself\u001b[0m\u001b[0;34m.\u001b[0m\u001b[0mword_embeddings\u001b[0m\u001b[0;34m(\u001b[0m\u001b[0minput_ids\u001b[0m\u001b[0;34m)\u001b[0m\u001b[0;34m\u001b[0m\u001b[0;34m\u001b[0m\u001b[0m\n\u001b[0m\u001b[1;32m    233\u001b[0m         \u001b[0mtoken_type_embeddings\u001b[0m \u001b[0;34m=\u001b[0m \u001b[0mself\u001b[0m\u001b[0;34m.\u001b[0m\u001b[0mtoken_type_embeddings\u001b[0m\u001b[0;34m(\u001b[0m\u001b[0mtoken_type_ids\u001b[0m\u001b[0;34m)\u001b[0m\u001b[0;34m\u001b[0m\u001b[0;34m\u001b[0m\u001b[0m\n\u001b[1;32m    234\u001b[0m \u001b[0;34m\u001b[0m\u001b[0m\n",
            "\u001b[0;32m/usr/local/lib/python3.10/dist-packages/torch/nn/modules/module.py\u001b[0m in \u001b[0;36m_wrapped_call_impl\u001b[0;34m(self, *args, **kwargs)\u001b[0m\n\u001b[1;32m   1509\u001b[0m             \u001b[0;32mreturn\u001b[0m \u001b[0mself\u001b[0m\u001b[0;34m.\u001b[0m\u001b[0m_compiled_call_impl\u001b[0m\u001b[0;34m(\u001b[0m\u001b[0;34m*\u001b[0m\u001b[0margs\u001b[0m\u001b[0;34m,\u001b[0m \u001b[0;34m**\u001b[0m\u001b[0mkwargs\u001b[0m\u001b[0;34m)\u001b[0m  \u001b[0;31m# type: ignore[misc]\u001b[0m\u001b[0;34m\u001b[0m\u001b[0;34m\u001b[0m\u001b[0m\n\u001b[1;32m   1510\u001b[0m         \u001b[0;32melse\u001b[0m\u001b[0;34m:\u001b[0m\u001b[0;34m\u001b[0m\u001b[0;34m\u001b[0m\u001b[0m\n\u001b[0;32m-> 1511\u001b[0;31m             \u001b[0;32mreturn\u001b[0m \u001b[0mself\u001b[0m\u001b[0;34m.\u001b[0m\u001b[0m_call_impl\u001b[0m\u001b[0;34m(\u001b[0m\u001b[0;34m*\u001b[0m\u001b[0margs\u001b[0m\u001b[0;34m,\u001b[0m \u001b[0;34m**\u001b[0m\u001b[0mkwargs\u001b[0m\u001b[0;34m)\u001b[0m\u001b[0;34m\u001b[0m\u001b[0;34m\u001b[0m\u001b[0m\n\u001b[0m\u001b[1;32m   1512\u001b[0m \u001b[0;34m\u001b[0m\u001b[0m\n\u001b[1;32m   1513\u001b[0m     \u001b[0;32mdef\u001b[0m \u001b[0m_call_impl\u001b[0m\u001b[0;34m(\u001b[0m\u001b[0mself\u001b[0m\u001b[0;34m,\u001b[0m \u001b[0;34m*\u001b[0m\u001b[0margs\u001b[0m\u001b[0;34m,\u001b[0m \u001b[0;34m**\u001b[0m\u001b[0mkwargs\u001b[0m\u001b[0;34m)\u001b[0m\u001b[0;34m:\u001b[0m\u001b[0;34m\u001b[0m\u001b[0;34m\u001b[0m\u001b[0m\n",
            "\u001b[0;32m/usr/local/lib/python3.10/dist-packages/torch/nn/modules/module.py\u001b[0m in \u001b[0;36m_call_impl\u001b[0;34m(self, *args, **kwargs)\u001b[0m\n\u001b[1;32m   1518\u001b[0m                 \u001b[0;32mor\u001b[0m \u001b[0m_global_backward_pre_hooks\u001b[0m \u001b[0;32mor\u001b[0m \u001b[0m_global_backward_hooks\u001b[0m\u001b[0;34m\u001b[0m\u001b[0;34m\u001b[0m\u001b[0m\n\u001b[1;32m   1519\u001b[0m                 or _global_forward_hooks or _global_forward_pre_hooks):\n\u001b[0;32m-> 1520\u001b[0;31m             \u001b[0;32mreturn\u001b[0m \u001b[0mforward_call\u001b[0m\u001b[0;34m(\u001b[0m\u001b[0;34m*\u001b[0m\u001b[0margs\u001b[0m\u001b[0;34m,\u001b[0m \u001b[0;34m**\u001b[0m\u001b[0mkwargs\u001b[0m\u001b[0;34m)\u001b[0m\u001b[0;34m\u001b[0m\u001b[0;34m\u001b[0m\u001b[0m\n\u001b[0m\u001b[1;32m   1521\u001b[0m \u001b[0;34m\u001b[0m\u001b[0m\n\u001b[1;32m   1522\u001b[0m         \u001b[0;32mtry\u001b[0m\u001b[0;34m:\u001b[0m\u001b[0;34m\u001b[0m\u001b[0;34m\u001b[0m\u001b[0m\n",
            "\u001b[0;32m/usr/local/lib/python3.10/dist-packages/torch/nn/modules/sparse.py\u001b[0m in \u001b[0;36mforward\u001b[0;34m(self, input)\u001b[0m\n\u001b[1;32m    161\u001b[0m \u001b[0;34m\u001b[0m\u001b[0m\n\u001b[1;32m    162\u001b[0m     \u001b[0;32mdef\u001b[0m \u001b[0mforward\u001b[0m\u001b[0;34m(\u001b[0m\u001b[0mself\u001b[0m\u001b[0;34m,\u001b[0m \u001b[0minput\u001b[0m\u001b[0;34m:\u001b[0m \u001b[0mTensor\u001b[0m\u001b[0;34m)\u001b[0m \u001b[0;34m->\u001b[0m \u001b[0mTensor\u001b[0m\u001b[0;34m:\u001b[0m\u001b[0;34m\u001b[0m\u001b[0;34m\u001b[0m\u001b[0m\n\u001b[0;32m--> 163\u001b[0;31m         return F.embedding(\n\u001b[0m\u001b[1;32m    164\u001b[0m             \u001b[0minput\u001b[0m\u001b[0;34m,\u001b[0m \u001b[0mself\u001b[0m\u001b[0;34m.\u001b[0m\u001b[0mweight\u001b[0m\u001b[0;34m,\u001b[0m \u001b[0mself\u001b[0m\u001b[0;34m.\u001b[0m\u001b[0mpadding_idx\u001b[0m\u001b[0;34m,\u001b[0m \u001b[0mself\u001b[0m\u001b[0;34m.\u001b[0m\u001b[0mmax_norm\u001b[0m\u001b[0;34m,\u001b[0m\u001b[0;34m\u001b[0m\u001b[0;34m\u001b[0m\u001b[0m\n\u001b[1;32m    165\u001b[0m             self.norm_type, self.scale_grad_by_freq, self.sparse)\n",
            "\u001b[0;32m<string>\u001b[0m in \u001b[0;36mnew_fn\u001b[0;34m(input, weight, padding_idx, max_norm, norm_type, scale_grad_by_freq, sparse)\u001b[0m\n",
            "\u001b[0;32mIC.pyx\u001b[0m in \u001b[0;36mIC._wrap_function_for_op_logging._tracing_function\u001b[0;34m()\u001b[0m\n",
            "\u001b[0;32mIC.pyx\u001b[0m in \u001b[0;36mIC._wrap_function_for_op_logging._tracing_function\u001b[0;34m()\u001b[0m\n",
            "\u001b[0;32m/usr/local/lib/python3.10/dist-packages/torch/nn/functional.py\u001b[0m in \u001b[0;36membedding\u001b[0;34m(input, weight, padding_idx, max_norm, norm_type, scale_grad_by_freq, sparse)\u001b[0m\n\u001b[1;32m   2235\u001b[0m         \u001b[0;31m# remove once script supports set_grad_enabled\u001b[0m\u001b[0;34m\u001b[0m\u001b[0;34m\u001b[0m\u001b[0m\n\u001b[1;32m   2236\u001b[0m         \u001b[0m_no_grad_embedding_renorm_\u001b[0m\u001b[0;34m(\u001b[0m\u001b[0mweight\u001b[0m\u001b[0;34m,\u001b[0m \u001b[0minput\u001b[0m\u001b[0;34m,\u001b[0m \u001b[0mmax_norm\u001b[0m\u001b[0;34m,\u001b[0m \u001b[0mnorm_type\u001b[0m\u001b[0;34m)\u001b[0m\u001b[0;34m\u001b[0m\u001b[0;34m\u001b[0m\u001b[0m\n\u001b[0;32m-> 2237\u001b[0;31m     \u001b[0;32mreturn\u001b[0m \u001b[0mtorch\u001b[0m\u001b[0;34m.\u001b[0m\u001b[0membedding\u001b[0m\u001b[0;34m(\u001b[0m\u001b[0mweight\u001b[0m\u001b[0;34m,\u001b[0m \u001b[0minput\u001b[0m\u001b[0;34m,\u001b[0m \u001b[0mpadding_idx\u001b[0m\u001b[0;34m,\u001b[0m \u001b[0mscale_grad_by_freq\u001b[0m\u001b[0;34m,\u001b[0m \u001b[0msparse\u001b[0m\u001b[0;34m)\u001b[0m\u001b[0;34m\u001b[0m\u001b[0;34m\u001b[0m\u001b[0m\n\u001b[0m\u001b[1;32m   2238\u001b[0m \u001b[0;34m\u001b[0m\u001b[0m\n\u001b[1;32m   2239\u001b[0m \u001b[0;34m\u001b[0m\u001b[0m\n",
            "\u001b[0;32mX.pyx\u001b[0m in \u001b[0;36mX.WrappedCallable.__call__\u001b[0;34m()\u001b[0m\n",
            "\u001b[0;32mIC.pyx\u001b[0m in \u001b[0;36mIC._wrap_function_for_op_logging._tracing_function\u001b[0;34m()\u001b[0m\n",
            "\u001b[0;31mRuntimeError\u001b[0m: Exception encountered when calling layer 'private___keras_model_4' (type __KerasModel).\n\nExpected all tensors to be on the same device, but found at least two devices, cpu and cuda:0! (when checking argument for argument index in method wrapper_CUDA__index_select)\n\nCall arguments received by layer 'private___keras_model_4' (type __KerasModel):\n  • args=('tf.Tensor(shape=(1, 17), dtype=int32)',)\n  • kwargs={'training': 'None'}"
          ]
        }
      ]
    },
    {
      "cell_type": "markdown",
      "source": [
        "A quick check whether transpiling to paddle works as intended."
      ],
      "metadata": {
        "id": "MP4JRoYbGbpC"
      }
    },
    {
      "cell_type": "code",
      "source": [
        "class Network(torch.nn.Module):\n",
        "\n",
        "    def __init__(self):\n",
        "     super().__init__()\n",
        "     self._linear = torch.nn.Linear(3, 3)\n",
        "\n",
        "    def forward(self, x):\n",
        "     return self._linear(x)\n",
        "\n",
        "x = torch.tensor([1., 2., 3.])\n",
        "net = Network()\n",
        "net(x)"
      ],
      "metadata": {
        "id": "kEUO3sSCrRYf",
        "colab": {
          "base_uri": "https://localhost:8080/"
        },
        "outputId": "0dddf0f5-482b-4c30-9c0e-90510ec5ebdd"
      },
      "execution_count": 27,
      "outputs": [
        {
          "output_type": "execute_result",
          "data": {
            "text/plain": [
              "tensor([ 0.1816, -0.4204,  0.3818], grad_fn=<ViewBackward0>)"
            ]
          },
          "metadata": {},
          "execution_count": 27
        }
      ]
    },
    {
      "cell_type": "code",
      "source": [
        "ivy.set_backend(\"paddle\")\n",
        "net_pd = ivy.transpile(net, source=\"torch\", to=\"paddle\")\n",
        "x_pd = paddle.to_tensor([1., 2., 3.])\n",
        "net_pd(x_pd)"
      ],
      "metadata": {
        "id": "5y7xNkstJKas",
        "colab": {
          "base_uri": "https://localhost:8080/"
        },
        "outputId": "88c5a85d-8d8f-4d81-b73e-2227d86227ee"
      },
      "execution_count": 28,
      "outputs": [
        {
          "output_type": "execute_result",
          "data": {
            "text/plain": [
              "Tensor(shape=[3], dtype=float32, place=Place(cpu), stop_gradient=False,\n",
              "       [ 0.18157756, -0.42038253,  0.38175309])"
            ]
          },
          "metadata": {},
          "execution_count": 28
        }
      ]
    },
    {
      "cell_type": "markdown",
      "source": [
        "Setting up the classifier based on BERT's sequence classifier model."
      ],
      "metadata": {
        "id": "hB-1iHnoBjBZ"
      }
    },
    {
      "cell_type": "code",
      "source": [
        "class Classifier(torch.nn.Module):\n",
        "    def __init__(self, num_classes=2):\n",
        "        super(Classifier, self).__init__()\n",
        "        self.tokenizer = tokenizer\n",
        "        self.model = sequence_classifier\n",
        "        self.softmax = torch.nn.functional.softmax\n",
        "        self.argmax = torch.argmax\n",
        "\n",
        "    def forward(self, x):\n",
        "        x = self.tokenizer(x, return_tensors=\"pt\", add_special_tokens=True, padding=True, truncation=True)\n",
        "        x = self.model(**x)\n",
        "        x = self.softmax(x[\"logits\"], dim=1)\n",
        "        x = self.argmax(x, dim=1)\n",
        "        return x\n",
        "\n",
        "\n",
        "ivy.set_backend(\"paddle\")\n",
        "classifier = Classifier()\n",
        "classifier_pd = ivy.transpile(classifier, source=\"torch\", to=\"paddle\")"
      ],
      "metadata": {
        "id": "m3gMHZMdovuU"
      },
      "execution_count": 87,
      "outputs": []
    },
    {
      "cell_type": "code",
      "source": [
        "input = df[\"title\"][1]\n",
        "input2 = df[\"title\"][5]\n",
        "input3 = df[\"title\"][2]\n",
        "\n",
        "print(input)\n",
        "print(classifier([input]))\n",
        "print(classifier([input, input2, input3]))"
      ],
      "metadata": {
        "colab": {
          "base_uri": "https://localhost:8080/"
        },
        "id": "cEhEgFY-xGCX",
        "outputId": "60872e71-542a-4183-c591-6b818dfd4b1a"
      },
      "execution_count": 101,
      "outputs": [
        {
          "output_type": "stream",
          "name": "stdout",
          "text": [
            "You do know west teams play against west teams more than east teams right?\n",
            "tensor([0])\n",
            "tensor([0, 0, 0])\n"
          ]
        }
      ]
    },
    {
      "cell_type": "code",
      "source": [
        "print(classifier_pd(input))\n",
        "print(f\"Layers: {len(classifier_pd.parameters())}\")"
      ],
      "metadata": {
        "colab": {
          "base_uri": "https://localhost:8080/"
        },
        "id": "cH6qLA0luFVr",
        "outputId": "d8882ff5-69c8-4ef9-da36-66b566e08161"
      },
      "execution_count": 89,
      "outputs": [
        {
          "output_type": "stream",
          "name": "stdout",
          "text": [
            "Tensor(shape=[1], dtype=int64, place=Place(cpu), stop_gradient=True,\n",
            "       [0])\n",
            "Layers: 201\n"
          ]
        }
      ]
    },
    {
      "cell_type": "code",
      "source": [
        "print(classifier_pd(input))\n",
        "print(classifier_pd([input, input2, input3]))\n",
        "print(paddle.to_tensor(list(map(classifier_pd, [input, input2, input3]))))"
      ],
      "metadata": {
        "id": "jpwfyMQjJzZn",
        "colab": {
          "base_uri": "https://localhost:8080/"
        },
        "outputId": "e8000dd4-5351-44df-fbde-5d4220396588"
      },
      "execution_count": 104,
      "outputs": [
        {
          "output_type": "stream",
          "name": "stdout",
          "text": [
            "Tensor(shape=[1], dtype=int64, place=Place(cpu), stop_gradient=True,\n",
            "       [0])\n",
            "Tensor(shape=[1], dtype=int64, place=Place(cpu), stop_gradient=True,\n",
            "       [0])\n",
            "Tensor(shape=[3, 1], dtype=int64, place=Place(cpu), stop_gradient=True,\n",
            "       [[0],\n",
            "        [0],\n",
            "        [0]])\n"
          ]
        }
      ]
    },
    {
      "cell_type": "markdown",
      "source": [
        "Setting up the training and training the model."
      ],
      "metadata": {
        "id": "bGiRydXsFkdR"
      }
    },
    {
      "cell_type": "code",
      "source": [
        "def one_hot(input):\n",
        "\n",
        "  input = paddle.to_tensor(input)\n",
        "  return paddle.nn.functional.one_hot(input, num_classes=2)\n",
        "\n",
        "sample = df.sample(5)\n",
        "sample['label'] = sample['label'].apply(one_hot, \"columns\")\n",
        "\n",
        "type(sample[\"label\"])\n",
        "for label in sample[\"label\"]:\n",
        "  print(label)\n"
      ],
      "metadata": {
        "id": "p7kKe5llRz5q",
        "colab": {
          "base_uri": "https://localhost:8080/"
        },
        "outputId": "c9bdaa1e-d7d9-4000-f2a8-ffd1e97a037f"
      },
      "execution_count": 31,
      "outputs": [
        {
          "output_type": "stream",
          "name": "stdout",
          "text": [
            "Tensor(shape=[2], dtype=float32, place=Place(cpu), stop_gradient=True,\n",
            "       [0., 1.])\n",
            "Tensor(shape=[2], dtype=float32, place=Place(cpu), stop_gradient=True,\n",
            "       [1., 0.])\n",
            "Tensor(shape=[2], dtype=float32, place=Place(cpu), stop_gradient=True,\n",
            "       [1., 0.])\n",
            "Tensor(shape=[2], dtype=float32, place=Place(cpu), stop_gradient=True,\n",
            "       [1., 0.])\n",
            "Tensor(shape=[2], dtype=float32, place=Place(cpu), stop_gradient=True,\n",
            "       [0., 1.])\n"
          ]
        }
      ]
    },
    {
      "cell_type": "code",
      "source": [
        "df.drop(['word_count',\t'symbol_count',\t'upper_lower_ratio',\t'symbol_to_word_ratio'], axis=1, inplace=True)\n",
        "gc.collect()"
      ],
      "metadata": {
        "id": "v4EHZqustDht",
        "colab": {
          "base_uri": "https://localhost:8080/"
        },
        "outputId": "6d70c5a3-46f2-4fb5-ff8a-f937a97bde1f"
      },
      "execution_count": 32,
      "outputs": [
        {
          "output_type": "execute_result",
          "data": {
            "text/plain": [
              "14192"
            ]
          },
          "metadata": {},
          "execution_count": 32
        }
      ]
    },
    {
      "cell_type": "code",
      "source": [
        "import paddle.distributed as dist\n",
        "def one_hot(input):\n",
        "  input = paddle.to_tensor(input)\n",
        "  return paddle.nn.functional.one_hot(input, num_classes=2)\n",
        "\n",
        "\n",
        "\n",
        "# if type(df['label'][1]) is np.int64:\n",
        "#   df['label_one_hot'] = df['label'].apply(one_hot, \"columns\")\n",
        "\n",
        "# train_dataset = df[['title', 'label_one_hot']]\n",
        "# test_dataset = df[['title', 'label_one_hot']]\n",
        "train_dataset = df[['title', 'label']]\n",
        "test_dataset = df[['title', 'label']]"
      ],
      "metadata": {
        "id": "V9QJNQepK4U1"
      },
      "execution_count": 33,
      "outputs": []
    },
    {
      "cell_type": "code",
      "source": [
        "# sample_train = train_dataset.sample(5)\n",
        "# for entry, label in zip(sample_train[\"title\"], sample_train[\"label_one_hot\"]):\n",
        "#   print(entry, label)"
      ],
      "metadata": {
        "id": "hIZPTinjiDtx"
      },
      "execution_count": null,
      "outputs": []
    },
    {
      "cell_type": "markdown",
      "source": [
        "Switching from pandas.dataframe to paddle.io.Dataset for the convenience of use and compatibility."
      ],
      "metadata": {
        "id": "cgVOZIuT4Tpl"
      }
    },
    {
      "cell_type": "code",
      "source": [
        "import numpy as np\n",
        "from paddle.io import Dataset\n",
        "\n",
        "# define a random dataset\n",
        "class pd_Dataset(Dataset):\n",
        "    def __init__(self, df):\n",
        "      super().__init__()\n",
        "      self.num_samples = df['title'].size\n",
        "      self.data = [[entry[0], entry[1]] for entry in zip(df[\"title\"], df[\"label\"])]\n",
        "\n",
        "    def __getitem__(self, idx):\n",
        "        title = self.data[idx][0]\n",
        "        label = self.data[idx][1]\n",
        "        return title, label\n",
        "\n",
        "    def __len__(self):\n",
        "        return self.num_samples\n",
        "\n",
        "train_dataset_pd = pd_Dataset(train_dataset)\n",
        "\n",
        "train_loader = paddle.io.DataLoader(train_dataset_pd, batch_size=64, shuffle=True)\n"
      ],
      "metadata": {
        "id": "4QJ40IAD1AqI"
      },
      "execution_count": 34,
      "outputs": []
    },
    {
      "cell_type": "code",
      "source": [
        "for batch_id, data in enumerate(train_loader()):\n",
        "  if batch_id >= 1:\n",
        "    break\n",
        "  print(data[0])\n",
        "  print(list(map(classifier_pd, data[0])))"
      ],
      "metadata": {
        "colab": {
          "base_uri": "https://localhost:8080/",
          "height": 584
        },
        "id": "rIbN7rd9tuXK",
        "outputId": "04d1df9b-2cfe-4eb2-c8bf-f6a69ba1d926"
      },
      "execution_count": 97,
      "outputs": [
        {
          "output_type": "stream",
          "name": "stdout",
          "text": [
            "['This cat is so beautiful that it made me gasp and then coo at the photo.', \"That's exactly what will happen.\", 'Feeding swans by the river when I was 2 and we lived in Germany.', 'Alright cool, thanks!', \"it doesn't really matter about the technique that they use to do it though because the complaint here is about blind passes\", 'This is like one of those fake reviews posted on google maps', 'We struggled to close the last 3.. All 3 of our losses could easily have been wins with better 4th quarter coaching..', 'But if they do it 4 hours a day for a few weeks, they will get FREE MONEY.', \"That's how easy he is ; )\", 'Forgot Asp Scout, seriously it is like you put zero effort into this.', 'Do the Blu-ray Disc Movie specifications apply to games or other media though?', 'Those are the best kinds of gifts.', 'Utopia my ass, everyone knows Finland reaches absolute zero and remain in total darkness 8 months a year', 'I thought you got banned from this subreddit?', 'Let me guess... Australia?', \"She wasn't the first one to do it!\", 'never be shy about sending me a pm; if im online, ill do it :)', 'I thought new Ukraine sent any dissidents to concentration camps though?', 'Yea, I would absolutely *hate* to shower in one of those awful water-to-empty-space-ratio showers.', 'I MEAN COME ON', \"I'm sorry, I dream differently than you and you're objectively wrong.\", 'No but his tent was.', \"Because no one plays the game for fun of anything, it's absolutely for money.\", '\"Black hole sun, won\\'t you come,and wash away the rain\"', \"Because they're a corporation, duh!\", 'TI4 AFTERPARTY NEVER FORGET', 'These things generally end at 8:59AM PT the day of so technically YES!', \"I'm not your friend, buddy.\", 'But... Console is the best, it has the potatoist graphics', 'Fixing the rotation is the difference between being a top-5 team and being middle of the barrel, IMO.', \"It can't be bad news, the price isn't going up\", 'YAAAAAAAAS', \"I honestly don't know what to put here, this was just perfection by accident.\", 'I would have never guessed this.', \"But it's so much more fun just to be salty and take up space!\", \"He's just the worst, isn't he?\", \"That's how oily he is at this point...\", 'You are correct as far as I can tell.', 'Why are ALL OF YOU annoying ME?', 'Well, we certainly owe it to them, amirite?', 'dw nightblue3 and gosu are available i believe', 'I report them for fraud, ss the ad and send it to Oakley.', 'Can confirm, ocassionally gets the spelling of neccesary wrong', 'TUMBLR RUINS EVERYTHING', \"Sending your request via USPS Certified Mail, Return Receipt Requested wouldn't hurt.\", 'I knew something was off because the woman in the \"response\" wasn\\'t fat enough to be that woman.', 'Yea but something similar also happened in greenland!', 'Who knew eating was the province of only one deity?', \"Not really, he's just another /mu/drone\", 'This is why we need to ban gay people until we can figure out a strategy.', 'What a great point', 'Deport her illegal ass.', 'Aim alone will carry you to dmg.', 'And if you let gays marry then soon people will be fucking children and dogs!', \"same here, superrewards videos don't work anywhere for me.\", 'Shattenkirk and 1st for Subban book it', \"Checking they're all getting some and no one is left out....and relax.....\", 'mm, the M5 can pass everything....except a gas station.', \"Yeah but what I'm saying is if you die.. you don't get it back even when you go back to the generator, I think it's bugged right now.\", \"That wasn't how he won the primaries though\", 'Maybe in general the differences are noticeable but during I Feel It Coming, their voices are almost identical.', 'I should have added', 'He was in bed sleeping all weekend, thought it was pretty easy to understand (also weaboos everywhere evangelion sucks)', \"Probably gonna, hang out with my nevermo friends, shoot some guns and not drink underage that's for sure\"]\n"
          ]
        },
        {
          "output_type": "error",
          "ename": "KeyboardInterrupt",
          "evalue": "",
          "traceback": [
            "\u001b[0;31m---------------------------------------------------------------------------\u001b[0m",
            "\u001b[0;31mKeyboardInterrupt\u001b[0m                         Traceback (most recent call last)",
            "\u001b[0;32m<ipython-input-97-e12d8b4142d1>\u001b[0m in \u001b[0;36m<cell line: 1>\u001b[0;34m()\u001b[0m\n\u001b[1;32m      3\u001b[0m     \u001b[0;32mbreak\u001b[0m\u001b[0;34m\u001b[0m\u001b[0;34m\u001b[0m\u001b[0m\n\u001b[1;32m      4\u001b[0m   \u001b[0mprint\u001b[0m\u001b[0;34m(\u001b[0m\u001b[0mdata\u001b[0m\u001b[0;34m[\u001b[0m\u001b[0;36m0\u001b[0m\u001b[0;34m]\u001b[0m\u001b[0;34m)\u001b[0m\u001b[0;34m\u001b[0m\u001b[0;34m\u001b[0m\u001b[0m\n\u001b[0;32m----> 5\u001b[0;31m   \u001b[0mprint\u001b[0m\u001b[0;34m(\u001b[0m\u001b[0mlist\u001b[0m\u001b[0;34m(\u001b[0m\u001b[0mmap\u001b[0m\u001b[0;34m(\u001b[0m\u001b[0mclassifier_pd\u001b[0m\u001b[0;34m,\u001b[0m \u001b[0mdata\u001b[0m\u001b[0;34m[\u001b[0m\u001b[0;36m0\u001b[0m\u001b[0;34m]\u001b[0m\u001b[0;34m)\u001b[0m\u001b[0;34m)\u001b[0m\u001b[0;34m)\u001b[0m\u001b[0;34m\u001b[0m\u001b[0;34m\u001b[0m\u001b[0m\n\u001b[0m",
            "\u001b[0;32m/usr/local/lib/python3.10/dist-packages/paddle/nn/layer/layers.py\u001b[0m in \u001b[0;36m__call__\u001b[0;34m(self, *inputs, **kwargs)\u001b[0m\n\u001b[1;32m   1427\u001b[0m         ):\n\u001b[1;32m   1428\u001b[0m             \u001b[0mself\u001b[0m\u001b[0;34m.\u001b[0m\u001b[0m_build_once\u001b[0m\u001b[0;34m(\u001b[0m\u001b[0;34m*\u001b[0m\u001b[0minputs\u001b[0m\u001b[0;34m,\u001b[0m \u001b[0;34m**\u001b[0m\u001b[0mkwargs\u001b[0m\u001b[0;34m)\u001b[0m\u001b[0;34m\u001b[0m\u001b[0;34m\u001b[0m\u001b[0m\n\u001b[0;32m-> 1429\u001b[0;31m             \u001b[0;32mreturn\u001b[0m \u001b[0mself\u001b[0m\u001b[0;34m.\u001b[0m\u001b[0mforward\u001b[0m\u001b[0;34m(\u001b[0m\u001b[0;34m*\u001b[0m\u001b[0minputs\u001b[0m\u001b[0;34m,\u001b[0m \u001b[0;34m**\u001b[0m\u001b[0mkwargs\u001b[0m\u001b[0;34m)\u001b[0m\u001b[0;34m\u001b[0m\u001b[0;34m\u001b[0m\u001b[0m\n\u001b[0m\u001b[1;32m   1430\u001b[0m         \u001b[0;32melse\u001b[0m\u001b[0;34m:\u001b[0m\u001b[0;34m\u001b[0m\u001b[0;34m\u001b[0m\u001b[0m\n\u001b[1;32m   1431\u001b[0m             \u001b[0;32mreturn\u001b[0m \u001b[0mself\u001b[0m\u001b[0;34m.\u001b[0m\u001b[0m_dygraph_call_func\u001b[0m\u001b[0;34m(\u001b[0m\u001b[0;34m*\u001b[0m\u001b[0minputs\u001b[0m\u001b[0;34m,\u001b[0m \u001b[0;34m**\u001b[0m\u001b[0mkwargs\u001b[0m\u001b[0;34m)\u001b[0m\u001b[0;34m\u001b[0m\u001b[0;34m\u001b[0m\u001b[0m\n",
            "\u001b[0;32mIIL.pyx\u001b[0m in \u001b[0;36mIIL.__PaddleLayer.forward\u001b[0;34m()\u001b[0m\n",
            "\u001b[0;32m/usr/local/lib/python3.10/dist-packages/ivy/stateful/module.py\u001b[0m in \u001b[0;36m__call__\u001b[0;34m(self, v, buffers, *args, **kwargs)\u001b[0m\n\u001b[1;32m    504\u001b[0m             \u001b[0;31m# we need `v` in kwargs, since this is a traced call\u001b[0m\u001b[0;34m\u001b[0m\u001b[0;34m\u001b[0m\u001b[0m\n\u001b[1;32m    505\u001b[0m             \u001b[0mv\u001b[0m \u001b[0;34m=\u001b[0m \u001b[0mv\u001b[0m \u001b[0;32mif\u001b[0m \u001b[0mv\u001b[0m \u001b[0;32melse\u001b[0m \u001b[0mself\u001b[0m\u001b[0;34m.\u001b[0m\u001b[0mv\u001b[0m\u001b[0;34m\u001b[0m\u001b[0;34m\u001b[0m\u001b[0m\n\u001b[0;32m--> 506\u001b[0;31m             \u001b[0;32mreturn\u001b[0m \u001b[0mself\u001b[0m\u001b[0;34m.\u001b[0m\u001b[0m_module_graph\u001b[0m\u001b[0;34m(\u001b[0m\u001b[0;34m*\u001b[0m\u001b[0margs\u001b[0m\u001b[0;34m,\u001b[0m \u001b[0mv\u001b[0m\u001b[0;34m=\u001b[0m\u001b[0mv\u001b[0m\u001b[0;34m,\u001b[0m \u001b[0;34m**\u001b[0m\u001b[0mkwargs\u001b[0m\u001b[0;34m)\u001b[0m\u001b[0;34m\u001b[0m\u001b[0;34m\u001b[0m\u001b[0m\n\u001b[0m\u001b[1;32m    507\u001b[0m \u001b[0;34m\u001b[0m\u001b[0m\n\u001b[1;32m    508\u001b[0m         \u001b[0;31m# convert variables to native arrays so that they can be tracked\u001b[0m\u001b[0;34m\u001b[0m\u001b[0;34m\u001b[0m\u001b[0m\n",
            "\u001b[0;32mID.pyx\u001b[0m in \u001b[0;36mID.Graph.__call__\u001b[0;34m()\u001b[0m\n",
            "\u001b[0;32mID.pyx\u001b[0m in \u001b[0;36mID.Graph.graph_call\u001b[0;34m()\u001b[0m\n",
            "\u001b[0;32mscripted_call.87\u001b[0m in \u001b[0;36mtraced_fn\u001b[0;34m(*args, **kwargs)\u001b[0m\n\u001b[1;32m   1127\u001b[0m     \u001b[0mtranspose\u001b[0m \u001b[0;34m=\u001b[0m \u001b[0mpaddle\u001b[0m\u001b[0;34m.\u001b[0m\u001b[0mtranspose\u001b[0m\u001b[0;34m(\u001b[0m\u001b[0mreshape\u001b[0m\u001b[0;34m,\u001b[0m \u001b[0;34m[\u001b[0m\u001b[0;36m0\u001b[0m\u001b[0;34m,\u001b[0m \u001b[0;36m2\u001b[0m\u001b[0;34m,\u001b[0m \u001b[0;36m1\u001b[0m\u001b[0;34m]\u001b[0m\u001b[0;34m,\u001b[0m \u001b[0mname\u001b[0m\u001b[0;34m=\u001b[0m\u001b[0;32mNone\u001b[0m\u001b[0;34m)\u001b[0m\u001b[0;34m\u001b[0m\u001b[0;34m\u001b[0m\u001b[0m\n\u001b[1;32m   1128\u001b[0m     \u001b[0;32mdel\u001b[0m \u001b[0mreshape\u001b[0m\u001b[0;34m\u001b[0m\u001b[0;34m\u001b[0m\u001b[0m\n\u001b[0;32m-> 1129\u001b[0;31m     \u001b[0mmatmul\u001b[0m \u001b[0;34m=\u001b[0m \u001b[0mpaddle\u001b[0m\u001b[0;34m.\u001b[0m\u001b[0mmatmul\u001b[0m\u001b[0;34m(\u001b[0m\u001b[0mastype_13\u001b[0m\u001b[0;34m,\u001b[0m \u001b[0mtranspose\u001b[0m\u001b[0;34m,\u001b[0m \u001b[0mtranspose_x\u001b[0m\u001b[0;34m=\u001b[0m\u001b[0;32mFalse\u001b[0m\u001b[0;34m,\u001b[0m \u001b[0mtranspose_y\u001b[0m\u001b[0;34m=\u001b[0m\u001b[0;32mFalse\u001b[0m\u001b[0;34m,\u001b[0m \u001b[0mname\u001b[0m\u001b[0;34m=\u001b[0m\u001b[0;32mNone\u001b[0m\u001b[0;34m)\u001b[0m\u001b[0;34m\u001b[0m\u001b[0;34m\u001b[0m\u001b[0m\n\u001b[0m\u001b[1;32m   1130\u001b[0m     \u001b[0;32mdel\u001b[0m \u001b[0mtranspose\u001b[0m\u001b[0;34m\u001b[0m\u001b[0;34m\u001b[0m\u001b[0m\n\u001b[1;32m   1131\u001b[0m     \u001b[0mcast_4\u001b[0m \u001b[0;34m=\u001b[0m \u001b[0mpaddle\u001b[0m\u001b[0;34m.\u001b[0m\u001b[0mcast\u001b[0m\u001b[0;34m(\u001b[0m\u001b[0mmatmul\u001b[0m\u001b[0;34m,\u001b[0m \u001b[0mc138147741279408\u001b[0m\u001b[0;34m)\u001b[0m\u001b[0;34m\u001b[0m\u001b[0;34m\u001b[0m\u001b[0m\n",
            "\u001b[0;32m/usr/local/lib/python3.10/dist-packages/paddle/tensor/linalg.py\u001b[0m in \u001b[0;36mmatmul\u001b[0;34m(x, y, transpose_x, transpose_y, name)\u001b[0m\n\u001b[1;32m    237\u001b[0m     \"\"\"\n\u001b[1;32m    238\u001b[0m     \u001b[0;32mif\u001b[0m \u001b[0min_dynamic_or_pir_mode\u001b[0m\u001b[0;34m(\u001b[0m\u001b[0;34m)\u001b[0m\u001b[0;34m:\u001b[0m\u001b[0;34m\u001b[0m\u001b[0;34m\u001b[0m\u001b[0m\n\u001b[0;32m--> 239\u001b[0;31m         \u001b[0;32mreturn\u001b[0m \u001b[0m_C_ops\u001b[0m\u001b[0;34m.\u001b[0m\u001b[0mmatmul\u001b[0m\u001b[0;34m(\u001b[0m\u001b[0mx\u001b[0m\u001b[0;34m,\u001b[0m \u001b[0my\u001b[0m\u001b[0;34m,\u001b[0m \u001b[0mtranspose_x\u001b[0m\u001b[0;34m,\u001b[0m \u001b[0mtranspose_y\u001b[0m\u001b[0;34m)\u001b[0m\u001b[0;34m\u001b[0m\u001b[0;34m\u001b[0m\u001b[0m\n\u001b[0m\u001b[1;32m    240\u001b[0m     \u001b[0;32melse\u001b[0m\u001b[0;34m:\u001b[0m\u001b[0;34m\u001b[0m\u001b[0;34m\u001b[0m\u001b[0m\n\u001b[1;32m    241\u001b[0m         attrs = {\n",
            "\u001b[0;31mKeyboardInterrupt\u001b[0m: "
          ]
        }
      ]
    },
    {
      "cell_type": "code",
      "source": [
        "\n",
        "def train(model):\n",
        "\n",
        "  parameters = model.parameters()\n",
        "  adam = paddle.optimizer.Adam(learning_rate=0.001, parameters=model.parameters())\n",
        "  loss_fn = paddle.nn.CrossEntropyLoss()\n",
        "  metric = paddle.metric.Accuracy()\n",
        "  epochs = 2\n",
        "  classifier = paddle.DataParallel(model)\n",
        "\n",
        "  for epoch in range(epochs):\n",
        "    for batch_id, data in enumerate(train_loader()):\n",
        "      x_data = data[0]\n",
        "      y_data = data[1]\n",
        "      predicts = paddle.to_tensor(list(map(classifier, x_data))) # The transpiled model seems to have problems with inputs, so instead of feeding it a container, we map onto one.\n",
        "      acc = paddle.metric.accuracy(predicts, y_data) # This needs to be corrected.\n",
        "      loss = loss_fn(predicts, y_data)\n",
        "      loss.backward()\n",
        "      if batch_id % 100 == 0:\n",
        "          print(\"epoch: {}, batch_id: {}, loss is: {}, acc is: {}\".format(epoch, batch_id, loss.numpy(), acc.numpy()))\n",
        "      adam.step()\n",
        "      adam.clear_grad()"
      ],
      "metadata": {
        "id": "LLZwipjSDGAf"
      },
      "execution_count": 105,
      "outputs": []
    },
    {
      "cell_type": "code",
      "source": [
        "for batch_id, data in enumerate(train_loader()):\n",
        "  print(data[0], data[1])\n",
        "  print(classifier_pd(data[0]))\n",
        "  if batch_id >= 1:\n",
        "    break"
      ],
      "metadata": {
        "id": "4k21SfgTrEKL",
        "colab": {
          "base_uri": "https://localhost:8080/"
        },
        "outputId": "eb1106a4-2c61-4ee0-81a5-3bbc37db17f5"
      },
      "execution_count": 39,
      "outputs": [
        {
          "output_type": "stream",
          "name": "stdout",
          "text": [
            "['But he said MANkind, which is sexist and patriarchal, it should be humankind, you sexist pigs.', 'Might also have to do with the fact that electricity costs more in higher demand areas(city) then lower demand areas(suburb).', 'I have a grill guard for a reason', 'Its never victim hood when non-Hindus feel insecure.', 'Could be sugar that helped, not meat?', 'oh cool thank you for the convincing argument and enlightening input', 'yeah, there was a few times on the campaign trail a couple months back that he looked pretty rough, but i listened to a couple speeches from the past few days and he looked and sounded fine.', \"Stanley Kubrick's 7th best film is still an all-time great film!\", 'The French suffering from that jet lag.', 'Winning ranked 3/10 being unranked, wins teamfight and now the match is gone.. :(', 'Here is a headline that uses the word illegal wiretap, but not the word TREASON.', \"Yeah this match doesn't matter like the finals, they are playing for peanuts now.\", \"Hmm, maybe it's about time for a reboot.\", 'Get out of here with your historical ammo locations', 'It means vegan, soy-free, cageless, pan-sexual chimichanga in Italiano.', 'Last episode of season 2 Sherlock.', 'Just remember that these so called no go zones are really filled with just women, children, doctors and engineers!', \"But abortion only affects women, It's not like little boys get killed!\", 'Thanks Hillary!', 'r/circlejerk?', '16 gigs of ram must be really helpful', 'Tell that to Lance Stephenson', 'Makes me happy too, picked him in the 6th round of fantasy', \"Well clearly you are a failure because you don't have a liberal arts degree\", 'Yeah fun and games are stupid', 'Anglophone here: why would a word have a gender?', 'Ren Cen 179 Greektown 210 Meh', 'How the fuck do you people always know where shit like this is?', \"no you see they don't choose those fields because sexism like STEM\", \"I'm tired of bucks fans complaining\", \"I'm here to take your coat.\", 'Someone= Lavoy Allen.', \"The magic of Christmas is severely diminished if there isn't snow on the ground, obviously.\", \"I heard D'Janay S0o0o0oo0 easily!\", 'But guns are good in every situation and always make people safer.', \"That's awesome.\", 'Yeah Sakura sucks, should have put Hinata in the picture', '*Heresy in its purest form', \"at least it's not a hurricane amirite **EDIT** if the hurricane screwed/is screwing/will screw with you, I'll send good vibes 24/7\", 'That flair lol.', 'Yes, engineering groups always tell upper management when product development is having problems', 'TIL your uncle is racist', 'Wait for it...', 'If they look different or are a different religion than me.', 'Trump kills Darth Vader', 'How about Dragon Quest, Dark Souls, or Monster Hunter?', 'Where is my axe?', \"In Newfoundland they're called 'Mother in law doors'.\", 'Global warming has caused this!', 'Doom and gloom circle jerk', 'You forgot your sarcasm tag:', \"It'll probably switch to 3DS, so don't buy a PS4\", \"Eh, wash it down with some glycol, that'll mellow them out.\", 'Ambulances will just carry patients in the basket.', 'Is that counting free throws?', 'Yeah I mean not having a top 100 track on iTunes really eats me up inside', 'Neither does North Korea, we could learn a few things from them!', 'You forgot the', \"Oh wow i'm convinced sign me up for the kkk newsletter or whatever you're in to.\", \"welcome to the dark side, we've got raid materials\", 'Well he is a professional wrestler so yeah, not an amateur.', '\"I don\\'t want no taxes!\"', 'ya dude its just elo hell only thing that matters is teammates', 'Zergtrash dropping knowledge bombs on the PvT matchup'] Tensor(shape=[64], dtype=int64, place=Place(cpu), stop_gradient=True,\n",
            "       [1, 0, 0, 1, 0, 1, 0, 0, 1, 0, 0, 1, 1, 1, 1, 0, 1, 1, 0, 0, 1, 0, 0, 1,\n",
            "        1, 1, 0, 1, 1, 0, 0, 0, 1, 0, 1, 0, 1, 1, 0, 0, 1, 1, 0, 1, 0, 0, 1, 0,\n",
            "        1, 0, 1, 1, 1, 1, 1, 1, 1, 1, 1, 1, 1, 0, 1, 0])\n",
            "Tensor(shape=[1], dtype=int64, place=Place(cpu), stop_gradient=True,\n",
            "       [0])\n",
            "['Yeah, like this bathroom thing.', 'Still down: US Southeast.', 'He does have a perfect QB rating', 'Maybe if you studied harder your parents would actually care about you enough to call.', \"You don't have to tell, it's pretty easy to spot in a girl.\", 'The Donald Coalition have flooded this sub reddit by down voting all the pro DNC articles and upvoting anything and everything that could be divisive.', \"Because i'm sure restaurant and retail business owners would be pleased to see them forced to close on Valentine's Day.\", '*no sex :(', 'Yeah, surely ele/ret is one of the easiest comps to get 2k with in 2s..', 'what do you think of the Twitter/NBA deal and what does it say about the future of sports media?', 'The GOP elephant.', 'Mass wallbreakers', '\"Lion face\"', \"I'd also add the Widmann Fantasie, Etude for Barney by Eric Mandat, Wings by Joan Tower, Penderecki Prelude for Solo Clarinet, and Husa's Three Studies for Solo Clarinet.\", \"That's because the dark gods don't want virgins, they want offerings that know what the hell they're doing.\", \"And Leeds, don't forget about us :(\", 'Link?', 'Thanks for letting me know your thoughts a feelings', 'Hahaha....I had 3/4', \"Joust isn't a meta, its a mechanic you can work into your decks.\", 'You dropped this:', 'Also, Kansas got in a fight with Missouri a long time ago but they still hate each other.', \"I know I probably *shouldn't* have it, but I haven't yet experienced it with mods or anything and that's why I want it\", 'UK wanting to leave the EU did not result in a war, but the Iceland England game yesterday was damn close in my book...', 'yep', 'Guitar Center being a big chain, they could probably afford people breaking their shit more easily than RMC could.', 'Must have missed the', 'You might wanna put', 'Am I *almost* ready for Donald Trump?', 'Whatever makes you feel better white man.', \"Yeah...I'm gonna need to know his abilities.\", \"I'll definitely watch this later today when I have the time, maybe it can help me beat a lifelong addiction to the damn stuff.\", \"Ah, but if they don't then the foreign banks won't have any money to loan the US government.\", 'Any video would be great if that were to happen.', 'Hey I just bought the game, spoilers tags please!', 'matt ryan GOAT', 'not unless you mount it on an amd cpu', 'Your lack of skill shows once again', 'That fucking crowd is going nuts.', \"Interesting fact, nobody used snipers in competitive in those games anyway, wouldn't the 'serious' players want to get the edge on their opponents and use 'op' snipers?\", \"30 min isn't that long\", 'Tell him not to do the AMA on his phone while driving.', \"Yeah she's just asking for it dresses like that!\", 'I doubt it with you around Maku', 'Amazon Shop Here rhymes with Top Gear', 'I thought that was what trials flawless emblems were for.', \"If we had fought harder for slavery we wouldn't be dealing with this white genocide ...\", \"It's a depiction of the federal reserve being smited by our lords Mises and Ayn Rand.\", 'Build fatalis', \"I'll make one for you, if you give me every single type of plush available.\", \"Because you don't score partisan points over the other guy that way\", 'Because their brains have only evolved 1 notch ahead of gorillas.', 'Vaccines, gluten, antibiotics, spongebob, artificial colors/flavors, MSG, Carbs, and meat', 'RIP sleep.', 'also, not wearing panties', 'finally valve cought him cheating and thats how they make him retire', \"Scorsese said in an interview with Leonardo DiCaprio and Jonah Hill that there was a possibility of a directors cut and it was left at that, that's why I was wondering.\", \"EXACTLY BUT AREN'T THE SF WARRANT REQUIREMENTS MONSTROUS\", 'Just like \"taking bribes for votes == honesty\" logic and other retardisms from AAP.', \"It's in the OTP module\", 'No they dont...', 'Shhh, I like the drug deal story better.', 'Everyone with doubts about the scanning mechanic should watch this episode.', 'Extra big wooosh to you.'] Tensor(shape=[64], dtype=int64, place=Place(cpu), stop_gradient=True,\n",
            "       [1, 0, 1, 1, 0, 0, 1, 0, 1, 0, 0, 1, 0, 0, 0, 0, 0, 1, 0, 0, 1, 0, 0, 0,\n",
            "        0, 0, 1, 1, 0, 1, 0, 0, 1, 0, 1, 1, 1, 1, 1, 1, 1, 0, 1, 1, 0, 1, 1, 1,\n",
            "        1, 1, 1, 0, 1, 0, 0, 1, 0, 0, 0, 1, 0, 0, 0, 0])\n",
            "Tensor(shape=[1], dtype=int64, place=Place(cpu), stop_gradient=True,\n",
            "       [0])\n"
          ]
        }
      ]
    },
    {
      "cell_type": "code",
      "source": [
        "print(classifier_pd)"
      ],
      "metadata": {
        "id": "332cVgE7r6p7"
      },
      "execution_count": null,
      "outputs": []
    },
    {
      "cell_type": "code",
      "source": [
        "train(classifier_pd)"
      ],
      "metadata": {
        "id": "XPlB6Cru0B6B",
        "colab": {
          "base_uri": "https://localhost:8080/",
          "height": 263
        },
        "outputId": "efead9ec-7823-42f7-85df-48cddf9ccbad"
      },
      "execution_count": 37,
      "outputs": [
        {
          "output_type": "error",
          "ename": "TypeError",
          "evalue": "'Accuracy' object is not callable",
          "traceback": [
            "\u001b[0;31m---------------------------------------------------------------------------\u001b[0m",
            "\u001b[0;31mTypeError\u001b[0m                                 Traceback (most recent call last)",
            "\u001b[0;32m<ipython-input-37-373a3c87fb3c>\u001b[0m in \u001b[0;36m<cell line: 1>\u001b[0;34m()\u001b[0m\n\u001b[0;32m----> 1\u001b[0;31m \u001b[0mtrain\u001b[0m\u001b[0;34m(\u001b[0m\u001b[0mclassifier_pd\u001b[0m\u001b[0;34m)\u001b[0m\u001b[0;34m\u001b[0m\u001b[0;34m\u001b[0m\u001b[0m\n\u001b[0m",
            "\u001b[0;32m<ipython-input-35-bff828771362>\u001b[0m in \u001b[0;36mtrain\u001b[0;34m(model)\u001b[0m\n\u001b[1;32m     13\u001b[0m       \u001b[0my_data\u001b[0m \u001b[0;34m=\u001b[0m \u001b[0mdata\u001b[0m\u001b[0;34m[\u001b[0m\u001b[0;36m1\u001b[0m\u001b[0;34m]\u001b[0m\u001b[0;34m\u001b[0m\u001b[0;34m\u001b[0m\u001b[0m\n\u001b[1;32m     14\u001b[0m       \u001b[0mpredicts\u001b[0m \u001b[0;34m=\u001b[0m \u001b[0mclassifier\u001b[0m\u001b[0;34m(\u001b[0m\u001b[0mx_data\u001b[0m\u001b[0;34m)\u001b[0m\u001b[0;34m\u001b[0m\u001b[0;34m\u001b[0m\u001b[0m\n\u001b[0;32m---> 15\u001b[0;31m       \u001b[0macc\u001b[0m \u001b[0;34m=\u001b[0m \u001b[0mmetric\u001b[0m\u001b[0;34m(\u001b[0m\u001b[0mpredicts\u001b[0m\u001b[0;34m,\u001b[0m \u001b[0my_data\u001b[0m\u001b[0;34m)\u001b[0m \u001b[0;31m# This needs to be corrected.\u001b[0m\u001b[0;34m\u001b[0m\u001b[0;34m\u001b[0m\u001b[0m\n\u001b[0m\u001b[1;32m     16\u001b[0m       \u001b[0mloss\u001b[0m \u001b[0;34m=\u001b[0m \u001b[0mloss_fn\u001b[0m\u001b[0;34m(\u001b[0m\u001b[0mpredicts\u001b[0m\u001b[0;34m,\u001b[0m \u001b[0my_data\u001b[0m\u001b[0;34m)\u001b[0m\u001b[0;34m\u001b[0m\u001b[0;34m\u001b[0m\u001b[0m\n\u001b[1;32m     17\u001b[0m       \u001b[0mloss\u001b[0m\u001b[0;34m.\u001b[0m\u001b[0mbackward\u001b[0m\u001b[0;34m(\u001b[0m\u001b[0;34m)\u001b[0m\u001b[0;34m\u001b[0m\u001b[0;34m\u001b[0m\u001b[0m\n",
            "\u001b[0;31mTypeError\u001b[0m: 'Accuracy' object is not callable"
          ]
        }
      ]
    },
    {
      "cell_type": "code",
      "source": [],
      "metadata": {
        "id": "x2IzOJuVJBYP"
      },
      "execution_count": null,
      "outputs": []
    }
  ]
}