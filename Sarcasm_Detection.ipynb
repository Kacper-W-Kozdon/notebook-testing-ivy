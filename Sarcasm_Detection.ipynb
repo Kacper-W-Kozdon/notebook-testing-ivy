{
  "nbformat": 4,
  "nbformat_minor": 0,
  "metadata": {
    "colab": {
      "provenance": [],
      "authorship_tag": "ABX9TyO8WM3VkE+4ckNcRjY+8zTO",
      "include_colab_link": true
    },
    "kernelspec": {
      "name": "python3",
      "display_name": "Python 3"
    },
    "language_info": {
      "name": "python"
    }
  },
  "cells": [
    {
      "cell_type": "markdown",
      "metadata": {
        "id": "view-in-github",
        "colab_type": "text"
      },
      "source": [
        "<a href=\"https://colab.research.google.com/github/Kacper-W-Kozdon/notebook-testing-ivy/blob/main/Sarcasm_Detection.ipynb\" target=\"_parent\"><img src=\"https://colab.research.google.com/assets/colab-badge.svg\" alt=\"Open In Colab\"/></a>"
      ]
    },
    {
      "cell_type": "code",
      "execution_count": 4,
      "metadata": {
        "colab": {
          "base_uri": "https://localhost:8080/"
        },
        "id": "qO7x-UtWJG14",
        "outputId": "034f06cd-e76c-4746-c636-973c3079cbc5"
      },
      "outputs": [
        {
          "output_type": "stream",
          "name": "stdout",
          "text": [
            "Cloning into 'demos'...\n",
            "remote: Enumerating objects: 3152, done.\u001b[K\n",
            "remote: Counting objects: 100% (608/608), done.\u001b[K\n",
            "remote: Compressing objects: 100% (229/229), done.\u001b[K\n",
            "remote: Total 3152 (delta 440), reused 421 (delta 348), pack-reused 2544\u001b[K\n",
            "Receiving objects: 100% (3152/3152), 16.26 MiB | 23.29 MiB/s, done.\n",
            "Resolving deltas: 100% (1813/1813), done.\n",
            "fatal: destination path 'ivy' already exists and is not an empty directory.\n"
          ]
        }
      ],
      "source": [
        "!git clone https://github.com/Kacper-W-Kozdon/demos.git\n",
        "!git clone https://github.com/Kacper-W-Kozdon/ivy.git"
      ]
    },
    {
      "cell_type": "code",
      "source": [
        "!pip install -U -q ivy mlflow datasets>=2.14.5 nlp 2>/dev/null\n",
        "import ivy"
      ],
      "metadata": {
        "id": "UNPUacTlJ8M_"
      },
      "execution_count": 2,
      "outputs": []
    },
    {
      "cell_type": "code",
      "source": [
        "# Import necessary libraries\n",
        "import pandas as pd  # For data manipulation and analysis\n",
        "import gc  # For garbage collection to manage memory\n",
        "import re  # For regular expressions\n",
        "import numpy as np  # For numerical operations and arrays\n",
        "\n",
        "import warnings  # For handling warnings\n",
        "warnings.filterwarnings(\"ignore\")  # Ignore warning messages\n",
        "\n",
        "import torch  # PyTorch library for deep learning\n",
        "from transformers import AutoModel, AutoTokenizer  # Transformers library for natural language processing\n",
        "from transformers import TextDataset, LineByLineTextDataset, DataCollatorForLanguageModeling, \\\n",
        "pipeline, Trainer, TrainingArguments, DataCollatorWithPadding  # Transformers components for text processing\n",
        "from transformers import AutoModelForSequenceClassification  # Transformer model for sequence classification\n",
        "\n",
        "from nlp import Dataset  # Import custom 'Dataset' class for natural language processing tasks\n",
        "from imblearn.over_sampling import RandomOverSampler  # For oversampling to handle class imbalance\n",
        "import datasets  # Import datasets library\n",
        "from datasets import Dataset, Image, ClassLabel  # Import custom 'Dataset', 'ClassLabel', and 'Image' classes\n",
        "from transformers import pipeline  # Transformers library for pipelines\n",
        "from bs4 import BeautifulSoup  # For parsing HTML content\n",
        "\n",
        "import matplotlib.pyplot as plt  # For data visualization\n",
        "import itertools  # For working with iterators\n",
        "from sklearn.metrics import (  # Import various metrics from scikit-learn\n",
        "    accuracy_score,  # For calculating accuracy\n",
        "    roc_auc_score,  # For ROC AUC score\n",
        "    confusion_matrix,  # For confusion matrix\n",
        "    classification_report,  # For classification report\n",
        "    f1_score  # For F1 score\n",
        ")\n",
        "\n",
        "from datasets import load_metric  # Import load_metric function to load evaluation metrics\n",
        "\n",
        "from tqdm import tqdm  # For displaying progress bars\n",
        "tqdm.pandas()  # Enable progress bars for pandas operations"
      ],
      "metadata": {
        "id": "CTrf1K9BKZRG"
      },
      "execution_count": 12,
      "outputs": []
    },
    {
      "cell_type": "code",
      "source": [
        "df = pd.read_csv(\"/content/demos/Contributor_demos/Sarcasm Detection/train-balanced-sarcasm.csv\")\n"
      ],
      "metadata": {
        "id": "8QqrDqp2Kual"
      },
      "execution_count": 13,
      "outputs": []
    },
    {
      "cell_type": "code",
      "source": [
        "\n",
        "df = df.drop_duplicates()\n",
        "df = df[['comment', 'label']]\n",
        "df = df[~df['comment'].isnull()]\n",
        "df = df[~df['label'].isnull()]\n",
        "print(df.sample(15))"
      ],
      "metadata": {
        "colab": {
          "base_uri": "https://localhost:8080/"
        },
        "id": "7op48Zv8RN6_",
        "outputId": "82bad112-5723-47b0-f2c0-668e61bd4883"
      },
      "execution_count": 14,
      "outputs": [
        {
          "output_type": "stream",
          "name": "stdout",
          "text": [
            "                                                  comment  label\n",
            "531718  because the american political model can be us...      1\n",
            "302525  Mary Kate and Ashely: Island Dance Party was c...      0\n",
            "698658  Egalitarianism is equality in all respects, no...      0\n",
            "411629  So you'd rather wait until a news article with...      0\n",
            "978426  Oh dear god how DARE they have a contest where...      1\n",
            "622068    Have you considered filming it and showing him?      0\n",
            "346420  One is younger and has made it to the NHL, and...      1\n",
            "640505  Poor guy in the back trying to see around the ...      0\n",
            "129036  Why is Booker better at defense than Justise W...      0\n",
            "841552             you've never joined the thieves guild?      0\n",
            "676458  **\"Backup Exec is not shit\"** ^^^^The ^^^^worl...      0\n",
            "870757  Why don't we all just buy the new iPhone so th...      1\n",
            "491654                               I know that feel :,(      0\n",
            "531004  Too late, I've already heard of the accident e...      1\n",
            "232621  The irony of refering to the Saint of Killers ...      0\n"
          ]
        }
      ]
    },
    {
      "cell_type": "code",
      "source": [
        "dataset = Dataset.from_pandas(df)\n",
        "del df\n",
        "gc.collect()\n"
      ],
      "metadata": {
        "colab": {
          "base_uri": "https://localhost:8080/"
        },
        "id": "JCC3X1B9QxcX",
        "outputId": "99a22477-a606-4f7d-bfe6-1662ffba392d"
      },
      "execution_count": 16,
      "outputs": [
        {
          "output_type": "execute_result",
          "data": {
            "text/plain": [
              "151"
            ]
          },
          "metadata": {},
          "execution_count": 16
        }
      ]
    },
    {
      "cell_type": "code",
      "source": [
        "def get_training_corpus():\n",
        "  training_corpus = (\n",
        "    dataset[\"comment\"][i : i + 1000]\n",
        "    for i in range(0, len(dataset[\"comment\"]), 1000)\n",
        "  )\n",
        "  return training_corpus\n",
        "\n",
        "training_corpus = get_training_corpus()\n"
      ],
      "metadata": {
        "id": "gn_D2Tj8pwPj"
      },
      "execution_count": 23,
      "outputs": []
    },
    {
      "cell_type": "code",
      "source": [
        "old_tokenizer = AutoTokenizer.from_pretrained(\"gpt2\")"
      ],
      "metadata": {
        "id": "3hzlUnC4qI7d"
      },
      "execution_count": 24,
      "outputs": []
    },
    {
      "cell_type": "code",
      "source": [
        "tokenizer = old_tokenizer.train_new_from_iterator(training_corpus, 52000)"
      ],
      "metadata": {
        "id": "64vKSUFiqjCK"
      },
      "execution_count": null,
      "outputs": []
    },
    {
      "cell_type": "code",
      "source": [],
      "metadata": {
        "id": "3asJmcxIqow0"
      },
      "execution_count": null,
      "outputs": []
    }
  ]
}