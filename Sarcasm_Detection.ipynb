{
  "nbformat": 4,
  "nbformat_minor": 0,
  "metadata": {
    "colab": {
      "provenance": [],
      "authorship_tag": "ABX9TyOWd2xb0a/H8UutboY9Ucmc",
      "include_colab_link": true
    },
    "kernelspec": {
      "name": "python3",
      "display_name": "Python 3"
    },
    "language_info": {
      "name": "python"
    }
  },
  "cells": [
    {
      "cell_type": "markdown",
      "metadata": {
        "id": "view-in-github",
        "colab_type": "text"
      },
      "source": [
        "<a href=\"https://colab.research.google.com/github/Kacper-W-Kozdon/notebook-testing-ivy/blob/main/Sarcasm_Detection.ipynb\" target=\"_parent\"><img src=\"https://colab.research.google.com/assets/colab-badge.svg\" alt=\"Open In Colab\"/></a>"
      ]
    },
    {
      "cell_type": "markdown",
      "source": [
        "# IVY TRANSPILER"
      ],
      "metadata": {
        "id": "s2B-C0ETR8j-"
      }
    },
    {
      "cell_type": "markdown",
      "source": [
        "Installing kaggle and uploading the API key necessary to use it."
      ],
      "metadata": {
        "id": "lVY3Z4myS1O4"
      }
    },
    {
      "cell_type": "code",
      "source": [
        "!pip install -q kaggle\n",
        "from google.colab import files\n",
        "from google.colab import userdata\n",
        "import os\n",
        "files.upload(); #Upload kaggle.json - you can get from the kaggle account settings, from the API section."
      ],
      "metadata": {
        "id": "7R4luV8tSDFn",
        "colab": {
          "base_uri": "https://localhost:8080/",
          "height": 38
        },
        "outputId": "f2932057-bb7c-4662-92bb-83c03bf218f0"
      },
      "execution_count": null,
      "outputs": [
        {
          "output_type": "display_data",
          "data": {
            "text/plain": [
              "<IPython.core.display.HTML object>"
            ],
            "text/html": [
              "\n",
              "     <input type=\"file\" id=\"files-1ce6001d-81c7-4b48-b340-bca803bac39d\" name=\"files[]\" multiple disabled\n",
              "        style=\"border:none\" />\n",
              "     <output id=\"result-1ce6001d-81c7-4b48-b340-bca803bac39d\">\n",
              "      Upload widget is only available when the cell has been executed in the\n",
              "      current browser session. Please rerun this cell to enable.\n",
              "      </output>\n",
              "      <script>// Copyright 2017 Google LLC\n",
              "//\n",
              "// Licensed under the Apache License, Version 2.0 (the \"License\");\n",
              "// you may not use this file except in compliance with the License.\n",
              "// You may obtain a copy of the License at\n",
              "//\n",
              "//      http://www.apache.org/licenses/LICENSE-2.0\n",
              "//\n",
              "// Unless required by applicable law or agreed to in writing, software\n",
              "// distributed under the License is distributed on an \"AS IS\" BASIS,\n",
              "// WITHOUT WARRANTIES OR CONDITIONS OF ANY KIND, either express or implied.\n",
              "// See the License for the specific language governing permissions and\n",
              "// limitations under the License.\n",
              "\n",
              "/**\n",
              " * @fileoverview Helpers for google.colab Python module.\n",
              " */\n",
              "(function(scope) {\n",
              "function span(text, styleAttributes = {}) {\n",
              "  const element = document.createElement('span');\n",
              "  element.textContent = text;\n",
              "  for (const key of Object.keys(styleAttributes)) {\n",
              "    element.style[key] = styleAttributes[key];\n",
              "  }\n",
              "  return element;\n",
              "}\n",
              "\n",
              "// Max number of bytes which will be uploaded at a time.\n",
              "const MAX_PAYLOAD_SIZE = 100 * 1024;\n",
              "\n",
              "function _uploadFiles(inputId, outputId) {\n",
              "  const steps = uploadFilesStep(inputId, outputId);\n",
              "  const outputElement = document.getElementById(outputId);\n",
              "  // Cache steps on the outputElement to make it available for the next call\n",
              "  // to uploadFilesContinue from Python.\n",
              "  outputElement.steps = steps;\n",
              "\n",
              "  return _uploadFilesContinue(outputId);\n",
              "}\n",
              "\n",
              "// This is roughly an async generator (not supported in the browser yet),\n",
              "// where there are multiple asynchronous steps and the Python side is going\n",
              "// to poll for completion of each step.\n",
              "// This uses a Promise to block the python side on completion of each step,\n",
              "// then passes the result of the previous step as the input to the next step.\n",
              "function _uploadFilesContinue(outputId) {\n",
              "  const outputElement = document.getElementById(outputId);\n",
              "  const steps = outputElement.steps;\n",
              "\n",
              "  const next = steps.next(outputElement.lastPromiseValue);\n",
              "  return Promise.resolve(next.value.promise).then((value) => {\n",
              "    // Cache the last promise value to make it available to the next\n",
              "    // step of the generator.\n",
              "    outputElement.lastPromiseValue = value;\n",
              "    return next.value.response;\n",
              "  });\n",
              "}\n",
              "\n",
              "/**\n",
              " * Generator function which is called between each async step of the upload\n",
              " * process.\n",
              " * @param {string} inputId Element ID of the input file picker element.\n",
              " * @param {string} outputId Element ID of the output display.\n",
              " * @return {!Iterable<!Object>} Iterable of next steps.\n",
              " */\n",
              "function* uploadFilesStep(inputId, outputId) {\n",
              "  const inputElement = document.getElementById(inputId);\n",
              "  inputElement.disabled = false;\n",
              "\n",
              "  const outputElement = document.getElementById(outputId);\n",
              "  outputElement.innerHTML = '';\n",
              "\n",
              "  const pickedPromise = new Promise((resolve) => {\n",
              "    inputElement.addEventListener('change', (e) => {\n",
              "      resolve(e.target.files);\n",
              "    });\n",
              "  });\n",
              "\n",
              "  const cancel = document.createElement('button');\n",
              "  inputElement.parentElement.appendChild(cancel);\n",
              "  cancel.textContent = 'Cancel upload';\n",
              "  const cancelPromise = new Promise((resolve) => {\n",
              "    cancel.onclick = () => {\n",
              "      resolve(null);\n",
              "    };\n",
              "  });\n",
              "\n",
              "  // Wait for the user to pick the files.\n",
              "  const files = yield {\n",
              "    promise: Promise.race([pickedPromise, cancelPromise]),\n",
              "    response: {\n",
              "      action: 'starting',\n",
              "    }\n",
              "  };\n",
              "\n",
              "  cancel.remove();\n",
              "\n",
              "  // Disable the input element since further picks are not allowed.\n",
              "  inputElement.disabled = true;\n",
              "\n",
              "  if (!files) {\n",
              "    return {\n",
              "      response: {\n",
              "        action: 'complete',\n",
              "      }\n",
              "    };\n",
              "  }\n",
              "\n",
              "  for (const file of files) {\n",
              "    const li = document.createElement('li');\n",
              "    li.append(span(file.name, {fontWeight: 'bold'}));\n",
              "    li.append(span(\n",
              "        `(${file.type || 'n/a'}) - ${file.size} bytes, ` +\n",
              "        `last modified: ${\n",
              "            file.lastModifiedDate ? file.lastModifiedDate.toLocaleDateString() :\n",
              "                                    'n/a'} - `));\n",
              "    const percent = span('0% done');\n",
              "    li.appendChild(percent);\n",
              "\n",
              "    outputElement.appendChild(li);\n",
              "\n",
              "    const fileDataPromise = new Promise((resolve) => {\n",
              "      const reader = new FileReader();\n",
              "      reader.onload = (e) => {\n",
              "        resolve(e.target.result);\n",
              "      };\n",
              "      reader.readAsArrayBuffer(file);\n",
              "    });\n",
              "    // Wait for the data to be ready.\n",
              "    let fileData = yield {\n",
              "      promise: fileDataPromise,\n",
              "      response: {\n",
              "        action: 'continue',\n",
              "      }\n",
              "    };\n",
              "\n",
              "    // Use a chunked sending to avoid message size limits. See b/62115660.\n",
              "    let position = 0;\n",
              "    do {\n",
              "      const length = Math.min(fileData.byteLength - position, MAX_PAYLOAD_SIZE);\n",
              "      const chunk = new Uint8Array(fileData, position, length);\n",
              "      position += length;\n",
              "\n",
              "      const base64 = btoa(String.fromCharCode.apply(null, chunk));\n",
              "      yield {\n",
              "        response: {\n",
              "          action: 'append',\n",
              "          file: file.name,\n",
              "          data: base64,\n",
              "        },\n",
              "      };\n",
              "\n",
              "      let percentDone = fileData.byteLength === 0 ?\n",
              "          100 :\n",
              "          Math.round((position / fileData.byteLength) * 100);\n",
              "      percent.textContent = `${percentDone}% done`;\n",
              "\n",
              "    } while (position < fileData.byteLength);\n",
              "  }\n",
              "\n",
              "  // All done.\n",
              "  yield {\n",
              "    response: {\n",
              "      action: 'complete',\n",
              "    }\n",
              "  };\n",
              "}\n",
              "\n",
              "scope.google = scope.google || {};\n",
              "scope.google.colab = scope.google.colab || {};\n",
              "scope.google.colab._files = {\n",
              "  _uploadFiles,\n",
              "  _uploadFilesContinue,\n",
              "};\n",
              "})(self);\n",
              "</script> "
            ]
          },
          "metadata": {}
        }
      ]
    },
    {
      "cell_type": "markdown",
      "source": [
        "Installing packages necessary to use torch's transformers."
      ],
      "metadata": {
        "id": "GRyxyRkNqONt"
      }
    },
    {
      "cell_type": "code",
      "source": [
        "!pip install tqdm boto3 requests regex sentencepiece sacremoses"
      ],
      "metadata": {
        "id": "yhD653HGqOj2"
      },
      "execution_count": null,
      "outputs": []
    },
    {
      "cell_type": "markdown",
      "source": [
        "To use the API, credentials need to be copied into the kaggle folder. If everything works, the output will show the list of available datasets."
      ],
      "metadata": {
        "id": "aCN2c1DGTbVM"
      }
    },
    {
      "cell_type": "code",
      "source": [
        "!mkdir ~/.kaggle\n",
        "!cp kaggle.json ~/.kaggle/\n",
        "!chmod 600 ~/.kaggle/kaggle.json\n",
        "!kaggle datasets list"
      ],
      "metadata": {
        "id": "JfGZETFqTOla"
      },
      "execution_count": null,
      "outputs": []
    },
    {
      "cell_type": "markdown",
      "source": [],
      "metadata": {
        "id": "P1aQHs-9Tkt2"
      }
    },
    {
      "cell_type": "markdown",
      "source": [
        "Preparing the ivy library."
      ],
      "metadata": {
        "id": "_Sf8EImZT6kZ"
      }
    },
    {
      "cell_type": "code",
      "source": [
        "#Inser the correct user when cloning the repos. Make sure that they are up-to-date.\n",
        "\n",
        "!git clone \"https://github.com/Kacper-W-Kozdon/demos.git\"\n",
        "!git clone \"https://github.com/Kacper-W-Kozdon/ivy.git\"\n",
        "!pip install -U -q paddlepaddle ivy accelerate>=0.21.0 mlflow datasets>=2.14.5 nlp 2>/dev/null"
      ],
      "metadata": {
        "id": "7DMn3EoEUBGQ"
      },
      "execution_count": null,
      "outputs": []
    },
    {
      "cell_type": "markdown",
      "source": [
        "Next: import the ivy library and get the dataset."
      ],
      "metadata": {
        "id": "y1sA3gFuWjDE"
      }
    },
    {
      "cell_type": "code",
      "source": [
        "import ivy\n",
        "!kaggle datasets download -d danofer/sarcasm\n",
        "!cp -f sarcasm.zip '/content/demos/Contributor_demos/Sarcasm Detection/'\n",
        "!unzip '/content/demos/Contributor_demos/Sarcasm Detection/sarcasm.zip' -d '/content/demos/Contributor_demos/Sarcasm Detection/'"
      ],
      "metadata": {
        "id": "7CA3MzIzUayI"
      },
      "execution_count": null,
      "outputs": []
    },
    {
      "cell_type": "markdown",
      "source": [
        "Import the libraries suggested in the model which is to be transpiled."
      ],
      "metadata": {
        "id": "UKN-VX8QXDEG"
      }
    },
    {
      "cell_type": "code",
      "source": [
        "# Import necessary libraries\n",
        "import pandas as pd  # For data manipulation and analysis\n",
        "import gc  # For garbage collection to manage memory\n",
        "import re  # For regular expressions\n",
        "import numpy as np  # For numerical operations and arrays\n",
        "import paddle\n",
        "\n",
        "# Libraries to accompany torch's transformers\n",
        "import tqdm\n",
        "import boto3\n",
        "import requests\n",
        "import regex\n",
        "import sentencepiece\n",
        "import sacremoses\n",
        "\n",
        "import warnings  # For handling warnings\n",
        "warnings.filterwarnings(\"ignore\")  # Ignore warning messages\n",
        "\n",
        "import tensorflow as tf\n",
        "import torch  # PyTorch library for deep learning\n",
        "from transformers import AutoModel, AutoTokenizer  # Transformers library for natural language processing\n",
        "from transformers import TextDataset, LineByLineTextDataset, DataCollatorForLanguageModeling, \\\n",
        "pipeline, Trainer, TrainingArguments, DataCollatorWithPadding  # Transformers components for text processing\n",
        "from transformers import AutoModelForSequenceClassification  # Transformer model for sequence classification\n",
        "\n",
        "import accelerate\n",
        "\n",
        "from nlp import Dataset  # Import custom 'Dataset' class for natural language processing tasks\n",
        "from imblearn.over_sampling import RandomOverSampler  # For oversampling to handle class imbalance\n",
        "import datasets  # Import datasets library\n",
        "from datasets import Dataset, Image, ClassLabel  # Import custom 'Dataset', 'ClassLabel', and 'Image' classes\n",
        "from transformers import pipeline  # Transformers library for pipelines\n",
        "from bs4 import BeautifulSoup  # For parsing HTML content\n",
        "\n",
        "import matplotlib.pyplot as plt  # For data visualization\n",
        "import itertools  # For working with iterators\n",
        "from sklearn.metrics import (  # Import various metrics from scikit-learn\n",
        "    accuracy_score,  # For calculating accuracy\n",
        "    roc_auc_score,  # For ROC AUC score\n",
        "    confusion_matrix,  # For confusion matrix\n",
        "    classification_report,  # For classification report\n",
        "    f1_score  # For F1 score\n",
        ")\n",
        "\n",
        "from datasets import load_metric  # Import load_metric function to load evaluation metrics\n",
        "\n",
        "from tqdm import tqdm  # For displaying progress bars\n",
        "tqdm.pandas()  # Enable progress bars for pandas operations"
      ],
      "metadata": {
        "id": "19rgBXHJXHFu"
      },
      "execution_count": null,
      "outputs": []
    },
    {
      "cell_type": "markdown",
      "source": [
        "Set the seeds."
      ],
      "metadata": {
        "id": "JU7qbxYdsVlK"
      }
    },
    {
      "cell_type": "code",
      "source": [
        "tf.keras.utils.set_random_seed(0)\n",
        "torch.manual_seed(0)\n",
        "paddle.seed(0)"
      ],
      "metadata": {
        "id": "HxD1xridsU_l"
      },
      "execution_count": null,
      "outputs": []
    },
    {
      "cell_type": "markdown",
      "source": [
        "Get the API key for ivy transpiler from your account and upload it to the project. Move it to the correct directory."
      ],
      "metadata": {
        "id": "zwU4oNrkXyxT"
      }
    },
    {
      "cell_type": "code",
      "source": [
        "files.upload(); #Upload key.pem - you can get from the kaggle account settings, from the API section."
      ],
      "metadata": {
        "id": "LME9LyKaXyVF"
      },
      "execution_count": null,
      "outputs": []
    },
    {
      "cell_type": "code",
      "source": [
        "!mkdir ~/.ivy #It might be necessary to change \".ivy\" to \"ivy\".\n",
        "!cp key.pem ~/.ivy/"
      ],
      "metadata": {
        "id": "NbuJUunHYIwg"
      },
      "execution_count": null,
      "outputs": []
    },
    {
      "cell_type": "markdown",
      "source": [
        "First we're loading the tokenizer and the model from torch. All of the basic set-up instructions can be found here: https://colab.research.google.com/github/pytorch/pytorch.github.io/blob/master/assets/hub/huggingface_pytorch-transformers.ipynb#scrollTo=72d8f2de"
      ],
      "metadata": {
        "id": "DWCnfosUshGK"
      }
    },
    {
      "cell_type": "code",
      "source": [
        "tokenizer = torch.hub.load('huggingface/pytorch-transformers', 'tokenizer', 'bert-base-cased')\n",
        "model = torch.hub.load('huggingface/pytorch-transformers', 'model', 'bert-base-cased')\n",
        "\n",
        "sequence_classifier = torch.hub.load('huggingface/pytorch-transformers', 'modelForSequenceClassification', 'bert-base-cased')"
      ],
      "metadata": {
        "id": "2rZY3rhisgXZ"
      },
      "execution_count": null,
      "outputs": []
    },
    {
      "cell_type": "code",
      "source": [
        "from ivy.stateful.module import Module\n",
        "from ivy.stateful.sequential import Sequential\n",
        "from ivy.stateful.layers import *\n",
        "from ivy.stateful.losses import *\n",
        "from ivy.stateful.optimizers import *\n",
        "from ivy.stateful.activations import *\n",
        "from ivy.stateful.initializers import *\n",
        "from ivy.stateful.norms import *"
      ],
      "metadata": {
        "id": "b0MdcERZYS_6"
      },
      "execution_count": null,
      "outputs": []
    },
    {
      "cell_type": "code",
      "source": [
        "ivy.set_backend(\"tensorflow\")\n",
        "ivy.set_soft_device_mode(True)\n",
        "#tokenizer_tf = ivy.transpile(tokenizer, source=\"torch\", to=\"tensorflow\")\n",
        "#model_pd = ivy.to_ivy_module(model)\n",
        "#model_pd = model_pd.trace_graph()\n",
        "#model_pd = model_pd.set_backend(\"tensorflow\")\n",
        "model_tf = ivy.transpile(model, source=\"torch\", to=\"tensorflow\")\n",
        "sequence_classifier_tf = ivy.transpile(sequence_classifier, source=\"torch\", to=\"tensorflow\")"
      ],
      "metadata": {
        "id": "W6alZ3W1VtOz"
      },
      "execution_count": null,
      "outputs": []
    },
    {
      "cell_type": "code",
      "source": [
        "df = pd.read_csv(\"/content/demos/Contributor_demos/Sarcasm Detection/train-balanced-sarcasm.csv\")\n",
        "df = df.drop_duplicates()\n",
        "df = df.rename(columns={'comment': 'title'})\n",
        "df = df[['label', 'title']]\n",
        "df = df[~df['label'].isnull()]\n",
        "df = df[~df['title'].isnull()]\n",
        "df.sample(5)"
      ],
      "metadata": {
        "id": "5RdJOhqgYDph"
      },
      "execution_count": null,
      "outputs": []
    },
    {
      "cell_type": "code",
      "source": [
        "def count_words(text: str) -> int:\n",
        "  return len(text.split())\n",
        "\n",
        "def count_symbols(text: str) -> int:\n",
        "  return len(\"\".join(text.split()))\n",
        "\n",
        "def symbol_to_word_ratio(text: str) -> float:\n",
        "  return count_symbols(text)/count_words(text)\n",
        "\n",
        "def upper_lower_ratio(text: str) -> float:\n",
        "  text = \"\".join(text.split())\n",
        "  return sum(1 for c in text if c.isupper())/(max([sum(1 for c in text if c.islower()), 1]))\n",
        "\n",
        "df['word_count'] = df[\"title\"].apply(count_words)\n",
        "df['symbol_count'] = df[\"title\"].apply(count_symbols)\n",
        "df[\"upper_lower_ratio\"] = df[\"title\"].apply(upper_lower_ratio)\n",
        "df[\"symbol_to_word_ratio\"] = df[\"title\"].apply(symbol_to_word_ratio)\n",
        "df.sample(5)"
      ],
      "metadata": {
        "id": "BVA6U5Y0c7vg"
      },
      "execution_count": null,
      "outputs": []
    },
    {
      "cell_type": "markdown",
      "source": [
        "A few plots to see some some characteristics of the data."
      ],
      "metadata": {
        "id": "YY9ru5DbJqxa"
      }
    },
    {
      "cell_type": "code",
      "source": [
        "df_no_sarc = df.where(df[\"label\"] == 0)\n",
        "df_no_sarc = df_no_sarc.where(df_no_sarc[\"word_count\"] <= 51)\n",
        "df_sarc = df.where(df[\"label\"] == 1)\n",
        "df_sarc = df_sarc.where(df_sarc[\"word_count\"] <= 51)\n",
        "df_no_sarc = df_no_sarc[np.isfinite(df_no_sarc[\"word_count\"])]\n",
        "df_sarc = df_sarc[np.isfinite(df_sarc[\"word_count\"])]\n",
        "plt.style.use('_mpl-gallery-nogrid')\n",
        "\n",
        "hist_df_no_sarc, bin_edges_no = np.histogram(df_no_sarc[\"word_count\"].values, density=True)\n",
        "hist_df_sarc, bin_edges = np.histogram(df_sarc[\"word_count\"].values, density=True)\n",
        "# plot:\n",
        "fig, (ax1, ax2) = plt.subplots(1, 2, figsize=(12, 5))\n",
        "\n",
        "bin_mids_no = [(bin_edges_no[i+1] + bin_edges_no[i])/2 for i in range(len(bin_edges_no) - 1)]\n",
        "bin_mids = [(bin_edges[i+1] + bin_edges[i])/2 for i in range(len(bin_edges) - 1)]\n",
        "ax1.bar(bin_mids_no, hist_df_no_sarc, width=bin_edges_no[1] - bin_edges_no[0])\n",
        "ax2.bar(bin_mids, hist_df_sarc, width=bin_edges[1] - bin_edges[0])\n",
        "ax1.set_title(\"Hist no sarcasm\")\n",
        "ax1.set_ylabel(\"density\")\n",
        "ax1.set_xlabel(\"word count\")\n",
        "ax1.set_xticks(bin_edges_no)\n",
        "ax1.grid(True)\n",
        "ax2.set_title(\"Hist sarcasm\")\n",
        "ax2.set_xlabel(\"word count\")\n",
        "ax2.set_xticks(bin_edges)\n",
        "ax2.grid(True)\n",
        "plt.show()"
      ],
      "metadata": {
        "id": "_LEHSFedgIBq"
      },
      "execution_count": null,
      "outputs": []
    },
    {
      "cell_type": "code",
      "source": [
        "df_no_sarc = df.where(df[\"label\"] == 0)\n",
        "df_no_sarc = df_no_sarc.where(df_no_sarc[\"symbol_count\"] <= 201)\n",
        "df_sarc = df.where(df[\"label\"] == 1)\n",
        "df_sarc = df_sarc.where(df_sarc[\"symbol_count\"] <= 201)\n",
        "df_no_sarc = df_no_sarc[np.isfinite(df_no_sarc[\"symbol_count\"])]\n",
        "df_sarc = df_sarc[np.isfinite(df_sarc[\"symbol_count\"])]\n",
        "plt.style.use('_mpl-gallery-nogrid')\n",
        "\n",
        "hist_df_no_sarc, bin_edges_no = np.histogram(df_no_sarc[\"symbol_count\"].values, density=True)\n",
        "hist_df_sarc, bin_edges = np.histogram(df_sarc[\"symbol_count\"].values, density=True)\n",
        "# plot:\n",
        "fig, (ax1, ax2) = plt.subplots(1, 2, figsize=(12, 5))\n",
        "\n",
        "bin_mids_no = [(bin_edges_no[i+1] + bin_edges_no[i])/2 for i in range(len(bin_edges_no) - 1)]\n",
        "bin_mids = [(bin_edges[i+1] + bin_edges[i])/2 for i in range(len(bin_edges) - 1)]\n",
        "ax1.bar(bin_mids_no, hist_df_no_sarc, width=bin_edges_no[1] - bin_edges_no[0])\n",
        "ax2.bar(bin_mids, hist_df_sarc, width=bin_edges[1] - bin_edges[0])\n",
        "ax1.set_title(\"Hist no sarcasm\")\n",
        "ax1.set_ylabel(\"density\")\n",
        "ax1.set_xlabel(\"symbol count\")\n",
        "ax1.set_xticks(bin_edges_no)\n",
        "ax1.grid(True)\n",
        "ax2.set_title(\"Hist sarcasm\")\n",
        "ax2.set_xlabel(\"symbol count\")\n",
        "ax2.set_xticks(bin_edges)\n",
        "ax2.grid(True)\n",
        "plt.show()"
      ],
      "metadata": {
        "id": "RcYhYzfygLc9"
      },
      "execution_count": null,
      "outputs": []
    },
    {
      "cell_type": "code",
      "source": [
        "df_no_sarc = df.where(df[\"label\"] == 0)\n",
        "df_no_sarc = df_no_sarc.where(df_no_sarc[\"upper_lower_ratio\"] <= 0.3)\n",
        "df_sarc = df.where(df[\"label\"] == 1)\n",
        "df_sarc = df_sarc.where(df_sarc[\"upper_lower_ratio\"] <= 0.3)\n",
        "df_no_sarc = df_no_sarc[np.isfinite(df_no_sarc[\"upper_lower_ratio\"])]\n",
        "df_sarc = df_sarc[np.isfinite(df_sarc[\"upper_lower_ratio\"])]\n",
        "plt.style.use('_mpl-gallery-nogrid')\n",
        "\n",
        "hist_df_no_sarc, bin_edges_no = np.histogram(df_no_sarc[\"upper_lower_ratio\"].values, density=True)\n",
        "hist_df_sarc, bin_edges = np.histogram(df_sarc[\"upper_lower_ratio\"].values, density=True)\n",
        "# plot:\n",
        "fig, (ax1, ax2) = plt.subplots(1, 2, figsize=(12, 5))\n",
        "\n",
        "bin_mids_no = [(bin_edges_no[i+1] + bin_edges_no[i])/2 for i in range(len(bin_edges_no) - 1)]\n",
        "bin_mids = [(bin_edges[i+1] + bin_edges[i])/2 for i in range(len(bin_edges) - 1)]\n",
        "ax1.bar(bin_mids_no, hist_df_no_sarc, width=bin_edges_no[1] - bin_edges_no[0])\n",
        "ax2.bar(bin_mids, hist_df_sarc, width=bin_edges[1] - bin_edges[0])\n",
        "ax1.set_title(\"Hist no sarcasm\")\n",
        "ax1.set_ylabel(\"density\")\n",
        "ax1.set_xlabel(\"upper/lower ratio\")\n",
        "ax1.set_xticks(bin_edges_no)\n",
        "ax1.grid(True)\n",
        "ax2.set_title(\"Hist sarcasm\")\n",
        "ax2.set_xlabel(\"upper/lower ratio\")\n",
        "ax2.set_xticks(bin_edges)\n",
        "ax2.grid(True)\n",
        "plt.show()"
      ],
      "metadata": {
        "id": "vvKbuhLaDaSP"
      },
      "execution_count": null,
      "outputs": []
    },
    {
      "cell_type": "code",
      "source": [
        "df_no_sarc = df.where(df[\"label\"] == 0)\n",
        "df_no_sarc = df_no_sarc.where(df_no_sarc[\"symbol_to_word_ratio\"] <= 11)\n",
        "df_sarc = df.where(df[\"label\"] == 1)\n",
        "df_sarc = df_sarc.where(df_sarc[\"symbol_to_word_ratio\"] <= 11)\n",
        "df_no_sarc = df_no_sarc[np.isfinite(df_no_sarc[\"symbol_to_word_ratio\"])]\n",
        "df_sarc = df_sarc[np.isfinite(df_sarc[\"symbol_to_word_ratio\"])]\n",
        "plt.style.use('_mpl-gallery-nogrid')\n",
        "\n",
        "hist_df_no_sarc, bin_edges_no = np.histogram(df_no_sarc[\"symbol_to_word_ratio\"].values, density=True)\n",
        "hist_df_sarc, bin_edges = np.histogram(df_sarc[\"symbol_to_word_ratio\"].values, density=True)\n",
        "# plot:\n",
        "fig, (ax1, ax2) = plt.subplots(1, 2, figsize=(12, 5))\n",
        "\n",
        "bin_mids_no = [(bin_edges_no[i+1] + bin_edges_no[i])/2 for i in range(len(bin_edges_no) - 1)]\n",
        "bin_mids = [(bin_edges[i+1] + bin_edges[i])/2 for i in range(len(bin_edges) - 1)]\n",
        "ax1.bar(bin_mids_no, hist_df_no_sarc, width=bin_edges_no[1] - bin_edges_no[0])\n",
        "ax2.bar(bin_mids, hist_df_sarc, width=bin_edges[1] - bin_edges[0])\n",
        "ax1.set_title(\"Hist no sarcasm\")\n",
        "ax1.set_ylabel(\"density\")\n",
        "ax1.set_xlabel(\"symbols/words ratio\")\n",
        "ax1.set_xticks(bin_edges_no)\n",
        "ax1.grid(True)\n",
        "ax2.set_title(\"Hist sarcasm\")\n",
        "ax2.set_xlabel(\"symbols/words ratio\")\n",
        "ax2.set_xticks(bin_edges)\n",
        "ax2.grid(True)\n",
        "plt.show()"
      ],
      "metadata": {
        "id": "HkuIzb1JF1U1"
      },
      "execution_count": null,
      "outputs": []
    },
    {
      "cell_type": "code",
      "source": [],
      "metadata": {
        "id": "WGVjdx1oIoKo"
      },
      "execution_count": null,
      "outputs": []
    },
    {
      "cell_type": "markdown",
      "source": [
        "Checking if the tokenizer, encoder/decoder and classifier work."
      ],
      "metadata": {
        "id": "86gm5mdio9Hf"
      }
    },
    {
      "cell_type": "code",
      "source": [
        "input = df[\"title\"][1]\n",
        "print(f\"The raw input: \\n{input}\\n\")\n",
        "token = tokenizer(input, return_tensors=\"pt\", add_special_tokens=True)\n",
        "print(f\"The token: \\n{token}\\n\")\n",
        "with torch.no_grad():\n",
        "  encoded_token = model(**token)\n",
        "print(f\"The encoded token: \\n{encoded_token}\\n\")"
      ],
      "metadata": {
        "id": "8UvKrBTwpECS"
      },
      "execution_count": null,
      "outputs": []
    },
    {
      "cell_type": "markdown",
      "source": [
        "Checking if the transpiled tokenizer, encoder/decoder and classifier work."
      ],
      "metadata": {
        "id": "kcogrroTrFTg"
      }
    },
    {
      "cell_type": "code",
      "source": [
        "input = df[\"title\"][1]\n",
        "print(f\"The raw input: \\n{input}\\n\")\n",
        "token = tokenizer.encode(input, return_tensors=\"tf\", add_special_tokens=True)\n",
        "print(f\"The token: \\n{token}\\n\")\n",
        "#input_ids, token_type_ids, attention_mask = token[\"input_ids\"], token[\"token_type_ids\"], token[\"attention_mask\"]\n",
        "encoded_token = model_tf(token)\n",
        "print(f\"The encoded token: \\n{encoded_token}\\n\")"
      ],
      "metadata": {
        "id": "mYy0M5oapJjD"
      },
      "execution_count": null,
      "outputs": []
    },
    {
      "cell_type": "markdown",
      "source": [
        "A quick check whether transpiling to paddle works as intended."
      ],
      "metadata": {
        "id": "MP4JRoYbGbpC"
      }
    },
    {
      "cell_type": "code",
      "source": [
        "class Network(torch.nn.Module):\n",
        "\n",
        "    def __init__(self):\n",
        "     super().__init__()\n",
        "     self._linear = torch.nn.Linear(3, 3)\n",
        "\n",
        "    def forward(self, x):\n",
        "     return self._linear(x)\n",
        "\n",
        "x = torch.tensor([1., 2., 3.])\n",
        "net = Network()\n",
        "net(x)"
      ],
      "metadata": {
        "id": "kEUO3sSCrRYf"
      },
      "execution_count": null,
      "outputs": []
    },
    {
      "cell_type": "code",
      "source": [
        "ivy.set_backend(\"paddle\")\n",
        "net_pd = ivy.transpile(net, source=\"torch\", to=\"paddle\")\n",
        "x_pd = paddle.to_tensor([1., 2., 3.])\n",
        "net_pd(x_pd)"
      ],
      "metadata": {
        "id": "5y7xNkstJKas"
      },
      "execution_count": null,
      "outputs": []
    },
    {
      "cell_type": "markdown",
      "source": [
        "Setting up the classifier based on BERT's sequence classifier model."
      ],
      "metadata": {
        "id": "hB-1iHnoBjBZ"
      }
    },
    {
      "cell_type": "code",
      "source": [
        "class Classifier(torch.nn.Module):\n",
        "    def __init__(self, num_classes=2):\n",
        "        super(Classifier, self).__init__()\n",
        "        self.tokenizer = tokenizer\n",
        "        self.model = sequence_classifier\n",
        "\n",
        "    def forward(self, x):\n",
        "        x = self.tokenizer(x, return_tensors=\"pt\", add_special_tokens=True)\n",
        "        x = self.model(**x)\n",
        "        return x\n",
        "\n",
        "input = df[\"title\"][1]\n",
        "print(input)\n",
        "classifier = Classifier()\n",
        "print(classifier(input))\n",
        "\n",
        "ivy.set_backend(\"paddle\")\n",
        "classifier_pd = ivy.transpile(classifier, source=\"torch\", to=\"paddle\")\n",
        "print(classifier_pd(input))\n",
        "print(f\"Layers: {classifier_pd.sublayers()}\")"
      ],
      "metadata": {
        "id": "m3gMHZMdovuU"
      },
      "execution_count": null,
      "outputs": []
    },
    {
      "cell_type": "markdown",
      "source": [
        "Setting up the training and training the model."
      ],
      "metadata": {
        "id": "bGiRydXsFkdR"
      }
    },
    {
      "cell_type": "code",
      "source": [
        "import paddle.distributed as dist\n",
        "def one_hot(input):\n",
        "  input = paddle.to_tensor(input)\n",
        "  return paddle.nn.functional.one_hot(input, num_classes=2)\n",
        "\n",
        "if type(df['label'][1]) is int:\n",
        "  df['label'] = df['label'].map(one_hot)\n",
        "\n",
        "print(df.sample(5))\n",
        "\n",
        "train_dataset = df[['title', 'label']]\n",
        "test_dataset = df[['title', 'label']]\n",
        "\n",
        "train_loader = paddle.io.DataLoader(train_dataset, batch_size=64, shuffle=True)\n",
        "\n",
        "def train(model):\n",
        "\n",
        "  parameters = model.parameters()\n",
        "  adam = paddle.optimizer.Adam(learning_rate=0.001, parameters=model.parameters())\n",
        "  loss_fn = paddle.nn.CrossEntropyLoss()\n",
        "  metric = paddle.metric.Accuracy()\n",
        "  epochs = 2\n",
        "  classifier = paddle.DataParallel(model)\n",
        "\n",
        "  for epoch in range(epochs):\n",
        "    for batch_id, data in enumerate(train_loader()):\n",
        "      x_data = data[0]\n",
        "      y_data = data[1]\n",
        "      predicts = classifier(x_data)\n",
        "      acc = paddle.metric.accuracy(predicts, y_data)\n",
        "      loss = loss_fn(predicts, y_data)\n",
        "      loss.backward()\n",
        "      if batch_id % 100 == 0:\n",
        "          print(\"epoch: {}, batch_id: {}, loss is: {}, acc is: {}\".format(epoch, batch_id, loss.numpy(), acc.numpy()))\n",
        "      adam.step()\n",
        "      adam.clear_grad()"
      ],
      "metadata": {
        "id": "LLZwipjSDGAf"
      },
      "execution_count": null,
      "outputs": []
    },
    {
      "cell_type": "code",
      "source": [],
      "metadata": {
        "id": "4k21SfgTrEKL"
      },
      "execution_count": null,
      "outputs": []
    }
  ]
}