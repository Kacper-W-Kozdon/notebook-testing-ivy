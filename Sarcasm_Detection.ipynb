{
  "nbformat": 4,
  "nbformat_minor": 0,
  "metadata": {
    "colab": {
      "provenance": [],
      "authorship_tag": "ABX9TyPAZJAy3kdSxyyf9RP//g/f",
      "include_colab_link": true
    },
    "kernelspec": {
      "name": "python3",
      "display_name": "Python 3"
    },
    "language_info": {
      "name": "python"
    }
  },
  "cells": [
    {
      "cell_type": "markdown",
      "metadata": {
        "id": "view-in-github",
        "colab_type": "text"
      },
      "source": [
        "<a href=\"https://colab.research.google.com/github/Kacper-W-Kozdon/notebook-testing-ivy/blob/main/Sarcasm_Detection.ipynb\" target=\"_parent\"><img src=\"https://colab.research.google.com/assets/colab-badge.svg\" alt=\"Open In Colab\"/></a>"
      ]
    },
    {
      "cell_type": "code",
      "execution_count": 4,
      "metadata": {
        "colab": {
          "base_uri": "https://localhost:8080/"
        },
        "id": "qO7x-UtWJG14",
        "outputId": "034f06cd-e76c-4746-c636-973c3079cbc5"
      },
      "outputs": [
        {
          "output_type": "stream",
          "name": "stdout",
          "text": [
            "Cloning into 'demos'...\n",
            "remote: Enumerating objects: 3152, done.\u001b[K\n",
            "remote: Counting objects: 100% (608/608), done.\u001b[K\n",
            "remote: Compressing objects: 100% (229/229), done.\u001b[K\n",
            "remote: Total 3152 (delta 440), reused 421 (delta 348), pack-reused 2544\u001b[K\n",
            "Receiving objects: 100% (3152/3152), 16.26 MiB | 23.29 MiB/s, done.\n",
            "Resolving deltas: 100% (1813/1813), done.\n",
            "fatal: destination path 'ivy' already exists and is not an empty directory.\n"
          ]
        }
      ],
      "source": [
        "!git clone https://github.com/Kacper-W-Kozdon/demos.git\n",
        "!git clone https://github.com/Kacper-W-Kozdon/ivy.git"
      ]
    },
    {
      "cell_type": "code",
      "source": [
        "!pip install -U -q ivy mlflow datasets>=2.14.5 nlp 2>/dev/null\n",
        "import ivy"
      ],
      "metadata": {
        "id": "UNPUacTlJ8M_"
      },
      "execution_count": 2,
      "outputs": []
    },
    {
      "cell_type": "code",
      "source": [
        "# Import necessary libraries\n",
        "import pandas as pd  # For data manipulation and analysis\n",
        "import gc  # For garbage collection to manage memory\n",
        "import re  # For regular expressions\n",
        "import numpy as np  # For numerical operations and arrays\n",
        "\n",
        "import warnings  # For handling warnings\n",
        "warnings.filterwarnings(\"ignore\")  # Ignore warning messages\n",
        "\n",
        "import torch  # PyTorch library for deep learning\n",
        "from transformers import AutoModel, AutoTokenizer  # Transformers library for natural language processing\n",
        "from transformers import TextDataset, LineByLineTextDataset, DataCollatorForLanguageModeling, \\\n",
        "pipeline, Trainer, TrainingArguments, DataCollatorWithPadding  # Transformers components for text processing\n",
        "from transformers import AutoModelForSequenceClassification  # Transformer model for sequence classification\n",
        "\n",
        "from nlp import Dataset  # Import custom 'Dataset' class for natural language processing tasks\n",
        "from imblearn.over_sampling import RandomOverSampler  # For oversampling to handle class imbalance\n",
        "import datasets  # Import datasets library\n",
        "from datasets import Dataset, Image, ClassLabel  # Import custom 'Dataset', 'ClassLabel', and 'Image' classes\n",
        "from transformers import pipeline  # Transformers library for pipelines\n",
        "from bs4 import BeautifulSoup  # For parsing HTML content\n",
        "\n",
        "import matplotlib.pyplot as plt  # For data visualization\n",
        "import itertools  # For working with iterators\n",
        "from sklearn.metrics import (  # Import various metrics from scikit-learn\n",
        "    accuracy_score,  # For calculating accuracy\n",
        "    roc_auc_score,  # For ROC AUC score\n",
        "    confusion_matrix,  # For confusion matrix\n",
        "    classification_report,  # For classification report\n",
        "    f1_score  # For F1 score\n",
        ")\n",
        "\n",
        "from datasets import load_metric  # Import load_metric function to load evaluation metrics\n",
        "\n",
        "from tqdm import tqdm  # For displaying progress bars\n",
        "tqdm.pandas()  # Enable progress bars for pandas operations"
      ],
      "metadata": {
        "id": "CTrf1K9BKZRG"
      },
      "execution_count": 3,
      "outputs": []
    },
    {
      "cell_type": "code",
      "source": [
        "df = pd.read_csv(\"/content/demos/Contributor_demos/Sarcasm Detection/train-balanced-sarcasm.csv\")\n"
      ],
      "metadata": {
        "colab": {
          "base_uri": "https://localhost:8080/"
        },
        "id": "8QqrDqp2Kual",
        "outputId": "55fd5806-e0ba-4056-d040-0a7da1f8c03e"
      },
      "execution_count": 6,
      "outputs": [
        {
          "output_type": "stream",
          "name": "stdout",
          "text": [
            "    label                                            comment  \\\n",
            "0       0                                         NC and NH.   \n",
            "1       0  You do know west teams play against west teams...   \n",
            "2       0  They were underdogs earlier today, but since G...   \n",
            "3       0  This meme isn't funny none of the \"new york ni...   \n",
            "4       0                    I could use one of those tools.   \n",
            "5       0  I don't pay attention to her, but as long as s...   \n",
            "6       0      Trick or treating in general is just weird...   \n",
            "7       0                    Blade Mastery+Masamune or GTFO!   \n",
            "8       0  You don't have to, you have a good build, buy ...   \n",
            "9       0                  I would love to see him at lolla.   \n",
            "10      0  I think a significant amount would be against ...   \n",
            "11      0                     Damn I was hoping God was real   \n",
            "12      0                               They have an agenda.   \n",
            "13      0                                        Great idea!   \n",
            "14      0  Ayy bb wassup, it makes a bit more sense in co...   \n",
            "\n",
            "                author           subreddit  score  ups  downs     date  \\\n",
            "0            Trumpbart            politics      2   -1     -1  2016-10   \n",
            "1            Shbshb906                 nba     -4   -1     -1  2016-11   \n",
            "2             Creepeth                 nfl      3    3      0  2016-09   \n",
            "3            icebrotha  BlackPeopleTwitter     -8   -1     -1  2016-10   \n",
            "4            cush2push  MaddenUltimateTeam      6   -1     -1  2016-12   \n",
            "5          only7inches           AskReddit      0    0      0  2016-09   \n",
            "6          only7inches           AskReddit      1   -1     -1  2016-10   \n",
            "7            P0k3rm4s7       FFBraveExvius      2   -1     -1  2016-10   \n",
            "8           SoupToPots        pcmasterrace      1   -1     -1  2016-10   \n",
            "9             chihawks        Lollapalooza      2   -1     -1  2016-11   \n",
            "10  ThisIsNotKimJongUn            politics     92   92      0  2016-09   \n",
            "11          Kvetch__22            baseball     14   -1     -1  2016-10   \n",
            "12          Readbooks6            exmormon      4   -1     -1  2016-10   \n",
            "13          pieman2005     fantasyfootball      1   -1     -1  2016-10   \n",
            "14        Jakethejoker            NYGiants     29   29      0  2016-09   \n",
            "\n",
            "            created_utc                                     parent_comment  \n",
            "0   2016-10-16 23:55:23  Yeah, I get that argument. At this point, I'd ...  \n",
            "1   2016-11-01 00:24:10  The blazers and Mavericks (The wests 5 and 6 s...  \n",
            "2   2016-09-22 21:45:37                            They're favored to win.  \n",
            "3   2016-10-18 21:03:47                         deadass don't kill my buzz  \n",
            "4   2016-12-30 17:00:13  Yep can confirm I saw the tool they use for th...  \n",
            "5   2016-09-02 10:35:08                   do you find ariana grande sexy ?  \n",
            "6   2016-10-23 21:43:03  What's your weird or unsettling Trick or Treat...  \n",
            "7   2016-10-13 21:13:55  Probably Sephiroth. I refuse to taint his grea...  \n",
            "8   2016-10-27 19:11:06  What to upgrade? I have $500 to spend (mainly ...  \n",
            "9   2016-11-21 23:39:12  Probably count Kanye out Since the rest of his...  \n",
            "10  2016-09-20 17:53:52  I bet if that money was poured into college de...  \n",
            "11  2016-10-28 09:07:50     James Shields Will Not Exercise Opt-Out Clause  \n",
            "12  2016-10-15 01:14:03  There's no time to worry about leaks when they...  \n",
            "13  2016-10-06 23:27:53  Team Specific Threads No matter how many artic...  \n",
            "14  2016-09-19 18:46:58  Ill give you a hint. They commented in this th...  \n"
          ]
        }
      ]
    },
    {
      "cell_type": "code",
      "source": [
        "\n",
        "df = df.drop_duplicates()\n",
        "df = df[['comment', 'label']]\n",
        "df = df[~df['comment'].isnull()]\n",
        "df = df[~df['label'].isnull()]\n",
        "print(df.sample(15))"
      ],
      "metadata": {
        "colab": {
          "base_uri": "https://localhost:8080/"
        },
        "id": "7op48Zv8RN6_",
        "outputId": "6f75ec91-9f3b-4274-adbc-789cc1e80fbe"
      },
      "execution_count": 11,
      "outputs": [
        {
          "output_type": "stream",
          "name": "stdout",
          "text": [
            "                                                  comment  label\n",
            "887583  True, but Warhammer is for \"collectors\" not ga...      1\n",
            "408859                            Bro, I main him on PBE.      1\n",
            "44261                       On your forehead, where else?      1\n",
            "133722  Wow, I didn't know Frontier monsters were bein...      1\n",
            "53886   Considering how many kills I get because someo...      0\n",
            "801114  I'm sure when this is over Israel will help pa...      1\n",
            "40118               yea, but we have them dank memes now!      1\n",
            "622496                    Yea, I put the discredit answer      0\n",
            "488525  hmm, not finding superior drummer in the appst...      0\n",
            "262100                                  White blood cells      0\n",
            "142834  1) The ring that Junpei gave to her in the VLR...      0\n",
            "160359                        But it was a harmless peck!      1\n",
            "577281                              not enough exclusives      1\n",
            "913170  Thank you for showing me that I neglected to m...      0\n",
            "701520  yo but I read in this one place pasta was good...      1\n"
          ]
        }
      ]
    },
    {
      "cell_type": "code",
      "source": [],
      "metadata": {
        "id": "JCC3X1B9QxcX"
      },
      "execution_count": null,
      "outputs": []
    }
  ]
}