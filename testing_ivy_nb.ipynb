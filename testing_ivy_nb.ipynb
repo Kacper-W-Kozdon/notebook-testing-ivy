{
  "nbformat": 4,
  "nbformat_minor": 0,
  "metadata": {
    "colab": {
      "provenance": [],
      "authorship_tag": "ABX9TyNwRSiqARpNUGHF2imfdLOi",
      "include_colab_link": true
    },
    "kernelspec": {
      "name": "python3",
      "display_name": "Python 3"
    },
    "language_info": {
      "name": "python"
    }
  },
  "cells": [
    {
      "cell_type": "markdown",
      "metadata": {
        "id": "view-in-github",
        "colab_type": "text"
      },
      "source": [
        "<a href=\"https://colab.research.google.com/github/Kacper-W-Kozdon/notebook-testing-ivy/blob/main/testing_ivy_nb.ipynb\" target=\"_parent\"><img src=\"https://colab.research.google.com/assets/colab-badge.svg\" alt=\"Open In Colab\"/></a>"
      ]
    },
    {
      "cell_type": "code",
      "source": [
        "import shutil"
      ],
      "metadata": {
        "id": "JtCsWE82x_G3"
      },
      "execution_count": null,
      "outputs": []
    },
    {
      "cell_type": "code",
      "source": [
        "!pip install paddlepaddle"
      ],
      "metadata": {
        "colab": {
          "base_uri": "https://localhost:8080/"
        },
        "id": "dhJ8SCfgiUbR",
        "outputId": "4439438f-58fa-4b9d-d1e6-33eff66ac49f"
      },
      "execution_count": 1,
      "outputs": [
        {
          "output_type": "stream",
          "name": "stdout",
          "text": [
            "Requirement already satisfied: paddlepaddle in /usr/local/lib/python3.10/dist-packages (2.6.0)\n",
            "Requirement already satisfied: httpx in /usr/local/lib/python3.10/dist-packages (from paddlepaddle) (0.27.0)\n",
            "Requirement already satisfied: numpy>=1.13 in /usr/local/lib/python3.10/dist-packages (from paddlepaddle) (1.25.2)\n",
            "Requirement already satisfied: Pillow in /usr/local/lib/python3.10/dist-packages (from paddlepaddle) (9.4.0)\n",
            "Requirement already satisfied: decorator in /usr/local/lib/python3.10/dist-packages (from paddlepaddle) (4.4.2)\n",
            "Requirement already satisfied: astor in /usr/local/lib/python3.10/dist-packages (from paddlepaddle) (0.8.1)\n",
            "Requirement already satisfied: opt-einsum==3.3.0 in /usr/local/lib/python3.10/dist-packages (from paddlepaddle) (3.3.0)\n",
            "Requirement already satisfied: protobuf>=3.20.2 in /usr/local/lib/python3.10/dist-packages (from paddlepaddle) (3.20.3)\n",
            "Requirement already satisfied: anyio in /usr/local/lib/python3.10/dist-packages (from httpx->paddlepaddle) (3.7.1)\n",
            "Requirement already satisfied: certifi in /usr/local/lib/python3.10/dist-packages (from httpx->paddlepaddle) (2024.2.2)\n",
            "Requirement already satisfied: httpcore==1.* in /usr/local/lib/python3.10/dist-packages (from httpx->paddlepaddle) (1.0.4)\n",
            "Requirement already satisfied: idna in /usr/local/lib/python3.10/dist-packages (from httpx->paddlepaddle) (3.6)\n",
            "Requirement already satisfied: sniffio in /usr/local/lib/python3.10/dist-packages (from httpx->paddlepaddle) (1.3.1)\n",
            "Requirement already satisfied: h11<0.15,>=0.13 in /usr/local/lib/python3.10/dist-packages (from httpcore==1.*->httpx->paddlepaddle) (0.14.0)\n",
            "Requirement already satisfied: exceptiongroup in /usr/local/lib/python3.10/dist-packages (from anyio->httpx->paddlepaddle) (1.2.0)\n"
          ]
        }
      ]
    },
    {
      "cell_type": "code",
      "source": [
        "import torch as torch\n",
        "import paddle as paddle\n",
        "import tensorflow as tf"
      ],
      "metadata": {
        "id": "FcsgsZp9gR7C"
      },
      "execution_count": 2,
      "outputs": []
    },
    {
      "cell_type": "code",
      "execution_count": 1,
      "metadata": {
        "colab": {
          "base_uri": "https://localhost:8080/"
        },
        "id": "GsH3qwNleFza",
        "outputId": "9e0eec74-2152-4c6e-c7bc-1e3908b436d3"
      },
      "outputs": [
        {
          "output_type": "stream",
          "name": "stdout",
          "text": [
            "Cloning into 'ivy'...\n",
            "remote: Enumerating objects: 188440, done.\u001b[K\n",
            "remote: Counting objects: 100% (176/176), done.\u001b[K\n",
            "remote: Compressing objects: 100% (118/118), done.\u001b[K\n",
            "remote: Total 188440 (delta 104), reused 75 (delta 58), pack-reused 188264\u001b[K\n",
            "Receiving objects: 100% (188440/188440), 164.08 MiB | 11.74 MiB/s, done.\n",
            "Resolving deltas: 100% (151803/151803), done.\n"
          ]
        }
      ],
      "source": [
        "!git clone -b core_matrix_norm https://github.com/Kacper-W-Kozdon/ivy.git"
      ]
    },
    {
      "cell_type": "code",
      "source": [
        "import ivy"
      ],
      "metadata": {
        "id": "rbTvjJKyirQ_"
      },
      "execution_count": 2,
      "outputs": []
    },
    {
      "cell_type": "code",
      "source": [
        "!pip install ivy\n",
        "\n",
        "!git clone -b core_matrix_norm https://github.com/Kacper-W-Kozdon/ivy.git\n",
        "import ivy"
      ],
      "metadata": {
        "colab": {
          "base_uri": "https://localhost:8080/"
        },
        "id": "InJZi370eLQT",
        "outputId": "aa29b0db-fd57-45f6-9d9d-328134e2e71c"
      },
      "execution_count": 3,
      "outputs": [
        {
          "output_type": "stream",
          "name": "stdout",
          "text": [
            "Requirement already satisfied: ivy in /usr/local/lib/python3.10/dist-packages (0.0.8.0)\n",
            "Requirement already satisfied: numpy in /usr/local/lib/python3.10/dist-packages (from ivy) (1.25.2)\n",
            "Requirement already satisfied: einops in /usr/local/lib/python3.10/dist-packages (from ivy) (0.7.0)\n",
            "Requirement already satisfied: psutil in /usr/local/lib/python3.10/dist-packages (from ivy) (5.9.5)\n",
            "Requirement already satisfied: termcolor in /usr/local/lib/python3.10/dist-packages (from ivy) (2.4.0)\n",
            "Requirement already satisfied: colorama in /usr/local/lib/python3.10/dist-packages (from ivy) (0.4.6)\n",
            "Requirement already satisfied: packaging in /usr/local/lib/python3.10/dist-packages (from ivy) (23.2)\n",
            "Requirement already satisfied: nvidia-ml-py in /usr/local/lib/python3.10/dist-packages (from ivy) (12.535.133)\n",
            "Requirement already satisfied: diskcache in /usr/local/lib/python3.10/dist-packages (from ivy) (5.6.3)\n",
            "Requirement already satisfied: google-auth in /usr/local/lib/python3.10/dist-packages (from ivy) (2.27.0)\n",
            "Requirement already satisfied: urllib3<2.0 in /usr/local/lib/python3.10/dist-packages (from ivy) (1.26.18)\n",
            "Requirement already satisfied: requests in /usr/local/lib/python3.10/dist-packages (from ivy) (2.31.0)\n",
            "Requirement already satisfied: pyvis in /usr/local/lib/python3.10/dist-packages (from ivy) (0.3.2)\n",
            "Requirement already satisfied: dill in /usr/local/lib/python3.10/dist-packages (from ivy) (0.3.8)\n",
            "Requirement already satisfied: astunparse in /usr/local/lib/python3.10/dist-packages (from ivy) (1.6.3)\n",
            "Requirement already satisfied: ml-dtypes==0.2.0 in /usr/local/lib/python3.10/dist-packages (from ivy) (0.2.0)\n",
            "Requirement already satisfied: cloudpickle in /usr/local/lib/python3.10/dist-packages (from ivy) (2.2.1)\n",
            "Requirement already satisfied: gast in /usr/local/lib/python3.10/dist-packages (from ivy) (0.5.4)\n",
            "Requirement already satisfied: tqdm in /usr/local/lib/python3.10/dist-packages (from ivy) (4.66.2)\n",
            "Requirement already satisfied: cryptography in /usr/local/lib/python3.10/dist-packages (from ivy) (42.0.5)\n",
            "Requirement already satisfied: wheel<1.0,>=0.23.0 in /usr/local/lib/python3.10/dist-packages (from astunparse->ivy) (0.42.0)\n",
            "Requirement already satisfied: six<2.0,>=1.6.1 in /usr/local/lib/python3.10/dist-packages (from astunparse->ivy) (1.16.0)\n",
            "Requirement already satisfied: cffi>=1.12 in /usr/local/lib/python3.10/dist-packages (from cryptography->ivy) (1.16.0)\n",
            "Requirement already satisfied: cachetools<6.0,>=2.0.0 in /usr/local/lib/python3.10/dist-packages (from google-auth->ivy) (5.3.3)\n",
            "Requirement already satisfied: pyasn1-modules>=0.2.1 in /usr/local/lib/python3.10/dist-packages (from google-auth->ivy) (0.3.0)\n",
            "Requirement already satisfied: rsa<5,>=3.1.4 in /usr/local/lib/python3.10/dist-packages (from google-auth->ivy) (4.9)\n",
            "Requirement already satisfied: ipython>=5.3.0 in /usr/local/lib/python3.10/dist-packages (from pyvis->ivy) (7.34.0)\n",
            "Requirement already satisfied: jinja2>=2.9.6 in /usr/local/lib/python3.10/dist-packages (from pyvis->ivy) (3.1.3)\n",
            "Requirement already satisfied: jsonpickle>=1.4.1 in /usr/local/lib/python3.10/dist-packages (from pyvis->ivy) (3.0.3)\n",
            "Requirement already satisfied: networkx>=1.11 in /usr/local/lib/python3.10/dist-packages (from pyvis->ivy) (3.2.1)\n",
            "Requirement already satisfied: charset-normalizer<4,>=2 in /usr/local/lib/python3.10/dist-packages (from requests->ivy) (3.3.2)\n",
            "Requirement already satisfied: idna<4,>=2.5 in /usr/local/lib/python3.10/dist-packages (from requests->ivy) (3.6)\n",
            "Requirement already satisfied: certifi>=2017.4.17 in /usr/local/lib/python3.10/dist-packages (from requests->ivy) (2024.2.2)\n",
            "Requirement already satisfied: pycparser in /usr/local/lib/python3.10/dist-packages (from cffi>=1.12->cryptography->ivy) (2.21)\n",
            "Requirement already satisfied: setuptools>=18.5 in /usr/local/lib/python3.10/dist-packages (from ipython>=5.3.0->pyvis->ivy) (67.7.2)\n",
            "Requirement already satisfied: jedi>=0.16 in /usr/local/lib/python3.10/dist-packages (from ipython>=5.3.0->pyvis->ivy) (0.19.1)\n",
            "Requirement already satisfied: decorator in /usr/local/lib/python3.10/dist-packages (from ipython>=5.3.0->pyvis->ivy) (4.4.2)\n",
            "Requirement already satisfied: pickleshare in /usr/local/lib/python3.10/dist-packages (from ipython>=5.3.0->pyvis->ivy) (0.7.5)\n",
            "Requirement already satisfied: traitlets>=4.2 in /usr/local/lib/python3.10/dist-packages (from ipython>=5.3.0->pyvis->ivy) (5.7.1)\n",
            "Requirement already satisfied: prompt-toolkit!=3.0.0,!=3.0.1,<3.1.0,>=2.0.0 in /usr/local/lib/python3.10/dist-packages (from ipython>=5.3.0->pyvis->ivy) (3.0.43)\n",
            "Requirement already satisfied: pygments in /usr/local/lib/python3.10/dist-packages (from ipython>=5.3.0->pyvis->ivy) (2.16.1)\n",
            "Requirement already satisfied: backcall in /usr/local/lib/python3.10/dist-packages (from ipython>=5.3.0->pyvis->ivy) (0.2.0)\n",
            "Requirement already satisfied: matplotlib-inline in /usr/local/lib/python3.10/dist-packages (from ipython>=5.3.0->pyvis->ivy) (0.1.6)\n",
            "Requirement already satisfied: pexpect>4.3 in /usr/local/lib/python3.10/dist-packages (from ipython>=5.3.0->pyvis->ivy) (4.9.0)\n",
            "Requirement already satisfied: MarkupSafe>=2.0 in /usr/local/lib/python3.10/dist-packages (from jinja2>=2.9.6->pyvis->ivy) (2.1.5)\n",
            "Requirement already satisfied: pyasn1<0.6.0,>=0.4.6 in /usr/local/lib/python3.10/dist-packages (from pyasn1-modules>=0.2.1->google-auth->ivy) (0.5.1)\n",
            "Requirement already satisfied: parso<0.9.0,>=0.8.3 in /usr/local/lib/python3.10/dist-packages (from jedi>=0.16->ipython>=5.3.0->pyvis->ivy) (0.8.3)\n",
            "Requirement already satisfied: ptyprocess>=0.5 in /usr/local/lib/python3.10/dist-packages (from pexpect>4.3->ipython>=5.3.0->pyvis->ivy) (0.7.0)\n",
            "Requirement already satisfied: wcwidth in /usr/local/lib/python3.10/dist-packages (from prompt-toolkit!=3.0.0,!=3.0.1,<3.1.0,>=2.0.0->ipython>=5.3.0->pyvis->ivy) (0.2.13)\n",
            "fatal: destination path 'ivy' already exists and is not an empty directory.\n"
          ]
        }
      ]
    },
    {
      "cell_type": "code",
      "source": [
        "ivy.set_backend(\"paddle\")\n",
        "x = ivy.native_array([[[-1.], [-1.]]], dtype = \"float32\")\n",
        "dtype = \"float64\"\n",
        "x = x.astype(dtype)\n",
        "keepdims = False\n",
        "ord = -2\n",
        "axis = (0, 2)\n",
        "\n",
        "paddle_matrix_norm = ivy.linalg.matrix_norm(x, keepdims=keepdims, ord=ord, axis=axis)\n",
        "def func_paddle(x):\n",
        "  return ivy.linalg.matrix_norm(x, keepdims=keepdims, ord=ord, axis=axis)\n",
        "print(func_paddle(x))\n",
        "ret, grad = ivy.execute_with_gradients(func_paddle, x, retain_grads=True)\n",
        "print(grad)"
      ],
      "metadata": {
        "colab": {
          "base_uri": "https://localhost:8080/"
        },
        "id": "qmcMGij1el7W",
        "outputId": "d6d4a1ae-e6fc-4bc4-bd34-e6a121ee56a4"
      },
      "execution_count": null,
      "outputs": [
        {
          "output_type": "stream",
          "name": "stdout",
          "text": [
            "ivy.array([1., 1.])\n",
            "[]\n"
          ]
        }
      ]
    },
    {
      "cell_type": "code",
      "source": [
        "ivy.set_backend(\"torch\")\n",
        "x = ivy.native_array([[[-1.], [-1.]]], dtype = \"float32\")\n",
        "dtype = torch.float64\n",
        "keepdims = False\n",
        "ord = -2\n",
        "axis = (0, 2)\n",
        "\n",
        "torch_matrix_norm = ivy.linalg.matrix_norm(x, keepdims=keepdims, dtype=dtype, ord=ord, axis=axis)\n",
        "def func_torch(x):\n",
        "  return ivy.linalg.matrix_norm(\n",
        "      x, keepdims=keepdims, axis=axis, ord=ord, dtype=dtype)\n",
        "print(func_torch(x))\n",
        "ret, grad = ivy.execute_with_gradients(func_torch, x, retain_grads=True)\n",
        "print(ret, grad)"
      ],
      "metadata": {
        "colab": {
          "base_uri": "https://localhost:8080/"
        },
        "id": "wCn-FsILf0vO",
        "outputId": "e9994103-b107-4560-e689-3e55eacdc0c1"
      },
      "execution_count": null,
      "outputs": [
        {
          "output_type": "stream",
          "name": "stdout",
          "text": [
            "ivy.array([1., 1.])\n",
            "ivy.array([1., 1.]) []\n"
          ]
        }
      ]
    },
    {
      "cell_type": "code",
      "source": [
        "ivy.set_backend(\"torch\")\n",
        "x = ivy.native_array([[[-1.], [-1.]]], dtype = \"float32\")\n",
        "dtype = torch.float64\n",
        "keepdims = False\n",
        "ord = -2\n",
        "axis = (0, 2)\n",
        "x.requires_grad_(True)\n",
        "def func_torch(x):\n",
        "  return x**2\n",
        "print(func_torch(x))\n",
        "ret, grad = ivy.execute_with_gradients(func_torch, x, retain_grads=True)\n",
        "print(ret, grad)\n",
        "func_torch(x).backward(gradient=torch.ones(x.shape))\n",
        "print(x.grad)"
      ],
      "metadata": {
        "colab": {
          "base_uri": "https://localhost:8080/"
        },
        "id": "pYOnlsOVjiVr",
        "outputId": "15d8c9a1-1f6e-4da6-a3c9-db3f2333c740"
      },
      "execution_count": null,
      "outputs": [
        {
          "output_type": "stream",
          "name": "stdout",
          "text": [
            "tensor([[[1.],\n",
            "         [1.]]], grad_fn=<PowBackward0>)\n",
            "ivy.array([[[1.],\n",
            "        [1.]]]) []\n",
            "tensor([[[-2.],\n",
            "         [-2.]]])\n"
          ]
        }
      ]
    },
    {
      "cell_type": "code",
      "source": [
        "ivy.set_backend(\"tensorflow\")\n",
        "x = ivy.native_array([[[-1.], [-1.]]], dtype = \"float32\")\n",
        "dtype = tf.float64\n",
        "keepdims = False\n",
        "ord = -2\n",
        "axis = (0, 2)\n",
        "\n",
        "torch_matrix_norm = ivy.linalg.matrix_norm(x, keepdims=keepdims, dtype=dtype, ord=ord, axis=axis)\n",
        "def func_tf(x):\n",
        "  return ivy.linalg.matrix_norm(x, keepdims=keepdims, axis=axis, ord=ord, dtype=dtype)\n",
        "print(func_tf(x))\n",
        "ret, grad = ivy.execute_with_gradients(func_tf, x, retain_grads=True)\n",
        "print(ret, grad)"
      ],
      "metadata": {
        "colab": {
          "base_uri": "https://localhost:8080/"
        },
        "id": "36hdmRp_twuS",
        "outputId": "5526c6eb-9186-41cc-9aff-0891d8a5084c"
      },
      "execution_count": null,
      "outputs": [
        {
          "output_type": "stream",
          "name": "stdout",
          "text": [
            "ivy.array([1., 1.])\n",
            "ivy.array([1., 1.]) ivy.array([[[-1.],\n",
            "        [-1.]]])\n"
          ]
        }
      ]
    },
    {
      "cell_type": "code",
      "source": [
        "ivy.set_backend(\"tensorflow\")\n",
        "x = ivy.native_array([[[-1.], [-1.]]], dtype = \"float32\")\n",
        "dtype = tf.float64\n",
        "\n",
        "def func_tf(x):\n",
        "  return x**2\n",
        "print(func_tf(x))\n",
        "ret, grad = ivy.execute_with_gradients(func_tf, x, retain_grads=True)\n",
        "print(ret, grad)"
      ],
      "metadata": {
        "colab": {
          "base_uri": "https://localhost:8080/"
        },
        "id": "laP7RjeRlD8H",
        "outputId": "166554a2-c0f4-4e3e-eceb-2bfd4affe5ff"
      },
      "execution_count": null,
      "outputs": [
        {
          "output_type": "stream",
          "name": "stdout",
          "text": [
            "tf.Tensor(\n",
            "[[[1.]\n",
            "  [1.]]], shape=(1, 2, 1), dtype=float32)\n",
            "ivy.array([[[1.],\n",
            "        [1.]]]) ivy.array([[[-2.],\n",
            "        [-2.]]])\n"
          ]
        }
      ]
    },
    {
      "cell_type": "code",
      "source": [
        "\n",
        "def func_torch_bfw():\n",
        "  keepdims = False\n",
        "  ord = 2\n",
        "  axis = (0, 2)\n",
        "  x = torch.tensor([[[-1.], [-1.]]])\n",
        "  x.requires_grad_(True)\n",
        "  y = torch.linalg.matrix_norm(x, ord=ord, keepdims=keepdims, axis=axis)\n",
        "  print(y)\n",
        "  y.backward(inputs=x, gradient=torch.ones(y.shape))\n",
        "  return x.grad\n",
        "func_torch_bfw()\n"
      ],
      "metadata": {
        "colab": {
          "base_uri": "https://localhost:8080/"
        },
        "id": "mZWeqBnY-1wU",
        "outputId": "d8bce6f4-731c-40fd-c8fe-724c918bbec7"
      },
      "execution_count": null,
      "outputs": [
        {
          "output_type": "stream",
          "name": "stdout",
          "text": [
            "tensor([1., 1.], grad_fn=<AmaxBackward0>)\n"
          ]
        },
        {
          "output_type": "execute_result",
          "data": {
            "text/plain": [
              "tensor([[[-1.],\n",
              "         [-1.]]])"
            ]
          },
          "metadata": {},
          "execution_count": 4
        }
      ]
    },
    {
      "cell_type": "code",
      "source": [
        "@tf.function\n",
        "def example():\n",
        "  x = tf.constant([[[-1.], [-1.]]])\n",
        "\n",
        "  ord = 2\n",
        "  axis = (0, 2)\n",
        "  keepdims=False\n",
        "  y = tf.linalg.norm(x, ord=ord, axis=axis, keepdims=keepdims)\n",
        "  g = tf.gradients(y, x)\n",
        "  return g\n",
        "example()\n",
        "\n"
      ],
      "metadata": {
        "colab": {
          "base_uri": "https://localhost:8080/"
        },
        "id": "WrQahCfUEgnU",
        "outputId": "b13ca6e5-fadb-42e3-b309-1146c4f69587"
      },
      "execution_count": null,
      "outputs": [
        {
          "output_type": "execute_result",
          "data": {
            "text/plain": [
              "[<tf.Tensor: shape=(1, 2, 1), dtype=float32, numpy=\n",
              " array([[[-1.],\n",
              "         [-1.]]], dtype=float32)>]"
            ]
          },
          "metadata": {},
          "execution_count": 15
        }
      ]
    },
    {
      "cell_type": "code",
      "source": [
        "ivy.set_backend(\"paddle\")\n",
        "x = ivy.array([[[-1.], [-1.]]], dtype = \"float32\")\n",
        "dtype = torch.float64\n",
        "keepdims = False\n",
        "ord = -2\n",
        "axis = (0, 2)\n",
        "func = lambda x: ivy.linalg.matrix_norm(x, keepdims=keepdims, ord=ord, axis=axis)\n",
        "func_ret = ivy.execute_with_gradients(func, x, retain_grads=True)\n",
        "print(func_ret)\n"
      ],
      "metadata": {
        "colab": {
          "base_uri": "https://localhost:8080/"
        },
        "id": "XLeiXt14svfZ",
        "outputId": "5032b5f5-552d-4077-e725-830fd01c1391"
      },
      "execution_count": 4,
      "outputs": [
        {
          "output_type": "stream",
          "name": "stderr",
          "text": [
            "/usr/local/lib/python3.10/dist-packages/ivy/utils/exceptions.py:383: UserWarning: The current backend: 'paddle' does not support inplace updates natively. Ivy would quietly create new arrays when using inplace updates with this backend, leading to memory overhead (same applies for views). If you want to control your memory management, consider doing ivy.set_inplace_mode('strict') which should raise an error whenever an inplace update is attempted with this backend.\n",
            "  warnings.warn(\n"
          ]
        },
        {
          "output_type": "stream",
          "name": "stdout",
          "text": [
            "(ivy.array([1., 1.]), [])\n"
          ]
        }
      ]
    },
    {
      "cell_type": "code",
      "source": [
        "ivy.set_backend(\"paddle\")\n",
        "x = ivy.array([[[-1.], [-1.]]], dtype = \"float32\")\n",
        "\n",
        "func = lambda x: x**2\n",
        "func_ret = ivy.execute_with_gradients(func, x, retain_grads=True)\n",
        "print(func_ret)"
      ],
      "metadata": {
        "colab": {
          "base_uri": "https://localhost:8080/"
        },
        "id": "BDnAXlCRoVXO",
        "outputId": "41a504ca-9730-47a1-fe51-c38d8f9b6224"
      },
      "execution_count": null,
      "outputs": [
        {
          "output_type": "stream",
          "name": "stdout",
          "text": [
            "(ivy.array([[[1.],\n",
            "        [1.]]]), [])\n"
          ]
        }
      ]
    },
    {
      "cell_type": "code",
      "source": [
        "ivy.set_backend(\"tensorflow\")\n",
        "x = ivy.array([[[-2.], [-1.]]])\n",
        "\n",
        "def func_tf(x):\n",
        "  return x**3\n",
        "ret_tf, grad_tf = ivy.execute_with_gradients(func_tf, x)\n",
        "print(f\"Tensorflow: \\nret = {ret_tf}, \\ngrad = {grad_tf}\")\n",
        "\n",
        "print(\"\\n\")\n",
        "\n",
        "ivy.set_backend(\"torch\")\n",
        "y = ivy.array([[[-2.], [-1.]]])\n",
        "\n",
        "def func_torch(y):\n",
        "  return y**3\n",
        "ret_torch, grad_torch = ivy.execute_with_gradients(func_torch, y)\n",
        "print(f\"Torch: \\nret = {ret_torch}, \\ngrad = {grad_torch}\")"
      ],
      "metadata": {
        "colab": {
          "base_uri": "https://localhost:8080/"
        },
        "id": "YAAgj5sSgBjD",
        "outputId": "df960a25-1371-4918-a413-124241dd737c"
      },
      "execution_count": 40,
      "outputs": [
        {
          "output_type": "stream",
          "name": "stdout",
          "text": [
            "Tensorflow: \n",
            "ret = ivy.array([[[-8.],\n",
            "        [-1.]]]), \n",
            "grad = ivy.array([[[12.],\n",
            "        [ 3.]]])\n",
            "\n",
            "\n",
            "Torch: \n",
            "ret = ivy.array([[[-8.],\n",
            "        [-1.]]]), \n",
            "grad = []\n"
          ]
        }
      ]
    },
    {
      "cell_type": "markdown",
      "source": [],
      "metadata": {
        "id": "YNsgHJDikjYb"
      }
    }
  ]
}